{
 "cells": [
  {
   "cell_type": "code",
   "execution_count": 2,
   "metadata": {},
   "outputs": [],
   "source": [
    "#import necessory file \n",
    "import pandas as pd \n",
    "import numpy as np\n",
    "import matplotlib.pyplot as plt\n",
    "import seaborn as sns "
   ]
  },
  {
   "cell_type": "code",
   "execution_count": 3,
   "metadata": {},
   "outputs": [
    {
     "name": "stderr",
     "output_type": "stream",
     "text": [
      "b'Skipping line 71: expected 2 fields, saw 3\\nSkipping line 99: expected 2 fields, saw 3\\nSkipping line 100: expected 2 fields, saw 3\\nSkipping line 119: expected 2 fields, saw 3\\nSkipping line 135: expected 2 fields, saw 3\\nSkipping line 155: expected 2 fields, saw 3\\nSkipping line 156: expected 2 fields, saw 3\\nSkipping line 174: expected 2 fields, saw 3\\nSkipping line 211: expected 2 fields, saw 3\\nSkipping line 213: expected 2 fields, saw 3\\nSkipping line 215: expected 2 fields, saw 3\\nSkipping line 217: expected 2 fields, saw 3\\nSkipping line 218: expected 2 fields, saw 3\\nSkipping line 223: expected 2 fields, saw 3\\nSkipping line 225: expected 2 fields, saw 3\\nSkipping line 227: expected 2 fields, saw 3\\nSkipping line 228: expected 2 fields, saw 3\\nSkipping line 229: expected 2 fields, saw 3\\nSkipping line 230: expected 2 fields, saw 3\\nSkipping line 232: expected 2 fields, saw 3\\nSkipping line 238: expected 2 fields, saw 3\\nSkipping line 239: expected 2 fields, saw 3\\nSkipping line 241: expected 2 fields, saw 3\\nSkipping line 257: expected 2 fields, saw 3\\nSkipping line 306: expected 2 fields, saw 3\\nSkipping line 313: expected 2 fields, saw 3\\nSkipping line 333: expected 2 fields, saw 3\\nSkipping line 334: expected 2 fields, saw 3\\nSkipping line 336: expected 2 fields, saw 3\\nSkipping line 337: expected 2 fields, saw 3\\nSkipping line 373: expected 2 fields, saw 4\\nSkipping line 384: expected 2 fields, saw 3\\nSkipping line 390: expected 2 fields, saw 3\\nSkipping line 393: expected 2 fields, saw 3\\nSkipping line 398: expected 2 fields, saw 3\\nSkipping line 401: expected 2 fields, saw 3\\nSkipping line 418: expected 2 fields, saw 3\\nSkipping line 438: expected 2 fields, saw 3\\nSkipping line 440: expected 2 fields, saw 3\\nSkipping line 445: expected 2 fields, saw 3\\nSkipping line 450: expected 2 fields, saw 3\\nSkipping line 472: expected 2 fields, saw 3\\nSkipping line 474: expected 2 fields, saw 3\\nSkipping line 477: expected 2 fields, saw 3\\nSkipping line 504: expected 2 fields, saw 3\\nSkipping line 560: expected 2 fields, saw 3\\nSkipping line 581: expected 2 fields, saw 3\\nSkipping line 594: expected 2 fields, saw 3\\nSkipping line 595: expected 2 fields, saw 4\\nSkipping line 641: expected 2 fields, saw 3\\nSkipping line 669: expected 2 fields, saw 3\\nSkipping line 676: expected 2 fields, saw 3\\nSkipping line 690: expected 2 fields, saw 3\\nSkipping line 698: expected 2 fields, saw 3\\nSkipping line 713: expected 2 fields, saw 3\\nSkipping line 734: expected 2 fields, saw 3\\nSkipping line 746: expected 2 fields, saw 3\\nSkipping line 748: expected 2 fields, saw 3\\nSkipping line 772: expected 2 fields, saw 3\\nSkipping line 786: expected 2 fields, saw 3\\nSkipping line 788: expected 2 fields, saw 3\\nSkipping line 812: expected 2 fields, saw 3\\nSkipping line 813: expected 2 fields, saw 3\\nSkipping line 814: expected 2 fields, saw 3\\nSkipping line 839: expected 2 fields, saw 3\\nSkipping line 841: expected 2 fields, saw 3\\nSkipping line 845: expected 2 fields, saw 3\\nSkipping line 850: expected 2 fields, saw 3\\nSkipping line 890: expected 2 fields, saw 4\\nSkipping line 910: expected 2 fields, saw 3\\nSkipping line 914: expected 2 fields, saw 3\\nSkipping line 962: expected 2 fields, saw 4\\nSkipping line 989: expected 2 fields, saw 3\\nSkipping line 990: expected 2 fields, saw 3\\nSkipping line 1004: expected 2 fields, saw 3\\nSkipping line 1016: expected 2 fields, saw 3\\nSkipping line 1018: expected 2 fields, saw 3\\nSkipping line 1023: expected 2 fields, saw 3\\nSkipping line 1031: expected 2 fields, saw 3\\nSkipping line 1083: expected 2 fields, saw 3\\nSkipping line 1090: expected 2 fields, saw 3\\nSkipping line 1092: expected 2 fields, saw 3\\nSkipping line 1106: expected 2 fields, saw 3\\nSkipping line 1143: expected 2 fields, saw 3\\nSkipping line 1147: expected 2 fields, saw 4\\nSkipping line 1174: expected 2 fields, saw 3\\nSkipping line 1180: expected 2 fields, saw 3\\nSkipping line 1185: expected 2 fields, saw 3\\nSkipping line 1191: expected 2 fields, saw 3\\nSkipping line 1196: expected 2 fields, saw 4\\nSkipping line 1216: expected 2 fields, saw 3\\nSkipping line 1254: expected 2 fields, saw 3\\nSkipping line 1264: expected 2 fields, saw 3\\nSkipping line 1268: expected 2 fields, saw 3\\nSkipping line 1284: expected 2 fields, saw 3\\nSkipping line 1290: expected 2 fields, saw 4\\nSkipping line 1291: expected 2 fields, saw 4\\nSkipping line 1310: expected 2 fields, saw 3\\nSkipping line 1319: expected 2 fields, saw 4\\nSkipping line 1329: expected 2 fields, saw 3\\nSkipping line 1337: expected 2 fields, saw 3\\nSkipping line 1344: expected 2 fields, saw 3\\nSkipping line 1369: expected 2 fields, saw 3\\nSkipping line 1390: expected 2 fields, saw 3\\nSkipping line 1395: expected 2 fields, saw 3\\nSkipping line 1412: expected 2 fields, saw 3\\nSkipping line 1413: expected 2 fields, saw 3\\nSkipping line 1417: expected 2 fields, saw 3\\nSkipping line 1421: expected 2 fields, saw 3\\nSkipping line 1422: expected 2 fields, saw 3\\nSkipping line 1423: expected 2 fields, saw 3\\nSkipping line 1430: expected 2 fields, saw 3\\nSkipping line 1432: expected 2 fields, saw 3\\nSkipping line 1433: expected 2 fields, saw 3\\nSkipping line 1452: expected 2 fields, saw 3\\nSkipping line 1453: expected 2 fields, saw 3\\nSkipping line 1454: expected 2 fields, saw 3\\nSkipping line 1455: expected 2 fields, saw 3\\nSkipping line 1456: expected 2 fields, saw 3\\nSkipping line 1457: expected 2 fields, saw 3\\nSkipping line 1458: expected 2 fields, saw 3\\nSkipping line 1480: expected 2 fields, saw 3\\nSkipping line 1482: expected 2 fields, saw 3\\nSkipping line 1503: expected 2 fields, saw 3\\nSkipping line 1510: expected 2 fields, saw 3\\nSkipping line 1581: expected 2 fields, saw 4\\nSkipping line 1591: expected 2 fields, saw 3\\nSkipping line 1601: expected 2 fields, saw 3\\nSkipping line 1602: expected 2 fields, saw 3\\nSkipping line 1620: expected 2 fields, saw 3\\nSkipping line 1630: expected 2 fields, saw 3\\nSkipping line 1634: expected 2 fields, saw 3\\nSkipping line 1651: expected 2 fields, saw 3\\nSkipping line 1663: expected 2 fields, saw 4\\nSkipping line 1682: expected 2 fields, saw 3\\nSkipping line 1689: expected 2 fields, saw 3\\nSkipping line 1693: expected 2 fields, saw 4\\nSkipping line 1724: expected 2 fields, saw 3\\nSkipping line 1747: expected 2 fields, saw 3\\nSkipping line 1775: expected 2 fields, saw 3\\nSkipping line 1779: expected 2 fields, saw 3\\nSkipping line 1832: expected 2 fields, saw 3\\nSkipping line 1847: expected 2 fields, saw 3\\nSkipping line 1904: expected 2 fields, saw 3\\nSkipping line 1905: expected 2 fields, saw 3\\nSkipping line 1911: expected 2 fields, saw 3\\nSkipping line 1926: expected 2 fields, saw 3\\nSkipping line 1934: expected 2 fields, saw 3\\nSkipping line 1936: expected 2 fields, saw 3\\nSkipping line 1948: expected 2 fields, saw 3\\nSkipping line 1954: expected 2 fields, saw 3\\nSkipping line 1970: expected 2 fields, saw 4\\nSkipping line 1973: expected 2 fields, saw 4\\nSkipping line 1976: expected 2 fields, saw 4\\nSkipping line 1979: expected 2 fields, saw 4\\nSkipping line 1980: expected 2 fields, saw 4\\nSkipping line 1981: expected 2 fields, saw 3\\nSkipping line 1987: expected 2 fields, saw 3\\nSkipping line 1990: expected 2 fields, saw 3\\nSkipping line 1995: expected 2 fields, saw 4\\nSkipping line 1996: expected 2 fields, saw 3\\nSkipping line 1997: expected 2 fields, saw 6\\nSkipping line 1999: expected 2 fields, saw 4\\nSkipping line 2000: expected 2 fields, saw 3\\nSkipping line 2012: expected 2 fields, saw 4\\nSkipping line 2015: expected 2 fields, saw 3\\nSkipping line 2016: expected 2 fields, saw 3\\nSkipping line 2019: expected 2 fields, saw 3\\nSkipping line 2060: expected 2 fields, saw 3\\nSkipping line 2082: expected 2 fields, saw 3\\nSkipping line 2096: expected 2 fields, saw 3\\nSkipping line 2102: expected 2 fields, saw 4\\nSkipping line 2104: expected 2 fields, saw 3\\nSkipping line 2114: expected 2 fields, saw 3\\nSkipping line 2121: expected 2 fields, saw 3\\nSkipping line 2125: expected 2 fields, saw 3\\nSkipping line 2135: expected 2 fields, saw 3\\nSkipping line 2139: expected 2 fields, saw 3\\nSkipping line 2184: expected 2 fields, saw 3\\nSkipping line 2319: expected 2 fields, saw 4\\nSkipping line 2323: expected 2 fields, saw 3\\nSkipping line 2333: expected 2 fields, saw 3\\nSkipping line 2335: expected 2 fields, saw 3\\nSkipping line 2341: expected 2 fields, saw 3\\nSkipping line 2344: expected 2 fields, saw 5\\nSkipping line 2354: expected 2 fields, saw 4\\nSkipping line 2367: expected 2 fields, saw 3\\nSkipping line 2375: expected 2 fields, saw 5\\nSkipping line 2387: expected 2 fields, saw 3\\nSkipping line 2396: expected 2 fields, saw 3\\nSkipping line 2397: expected 2 fields, saw 3\\nSkipping line 2431: expected 2 fields, saw 4\\nSkipping line 2442: expected 2 fields, saw 3\\nSkipping line 2457: expected 2 fields, saw 3\\nSkipping line 2466: expected 2 fields, saw 3\\nSkipping line 2477: expected 2 fields, saw 3\\nSkipping line 2481: expected 2 fields, saw 3\\nSkipping line 2504: expected 2 fields, saw 4\\nSkipping line 2540: expected 2 fields, saw 3\\nSkipping line 2548: expected 2 fields, saw 3\\nSkipping line 2557: expected 2 fields, saw 3\\nSkipping line 2565: expected 2 fields, saw 4\\nSkipping line 2566: expected 2 fields, saw 3\\nSkipping line 2636: expected 2 fields, saw 3\\nSkipping line 2642: expected 2 fields, saw 3\\nSkipping line 2645: expected 2 fields, saw 3\\nSkipping line 2672: expected 2 fields, saw 3\\nSkipping line 2699: expected 2 fields, saw 3\\nSkipping line 2718: expected 2 fields, saw 3\\nSkipping line 2720: expected 2 fields, saw 3\\nSkipping line 2721: expected 2 fields, saw 3\\nSkipping line 2723: expected 2 fields, saw 4\\nSkipping line 2741: expected 2 fields, saw 3\\nSkipping line 2745: expected 2 fields, saw 3\\nSkipping line 2748: expected 2 fields, saw 3\\nSkipping line 2749: expected 2 fields, saw 3\\nSkipping line 2768: expected 2 fields, saw 3\\nSkipping line 2807: expected 2 fields, saw 3\\nSkipping line 2861: expected 2 fields, saw 3\\nSkipping line 2899: expected 2 fields, saw 3\\nSkipping line 2907: expected 2 fields, saw 3\\nSkipping line 2911: expected 2 fields, saw 3\\nSkipping line 2930: expected 2 fields, saw 4\\nSkipping line 2936: expected 2 fields, saw 3\\nSkipping line 2943: expected 2 fields, saw 3\\nSkipping line 2987: expected 2 fields, saw 3\\nSkipping line 2990: expected 2 fields, saw 3\\nSkipping line 2998: expected 2 fields, saw 4\\nSkipping line 3003: expected 2 fields, saw 3\\nSkipping line 3004: expected 2 fields, saw 6\\nSkipping line 3005: expected 2 fields, saw 3\\nSkipping line 3013: expected 2 fields, saw 3\\nSkipping line 3029: expected 2 fields, saw 3\\nSkipping line 3040: expected 2 fields, saw 3\\nSkipping line 3064: expected 2 fields, saw 3\\nSkipping line 3095: expected 2 fields, saw 3\\nSkipping line 3110: expected 2 fields, saw 3\\nSkipping line 3141: expected 2 fields, saw 3\\nSkipping line 3149: expected 2 fields, saw 4\\nSkipping line 3153: expected 2 fields, saw 3\\nSkipping line 3211: expected 2 fields, saw 3\\nSkipping line 3251: expected 2 fields, saw 3\\nSkipping line 3259: expected 2 fields, saw 3\\nSkipping line 3272: expected 2 fields, saw 4\\nSkipping line 3291: expected 2 fields, saw 3\\nSkipping line 3294: expected 2 fields, saw 4\\nSkipping line 3296: expected 2 fields, saw 3\\nSkipping line 3299: expected 2 fields, saw 4\\nSkipping line 3300: expected 2 fields, saw 3\\nSkipping line 3304: expected 2 fields, saw 3\\nSkipping line 3310: expected 2 fields, saw 3\\nSkipping line 3313: expected 2 fields, saw 3\\nSkipping line 3328: expected 2 fields, saw 4\\nSkipping line 3340: expected 2 fields, saw 3\\nSkipping line 3345: expected 2 fields, saw 3\\nSkipping line 3368: expected 2 fields, saw 3\\nSkipping line 3449: expected 2 fields, saw 3\\nSkipping line 3469: expected 2 fields, saw 3\\nSkipping line 3479: expected 2 fields, saw 3\\nSkipping line 3513: expected 2 fields, saw 3\\nSkipping line 3519: expected 2 fields, saw 3\\nSkipping line 3524: expected 2 fields, saw 3\\nSkipping line 3549: expected 2 fields, saw 3\\nSkipping line 3551: expected 2 fields, saw 3\\nSkipping line 3574: expected 2 fields, saw 3\\nSkipping line 3681: expected 2 fields, saw 3\\nSkipping line 3693: expected 2 fields, saw 3\\nSkipping line 3729: expected 2 fields, saw 4\\nSkipping line 3759: expected 2 fields, saw 3\\nSkipping line 3789: expected 2 fields, saw 3\\nSkipping line 3791: expected 2 fields, saw 7\\nSkipping line 3799: expected 2 fields, saw 3\\nSkipping line 3803: expected 2 fields, saw 3\\nSkipping line 3805: expected 2 fields, saw 3\\nSkipping line 3807: expected 2 fields, saw 3\\nSkipping line 3810: expected 2 fields, saw 3\\nSkipping line 3863: expected 2 fields, saw 3\\nSkipping line 3870: expected 2 fields, saw 3\\nSkipping line 3877: expected 2 fields, saw 3\\nSkipping line 3882: expected 2 fields, saw 3\\nSkipping line 3903: expected 2 fields, saw 3\\nSkipping line 3906: expected 2 fields, saw 3\\nSkipping line 3908: expected 2 fields, saw 3\\nSkipping line 3931: expected 2 fields, saw 3\\nSkipping line 3942: expected 2 fields, saw 3\\nSkipping line 3944: expected 2 fields, saw 3\\nSkipping line 3978: expected 2 fields, saw 4\\nSkipping line 3998: expected 2 fields, saw 3\\nSkipping line 4006: expected 2 fields, saw 3\\nSkipping line 4009: expected 2 fields, saw 3\\nSkipping line 4020: expected 2 fields, saw 3\\nSkipping line 4021: expected 2 fields, saw 3\\nSkipping line 4033: expected 2 fields, saw 5\\nSkipping line 4035: expected 2 fields, saw 3\\nSkipping line 4039: expected 2 fields, saw 4\\nSkipping line 4044: expected 2 fields, saw 3\\nSkipping line 4064: expected 2 fields, saw 3\\nSkipping line 4070: expected 2 fields, saw 3\\nSkipping line 4081: expected 2 fields, saw 3\\nSkipping line 4083: expected 2 fields, saw 3\\nSkipping line 4086: expected 2 fields, saw 4\\nSkipping line 4103: expected 2 fields, saw 3\\nSkipping line 4118: expected 2 fields, saw 3\\nSkipping line 4157: expected 2 fields, saw 3\\nSkipping line 4177: expected 2 fields, saw 3\\nSkipping line 4211: expected 2 fields, saw 3\\nSkipping line 4223: expected 2 fields, saw 3\\nSkipping line 4235: expected 2 fields, saw 3\\nSkipping line 4238: expected 2 fields, saw 3\\nSkipping line 4252: expected 2 fields, saw 3\\nSkipping line 4268: expected 2 fields, saw 3\\nSkipping line 4274: expected 2 fields, saw 3\\nSkipping line 4290: expected 2 fields, saw 3\\nSkipping line 4295: expected 2 fields, saw 4\\nSkipping line 4304: expected 2 fields, saw 3\\nSkipping line 4308: expected 2 fields, saw 3\\nSkipping line 4311: expected 2 fields, saw 4\\nSkipping line 4316: expected 2 fields, saw 3\\nSkipping line 4397: expected 2 fields, saw 3\\nSkipping line 4398: expected 2 fields, saw 3\\nSkipping line 4399: expected 2 fields, saw 3\\nSkipping line 4411: expected 2 fields, saw 3\\nSkipping line 4415: expected 2 fields, saw 3\\nSkipping line 4425: expected 2 fields, saw 5\\nSkipping line 4448: expected 2 fields, saw 3\\nSkipping line 4490: expected 2 fields, saw 3\\nSkipping line 4507: expected 2 fields, saw 3\\nSkipping line 4530: expected 2 fields, saw 4\\nSkipping line 4544: expected 2 fields, saw 3\\nSkipping line 4590: expected 2 fields, saw 3\\nSkipping line 4594: expected 2 fields, saw 4\\nSkipping line 4597: expected 2 fields, saw 3\\nSkipping line 4618: expected 2 fields, saw 3\\nSkipping line 4644: expected 2 fields, saw 3\\nSkipping line 4652: expected 2 fields, saw 3\\nSkipping line 4663: expected 2 fields, saw 3\\nSkipping line 4686: expected 2 fields, saw 3\\nSkipping line 4689: expected 2 fields, saw 3\\nSkipping line 4728: expected 2 fields, saw 3\\nSkipping line 4740: expected 2 fields, saw 4\\nSkipping line 4796: expected 2 fields, saw 3\\nSkipping line 4815: expected 2 fields, saw 3\\nSkipping line 4826: expected 2 fields, saw 3\\nSkipping line 4865: expected 2 fields, saw 3\\nSkipping line 4891: expected 2 fields, saw 3\\nSkipping line 4977: expected 2 fields, saw 5\\nSkipping line 5023: expected 2 fields, saw 3\\nSkipping line 5027: expected 2 fields, saw 3\\nSkipping line 5068: expected 2 fields, saw 3\\nSkipping line 5074: expected 2 fields, saw 4\\nSkipping line 5075: expected 2 fields, saw 3\\nSkipping line 5076: expected 2 fields, saw 3\\nSkipping line 5102: expected 2 fields, saw 3\\nSkipping line 5152: expected 2 fields, saw 3\\nSkipping line 5259: expected 2 fields, saw 3\\nSkipping line 5260: expected 2 fields, saw 3\\nSkipping line 5270: expected 2 fields, saw 3\\nSkipping line 5276: expected 2 fields, saw 3\\nSkipping line 5280: expected 2 fields, saw 3\\nSkipping line 5298: expected 2 fields, saw 3\\nSkipping line 5349: expected 2 fields, saw 3\\nSkipping line 5352: expected 2 fields, saw 3\\nSkipping line 5353: expected 2 fields, saw 3\\nSkipping line 5427: expected 2 fields, saw 3\\nSkipping line 5444: expected 2 fields, saw 3\\nSkipping line 5448: expected 2 fields, saw 3\\nSkipping line 5449: expected 2 fields, saw 3\\nSkipping line 5487: expected 2 fields, saw 4\\nSkipping line 5488: expected 2 fields, saw 3\\nSkipping line 5515: expected 2 fields, saw 3\\nSkipping line 5529: expected 2 fields, saw 3\\nSkipping line 5535: expected 2 fields, saw 3\\nSkipping line 5554: expected 2 fields, saw 4\\nSkipping line 5555: expected 2 fields, saw 3\\nSkipping line 5561: expected 2 fields, saw 3\\nSkipping line 5572: expected 2 fields, saw 3\\nSkipping line 5578: expected 2 fields, saw 3\\nSkipping line 5589: expected 2 fields, saw 3\\nSkipping line 5600: expected 2 fields, saw 3\\nSkipping line 5633: expected 2 fields, saw 3\\nSkipping line 5638: expected 2 fields, saw 3\\nSkipping line 5641: expected 2 fields, saw 3\\nSkipping line 5644: expected 2 fields, saw 3\\nSkipping line 5655: expected 2 fields, saw 4\\nSkipping line 5661: expected 2 fields, saw 3\\nSkipping line 5665: expected 2 fields, saw 3\\nSkipping line 5671: expected 2 fields, saw 3\\nSkipping line 5705: expected 2 fields, saw 3\\nSkipping line 5722: expected 2 fields, saw 6\\nSkipping line 5730: expected 2 fields, saw 3\\nSkipping line 5757: expected 2 fields, saw 11\\nSkipping line 5778: expected 2 fields, saw 6\\nSkipping line 5789: expected 2 fields, saw 3\\nSkipping line 5796: expected 2 fields, saw 3\\nSkipping line 5843: expected 2 fields, saw 3\\nSkipping line 5877: expected 2 fields, saw 4\\nSkipping line 5891: expected 2 fields, saw 3\\nSkipping line 5893: expected 2 fields, saw 3\\nSkipping line 5894: expected 2 fields, saw 3\\nSkipping line 5909: expected 2 fields, saw 3\\nSkipping line 5919: expected 2 fields, saw 3\\nSkipping line 5921: expected 2 fields, saw 3\\nSkipping line 5924: expected 2 fields, saw 3\\nSkipping line 5934: expected 2 fields, saw 3\\nSkipping line 5953: expected 2 fields, saw 3\\nSkipping line 5958: expected 2 fields, saw 3\\nSkipping line 5964: expected 2 fields, saw 4\\nSkipping line 5994: expected 2 fields, saw 3\\nSkipping line 5999: expected 2 fields, saw 3\\nSkipping line 6024: expected 2 fields, saw 3\\nSkipping line 6039: expected 2 fields, saw 3\\nSkipping line 6040: expected 2 fields, saw 3\\nSkipping line 6043: expected 2 fields, saw 3\\nSkipping line 6056: expected 2 fields, saw 4\\nSkipping line 6128: expected 2 fields, saw 3\\nSkipping line 6171: expected 2 fields, saw 3\\nSkipping line 6174: expected 2 fields, saw 5\\nSkipping line 6175: expected 2 fields, saw 3\\nSkipping line 6196: expected 2 fields, saw 3\\nSkipping line 6228: expected 2 fields, saw 3\\nSkipping line 6231: expected 2 fields, saw 3\\nSkipping line 6236: expected 2 fields, saw 4\\nSkipping line 6238: expected 2 fields, saw 3\\nSkipping line 6245: expected 2 fields, saw 3\\nSkipping line 6246: expected 2 fields, saw 3\\nSkipping line 6252: expected 2 fields, saw 3\\nSkipping line 6257: expected 2 fields, saw 4\\nSkipping line 6260: expected 2 fields, saw 3\\nSkipping line 6263: expected 2 fields, saw 3\\nSkipping line 6270: expected 2 fields, saw 3\\nSkipping line 6274: expected 2 fields, saw 3\\nSkipping line 6283: expected 2 fields, saw 4\\nSkipping line 6284: expected 2 fields, saw 3\\nSkipping line 6286: expected 2 fields, saw 3\\nSkipping line 6287: expected 2 fields, saw 3\\nSkipping line 6296: expected 2 fields, saw 4\\nSkipping line 6301: expected 2 fields, saw 3\\nSkipping line 6311: expected 2 fields, saw 3\\nSkipping line 6320: expected 2 fields, saw 3\\nSkipping line 6327: expected 2 fields, saw 3\\nSkipping line 6341: expected 2 fields, saw 3\\nSkipping line 6384: expected 2 fields, saw 3\\nSkipping line 6394: expected 2 fields, saw 3\\nSkipping line 6397: expected 2 fields, saw 3\\nSkipping line 6407: expected 2 fields, saw 3\\nSkipping line 6409: expected 2 fields, saw 3\\nSkipping line 6473: expected 2 fields, saw 5\\nSkipping line 6481: expected 2 fields, saw 3\\nSkipping line 6486: expected 2 fields, saw 3\\nSkipping line 6489: expected 2 fields, saw 3\\nSkipping line 6573: expected 2 fields, saw 3\\nSkipping line 6575: expected 2 fields, saw 3\\nSkipping line 6577: expected 2 fields, saw 4\\nSkipping line 6583: expected 2 fields, saw 3\\nSkipping line 6590: expected 2 fields, saw 4\\nSkipping line 6618: expected 2 fields, saw 3\\nSkipping line 6636: expected 2 fields, saw 3\\nSkipping line 6653: expected 2 fields, saw 3\\nSkipping line 6671: expected 2 fields, saw 3\\nSkipping line 6700: expected 2 fields, saw 3\\nSkipping line 6709: expected 2 fields, saw 3\\nSkipping line 6718: expected 2 fields, saw 3\\nSkipping line 6722: expected 2 fields, saw 3\\nSkipping line 6738: expected 2 fields, saw 3\\nSkipping line 6762: expected 2 fields, saw 4\\nSkipping line 6795: expected 2 fields, saw 3\\nSkipping line 6810: expected 2 fields, saw 3\\nSkipping line 6819: expected 2 fields, saw 3\\nSkipping line 6821: expected 2 fields, saw 3\\nSkipping line 6834: expected 2 fields, saw 3\\nSkipping line 6873: expected 2 fields, saw 3\\nSkipping line 6880: expected 2 fields, saw 3\\nSkipping line 6949: expected 2 fields, saw 3\\nSkipping line 6950: expected 2 fields, saw 3\\nSkipping line 6982: expected 2 fields, saw 3\\nSkipping line 6989: expected 2 fields, saw 3\\nSkipping line 7045: expected 2 fields, saw 3\\nSkipping line 7128: expected 2 fields, saw 4\\nSkipping line 7133: expected 2 fields, saw 3\\nSkipping line 7152: expected 2 fields, saw 3\\nSkipping line 7159: expected 2 fields, saw 3\\nSkipping line 7170: expected 2 fields, saw 3\\nSkipping line 7182: expected 2 fields, saw 3\\nSkipping line 7184: expected 2 fields, saw 7\\nSkipping line 7186: expected 2 fields, saw 3\\nSkipping line 7193: expected 2 fields, saw 3\\nSkipping line 7206: expected 2 fields, saw 3\\nSkipping line 7212: expected 2 fields, saw 3\\nSkipping line 7215: expected 2 fields, saw 3\\nSkipping line 7218: expected 2 fields, saw 3\\nSkipping line 7223: expected 2 fields, saw 3\\nSkipping line 7224: expected 2 fields, saw 4\\nSkipping line 7231: expected 2 fields, saw 5\\nSkipping line 7233: expected 2 fields, saw 4\\nSkipping line 7235: expected 2 fields, saw 5\\nSkipping line 7253: expected 2 fields, saw 3\\nSkipping line 7273: expected 2 fields, saw 3\\nSkipping line 7287: expected 2 fields, saw 3\\nSkipping line 7291: expected 2 fields, saw 3\\nSkipping line 7302: expected 2 fields, saw 3\\nSkipping line 7310: expected 2 fields, saw 3\\nSkipping line 7312: expected 2 fields, saw 3\\nSkipping line 7323: expected 2 fields, saw 4\\nSkipping line 7330: expected 2 fields, saw 3\\nSkipping line 7342: expected 2 fields, saw 3\\nSkipping line 7362: expected 2 fields, saw 3\\nSkipping line 7366: expected 2 fields, saw 4\\nSkipping line 7376: expected 2 fields, saw 6\\nSkipping line 7380: expected 2 fields, saw 3\\nSkipping line 7427: expected 2 fields, saw 3\\nSkipping line 7445: expected 2 fields, saw 3\\nSkipping line 7446: expected 2 fields, saw 3\\nSkipping line 7451: expected 2 fields, saw 3\\nSkipping line 7457: expected 2 fields, saw 3\\nSkipping line 7461: expected 2 fields, saw 3\\nSkipping line 7482: expected 2 fields, saw 3\\nSkipping line 7498: expected 2 fields, saw 3\\nSkipping line 7499: expected 2 fields, saw 3\\nSkipping line 7502: expected 2 fields, saw 3\\nSkipping line 7518: expected 2 fields, saw 4\\nSkipping line 7525: expected 2 fields, saw 4\\nSkipping line 7537: expected 2 fields, saw 3\\nSkipping line 7552: expected 2 fields, saw 3\\nSkipping line 7556: expected 2 fields, saw 4\\nSkipping line 7564: expected 2 fields, saw 3\\nSkipping line 7574: expected 2 fields, saw 3\\nSkipping line 7587: expected 2 fields, saw 3\\nSkipping line 7590: expected 2 fields, saw 3\\nSkipping line 7615: expected 2 fields, saw 3\\nSkipping line 7638: expected 2 fields, saw 3\\nSkipping line 7647: expected 2 fields, saw 3\\nSkipping line 7678: expected 2 fields, saw 4\\nSkipping line 7682: expected 2 fields, saw 3\\nSkipping line 7683: expected 2 fields, saw 3\\nSkipping line 7684: expected 2 fields, saw 3\\nSkipping line 7687: expected 2 fields, saw 3\\nSkipping line 7694: expected 2 fields, saw 3\\nSkipping line 7698: expected 2 fields, saw 3\\nSkipping line 7764: expected 2 fields, saw 3\\nSkipping line 7820: expected 2 fields, saw 3\\nSkipping line 7821: expected 2 fields, saw 4\\nSkipping line 7822: expected 2 fields, saw 4\\nSkipping line 7847: expected 2 fields, saw 3\\nSkipping line 7967: expected 2 fields, saw 3\\nSkipping line 7972: expected 2 fields, saw 3\\nSkipping line 7980: expected 2 fields, saw 3\\nSkipping line 8018: expected 2 fields, saw 3\\nSkipping line 8030: expected 2 fields, saw 3\\nSkipping line 8035: expected 2 fields, saw 3\\nSkipping line 8054: expected 2 fields, saw 4\\nSkipping line 8059: expected 2 fields, saw 3\\nSkipping line 8092: expected 2 fields, saw 3\\nSkipping line 8094: expected 2 fields, saw 3\\nSkipping line 8127: expected 2 fields, saw 3\\nSkipping line 8157: expected 2 fields, saw 3\\nSkipping line 8198: expected 2 fields, saw 3\\nSkipping line 8209: expected 2 fields, saw 4\\nSkipping line 8218: expected 2 fields, saw 3\\nSkipping line 8228: expected 2 fields, saw 3\\nSkipping line 8247: expected 2 fields, saw 3\\nSkipping line 8264: expected 2 fields, saw 3\\nSkipping line 8303: expected 2 fields, saw 3\\nSkipping line 8341: expected 2 fields, saw 3\\nSkipping line 8360: expected 2 fields, saw 3\\nSkipping line 8367: expected 2 fields, saw 3\\nSkipping line 8371: expected 2 fields, saw 3\\nSkipping line 8382: expected 2 fields, saw 4\\nSkipping line 8384: expected 2 fields, saw 3\\nSkipping line 8385: expected 2 fields, saw 3\\nSkipping line 8408: expected 2 fields, saw 3\\nSkipping line 8422: expected 2 fields, saw 3\\nSkipping line 8426: expected 2 fields, saw 3\\nSkipping line 8458: expected 2 fields, saw 3\\nSkipping line 8467: expected 2 fields, saw 3\\nSkipping line 8468: expected 2 fields, saw 4\\nSkipping line 8469: expected 2 fields, saw 3\\nSkipping line 8500: expected 2 fields, saw 3\\nSkipping line 8501: expected 2 fields, saw 3\\nSkipping line 8510: expected 2 fields, saw 5\\nSkipping line 8511: expected 2 fields, saw 5\\nSkipping line 8538: expected 2 fields, saw 3\\nSkipping line 8540: expected 2 fields, saw 4\\nSkipping line 8564: expected 2 fields, saw 3\\nSkipping line 8567: expected 2 fields, saw 4\\nSkipping line 8575: expected 2 fields, saw 6\\nSkipping line 8577: expected 2 fields, saw 9\\nSkipping line 8604: expected 2 fields, saw 3\\nSkipping line 8609: expected 2 fields, saw 4\\nSkipping line 8623: expected 2 fields, saw 3\\nSkipping line 8693: expected 2 fields, saw 3\\nSkipping line 8818: expected 2 fields, saw 3\\nSkipping line 8830: expected 2 fields, saw 3\\nSkipping line 8832: expected 2 fields, saw 3\\nSkipping line 8856: expected 2 fields, saw 3\\nSkipping line 8857: expected 2 fields, saw 3\\nSkipping line 8894: expected 2 fields, saw 3\\nSkipping line 8896: expected 2 fields, saw 3\\nSkipping line 8932: expected 2 fields, saw 4\\nSkipping line 8956: expected 2 fields, saw 3\\nSkipping line 8966: expected 2 fields, saw 3\\nSkipping line 8969: expected 2 fields, saw 3\\nSkipping line 8977: expected 2 fields, saw 5\\nSkipping line 8978: expected 2 fields, saw 3\\nSkipping line 8979: expected 2 fields, saw 4\\nSkipping line 9081: expected 2 fields, saw 3\\nSkipping line 9100: expected 2 fields, saw 3\\nSkipping line 9112: expected 2 fields, saw 3\\nSkipping line 9114: expected 2 fields, saw 4\\nSkipping line 9153: expected 2 fields, saw 3\\nSkipping line 9175: expected 2 fields, saw 3\\nSkipping line 9195: expected 2 fields, saw 3\\nSkipping line 9204: expected 2 fields, saw 3\\nSkipping line 9211: expected 2 fields, saw 3\\nSkipping line 9212: expected 2 fields, saw 3\\nSkipping line 9238: expected 2 fields, saw 3\\nSkipping line 9270: expected 2 fields, saw 3\\nSkipping line 9272: expected 2 fields, saw 3\\nSkipping line 9320: expected 2 fields, saw 3\\nSkipping line 9322: expected 2 fields, saw 3\\nSkipping line 9332: expected 2 fields, saw 3\\nSkipping line 9345: expected 2 fields, saw 3\\nSkipping line 9353: expected 2 fields, saw 3\\nSkipping line 9359: expected 2 fields, saw 3\\nSkipping line 9365: expected 2 fields, saw 6\\nSkipping line 9366: expected 2 fields, saw 6\\nSkipping line 9423: expected 2 fields, saw 3\\nSkipping line 9467: expected 2 fields, saw 3\\nSkipping line 9503: expected 2 fields, saw 3\\nSkipping line 9513: expected 2 fields, saw 3\\nSkipping line 9535: expected 2 fields, saw 3\\nSkipping line 9602: expected 2 fields, saw 3\\nSkipping line 9613: expected 2 fields, saw 3\\nSkipping line 9648: expected 2 fields, saw 12\\nSkipping line 9669: expected 2 fields, saw 6\\nSkipping line 9670: expected 2 fields, saw 6\\nSkipping line 9716: expected 2 fields, saw 3\\nSkipping line 9734: expected 2 fields, saw 3\\nSkipping line 9762: expected 2 fields, saw 3\\nSkipping line 9785: expected 2 fields, saw 3\\nSkipping line 9807: expected 2 fields, saw 3\\nSkipping line 9809: expected 2 fields, saw 3\\nSkipping line 9826: expected 2 fields, saw 3\\nSkipping line 9847: expected 2 fields, saw 4\\nSkipping line 9881: expected 2 fields, saw 3\\nSkipping line 9900: expected 2 fields, saw 3\\nSkipping line 9909: expected 2 fields, saw 6\\nSkipping line 9911: expected 2 fields, saw 3\\nSkipping line 9926: expected 2 fields, saw 3\\nSkipping line 9930: expected 2 fields, saw 3\\nSkipping line 9933: expected 2 fields, saw 3\\nSkipping line 9940: expected 2 fields, saw 3\\nSkipping line 9942: expected 2 fields, saw 3\\nSkipping line 9971: expected 2 fields, saw 6\\nSkipping line 9972: expected 2 fields, saw 6\\nSkipping line 10038: expected 2 fields, saw 3\\nSkipping line 10042: expected 2 fields, saw 3\\nSkipping line 10092: expected 2 fields, saw 3\\nSkipping line 10150: expected 2 fields, saw 3\\nSkipping line 10151: expected 2 fields, saw 3\\nSkipping line 10154: expected 2 fields, saw 3\\nSkipping line 10155: expected 2 fields, saw 3\\nSkipping line 10160: expected 2 fields, saw 3\\nSkipping line 10173: expected 2 fields, saw 6\\nSkipping line 10174: expected 2 fields, saw 6\\nSkipping line 10255: expected 2 fields, saw 3\\nSkipping line 10281: expected 2 fields, saw 3\\nSkipping line 10282: expected 2 fields, saw 3\\nSkipping line 10283: expected 2 fields, saw 3\\nSkipping line 10284: expected 2 fields, saw 3\\nSkipping line 10310: expected 2 fields, saw 3\\nSkipping line 10352: expected 2 fields, saw 3\\nSkipping line 10364: expected 2 fields, saw 3\\nSkipping line 10368: expected 2 fields, saw 3\\nSkipping line 10396: expected 2 fields, saw 3\\nSkipping line 10397: expected 2 fields, saw 3\\nSkipping line 10408: expected 2 fields, saw 3\\nSkipping line 10422: expected 2 fields, saw 6\\nSkipping line 10423: expected 2 fields, saw 6\\nSkipping line 10456: expected 2 fields, saw 3\\nSkipping line 10457: expected 2 fields, saw 3\\nSkipping line 10491: expected 2 fields, saw 11\\nSkipping line 10492: expected 2 fields, saw 10\\nSkipping line 10495: expected 2 fields, saw 3\\nSkipping line 10498: expected 2 fields, saw 3\\nSkipping line 10517: expected 2 fields, saw 9\\nSkipping line 10521: expected 2 fields, saw 4\\nSkipping line 10531: expected 2 fields, saw 3\\nSkipping line 10534: expected 2 fields, saw 3\\nSkipping line 10537: expected 2 fields, saw 3\\nSkipping line 10551: expected 2 fields, saw 5\\nSkipping line 10568: expected 2 fields, saw 3\\nSkipping line 10574: expected 2 fields, saw 3\\nSkipping line 10594: expected 2 fields, saw 4\\nSkipping line 10623: expected 2 fields, saw 3\\nSkipping line 10627: expected 2 fields, saw 3\\nSkipping line 10632: expected 2 fields, saw 4\\nSkipping line 10634: expected 2 fields, saw 3\\nSkipping line 10635: expected 2 fields, saw 3\\nSkipping line 10648: expected 2 fields, saw 3\\nSkipping line 10663: expected 2 fields, saw 3\\nSkipping line 10669: expected 2 fields, saw 3\\nSkipping line 10705: expected 2 fields, saw 3\\nSkipping line 10706: expected 2 fields, saw 3\\nSkipping line 10735: expected 2 fields, saw 3\\nSkipping line 10792: expected 2 fields, saw 6\\nSkipping line 10793: expected 2 fields, saw 6\\nSkipping line 10818: expected 2 fields, saw 3\\nSkipping line 10823: expected 2 fields, saw 3\\nSkipping line 10834: expected 2 fields, saw 3\\nSkipping line 10840: expected 2 fields, saw 3\\nSkipping line 10852: expected 2 fields, saw 3\\nSkipping line 10853: expected 2 fields, saw 3\\nSkipping line 10855: expected 2 fields, saw 3\\nSkipping line 10861: expected 2 fields, saw 3\\nSkipping line 10872: expected 2 fields, saw 3\\nSkipping line 10873: expected 2 fields, saw 3\\nSkipping line 10889: expected 2 fields, saw 3\\nSkipping line 10936: expected 2 fields, saw 3\\nSkipping line 10979: expected 2 fields, saw 3\\nSkipping line 11005: expected 2 fields, saw 3\\nSkipping line 11021: expected 2 fields, saw 3\\nSkipping line 11026: expected 2 fields, saw 3\\nSkipping line 11030: expected 2 fields, saw 3\\nSkipping line 11061: expected 2 fields, saw 4\\nSkipping line 11084: expected 2 fields, saw 3\\nSkipping line 11087: expected 2 fields, saw 3\\nSkipping line 11135: expected 2 fields, saw 3\\nSkipping line 11142: expected 2 fields, saw 3\\nSkipping line 11177: expected 2 fields, saw 7\\nSkipping line 11191: expected 2 fields, saw 3\\nSkipping line 11251: expected 2 fields, saw 3\\nSkipping line 11312: expected 2 fields, saw 3\\nSkipping line 11361: expected 2 fields, saw 3\\nSkipping line 11375: expected 2 fields, saw 3\\nSkipping line 11397: expected 2 fields, saw 4\\nSkipping line 11419: expected 2 fields, saw 3\\nSkipping line 11470: expected 2 fields, saw 6\\nSkipping line 11485: expected 2 fields, saw 3\\nSkipping line 11487: expected 2 fields, saw 3\\nSkipping line 11548: expected 2 fields, saw 3\\nSkipping line 11568: expected 2 fields, saw 3\\nSkipping line 11572: expected 2 fields, saw 3\\nSkipping line 11573: expected 2 fields, saw 3\\nSkipping line 11610: expected 2 fields, saw 3\\nSkipping line 11633: expected 2 fields, saw 3\\nSkipping line 11635: expected 2 fields, saw 3\\nSkipping line 11637: expected 2 fields, saw 4\\nSkipping line 11651: expected 2 fields, saw 3\\nSkipping line 11654: expected 2 fields, saw 3\\nSkipping line 11660: expected 2 fields, saw 3\\nSkipping line 11703: expected 2 fields, saw 5\\nSkipping line 11710: expected 2 fields, saw 4\\nSkipping line 11717: expected 2 fields, saw 3\\nSkipping line 11725: expected 2 fields, saw 3\\nSkipping line 11727: expected 2 fields, saw 3\\nSkipping line 11744: expected 2 fields, saw 3\\nSkipping line 11754: expected 2 fields, saw 3\\nSkipping line 11756: expected 2 fields, saw 3\\nSkipping line 11765: expected 2 fields, saw 3\\nSkipping line 11769: expected 2 fields, saw 3\\nSkipping line 11804: expected 2 fields, saw 4\\nSkipping line 11849: expected 2 fields, saw 6\\nSkipping line 11850: expected 2 fields, saw 6\\nSkipping line 11863: expected 2 fields, saw 3\\nSkipping line 11914: expected 2 fields, saw 3\\nSkipping line 11935: expected 2 fields, saw 5\\nSkipping line 11948: expected 2 fields, saw 3\\nSkipping line 11981: expected 2 fields, saw 3\\nSkipping line 11994: expected 2 fields, saw 3\\nSkipping line 12019: expected 2 fields, saw 3\\nSkipping line 12028: expected 2 fields, saw 3\\nSkipping line 12029: expected 2 fields, saw 3\\nSkipping line 12033: expected 2 fields, saw 3\\nSkipping line 12040: expected 2 fields, saw 3\\nSkipping line 12054: expected 2 fields, saw 3\\nSkipping line 12079: expected 2 fields, saw 3\\nSkipping line 12087: expected 2 fields, saw 4\\nSkipping line 12102: expected 2 fields, saw 4\\nSkipping line 12114: expected 2 fields, saw 3\\nSkipping line 12117: expected 2 fields, saw 3\\nSkipping line 12138: expected 2 fields, saw 6\\nSkipping line 12139: expected 2 fields, saw 6\\nSkipping line 12191: expected 2 fields, saw 3\\nSkipping line 12221: expected 2 fields, saw 3\\nSkipping line 12222: expected 2 fields, saw 4\\nSkipping line 12240: expected 2 fields, saw 3\\nSkipping line 12253: expected 2 fields, saw 3\\nSkipping line 12260: expected 2 fields, saw 3\\nSkipping line 12262: expected 2 fields, saw 3\\nSkipping line 12285: expected 2 fields, saw 4\\nSkipping line 12291: expected 2 fields, saw 3\\nSkipping line 12322: expected 2 fields, saw 3\\nSkipping line 12330: expected 2 fields, saw 3\\nSkipping line 12331: expected 2 fields, saw 3\\nSkipping line 12441: expected 2 fields, saw 3\\nSkipping line 12458: expected 2 fields, saw 3\\nSkipping line 12496: expected 2 fields, saw 3\\nSkipping line 12497: expected 2 fields, saw 3\\nSkipping line 12537: expected 2 fields, saw 3\\nSkipping line 12538: expected 2 fields, saw 3\\nSkipping line 12552: expected 2 fields, saw 3\\nSkipping line 12557: expected 2 fields, saw 3\\nSkipping line 12572: expected 2 fields, saw 3\\nSkipping line 12584: expected 2 fields, saw 3\\nSkipping line 12586: expected 2 fields, saw 3\\nSkipping line 12594: expected 2 fields, saw 3\\nSkipping line 12606: expected 2 fields, saw 4\\nSkipping line 12620: expected 2 fields, saw 3\\nSkipping line 12658: expected 2 fields, saw 3\\nSkipping line 12665: expected 2 fields, saw 3\\nSkipping line 12679: expected 2 fields, saw 3\\nSkipping line 12691: expected 2 fields, saw 4\\nSkipping line 12692: expected 2 fields, saw 3\\nSkipping line 12725: expected 2 fields, saw 3\\nSkipping line 12757: expected 2 fields, saw 3\\nSkipping line 12758: expected 2 fields, saw 3\\nSkipping line 12792: expected 2 fields, saw 5\\nSkipping line 12798: expected 2 fields, saw 3\\nSkipping line 12837: expected 2 fields, saw 3\\nSkipping line 12853: expected 2 fields, saw 3\\nSkipping line 12855: expected 2 fields, saw 4\\nSkipping line 12859: expected 2 fields, saw 3\\nSkipping line 12870: expected 2 fields, saw 3\\nSkipping line 12884: expected 2 fields, saw 3\\nSkipping line 12930: expected 2 fields, saw 3\\nSkipping line 12962: expected 2 fields, saw 3\\nSkipping line 12964: expected 2 fields, saw 3\\nSkipping line 12999: expected 2 fields, saw 3\\nSkipping line 13033: expected 2 fields, saw 3\\nSkipping line 13042: expected 2 fields, saw 3\\nSkipping line 13048: expected 2 fields, saw 3\\nSkipping line 13054: expected 2 fields, saw 3\\nSkipping line 13063: expected 2 fields, saw 3\\nSkipping line 13066: expected 2 fields, saw 3\\nSkipping line 13097: expected 2 fields, saw 3\\nSkipping line 13113: expected 2 fields, saw 4\\nSkipping line 13123: expected 2 fields, saw 4\\nSkipping line 13127: expected 2 fields, saw 3\\nSkipping line 13133: expected 2 fields, saw 3\\nSkipping line 13136: expected 2 fields, saw 3\\nSkipping line 13183: expected 2 fields, saw 3\\nSkipping line 13184: expected 2 fields, saw 3\\nSkipping line 13235: expected 2 fields, saw 3\\nSkipping line 13248: expected 2 fields, saw 3\\nSkipping line 13265: expected 2 fields, saw 3\\nSkipping line 13271: expected 2 fields, saw 3\\nSkipping line 13280: expected 2 fields, saw 3\\nSkipping line 13313: expected 2 fields, saw 3\\nSkipping line 13324: expected 2 fields, saw 3\\nSkipping line 13364: expected 2 fields, saw 3\\nSkipping line 13393: expected 2 fields, saw 5\\nSkipping line 13398: expected 2 fields, saw 3\\nSkipping line 13415: expected 2 fields, saw 3\\nSkipping line 13420: expected 2 fields, saw 4\\nSkipping line 13431: expected 2 fields, saw 3\\nSkipping line 13447: expected 2 fields, saw 3\\nSkipping line 13469: expected 2 fields, saw 3\\nSkipping line 13485: expected 2 fields, saw 3\\nSkipping line 13495: expected 2 fields, saw 5\\nSkipping line 13500: expected 2 fields, saw 3\\nSkipping line 13530: expected 2 fields, saw 3\\nSkipping line 13546: expected 2 fields, saw 3\\nSkipping line 13556: expected 2 fields, saw 3\\nSkipping line 13562: expected 2 fields, saw 3\\nSkipping line 13566: expected 2 fields, saw 3\\nSkipping line 13585: expected 2 fields, saw 3\\nSkipping line 13594: expected 2 fields, saw 3\\nSkipping line 13602: expected 2 fields, saw 3\\nSkipping line 13605: expected 2 fields, saw 3\\nSkipping line 13607: expected 2 fields, saw 3\\nSkipping line 13633: expected 2 fields, saw 3\\nSkipping line 13645: expected 2 fields, saw 6\\nSkipping line 13652: expected 2 fields, saw 3\\nSkipping line 13653: expected 2 fields, saw 3\\nSkipping line 13675: expected 2 fields, saw 4\\nSkipping line 13676: expected 2 fields, saw 3\\nSkipping line 13682: expected 2 fields, saw 3\\nSkipping line 13684: expected 2 fields, saw 3\\nSkipping line 13689: expected 2 fields, saw 3\\nSkipping line 13692: expected 2 fields, saw 3\\nSkipping line 13693: expected 2 fields, saw 3\\nSkipping line 13709: expected 2 fields, saw 4\\nSkipping line 13757: expected 2 fields, saw 3\\n'\n"
     ]
    },
    {
     "data": {
      "text/html": [
       "<div>\n",
       "<style scoped>\n",
       "    .dataframe tbody tr th:only-of-type {\n",
       "        vertical-align: middle;\n",
       "    }\n",
       "\n",
       "    .dataframe tbody tr th {\n",
       "        vertical-align: top;\n",
       "    }\n",
       "\n",
       "    .dataframe thead th {\n",
       "        text-align: right;\n",
       "    }\n",
       "</style>\n",
       "<table border=\"1\" class=\"dataframe\">\n",
       "  <thead>\n",
       "    <tr style=\"text-align: right;\">\n",
       "      <th></th>\n",
       "      <th>9/4/19</th>\n",
       "      <th>5:46 PM - Messages to this group are now secured with end-to-end encryption. Tap for more info.</th>\n",
       "    </tr>\n",
       "  </thead>\n",
       "  <tbody>\n",
       "    <tr>\n",
       "      <th>0</th>\n",
       "      <td>9/3/19</td>\n",
       "      <td>5:34 PM - +91 98888 26051 created group \"Lang...</td>\n",
       "    </tr>\n",
       "    <tr>\n",
       "      <th>1</th>\n",
       "      <td>9/4/19</td>\n",
       "      <td>5:46 PM - Nikita Batra DA added you</td>\n",
       "    </tr>\n",
       "    <tr>\n",
       "      <th>2</th>\n",
       "      <td>9/4/19</td>\n",
       "      <td>5:59 PM - +91 90414 65914 added Vasu DA Lanagara</td>\n",
       "    </tr>\n",
       "    <tr>\n",
       "      <th>3</th>\n",
       "      <td>9/4/19</td>\n",
       "      <td>8:21 PM - jaspreet singh: &lt;Media omitted&gt;</td>\n",
       "    </tr>\n",
       "    <tr>\n",
       "      <th>4</th>\n",
       "      <td>9/4/19</td>\n",
       "      <td>8:22 PM - jaspreet singh: Hardware required f...</td>\n",
       "    </tr>\n",
       "  </tbody>\n",
       "</table>\n",
       "</div>"
      ],
      "text/plain": [
       "   9/4/19  \\\n",
       "0  9/3/19   \n",
       "1  9/4/19   \n",
       "2  9/4/19   \n",
       "3  9/4/19   \n",
       "4  9/4/19   \n",
       "\n",
       "   5:46 PM - Messages to this group are now secured with end-to-end encryption. Tap for more info.  \n",
       "0   5:34 PM - +91 98888 26051 created group \"Lang...                                                \n",
       "1                5:46 PM - Nikita Batra DA added you                                                \n",
       "2   5:59 PM - +91 90414 65914 added Vasu DA Lanagara                                                \n",
       "3          8:21 PM - jaspreet singh: <Media omitted>                                                \n",
       "4   8:22 PM - jaspreet singh: Hardware required f...                                                "
      ]
     },
     "execution_count": 3,
     "metadata": {},
     "output_type": "execute_result"
    }
   ],
   "source": [
    "#import data\n",
    "data = pd.read_csv(r\"WhatsApp Chat with PDD.DA’19.txt\", error_bad_lines=False)\n",
    "data.head()"
   ]
  },
  {
   "cell_type": "code",
   "execution_count": 4,
   "metadata": {},
   "outputs": [
    {
     "data": {
      "text/html": [
       "<div>\n",
       "<style scoped>\n",
       "    .dataframe tbody tr th:only-of-type {\n",
       "        vertical-align: middle;\n",
       "    }\n",
       "\n",
       "    .dataframe tbody tr th {\n",
       "        vertical-align: top;\n",
       "    }\n",
       "\n",
       "    .dataframe thead th {\n",
       "        text-align: right;\n",
       "    }\n",
       "</style>\n",
       "<table border=\"1\" class=\"dataframe\">\n",
       "  <thead>\n",
       "    <tr style=\"text-align: right;\">\n",
       "      <th></th>\n",
       "      <th>9/4/19</th>\n",
       "      <th>5:46 PM - Messages to this group are now secured with end-to-end encryption. Tap for more info.</th>\n",
       "    </tr>\n",
       "  </thead>\n",
       "  <tbody>\n",
       "    <tr>\n",
       "      <th>0</th>\n",
       "      <td>9/3/19</td>\n",
       "      <td>5:34 PM - +91 98888 26051 created group \"Lang...</td>\n",
       "    </tr>\n",
       "    <tr>\n",
       "      <th>1</th>\n",
       "      <td>9/4/19</td>\n",
       "      <td>5:46 PM - Nikita Batra DA added you</td>\n",
       "    </tr>\n",
       "    <tr>\n",
       "      <th>2</th>\n",
       "      <td>9/4/19</td>\n",
       "      <td>5:59 PM - +91 90414 65914 added Vasu DA Lanagara</td>\n",
       "    </tr>\n",
       "    <tr>\n",
       "      <th>3</th>\n",
       "      <td>9/4/19</td>\n",
       "      <td>8:21 PM - jaspreet singh: &lt;Media omitted&gt;</td>\n",
       "    </tr>\n",
       "    <tr>\n",
       "      <th>4</th>\n",
       "      <td>9/4/19</td>\n",
       "      <td>8:22 PM - jaspreet singh: Hardware required f...</td>\n",
       "    </tr>\n",
       "  </tbody>\n",
       "</table>\n",
       "</div>"
      ],
      "text/plain": [
       "   9/4/19  \\\n",
       "0  9/3/19   \n",
       "1  9/4/19   \n",
       "2  9/4/19   \n",
       "3  9/4/19   \n",
       "4  9/4/19   \n",
       "\n",
       "   5:46 PM - Messages to this group are now secured with end-to-end encryption. Tap for more info.  \n",
       "0   5:34 PM - +91 98888 26051 created group \"Lang...                                                \n",
       "1                5:46 PM - Nikita Batra DA added you                                                \n",
       "2   5:59 PM - +91 90414 65914 added Vasu DA Lanagara                                                \n",
       "3          8:21 PM - jaspreet singh: <Media omitted>                                                \n",
       "4   8:22 PM - jaspreet singh: Hardware required f...                                                "
      ]
     },
     "execution_count": 4,
     "metadata": {},
     "output_type": "execute_result"
    }
   ],
   "source": [
    "data.head()"
   ]
  },
  {
   "cell_type": "code",
   "execution_count": 5,
   "metadata": {},
   "outputs": [
    {
     "data": {
      "text/plain": [
       "Index(['9/4/19', ' 5:46 PM - Messages to this group are now secured with end-to-end encryption. Tap for more info.'], dtype='object')"
      ]
     },
     "execution_count": 5,
     "metadata": {},
     "output_type": "execute_result"
    }
   ],
   "source": [
    "data.columns"
   ]
  },
  {
   "cell_type": "code",
   "execution_count": 6,
   "metadata": {},
   "outputs": [],
   "source": [
    "data.rename(columns = {\"9/4/19\":\"Date\",\" 5:46 PM - Messages to this group are now secured with end-to-end encryption. Tap for more info.\":\"info\"}, inplace = True)"
   ]
  },
  {
   "cell_type": "code",
   "execution_count": 7,
   "metadata": {},
   "outputs": [
    {
     "data": {
      "text/html": [
       "<div>\n",
       "<style scoped>\n",
       "    .dataframe tbody tr th:only-of-type {\n",
       "        vertical-align: middle;\n",
       "    }\n",
       "\n",
       "    .dataframe tbody tr th {\n",
       "        vertical-align: top;\n",
       "    }\n",
       "\n",
       "    .dataframe thead th {\n",
       "        text-align: right;\n",
       "    }\n",
       "</style>\n",
       "<table border=\"1\" class=\"dataframe\">\n",
       "  <thead>\n",
       "    <tr style=\"text-align: right;\">\n",
       "      <th></th>\n",
       "      <th>Date</th>\n",
       "      <th>info</th>\n",
       "    </tr>\n",
       "  </thead>\n",
       "  <tbody>\n",
       "    <tr>\n",
       "      <th>0</th>\n",
       "      <td>9/3/19</td>\n",
       "      <td>5:34 PM - +91 98888 26051 created group \"Lang...</td>\n",
       "    </tr>\n",
       "    <tr>\n",
       "      <th>1</th>\n",
       "      <td>9/4/19</td>\n",
       "      <td>5:46 PM - Nikita Batra DA added you</td>\n",
       "    </tr>\n",
       "    <tr>\n",
       "      <th>2</th>\n",
       "      <td>9/4/19</td>\n",
       "      <td>5:59 PM - +91 90414 65914 added Vasu DA Lanagara</td>\n",
       "    </tr>\n",
       "    <tr>\n",
       "      <th>3</th>\n",
       "      <td>9/4/19</td>\n",
       "      <td>8:21 PM - jaspreet singh: &lt;Media omitted&gt;</td>\n",
       "    </tr>\n",
       "    <tr>\n",
       "      <th>4</th>\n",
       "      <td>9/4/19</td>\n",
       "      <td>8:22 PM - jaspreet singh: Hardware required f...</td>\n",
       "    </tr>\n",
       "  </tbody>\n",
       "</table>\n",
       "</div>"
      ],
      "text/plain": [
       "     Date                                               info\n",
       "0  9/3/19   5:34 PM - +91 98888 26051 created group \"Lang...\n",
       "1  9/4/19                5:46 PM - Nikita Batra DA added you\n",
       "2  9/4/19   5:59 PM - +91 90414 65914 added Vasu DA Lanagara\n",
       "3  9/4/19          8:21 PM - jaspreet singh: <Media omitted>\n",
       "4  9/4/19   8:22 PM - jaspreet singh: Hardware required f..."
      ]
     },
     "execution_count": 7,
     "metadata": {},
     "output_type": "execute_result"
    }
   ],
   "source": [
    "data.head()"
   ]
  },
  {
   "cell_type": "code",
   "execution_count": 8,
   "metadata": {},
   "outputs": [
    {
     "data": {
      "text/html": [
       "<div>\n",
       "<style scoped>\n",
       "    .dataframe tbody tr th:only-of-type {\n",
       "        vertical-align: middle;\n",
       "    }\n",
       "\n",
       "    .dataframe tbody tr th {\n",
       "        vertical-align: top;\n",
       "    }\n",
       "\n",
       "    .dataframe thead th {\n",
       "        text-align: right;\n",
       "    }\n",
       "</style>\n",
       "<table border=\"1\" class=\"dataframe\">\n",
       "  <thead>\n",
       "    <tr style=\"text-align: right;\">\n",
       "      <th></th>\n",
       "      <th>0</th>\n",
       "      <th>1</th>\n",
       "    </tr>\n",
       "  </thead>\n",
       "  <tbody>\n",
       "    <tr>\n",
       "      <th>0</th>\n",
       "      <td>5:34 PM</td>\n",
       "      <td>+91 98888 26051 created group \"Langara College\"</td>\n",
       "    </tr>\n",
       "    <tr>\n",
       "      <th>1</th>\n",
       "      <td>5:46 PM</td>\n",
       "      <td>Nikita Batra DA added you</td>\n",
       "    </tr>\n",
       "    <tr>\n",
       "      <th>2</th>\n",
       "      <td>5:59 PM</td>\n",
       "      <td>+91 90414 65914 added Vasu DA Lanagara</td>\n",
       "    </tr>\n",
       "    <tr>\n",
       "      <th>3</th>\n",
       "      <td>8:21 PM</td>\n",
       "      <td>jaspreet singh: &lt;Media omitted&gt;</td>\n",
       "    </tr>\n",
       "    <tr>\n",
       "      <th>4</th>\n",
       "      <td>8:22 PM</td>\n",
       "      <td>jaspreet singh: Hardware required for this co...</td>\n",
       "    </tr>\n",
       "  </tbody>\n",
       "</table>\n",
       "</div>"
      ],
      "text/plain": [
       "           0                                                  1\n",
       "0   5:34 PM     +91 98888 26051 created group \"Langara College\"\n",
       "1   5:46 PM                           Nikita Batra DA added you\n",
       "2   5:59 PM              +91 90414 65914 added Vasu DA Lanagara\n",
       "3   8:21 PM                     jaspreet singh: <Media omitted>\n",
       "4   8:22 PM    jaspreet singh: Hardware required for this co..."
      ]
     },
     "execution_count": 8,
     "metadata": {},
     "output_type": "execute_result"
    }
   ],
   "source": [
    "# new data frame with split value columns \n",
    "new = data[\"info\"].str.split(\"-\", n = 1, expand = True) \n",
    "new.head()"
   ]
  },
  {
   "cell_type": "code",
   "execution_count": 9,
   "metadata": {},
   "outputs": [
    {
     "data": {
      "text/html": [
       "<div>\n",
       "<style scoped>\n",
       "    .dataframe tbody tr th:only-of-type {\n",
       "        vertical-align: middle;\n",
       "    }\n",
       "\n",
       "    .dataframe tbody tr th {\n",
       "        vertical-align: top;\n",
       "    }\n",
       "\n",
       "    .dataframe thead th {\n",
       "        text-align: right;\n",
       "    }\n",
       "</style>\n",
       "<table border=\"1\" class=\"dataframe\">\n",
       "  <thead>\n",
       "    <tr style=\"text-align: right;\">\n",
       "      <th></th>\n",
       "      <th>Date</th>\n",
       "      <th>Time</th>\n",
       "      <th>Message</th>\n",
       "    </tr>\n",
       "  </thead>\n",
       "  <tbody>\n",
       "    <tr>\n",
       "      <th>0</th>\n",
       "      <td>9/3/19</td>\n",
       "      <td>5:34 PM</td>\n",
       "      <td>+91 98888 26051 created group \"Langara College\"</td>\n",
       "    </tr>\n",
       "    <tr>\n",
       "      <th>1</th>\n",
       "      <td>9/4/19</td>\n",
       "      <td>5:46 PM</td>\n",
       "      <td>Nikita Batra DA added you</td>\n",
       "    </tr>\n",
       "    <tr>\n",
       "      <th>2</th>\n",
       "      <td>9/4/19</td>\n",
       "      <td>5:59 PM</td>\n",
       "      <td>+91 90414 65914 added Vasu DA Lanagara</td>\n",
       "    </tr>\n",
       "    <tr>\n",
       "      <th>3</th>\n",
       "      <td>9/4/19</td>\n",
       "      <td>8:21 PM</td>\n",
       "      <td>jaspreet singh: &lt;Media omitted&gt;</td>\n",
       "    </tr>\n",
       "    <tr>\n",
       "      <th>4</th>\n",
       "      <td>9/4/19</td>\n",
       "      <td>8:22 PM</td>\n",
       "      <td>jaspreet singh: Hardware required for this co...</td>\n",
       "    </tr>\n",
       "  </tbody>\n",
       "</table>\n",
       "</div>"
      ],
      "text/plain": [
       "     Date       Time                                            Message\n",
       "0  9/3/19   5:34 PM     +91 98888 26051 created group \"Langara College\"\n",
       "1  9/4/19   5:46 PM                           Nikita Batra DA added you\n",
       "2  9/4/19   5:59 PM              +91 90414 65914 added Vasu DA Lanagara\n",
       "3  9/4/19   8:21 PM                     jaspreet singh: <Media omitted>\n",
       "4  9/4/19   8:22 PM    jaspreet singh: Hardware required for this co..."
      ]
     },
     "execution_count": 9,
     "metadata": {},
     "output_type": "execute_result"
    }
   ],
   "source": [
    "# making separate first name column from new data frame \n",
    "data[\"Time\"]= new[0] \n",
    "  \n",
    "# making separate last name column from new data frame \n",
    "data[\"Message\"]= new[1] \n",
    "  \n",
    "# Dropping old Name columns \n",
    "data.drop(columns =[\"info\"], inplace = True) \n",
    "  \n",
    "# df display \n",
    "data.head()"
   ]
  },
  {
   "cell_type": "code",
   "execution_count": 10,
   "metadata": {},
   "outputs": [
    {
     "data": {
      "text/html": [
       "<div>\n",
       "<style scoped>\n",
       "    .dataframe tbody tr th:only-of-type {\n",
       "        vertical-align: middle;\n",
       "    }\n",
       "\n",
       "    .dataframe tbody tr th {\n",
       "        vertical-align: top;\n",
       "    }\n",
       "\n",
       "    .dataframe thead th {\n",
       "        text-align: right;\n",
       "    }\n",
       "</style>\n",
       "<table border=\"1\" class=\"dataframe\">\n",
       "  <thead>\n",
       "    <tr style=\"text-align: right;\">\n",
       "      <th></th>\n",
       "      <th>Date</th>\n",
       "      <th>Time</th>\n",
       "      <th>Name</th>\n",
       "      <th>Messages</th>\n",
       "    </tr>\n",
       "  </thead>\n",
       "  <tbody>\n",
       "    <tr>\n",
       "      <th>0</th>\n",
       "      <td>9/3/19</td>\n",
       "      <td>5:34 PM</td>\n",
       "      <td>+91 98888 26051 created group \"Langara College\"</td>\n",
       "      <td>None</td>\n",
       "    </tr>\n",
       "    <tr>\n",
       "      <th>1</th>\n",
       "      <td>9/4/19</td>\n",
       "      <td>5:46 PM</td>\n",
       "      <td>Nikita Batra DA added you</td>\n",
       "      <td>None</td>\n",
       "    </tr>\n",
       "    <tr>\n",
       "      <th>2</th>\n",
       "      <td>9/4/19</td>\n",
       "      <td>5:59 PM</td>\n",
       "      <td>+91 90414 65914 added Vasu DA Lanagara</td>\n",
       "      <td>None</td>\n",
       "    </tr>\n",
       "    <tr>\n",
       "      <th>3</th>\n",
       "      <td>9/4/19</td>\n",
       "      <td>8:21 PM</td>\n",
       "      <td>jaspreet singh</td>\n",
       "      <td>&lt;Media omitted&gt;</td>\n",
       "    </tr>\n",
       "    <tr>\n",
       "      <th>4</th>\n",
       "      <td>9/4/19</td>\n",
       "      <td>8:22 PM</td>\n",
       "      <td>jaspreet singh</td>\n",
       "      <td>Hardware required for this course is not that...</td>\n",
       "    </tr>\n",
       "    <tr>\n",
       "      <th>...</th>\n",
       "      <td>...</td>\n",
       "      <td>...</td>\n",
       "      <td>...</td>\n",
       "      <td>...</td>\n",
       "    </tr>\n",
       "    <tr>\n",
       "      <th>12673</th>\n",
       "      <td>6/24/20</td>\n",
       "      <td>7:19 PM</td>\n",
       "      <td>jaspreet singh</td>\n",
       "      <td>&lt;Media omitted&gt;</td>\n",
       "    </tr>\n",
       "    <tr>\n",
       "      <th>12674</th>\n",
       "      <td>6/24/20</td>\n",
       "      <td>7:40 PM</td>\n",
       "      <td>David Vazquez Data Analytics</td>\n",
       "      <td>Does it include de bokeh slider? 😛</td>\n",
       "    </tr>\n",
       "    <tr>\n",
       "      <th>12675</th>\n",
       "      <td>6/24/20</td>\n",
       "      <td>7:40 PM</td>\n",
       "      <td>jaspreet singh</td>\n",
       "      <td>no idea</td>\n",
       "    </tr>\n",
       "    <tr>\n",
       "      <th>12676</th>\n",
       "      <td>6/24/20</td>\n",
       "      <td>7:43 PM</td>\n",
       "      <td>Vasu DA Lanagara</td>\n",
       "      <td>Send me the Code if slider includes😂</td>\n",
       "    </tr>\n",
       "    <tr>\n",
       "      <th>12677</th>\n",
       "      <td>6/24/20</td>\n",
       "      <td>8:08 PM</td>\n",
       "      <td>Kiran DA</td>\n",
       "      <td>Hi guys need php laravel developer and html d...</td>\n",
       "    </tr>\n",
       "  </tbody>\n",
       "</table>\n",
       "<p>12678 rows × 4 columns</p>\n",
       "</div>"
      ],
      "text/plain": [
       "          Date       Time                                              Name  \\\n",
       "0       9/3/19   5:34 PM    +91 98888 26051 created group \"Langara College\"   \n",
       "1       9/4/19   5:46 PM                          Nikita Batra DA added you   \n",
       "2       9/4/19   5:59 PM             +91 90414 65914 added Vasu DA Lanagara   \n",
       "3       9/4/19   8:21 PM                                     jaspreet singh   \n",
       "4       9/4/19   8:22 PM                                     jaspreet singh   \n",
       "...        ...        ...                                               ...   \n",
       "12673  6/24/20   7:19 PM                                     jaspreet singh   \n",
       "12674  6/24/20   7:40 PM                       David Vazquez Data Analytics   \n",
       "12675  6/24/20   7:40 PM                                     jaspreet singh   \n",
       "12676  6/24/20   7:43 PM                                   Vasu DA Lanagara   \n",
       "12677  6/24/20   8:08 PM                                           Kiran DA   \n",
       "\n",
       "                                                Messages  \n",
       "0                                                   None  \n",
       "1                                                   None  \n",
       "2                                                   None  \n",
       "3                                        <Media omitted>  \n",
       "4       Hardware required for this course is not that...  \n",
       "...                                                  ...  \n",
       "12673                                    <Media omitted>  \n",
       "12674                 Does it include de bokeh slider? 😛  \n",
       "12675                                            no idea  \n",
       "12676               Send me the Code if slider includes😂  \n",
       "12677   Hi guys need php laravel developer and html d...  \n",
       "\n",
       "[12678 rows x 4 columns]"
      ]
     },
     "execution_count": 10,
     "metadata": {},
     "output_type": "execute_result"
    }
   ],
   "source": [
    "# new data frame with split value columns \n",
    "new = data[\"Message\"].str.split(\":\", n = 1, expand = True) \n",
    "  \n",
    "# making separate first name column from new data frame \n",
    "data[\"Name\"]= new[0] \n",
    "  \n",
    "# making separate last name column from new data frame \n",
    "data[\"Messages\"]= new[1] \n",
    "  \n",
    "# Dropping old Name columns \n",
    "data.drop(columns =[\"Message\"], inplace = True) \n",
    "  \n",
    "# df display \n",
    "data "
   ]
  },
  {
   "cell_type": "code",
   "execution_count": 11,
   "metadata": {},
   "outputs": [],
   "source": [
    "#drop NA\n",
    "data.dropna(inplace=True)"
   ]
  },
  {
   "cell_type": "code",
   "execution_count": 12,
   "metadata": {},
   "outputs": [
    {
     "data": {
      "text/plain": [
       "30"
      ]
     },
     "execution_count": 12,
     "metadata": {},
     "output_type": "execute_result"
    }
   ],
   "source": [
    "#check unique students\n",
    "data.Name.nunique()"
   ]
  },
  {
   "cell_type": "code",
   "execution_count": 13,
   "metadata": {
    "scrolled": true
   },
   "outputs": [
    {
     "data": {
      "text/plain": [
       " Kirra DA LANGARA                  1517\n",
       " Roberta DA Langara                1472\n",
       " Dharun Canada DA                   939\n",
       " jaspreet singh                     855\n",
       " Vasu DA Lanagara                   796\n",
       " Kiran DA                           554\n",
       " Arshpreet Singh Lanagar DA         505\n",
       " Amir DA                            501\n",
       " Jasman DA Lanagara                 494\n",
       " Naval DA Langara                   445\n",
       " Tuli Data Analytics Langara        443\n",
       " Ved DA Langara                     369\n",
       " Cici DA Langara                    368\n",
       " Rashman DA                         335\n",
       " Harshad DA Langara                 301\n",
       " Nikita Batra DA                    293\n",
       " Kania DA Langara                   269\n",
       " Kiran DA Langara                   215\n",
       " Aditi Jaswal Langara DA Canada     204\n",
       " David Vazquez Data Analytics       198\n",
       " Reddy DA Langara Vivek             169\n",
       " Beth DA                            145\n",
       " Edward DA Langara                  119\n",
       " Navjot DA                          105\n",
       " Manoj DA Langara                    94\n",
       " Niki DA Langara                     83\n",
       " +91 98888 26051                     17\n",
       " Harsh Data Analytics Langara        14\n",
       " +91 90414 65914                     11\n",
       " Aditi DA Langara                     7\n",
       "Name: Name, dtype: int64"
      ]
     },
     "execution_count": 13,
     "metadata": {},
     "output_type": "execute_result"
    }
   ],
   "source": [
    "#counts of Names\n",
    "data[\"Name\"].value_counts()"
   ]
  },
  {
   "cell_type": "code",
   "execution_count": 14,
   "metadata": {},
   "outputs": [
    {
     "name": "stdout",
     "output_type": "stream",
     "text": [
      "[' Kirra DA LANGARA', ' Roberta DA Langara', ' Dharun Canada DA', ' jaspreet singh', ' Vasu DA Lanagara', ' Kiran DA', ' Arshpreet Singh Lanagar DA', ' Amir DA', ' Jasman DA Lanagara', ' Naval DA Langara', ' Tuli Data Analytics Langara', ' Ved DA Langara', ' Cici DA Langara', ' Rashman DA', ' Harshad DA Langara', ' Nikita Batra DA', ' Kania DA Langara', ' Kiran DA Langara', ' Aditi Jaswal Langara DA Canada', ' David Vazquez Data Analytics', ' Reddy DA Langara Vivek', ' Beth DA', ' Edward DA Langara', ' Navjot DA', ' Manoj DA Langara', ' Niki DA Langara', ' +91 98888 26051', ' Harsh Data Analytics Langara', ' +91 90414 65914', ' Aditi DA Langara']\n"
     ]
    }
   ],
   "source": [
    "#list of the Names from series value_counts object\n",
    "UniqueList =data[\"Name\"].value_counts().keys().to_list()\n",
    "print(UniqueList)"
   ]
  },
  {
   "cell_type": "code",
   "execution_count": 15,
   "metadata": {},
   "outputs": [
    {
     "data": {
      "text/plain": [
       "30"
      ]
     },
     "execution_count": 15,
     "metadata": {},
     "output_type": "execute_result"
    }
   ],
   "source": [
    "#total unique Names in Data frame \n",
    "len(data.Name.unique())"
   ]
  },
  {
   "cell_type": "code",
   "execution_count": 16,
   "metadata": {},
   "outputs": [],
   "source": [
    "data.to_csv(\"Chat.csv\", index =False)"
   ]
  },
  {
   "cell_type": "code",
   "execution_count": 17,
   "metadata": {
    "scrolled": true
   },
   "outputs": [
    {
     "data": {
      "text/html": [
       "<div>\n",
       "<style scoped>\n",
       "    .dataframe tbody tr th:only-of-type {\n",
       "        vertical-align: middle;\n",
       "    }\n",
       "\n",
       "    .dataframe tbody tr th {\n",
       "        vertical-align: top;\n",
       "    }\n",
       "\n",
       "    .dataframe thead th {\n",
       "        text-align: right;\n",
       "    }\n",
       "</style>\n",
       "<table border=\"1\" class=\"dataframe\">\n",
       "  <thead>\n",
       "    <tr style=\"text-align: right;\">\n",
       "      <th></th>\n",
       "      <th>Date</th>\n",
       "      <th>Time</th>\n",
       "      <th>Name</th>\n",
       "      <th>Messages</th>\n",
       "    </tr>\n",
       "  </thead>\n",
       "  <tbody>\n",
       "    <tr>\n",
       "      <th>3</th>\n",
       "      <td>9/4/19</td>\n",
       "      <td>8:21 PM</td>\n",
       "      <td>jaspreet singh</td>\n",
       "      <td>&lt;Media omitted&gt;</td>\n",
       "    </tr>\n",
       "    <tr>\n",
       "      <th>4</th>\n",
       "      <td>9/4/19</td>\n",
       "      <td>8:22 PM</td>\n",
       "      <td>jaspreet singh</td>\n",
       "      <td>Hardware required for this course is not that...</td>\n",
       "    </tr>\n",
       "    <tr>\n",
       "      <th>5</th>\n",
       "      <td>9/4/19</td>\n",
       "      <td>8:22 PM</td>\n",
       "      <td>jaspreet singh</td>\n",
       "      <td>May be our older system work for this course</td>\n",
       "    </tr>\n",
       "    <tr>\n",
       "      <th>6</th>\n",
       "      <td>9/4/19</td>\n",
       "      <td>8:27 PM</td>\n",
       "      <td>Dharun Canada DA</td>\n",
       "      <td>👀</td>\n",
       "    </tr>\n",
       "    <tr>\n",
       "      <th>7</th>\n",
       "      <td>9/5/19</td>\n",
       "      <td>12:34 PM</td>\n",
       "      <td>jaspreet singh</td>\n",
       "      <td>Did anyone know where this Maths Test will be...</td>\n",
       "    </tr>\n",
       "  </tbody>\n",
       "</table>\n",
       "</div>"
      ],
      "text/plain": [
       "     Date        Time               Name  \\\n",
       "3  9/4/19    8:21 PM      jaspreet singh   \n",
       "4  9/4/19    8:22 PM      jaspreet singh   \n",
       "5  9/4/19    8:22 PM      jaspreet singh   \n",
       "6  9/4/19    8:27 PM    Dharun Canada DA   \n",
       "7  9/5/19   12:34 PM      jaspreet singh   \n",
       "\n",
       "                                            Messages  \n",
       "3                                    <Media omitted>  \n",
       "4   Hardware required for this course is not that...  \n",
       "5       May be our older system work for this course  \n",
       "6                                                  👀  \n",
       "7   Did anyone know where this Maths Test will be...  "
      ]
     },
     "execution_count": 17,
     "metadata": {},
     "output_type": "execute_result"
    }
   ],
   "source": [
    "data.head()"
   ]
  },
  {
   "cell_type": "code",
   "execution_count": 18,
   "metadata": {},
   "outputs": [],
   "source": [
    "data['Date'] =  pd.to_datetime(data['Date'], format='%m/%d/%y')"
   ]
  },
  {
   "cell_type": "code",
   "execution_count": 19,
   "metadata": {},
   "outputs": [],
   "source": [
    "def t(x):\n",
    "    if x[-3:-1]=='PM' and x.split(':')[0][1:3]=='12':\n",
    "        return(x[1:6])\n",
    "    if x[-3:-1]=='PM' and x.split(':')[0][:2]!='12':\n",
    "        return(str(int(x.split(':')[0])+12)+str(':')+str(x.split(':')[1][:2]))\n",
    "    if x[-3:-1]=='AM' and x.split(':')[0][1:3]=='12':\n",
    "        return(str('00')+str(':')+str(x.split(':')[1][:2]))\n",
    "    if x[-3:-1]=='AM' and x.split(':')[0][:2]!='12' and x.split(':')[0][1:3]!='10' and x.split(':')[0][1:3]!='11':\n",
    "        return(x[1:5])\n",
    "    if x[-3:-1]=='AM' and x.split(':')[0][1:3]=='10':\n",
    "        return(x[1:6])\n",
    "    if x[-3:-1]=='AM' and x.split(':')[0][1:3]=='11':\n",
    "        return(x[1:6])"
   ]
  },
  {
   "cell_type": "code",
   "execution_count": 20,
   "metadata": {},
   "outputs": [],
   "source": [
    "data['Time'] = data['Time'].apply(lambda x: t(x))"
   ]
  },
  {
   "cell_type": "code",
   "execution_count": 21,
   "metadata": {},
   "outputs": [],
   "source": [
    "data['Time'] = pd.to_datetime(data['Time'], format='%H:%M')"
   ]
  },
  {
   "cell_type": "code",
   "execution_count": 22,
   "metadata": {},
   "outputs": [
    {
     "data": {
      "text/plain": [
       "Date        datetime64[ns]\n",
       "Time        datetime64[ns]\n",
       "Name                object\n",
       "Messages            object\n",
       "dtype: object"
      ]
     },
     "execution_count": 22,
     "metadata": {},
     "output_type": "execute_result"
    }
   ],
   "source": [
    "data.dtypes"
   ]
  },
  {
   "cell_type": "code",
   "execution_count": 23,
   "metadata": {},
   "outputs": [],
   "source": [
    "data.to_csv(r\"FinalCorrectData.csv\")"
   ]
  },
  {
   "cell_type": "markdown",
   "metadata": {},
   "source": [
    "# Total Number of message by student"
   ]
  },
  {
   "cell_type": "code",
   "execution_count": 24,
   "metadata": {},
   "outputs": [
    {
     "data": {
      "text/html": [
       "<div>\n",
       "<style scoped>\n",
       "    .dataframe tbody tr th:only-of-type {\n",
       "        vertical-align: middle;\n",
       "    }\n",
       "\n",
       "    .dataframe tbody tr th {\n",
       "        vertical-align: top;\n",
       "    }\n",
       "\n",
       "    .dataframe thead th {\n",
       "        text-align: right;\n",
       "    }\n",
       "</style>\n",
       "<table border=\"1\" class=\"dataframe\">\n",
       "  <thead>\n",
       "    <tr style=\"text-align: right;\">\n",
       "      <th></th>\n",
       "      <th>Date</th>\n",
       "      <th>Time</th>\n",
       "      <th>Name</th>\n",
       "      <th>Messages</th>\n",
       "    </tr>\n",
       "  </thead>\n",
       "  <tbody>\n",
       "    <tr>\n",
       "      <th>3</th>\n",
       "      <td>2019-09-04</td>\n",
       "      <td>1900-01-01 20:21:00</td>\n",
       "      <td>jaspreet singh</td>\n",
       "      <td>&lt;Media omitted&gt;</td>\n",
       "    </tr>\n",
       "    <tr>\n",
       "      <th>4</th>\n",
       "      <td>2019-09-04</td>\n",
       "      <td>1900-01-01 20:22:00</td>\n",
       "      <td>jaspreet singh</td>\n",
       "      <td>Hardware required for this course is not that...</td>\n",
       "    </tr>\n",
       "    <tr>\n",
       "      <th>5</th>\n",
       "      <td>2019-09-04</td>\n",
       "      <td>1900-01-01 20:22:00</td>\n",
       "      <td>jaspreet singh</td>\n",
       "      <td>May be our older system work for this course</td>\n",
       "    </tr>\n",
       "    <tr>\n",
       "      <th>6</th>\n",
       "      <td>2019-09-04</td>\n",
       "      <td>1900-01-01 20:27:00</td>\n",
       "      <td>Dharun Canada DA</td>\n",
       "      <td>👀</td>\n",
       "    </tr>\n",
       "    <tr>\n",
       "      <th>7</th>\n",
       "      <td>2019-09-05</td>\n",
       "      <td>1900-01-01 12:34:00</td>\n",
       "      <td>jaspreet singh</td>\n",
       "      <td>Did anyone know where this Maths Test will be...</td>\n",
       "    </tr>\n",
       "  </tbody>\n",
       "</table>\n",
       "</div>"
      ],
      "text/plain": [
       "        Date                Time               Name  \\\n",
       "3 2019-09-04 1900-01-01 20:21:00     jaspreet singh   \n",
       "4 2019-09-04 1900-01-01 20:22:00     jaspreet singh   \n",
       "5 2019-09-04 1900-01-01 20:22:00     jaspreet singh   \n",
       "6 2019-09-04 1900-01-01 20:27:00   Dharun Canada DA   \n",
       "7 2019-09-05 1900-01-01 12:34:00     jaspreet singh   \n",
       "\n",
       "                                            Messages  \n",
       "3                                    <Media omitted>  \n",
       "4   Hardware required for this course is not that...  \n",
       "5       May be our older system work for this course  \n",
       "6                                                  👀  \n",
       "7   Did anyone know where this Maths Test will be...  "
      ]
     },
     "execution_count": 24,
     "metadata": {},
     "output_type": "execute_result"
    }
   ],
   "source": [
    "data.head()"
   ]
  },
  {
   "cell_type": "code",
   "execution_count": 25,
   "metadata": {},
   "outputs": [],
   "source": [
    "data[\"period\"] = data[\"Date\"].astype(str) +\"/\"+ data[\"Time\"].astype(str)\n"
   ]
  },
  {
   "cell_type": "code",
   "execution_count": 26,
   "metadata": {},
   "outputs": [
    {
     "data": {
      "text/html": [
       "<div>\n",
       "<style scoped>\n",
       "    .dataframe tbody tr th:only-of-type {\n",
       "        vertical-align: middle;\n",
       "    }\n",
       "\n",
       "    .dataframe tbody tr th {\n",
       "        vertical-align: top;\n",
       "    }\n",
       "\n",
       "    .dataframe thead th {\n",
       "        text-align: right;\n",
       "    }\n",
       "</style>\n",
       "<table border=\"1\" class=\"dataframe\">\n",
       "  <thead>\n",
       "    <tr style=\"text-align: right;\">\n",
       "      <th></th>\n",
       "      <th>Date</th>\n",
       "      <th>Time</th>\n",
       "      <th>Name</th>\n",
       "      <th>Messages</th>\n",
       "      <th>period</th>\n",
       "    </tr>\n",
       "  </thead>\n",
       "  <tbody>\n",
       "    <tr>\n",
       "      <th>3</th>\n",
       "      <td>2019-09-04</td>\n",
       "      <td>1900-01-01 20:21:00</td>\n",
       "      <td>jaspreet singh</td>\n",
       "      <td>&lt;Media omitted&gt;</td>\n",
       "      <td>2019-09-04/1900-01-01 20:21:00</td>\n",
       "    </tr>\n",
       "    <tr>\n",
       "      <th>4</th>\n",
       "      <td>2019-09-04</td>\n",
       "      <td>1900-01-01 20:22:00</td>\n",
       "      <td>jaspreet singh</td>\n",
       "      <td>Hardware required for this course is not that...</td>\n",
       "      <td>2019-09-04/1900-01-01 20:22:00</td>\n",
       "    </tr>\n",
       "    <tr>\n",
       "      <th>5</th>\n",
       "      <td>2019-09-04</td>\n",
       "      <td>1900-01-01 20:22:00</td>\n",
       "      <td>jaspreet singh</td>\n",
       "      <td>May be our older system work for this course</td>\n",
       "      <td>2019-09-04/1900-01-01 20:22:00</td>\n",
       "    </tr>\n",
       "    <tr>\n",
       "      <th>6</th>\n",
       "      <td>2019-09-04</td>\n",
       "      <td>1900-01-01 20:27:00</td>\n",
       "      <td>Dharun Canada DA</td>\n",
       "      <td>👀</td>\n",
       "      <td>2019-09-04/1900-01-01 20:27:00</td>\n",
       "    </tr>\n",
       "    <tr>\n",
       "      <th>7</th>\n",
       "      <td>2019-09-05</td>\n",
       "      <td>1900-01-01 12:34:00</td>\n",
       "      <td>jaspreet singh</td>\n",
       "      <td>Did anyone know where this Maths Test will be...</td>\n",
       "      <td>2019-09-05/1900-01-01 12:34:00</td>\n",
       "    </tr>\n",
       "  </tbody>\n",
       "</table>\n",
       "</div>"
      ],
      "text/plain": [
       "        Date                Time               Name  \\\n",
       "3 2019-09-04 1900-01-01 20:21:00     jaspreet singh   \n",
       "4 2019-09-04 1900-01-01 20:22:00     jaspreet singh   \n",
       "5 2019-09-04 1900-01-01 20:22:00     jaspreet singh   \n",
       "6 2019-09-04 1900-01-01 20:27:00   Dharun Canada DA   \n",
       "7 2019-09-05 1900-01-01 12:34:00     jaspreet singh   \n",
       "\n",
       "                                            Messages  \\\n",
       "3                                    <Media omitted>   \n",
       "4   Hardware required for this course is not that...   \n",
       "5       May be our older system work for this course   \n",
       "6                                                  👀   \n",
       "7   Did anyone know where this Maths Test will be...   \n",
       "\n",
       "                           period  \n",
       "3  2019-09-04/1900-01-01 20:21:00  \n",
       "4  2019-09-04/1900-01-01 20:22:00  \n",
       "5  2019-09-04/1900-01-01 20:22:00  \n",
       "6  2019-09-04/1900-01-01 20:27:00  \n",
       "7  2019-09-05/1900-01-01 12:34:00  "
      ]
     },
     "execution_count": 26,
     "metadata": {},
     "output_type": "execute_result"
    }
   ],
   "source": [
    "data.head()"
   ]
  },
  {
   "cell_type": "code",
   "execution_count": 27,
   "metadata": {},
   "outputs": [],
   "source": [
    "period = data[\"period\"].to_list()"
   ]
  },
  {
   "cell_type": "code",
   "execution_count": 28,
   "metadata": {},
   "outputs": [],
   "source": [
    "DateTime = []\n",
    "for i in period:\n",
    "    DateTime.append(i[0:10]+\" \"+i[22:])"
   ]
  },
  {
   "cell_type": "code",
   "execution_count": 29,
   "metadata": {},
   "outputs": [],
   "source": [
    "data['Date'] =  pd.to_datetime(DateTime, format='%Y-%m-%d %H:%M:%S')"
   ]
  },
  {
   "cell_type": "code",
   "execution_count": 30,
   "metadata": {},
   "outputs": [],
   "source": [
    "data.drop(\"Time\", axis = 1, inplace =True)"
   ]
  },
  {
   "cell_type": "code",
   "execution_count": 31,
   "metadata": {},
   "outputs": [],
   "source": [
    "data.drop(\"period\", axis = 1, inplace =True)"
   ]
  },
  {
   "cell_type": "code",
   "execution_count": 32,
   "metadata": {},
   "outputs": [],
   "source": [
    "data.reset_index(inplace = True)"
   ]
  },
  {
   "cell_type": "code",
   "execution_count": 33,
   "metadata": {},
   "outputs": [],
   "source": [
    "data.drop(\"index\" , axis =1, inplace = True)"
   ]
  },
  {
   "cell_type": "code",
   "execution_count": 34,
   "metadata": {},
   "outputs": [
    {
     "data": {
      "text/html": [
       "<div>\n",
       "<style scoped>\n",
       "    .dataframe tbody tr th:only-of-type {\n",
       "        vertical-align: middle;\n",
       "    }\n",
       "\n",
       "    .dataframe tbody tr th {\n",
       "        vertical-align: top;\n",
       "    }\n",
       "\n",
       "    .dataframe thead th {\n",
       "        text-align: right;\n",
       "    }\n",
       "</style>\n",
       "<table border=\"1\" class=\"dataframe\">\n",
       "  <thead>\n",
       "    <tr style=\"text-align: right;\">\n",
       "      <th></th>\n",
       "      <th>Date</th>\n",
       "      <th>Name</th>\n",
       "      <th>Messages</th>\n",
       "    </tr>\n",
       "  </thead>\n",
       "  <tbody>\n",
       "    <tr>\n",
       "      <th>0</th>\n",
       "      <td>2019-09-04 20:21:00</td>\n",
       "      <td>jaspreet singh</td>\n",
       "      <td>&lt;Media omitted&gt;</td>\n",
       "    </tr>\n",
       "    <tr>\n",
       "      <th>1</th>\n",
       "      <td>2019-09-04 20:22:00</td>\n",
       "      <td>jaspreet singh</td>\n",
       "      <td>Hardware required for this course is not that...</td>\n",
       "    </tr>\n",
       "    <tr>\n",
       "      <th>2</th>\n",
       "      <td>2019-09-04 20:22:00</td>\n",
       "      <td>jaspreet singh</td>\n",
       "      <td>May be our older system work for this course</td>\n",
       "    </tr>\n",
       "    <tr>\n",
       "      <th>3</th>\n",
       "      <td>2019-09-04 20:27:00</td>\n",
       "      <td>Dharun Canada DA</td>\n",
       "      <td>👀</td>\n",
       "    </tr>\n",
       "    <tr>\n",
       "      <th>4</th>\n",
       "      <td>2019-09-05 12:34:00</td>\n",
       "      <td>jaspreet singh</td>\n",
       "      <td>Did anyone know where this Maths Test will be...</td>\n",
       "    </tr>\n",
       "  </tbody>\n",
       "</table>\n",
       "</div>"
      ],
      "text/plain": [
       "                 Date               Name  \\\n",
       "0 2019-09-04 20:21:00     jaspreet singh   \n",
       "1 2019-09-04 20:22:00     jaspreet singh   \n",
       "2 2019-09-04 20:22:00     jaspreet singh   \n",
       "3 2019-09-04 20:27:00   Dharun Canada DA   \n",
       "4 2019-09-05 12:34:00     jaspreet singh   \n",
       "\n",
       "                                            Messages  \n",
       "0                                    <Media omitted>  \n",
       "1   Hardware required for this course is not that...  \n",
       "2       May be our older system work for this course  \n",
       "3                                                  👀  \n",
       "4   Did anyone know where this Maths Test will be...  "
      ]
     },
     "execution_count": 34,
     "metadata": {},
     "output_type": "execute_result"
    }
   ],
   "source": [
    "data.head()"
   ]
  },
  {
   "cell_type": "code",
   "execution_count": 35,
   "metadata": {},
   "outputs": [],
   "source": [
    "#Weekdays column \n",
    "data['Weekdays'] = data['Date'].dt.day_name()\n"
   ]
  },
  {
   "cell_type": "code",
   "execution_count": 36,
   "metadata": {
    "scrolled": true
   },
   "outputs": [
    {
     "data": {
      "text/html": [
       "<div>\n",
       "<style scoped>\n",
       "    .dataframe tbody tr th:only-of-type {\n",
       "        vertical-align: middle;\n",
       "    }\n",
       "\n",
       "    .dataframe tbody tr th {\n",
       "        vertical-align: top;\n",
       "    }\n",
       "\n",
       "    .dataframe thead th {\n",
       "        text-align: right;\n",
       "    }\n",
       "</style>\n",
       "<table border=\"1\" class=\"dataframe\">\n",
       "  <thead>\n",
       "    <tr style=\"text-align: right;\">\n",
       "      <th></th>\n",
       "      <th>Date</th>\n",
       "      <th>Name</th>\n",
       "      <th>Messages</th>\n",
       "      <th>Weekdays</th>\n",
       "    </tr>\n",
       "  </thead>\n",
       "  <tbody>\n",
       "    <tr>\n",
       "      <th>11832</th>\n",
       "      <td>2020-06-24 19:19:00</td>\n",
       "      <td>jaspreet singh</td>\n",
       "      <td>&lt;Media omitted&gt;</td>\n",
       "      <td>Wednesday</td>\n",
       "    </tr>\n",
       "    <tr>\n",
       "      <th>11833</th>\n",
       "      <td>2020-06-24 19:40:00</td>\n",
       "      <td>David Vazquez Data Analytics</td>\n",
       "      <td>Does it include de bokeh slider? 😛</td>\n",
       "      <td>Wednesday</td>\n",
       "    </tr>\n",
       "    <tr>\n",
       "      <th>11834</th>\n",
       "      <td>2020-06-24 19:40:00</td>\n",
       "      <td>jaspreet singh</td>\n",
       "      <td>no idea</td>\n",
       "      <td>Wednesday</td>\n",
       "    </tr>\n",
       "    <tr>\n",
       "      <th>11835</th>\n",
       "      <td>2020-06-24 19:43:00</td>\n",
       "      <td>Vasu DA Lanagara</td>\n",
       "      <td>Send me the Code if slider includes😂</td>\n",
       "      <td>Wednesday</td>\n",
       "    </tr>\n",
       "    <tr>\n",
       "      <th>11836</th>\n",
       "      <td>2020-06-24 20:08:00</td>\n",
       "      <td>Kiran DA</td>\n",
       "      <td>Hi guys need php laravel developer and html d...</td>\n",
       "      <td>Wednesday</td>\n",
       "    </tr>\n",
       "  </tbody>\n",
       "</table>\n",
       "</div>"
      ],
      "text/plain": [
       "                     Date                           Name  \\\n",
       "11832 2020-06-24 19:19:00                 jaspreet singh   \n",
       "11833 2020-06-24 19:40:00   David Vazquez Data Analytics   \n",
       "11834 2020-06-24 19:40:00                 jaspreet singh   \n",
       "11835 2020-06-24 19:43:00               Vasu DA Lanagara   \n",
       "11836 2020-06-24 20:08:00                       Kiran DA   \n",
       "\n",
       "                                                Messages   Weekdays  \n",
       "11832                                    <Media omitted>  Wednesday  \n",
       "11833                 Does it include de bokeh slider? 😛  Wednesday  \n",
       "11834                                            no idea  Wednesday  \n",
       "11835               Send me the Code if slider includes😂  Wednesday  \n",
       "11836   Hi guys need php laravel developer and html d...  Wednesday  "
      ]
     },
     "execution_count": 36,
     "metadata": {},
     "output_type": "execute_result"
    }
   ],
   "source": [
    "data.tail()"
   ]
  },
  {
   "cell_type": "code",
   "execution_count": 37,
   "metadata": {},
   "outputs": [],
   "source": [
    "data.to_csv(r\"last.csv\")"
   ]
  },
  {
   "cell_type": "code",
   "execution_count": 36,
   "metadata": {},
   "outputs": [],
   "source": [
    "#Groupby by names to get total number of messages \n",
    "Total_number_of_messages=pd.DataFrame(data.groupby(\"Name\")[\"Messages\"].nunique())\n",
    "\n",
    "#Creating a sorted dataframe \n",
    "Total_number_of_messages =pd.DataFrame(Total_number_of_messages[\"Messages\"].sort_values(ascending=True))"
   ]
  },
  {
   "cell_type": "code",
   "execution_count": 61,
   "metadata": {
    "scrolled": true
   },
   "outputs": [
    {
     "data": {
      "image/png": "[encoded data removed]",
      "text/plain": [
       "<Figure size 1080x720 with 1 Axes>"
      ]
     },
     "metadata": {
      "needs_background": "light"
     },
     "output_type": "display_data"
    }
   ],
   "source": [
    "# Simple horizontal Plot\n",
    "fig = plt.figure(figsize=(15,10))\n",
    "ax = fig.add_axes([0,0,1,1])\n",
    "ax.barh(Total_number_of_messages.index,Total_number_of_messages.Messages)\n",
    "ax.spines['right'].set_visible(True)\n",
    "ax.spines['top'].set_visible(True)\n",
    "ax.spines['left'].set_visible(True)\n",
    "ax.spines['bottom'].set_visible(True)\n",
    "plt.show()"
   ]
  },
  {
   "cell_type": "code",
   "execution_count": 38,
   "metadata": {
    "scrolled": true
   },
   "outputs": [
    {
     "data": {
      "text/plain": [
       "[1126, 1862, 849, 922, 2670, 2629, 1779]"
      ]
     },
     "execution_count": 38,
     "metadata": {},
     "output_type": "execute_result"
    }
   ],
   "source": [
    "list(data.groupby('Weekdays').Messages.count())"
   ]
  },
  {
   "cell_type": "code",
   "execution_count": 39,
   "metadata": {
    "scrolled": true
   },
   "outputs": [
    {
     "data": {
      "text/plain": [
       "{'Sunday': 0,\n",
       " 'Monday': 1,\n",
       " 'Tuesday': 2,\n",
       " 'Wednesday': 3,\n",
       " 'Thursday': 4,\n",
       " 'Friday': 5,\n",
       " 'Saturday': 6}"
      ]
     },
     "execution_count": 39,
     "metadata": {},
     "output_type": "execute_result"
    }
   ],
   "source": [
    "data_Weekdays_Count=pd.DataFrame(data.groupby('Weekdays').Messages.count())\n",
    "sorter = ['Sunday', 'Monday', 'Tuesday', 'Wednesday', 'Thursday', 'Friday', 'Saturday']\n",
    "sorterIndex = dict(zip(sorter,range(len(sorter))))\n",
    "sorterIndex"
   ]
  },
  {
   "cell_type": "code",
   "execution_count": 40,
   "metadata": {},
   "outputs": [],
   "source": [
    "data_Weekdays_Count['Weekday'] = data_Weekdays_Count.index\n",
    "data_Weekdays_Count['Weekday'] = data_Weekdays_Count['Weekday'].map(sorterIndex)\n",
    "data_Weekdays_Count.sort_values('Weekday',inplace=True)"
   ]
  },
  {
   "cell_type": "code",
   "execution_count": 41,
   "metadata": {
    "scrolled": true
   },
   "outputs": [
    {
     "data": {
      "text/html": [
       "<div>\n",
       "<style scoped>\n",
       "    .dataframe tbody tr th:only-of-type {\n",
       "        vertical-align: middle;\n",
       "    }\n",
       "\n",
       "    .dataframe tbody tr th {\n",
       "        vertical-align: top;\n",
       "    }\n",
       "\n",
       "    .dataframe thead th {\n",
       "        text-align: right;\n",
       "    }\n",
       "</style>\n",
       "<table border=\"1\" class=\"dataframe\">\n",
       "  <thead>\n",
       "    <tr style=\"text-align: right;\">\n",
       "      <th></th>\n",
       "      <th>Messages</th>\n",
       "      <th>Weekday</th>\n",
       "    </tr>\n",
       "    <tr>\n",
       "      <th>Weekdays</th>\n",
       "      <th></th>\n",
       "      <th></th>\n",
       "    </tr>\n",
       "  </thead>\n",
       "  <tbody>\n",
       "    <tr>\n",
       "      <th>Sunday</th>\n",
       "      <td>922</td>\n",
       "      <td>0</td>\n",
       "    </tr>\n",
       "    <tr>\n",
       "      <th>Monday</th>\n",
       "      <td>1862</td>\n",
       "      <td>1</td>\n",
       "    </tr>\n",
       "    <tr>\n",
       "      <th>Tuesday</th>\n",
       "      <td>2629</td>\n",
       "      <td>2</td>\n",
       "    </tr>\n",
       "    <tr>\n",
       "      <th>Wednesday</th>\n",
       "      <td>1779</td>\n",
       "      <td>3</td>\n",
       "    </tr>\n",
       "    <tr>\n",
       "      <th>Thursday</th>\n",
       "      <td>2670</td>\n",
       "      <td>4</td>\n",
       "    </tr>\n",
       "    <tr>\n",
       "      <th>Friday</th>\n",
       "      <td>1126</td>\n",
       "      <td>5</td>\n",
       "    </tr>\n",
       "    <tr>\n",
       "      <th>Saturday</th>\n",
       "      <td>849</td>\n",
       "      <td>6</td>\n",
       "    </tr>\n",
       "  </tbody>\n",
       "</table>\n",
       "</div>"
      ],
      "text/plain": [
       "           Messages  Weekday\n",
       "Weekdays                    \n",
       "Sunday          922        0\n",
       "Monday         1862        1\n",
       "Tuesday        2629        2\n",
       "Wednesday      1779        3\n",
       "Thursday       2670        4\n",
       "Friday         1126        5\n",
       "Saturday        849        6"
      ]
     },
     "execution_count": 41,
     "metadata": {},
     "output_type": "execute_result"
    }
   ],
   "source": [
    "data_Weekdays_Count"
   ]
  },
  {
   "cell_type": "code",
   "execution_count": 42,
   "metadata": {
    "scrolled": true
   },
   "outputs": [
    {
     "data": {
      "image/png": "[encoded data removed]",
      "text/plain": [
       "<Figure size 1080x720 with 1 Axes>"
      ]
     },
     "metadata": {
      "needs_background": "light"
     },
     "output_type": "display_data"
    }
   ],
   "source": [
    "fig = plt.figure(figsize=(15,10))\n",
    "ax = fig.add_axes([0,0,1,1])\n",
    "ax.bar(data_Weekdays_Count.index,data_Weekdays_Count.Messages)\n",
    "plt.show()"
   ]
  },
  {
   "cell_type": "code",
   "execution_count": 43,
   "metadata": {},
   "outputs": [
    {
     "data": {
      "text/plain": [
       "Name\n",
       " Aditi Jaswal Langara DA Canada    117\n",
       " Amir DA                           270\n",
       " Arshpreet Singh Lanagar DA        222\n",
       " Beth DA                            59\n",
       " Cici DA Langara                   137\n",
       " David Vazquez Data Analytics      130\n",
       " Dharun Canada DA                  522\n",
       " Edward DA Langara                  61\n",
       " Harshad DA Langara                169\n",
       " Jasman DA Lanagara                241\n",
       " Kania DA Langara                  177\n",
       " Kiran DA                          240\n",
       " Kiran DA Langara                  112\n",
       " Kirra DA LANGARA                  778\n",
       " Manoj DA Langara                   34\n",
       " Naval DA Langara                  247\n",
       " Navjot DA                          47\n",
       " Niki DA Langara                    25\n",
       " Nikita Batra DA                   112\n",
       " Rashman DA                        132\n",
       " Reddy DA Langara Vivek             64\n",
       " Roberta DA Langara                776\n",
       " Tuli Data Analytics Langara       230\n",
       " Vasu DA Lanagara                  302\n",
       " Ved DA Langara                    220\n",
       " jaspreet singh                    378\n",
       "Name: Messages, dtype: int64"
      ]
     },
     "execution_count": 43,
     "metadata": {},
     "output_type": "execute_result"
    }
   ],
   "source": [
    "#term 2\n",
    "data[(data.Date.dt.month>=1) & (data.Date.dt.month<=4)].groupby('Name').Messages.count()"
   ]
  },
  {
   "cell_type": "code",
   "execution_count": 44,
   "metadata": {},
   "outputs": [
    {
     "data": {
      "text/plain": [
       "Name\n",
       " Aditi Jaswal Langara DA Canada     52\n",
       " Amir DA                           231\n",
       " Arshpreet Singh Lanagar DA        199\n",
       " Beth DA                            35\n",
       " Cici DA Langara                   231\n",
       " David Vazquez Data Analytics       60\n",
       " Dharun Canada DA                  195\n",
       " Edward DA Langara                  41\n",
       " Harshad DA Langara                113\n",
       " Jasman DA Lanagara                187\n",
       " Kania DA Langara                   92\n",
       " Kiran DA                          268\n",
       " Kiran DA Langara                   85\n",
       " Kirra DA LANGARA                  475\n",
       " Manoj DA Langara                   29\n",
       " Naval DA Langara                  151\n",
       " Navjot DA                          35\n",
       " Niki DA Langara                    58\n",
       " Nikita Batra DA                   151\n",
       " Rashman DA                        178\n",
       " Reddy DA Langara Vivek             71\n",
       " Roberta DA Langara                571\n",
       " Tuli Data Analytics Langara       198\n",
       " Vasu DA Lanagara                  335\n",
       " Ved DA Langara                    125\n",
       " jaspreet singh                    273\n",
       "Name: Messages, dtype: int64"
      ]
     },
     "execution_count": 44,
     "metadata": {},
     "output_type": "execute_result"
    }
   ],
   "source": [
    "#Term 3\n",
    "data[(data.Date.dt.month>=5) & (data.Date.dt.month<=6)].groupby('Name').Messages.count()"
   ]
  },
  {
   "cell_type": "markdown",
   "metadata": {},
   "source": [
    "# Term 1"
   ]
  },
  {
   "cell_type": "code",
   "execution_count": 45,
   "metadata": {},
   "outputs": [
    {
     "data": {
      "image/png": "[encoded data removed]",
      "text/plain": [
       "<Figure size 1080x720 with 1 Axes>"
      ]
     },
     "metadata": {
      "needs_background": "light"
     },
     "output_type": "display_data"
    }
   ],
   "source": [
    "#Groupby by names to get total number of messages in term1\n",
    "Total_number_of_messages_term1=pd.DataFrame(data[(data.Date.dt.month>=9) & (data.Date.dt.month<=12) &\n",
    "                                                (data.Date.dt.year == 2019)].groupby('Name').Messages.count())\n",
    "\n",
    "#Creating a sorted dataframe in term1\n",
    "Total_number_of_messages_term1 =pd.DataFrame(Total_number_of_messages_term1[\"Messages\"].sort_values(ascending=True))\n",
    "\n",
    "# Simple horizontal Plot for term1\n",
    "fig = plt.figure(figsize=(15,10))\n",
    "ax = fig.add_axes([0,0,1,1])\n",
    "ax.barh(Total_number_of_messages_term1.index,Total_number_of_messages_term1.Messages)\n",
    "plt.show()"
   ]
  },
  {
   "cell_type": "markdown",
   "metadata": {},
   "source": [
    "# Term 2"
   ]
  },
  {
   "cell_type": "code",
   "execution_count": 46,
   "metadata": {},
   "outputs": [
    {
     "data": {
      "image/png": "[encoded data removed]",
      "text/plain": [
       "<Figure size 1080x720 with 1 Axes>"
      ]
     },
     "metadata": {
      "needs_background": "light"
     },
     "output_type": "display_data"
    }
   ],
   "source": [
    "#Groupby by names to get total number of messages in term2\n",
    "Total_number_of_messages_term2=pd.DataFrame(data[(data.Date.dt.month>=1) & (data.Date.dt.month<=4) &\n",
    "                                                (data.Date.dt.year == 2020)].groupby('Name').Messages.count())\n",
    "\n",
    "#Creating a sorted dataframe in term1\n",
    "Total_number_of_messages_term2 =pd.DataFrame(Total_number_of_messages_term2[\"Messages\"].sort_values(ascending=True))\n",
    "\n",
    "# Simple horizontal Plot for term2\n",
    "fig = plt.figure(figsize=(15,10))\n",
    "ax = fig.add_axes([0,0,1,1])\n",
    "ax.barh(Total_number_of_messages_term2.index,Total_number_of_messages_term2.Messages)\n",
    "plt.show()"
   ]
  },
  {
   "cell_type": "markdown",
   "metadata": {},
   "source": [
    "# Term3"
   ]
  },
  {
   "cell_type": "code",
   "execution_count": 47,
   "metadata": {},
   "outputs": [
    {
     "data": {
      "image/png": "[encoded data removed]",
      "text/plain": [
       "<Figure size 1080x720 with 1 Axes>"
      ]
     },
     "metadata": {
      "needs_background": "light"
     },
     "output_type": "display_data"
    }
   ],
   "source": [
    "#Groupby by names to get total number of messages in term3\n",
    "Total_number_of_messages_term3=pd.DataFrame(data[(data.Date.dt.month>=5) & (data.Date.dt.month<=6) &\n",
    "                                                (data.Date.dt.year == 2020)].groupby('Name').Messages.count())\n",
    "\n",
    "#Creating a sorted dataframe in term3\n",
    "Total_number_of_messages_term3 =pd.DataFrame(Total_number_of_messages_term3[\"Messages\"].sort_values(ascending=True))\n",
    "\n",
    "# Simple horizontal Plot for term3\n",
    "fig = plt.figure(figsize=(15,10))\n",
    "ax = fig.add_axes([0,0,1,1])\n",
    "ax.barh(Total_number_of_messages_term3.index,Total_number_of_messages_term3.Messages)\n",
    "plt.show()"
   ]
  },
  {
   "cell_type": "markdown",
   "metadata": {},
   "source": [
    "# Number of messages during CPSC lecture"
   ]
  },
  {
   "cell_type": "code",
   "execution_count": 48,
   "metadata": {},
   "outputs": [
    {
     "data": {
      "image/png": "[encoded data removed]",
      "text/plain": [
       "<Figure size 1080x720 with 1 Axes>"
      ]
     },
     "metadata": {
      "needs_background": "light"
     },
     "output_type": "display_data"
    }
   ],
   "source": [
    "#Groupby by names to get total number of messages in term3\n",
    "Total_number_of_messages_term3=pd.DataFrame(data[(data.Date.dt.month>=5) & (data.Date.dt.month<=6) &\n",
    "                                                (data.Date.dt.year == 2020) & \n",
    "                                                 (data.Weekdays == \"Monday\") &\n",
    "                                                ((data.Date.dt.hour>=16)&(data.Date.dt.minute>=30)) &\n",
    "                                                ((data.Date.dt.hour<=18)&(data.Date.dt.minute<=30))].groupby('Name').Messages.count())\n",
    "\n",
    "#Creating a sorted dataframe in term3\n",
    "Total_number_of_messages_term3 =pd.DataFrame(Total_number_of_messages_term3[\"Messages\"].sort_values(ascending=True))\n",
    "\n",
    "# Simple horizontal Plot for term3\n",
    "fig = plt.figure(figsize=(15,10))\n",
    "ax = fig.add_axes([0,0,1,1])\n",
    "ax.barh(Total_number_of_messages_term3.index,Total_number_of_messages_term3.Messages)\n",
    "plt.show()"
   ]
  },
  {
   "cell_type": "code",
   "execution_count": 49,
   "metadata": {},
   "outputs": [
    {
     "data": {
      "text/html": [
       "<div>\n",
       "<style scoped>\n",
       "    .dataframe tbody tr th:only-of-type {\n",
       "        vertical-align: middle;\n",
       "    }\n",
       "\n",
       "    .dataframe tbody tr th {\n",
       "        vertical-align: top;\n",
       "    }\n",
       "\n",
       "    .dataframe thead th {\n",
       "        text-align: right;\n",
       "    }\n",
       "</style>\n",
       "<table border=\"1\" class=\"dataframe\">\n",
       "  <thead>\n",
       "    <tr style=\"text-align: right;\">\n",
       "      <th></th>\n",
       "      <th>Date</th>\n",
       "      <th>Name</th>\n",
       "      <th>Messages</th>\n",
       "      <th>Weekdays</th>\n",
       "    </tr>\n",
       "  </thead>\n",
       "  <tbody>\n",
       "    <tr>\n",
       "      <th>7446</th>\n",
       "      <td>2020-05-04 18:30:00</td>\n",
       "      <td>Dharun Canada DA</td>\n",
       "      <td>I feel badd</td>\n",
       "      <td>Monday</td>\n",
       "    </tr>\n",
       "    <tr>\n",
       "      <th>7447</th>\n",
       "      <td>2020-05-04 18:30:00</td>\n",
       "      <td>Dharun Canada DA</td>\n",
       "      <td>should we turn on the video?</td>\n",
       "      <td>Monday</td>\n",
       "    </tr>\n",
       "    <tr>\n",
       "      <th>7978</th>\n",
       "      <td>2020-05-11 16:30:00</td>\n",
       "      <td>Kirra DA LANGARA</td>\n",
       "      <td>whats the link for class?</td>\n",
       "      <td>Monday</td>\n",
       "    </tr>\n",
       "    <tr>\n",
       "      <th>7979</th>\n",
       "      <td>2020-05-11 16:30:00</td>\n",
       "      <td>Navjot DA</td>\n",
       "      <td>988 105 6838</td>\n",
       "      <td>Monday</td>\n",
       "    </tr>\n",
       "    <tr>\n",
       "      <th>7980</th>\n",
       "      <td>2020-05-11 16:30:00</td>\n",
       "      <td>Navjot DA</td>\n",
       "      <td>Zoom I'd</td>\n",
       "      <td>Monday</td>\n",
       "    </tr>\n",
       "    <tr>\n",
       "      <th>8664</th>\n",
       "      <td>2020-05-18 18:30:00</td>\n",
       "      <td>Reddy DA Langara Vivek</td>\n",
       "      <td>&lt;Media omitted&gt;</td>\n",
       "      <td>Monday</td>\n",
       "    </tr>\n",
       "    <tr>\n",
       "      <th>10628</th>\n",
       "      <td>2020-06-15 17:30:00</td>\n",
       "      <td>Rashman DA</td>\n",
       "      <td>Ohk</td>\n",
       "      <td>Monday</td>\n",
       "    </tr>\n",
       "    <tr>\n",
       "      <th>10629</th>\n",
       "      <td>2020-06-15 17:30:00</td>\n",
       "      <td>Vasu DA Lanagara</td>\n",
       "      <td>If we take then It is for four month or for year</td>\n",
       "      <td>Monday</td>\n",
       "    </tr>\n",
       "    <tr>\n",
       "      <th>10990</th>\n",
       "      <td>2020-06-22 16:30:00</td>\n",
       "      <td>Amir DA</td>\n",
       "      <td>here comes the Monica evaluation</td>\n",
       "      <td>Monday</td>\n",
       "    </tr>\n",
       "    <tr>\n",
       "      <th>11112</th>\n",
       "      <td>2020-06-22 17:30:00</td>\n",
       "      <td>Amir DA</td>\n",
       "      <td>we’re waiting</td>\n",
       "      <td>Monday</td>\n",
       "    </tr>\n",
       "    <tr>\n",
       "      <th>11113</th>\n",
       "      <td>2020-06-22 17:30:00</td>\n",
       "      <td>Vasu DA Lanagara</td>\n",
       "      <td>who is sacrificing his life</td>\n",
       "      <td>Monday</td>\n",
       "    </tr>\n",
       "    <tr>\n",
       "      <th>11114</th>\n",
       "      <td>2020-06-22 17:30:00</td>\n",
       "      <td>Kirra DA LANGARA</td>\n",
       "      <td>if someone is sacrificing pick d</td>\n",
       "      <td>Monday</td>\n",
       "    </tr>\n",
       "    <tr>\n",
       "      <th>11318</th>\n",
       "      <td>2020-06-22 18:30:00</td>\n",
       "      <td>Tuli Data Analytics Langara</td>\n",
       "      <td>micheal in the house</td>\n",
       "      <td>Monday</td>\n",
       "    </tr>\n",
       "    <tr>\n",
       "      <th>11319</th>\n",
       "      <td>2020-06-22 18:30:00</td>\n",
       "      <td>Kirra DA LANGARA</td>\n",
       "      <td>guys</td>\n",
       "      <td>Monday</td>\n",
       "    </tr>\n",
       "    <tr>\n",
       "      <th>11320</th>\n",
       "      <td>2020-06-22 18:30:00</td>\n",
       "      <td>Kirra DA LANGARA</td>\n",
       "      <td>michael is here</td>\n",
       "      <td>Monday</td>\n",
       "    </tr>\n",
       "    <tr>\n",
       "      <th>11321</th>\n",
       "      <td>2020-06-22 18:30:00</td>\n",
       "      <td>Cici DA Langara</td>\n",
       "      <td>Michael is here guys</td>\n",
       "      <td>Monday</td>\n",
       "    </tr>\n",
       "    <tr>\n",
       "      <th>11322</th>\n",
       "      <td>2020-06-22 18:30:00</td>\n",
       "      <td>Kirra DA LANGARA</td>\n",
       "      <td>everyone join</td>\n",
       "      <td>Monday</td>\n",
       "    </tr>\n",
       "  </tbody>\n",
       "</table>\n",
       "</div>"
      ],
      "text/plain": [
       "                     Date                          Name  \\\n",
       "7446  2020-05-04 18:30:00              Dharun Canada DA   \n",
       "7447  2020-05-04 18:30:00              Dharun Canada DA   \n",
       "7978  2020-05-11 16:30:00              Kirra DA LANGARA   \n",
       "7979  2020-05-11 16:30:00                     Navjot DA   \n",
       "7980  2020-05-11 16:30:00                     Navjot DA   \n",
       "8664  2020-05-18 18:30:00        Reddy DA Langara Vivek   \n",
       "10628 2020-06-15 17:30:00                    Rashman DA   \n",
       "10629 2020-06-15 17:30:00              Vasu DA Lanagara   \n",
       "10990 2020-06-22 16:30:00                       Amir DA   \n",
       "11112 2020-06-22 17:30:00                       Amir DA   \n",
       "11113 2020-06-22 17:30:00              Vasu DA Lanagara   \n",
       "11114 2020-06-22 17:30:00              Kirra DA LANGARA   \n",
       "11318 2020-06-22 18:30:00   Tuli Data Analytics Langara   \n",
       "11319 2020-06-22 18:30:00              Kirra DA LANGARA   \n",
       "11320 2020-06-22 18:30:00              Kirra DA LANGARA   \n",
       "11321 2020-06-22 18:30:00               Cici DA Langara   \n",
       "11322 2020-06-22 18:30:00              Kirra DA LANGARA   \n",
       "\n",
       "                                                Messages Weekdays  \n",
       "7446                                         I feel badd   Monday  \n",
       "7447                        should we turn on the video?   Monday  \n",
       "7978                           whats the link for class?   Monday  \n",
       "7979                                        988 105 6838   Monday  \n",
       "7980                                            Zoom I'd   Monday  \n",
       "8664                                     <Media omitted>   Monday  \n",
       "10628                                                Ohk   Monday  \n",
       "10629   If we take then It is for four month or for year   Monday  \n",
       "10990                   here comes the Monica evaluation   Monday  \n",
       "11112                                      we’re waiting   Monday  \n",
       "11113                        who is sacrificing his life   Monday  \n",
       "11114                   if someone is sacrificing pick d   Monday  \n",
       "11318                               micheal in the house   Monday  \n",
       "11319                                               guys   Monday  \n",
       "11320                                    michael is here   Monday  \n",
       "11321                               Michael is here guys   Monday  \n",
       "11322                                      everyone join   Monday  "
      ]
     },
     "execution_count": 49,
     "metadata": {},
     "output_type": "execute_result"
    }
   ],
   "source": [
    "data[(data.Date.dt.month>=5) & (data.Date.dt.month<=6) &\n",
    "                                                (data.Date.dt.year == 2020) & \n",
    "                                                 (data.Weekdays == \"Monday\") &\n",
    "                                                ((data.Date.dt.hour>=16)&(data.Date.dt.minute>=30)) &\n",
    "                                                ((data.Date.dt.hour<=18)&(data.Date.dt.minute<=30))]"
   ]
  },
  {
   "cell_type": "markdown",
   "metadata": {},
   "source": [
    "# Number of message during CPSC Lab"
   ]
  },
  {
   "cell_type": "code",
   "execution_count": 50,
   "metadata": {},
   "outputs": [
    {
     "data": {
      "image/png": "[encoded data removed]",
      "text/plain": [
       "<Figure size 1080x720 with 1 Axes>"
      ]
     },
     "metadata": {
      "needs_background": "light"
     },
     "output_type": "display_data"
    }
   ],
   "source": [
    "#Groupby by names to get total number of messages in term3\n",
    "Total_number_of_messages_term3=pd.DataFrame(data[(data.Date.dt.month>=5) & (data.Date.dt.month<=6) &\n",
    "                                                (data.Date.dt.year == 2020) & \n",
    "                                                 (data.Weekdays == \"Wednesday\") &\n",
    "                                                (data.Date.dt.hour>=16) &\n",
    "                                                (data.Date.dt.hour<=18)].groupby('Name').Messages.count())\n",
    "\n",
    "#Creating a sorted dataframe in term3\n",
    "Total_number_of_messages_term3 =pd.DataFrame(Total_number_of_messages_term3[\"Messages\"].sort_values(ascending=True))\n",
    "\n",
    "# Simple horizontal Plot for term3\n",
    "fig = plt.figure(figsize=(15,10))\n",
    "ax = fig.add_axes([0,0,1,1])\n",
    "ax.barh(Total_number_of_messages_term3.index,Total_number_of_messages_term3.Messages)\n",
    "plt.show()"
   ]
  },
  {
   "cell_type": "markdown",
   "metadata": {},
   "source": [
    "# Number of Messages during DANA 4830"
   ]
  },
  {
   "cell_type": "code",
   "execution_count": 51,
   "metadata": {},
   "outputs": [
    {
     "data": {
      "image/png": "[encoded data removed]",
      "text/plain": [
       "<Figure size 1080x720 with 1 Axes>"
      ]
     },
     "metadata": {
      "needs_background": "light"
     },
     "output_type": "display_data"
    }
   ],
   "source": [
    "#Groupby by names to get total number of messages in term3\n",
    "Total_number_of_messages_term3=pd.DataFrame(data[(data.Date.dt.month>=5) & (data.Date.dt.month<=6) &\n",
    "                                                (data.Date.dt.year == 2020) & \n",
    "                                                 ((data.Weekdays == \"Tuesday\")|(data.Weekdays == \"Thursday\")) &\n",
    "                                                (data.Date.dt.hour>=18) &\n",
    "                                                (data.Date.dt.hour<=20)].groupby('Name').Messages.count())\n",
    "\n",
    "#Creating a sorted dataframe in term3\n",
    "Total_number_of_messages_term3 =pd.DataFrame(Total_number_of_messages_term3[\"Messages\"].sort_values(ascending=True))\n",
    "\n",
    "# Simple horizontal Plot for term3\n",
    "fig = plt.figure(figsize=(15,10))\n",
    "ax = fig.add_axes([0,0,1,1])\n",
    "ax.barh(Total_number_of_messages_term3.index,Total_number_of_messages_term3.Messages)\n",
    "plt.show()"
   ]
  },
  {
   "cell_type": "code",
   "execution_count": null,
   "metadata": {},
   "outputs": [],
   "source": []
  }
 ],
 "metadata": {
  "kernelspec": {
   "display_name": "Python 3",
   "language": "python",
   "name": "python3"
  },
  "language_info": {
   "codemirror_mode": {
    "name": "ipython",
    "version": 3
   },
   "file_extension": ".py",
   "mimetype": "text/x-python",
   "name": "python",
   "nbconvert_exporter": "python",
   "pygments_lexer": "ipython3",
   "version": "3.7.6"
  }
 },
 "nbformat": 4,
 "nbformat_minor": 4
}
