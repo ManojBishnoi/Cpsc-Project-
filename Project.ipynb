{
 "cells": [
  {
   "cell_type": "code",
   "execution_count": 113,
   "metadata": {},
   "outputs": [],
   "source": [
    "#import necessory file \n",
    "import pandas as pd \n",
    "import numpy as np\n",
    "import matplotlib.pyplot as plt"
   ]
  },
  {
   "cell_type": "code",
   "execution_count": 114,
   "metadata": {},
   "outputs": [
    {
     "name": "stderr",
     "output_type": "stream",
     "text": [
      "b'Skipping line 71: expected 2 fields, saw 3\\nSkipping line 99: expected 2 fields, saw 3\\nSkipping line 100: expected 2 fields, saw 3\\nSkipping line 119: expected 2 fields, saw 3\\nSkipping line 135: expected 2 fields, saw 3\\nSkipping line 155: expected 2 fields, saw 3\\nSkipping line 156: expected 2 fields, saw 3\\nSkipping line 174: expected 2 fields, saw 3\\nSkipping line 211: expected 2 fields, saw 3\\nSkipping line 213: expected 2 fields, saw 3\\nSkipping line 215: expected 2 fields, saw 3\\nSkipping line 217: expected 2 fields, saw 3\\nSkipping line 218: expected 2 fields, saw 3\\nSkipping line 223: expected 2 fields, saw 3\\nSkipping line 225: expected 2 fields, saw 3\\nSkipping line 227: expected 2 fields, saw 3\\nSkipping line 228: expected 2 fields, saw 3\\nSkipping line 229: expected 2 fields, saw 3\\nSkipping line 230: expected 2 fields, saw 3\\nSkipping line 232: expected 2 fields, saw 3\\nSkipping line 238: expected 2 fields, saw 3\\nSkipping line 239: expected 2 fields, saw 3\\nSkipping line 241: expected 2 fields, saw 3\\nSkipping line 257: expected 2 fields, saw 3\\nSkipping line 306: expected 2 fields, saw 3\\nSkipping line 313: expected 2 fields, saw 3\\nSkipping line 333: expected 2 fields, saw 3\\nSkipping line 334: expected 2 fields, saw 3\\nSkipping line 336: expected 2 fields, saw 3\\nSkipping line 337: expected 2 fields, saw 3\\nSkipping line 373: expected 2 fields, saw 4\\nSkipping line 384: expected 2 fields, saw 3\\nSkipping line 390: expected 2 fields, saw 3\\nSkipping line 393: expected 2 fields, saw 3\\nSkipping line 398: expected 2 fields, saw 3\\nSkipping line 401: expected 2 fields, saw 3\\nSkipping line 418: expected 2 fields, saw 3\\nSkipping line 438: expected 2 fields, saw 3\\nSkipping line 440: expected 2 fields, saw 3\\nSkipping line 445: expected 2 fields, saw 3\\nSkipping line 450: expected 2 fields, saw 3\\nSkipping line 472: expected 2 fields, saw 3\\nSkipping line 474: expected 2 fields, saw 3\\nSkipping line 477: expected 2 fields, saw 3\\nSkipping line 504: expected 2 fields, saw 3\\nSkipping line 560: expected 2 fields, saw 3\\nSkipping line 581: expected 2 fields, saw 3\\nSkipping line 594: expected 2 fields, saw 3\\nSkipping line 595: expected 2 fields, saw 4\\nSkipping line 641: expected 2 fields, saw 3\\nSkipping line 669: expected 2 fields, saw 3\\nSkipping line 676: expected 2 fields, saw 3\\nSkipping line 690: expected 2 fields, saw 3\\nSkipping line 698: expected 2 fields, saw 3\\nSkipping line 713: expected 2 fields, saw 3\\nSkipping line 734: expected 2 fields, saw 3\\nSkipping line 746: expected 2 fields, saw 3\\nSkipping line 748: expected 2 fields, saw 3\\nSkipping line 772: expected 2 fields, saw 3\\nSkipping line 786: expected 2 fields, saw 3\\nSkipping line 788: expected 2 fields, saw 3\\nSkipping line 812: expected 2 fields, saw 3\\nSkipping line 813: expected 2 fields, saw 3\\nSkipping line 814: expected 2 fields, saw 3\\nSkipping line 839: expected 2 fields, saw 3\\nSkipping line 841: expected 2 fields, saw 3\\nSkipping line 845: expected 2 fields, saw 3\\nSkipping line 850: expected 2 fields, saw 3\\nSkipping line 890: expected 2 fields, saw 4\\nSkipping line 910: expected 2 fields, saw 3\\nSkipping line 914: expected 2 fields, saw 3\\nSkipping line 962: expected 2 fields, saw 4\\nSkipping line 989: expected 2 fields, saw 3\\nSkipping line 990: expected 2 fields, saw 3\\nSkipping line 1004: expected 2 fields, saw 3\\nSkipping line 1016: expected 2 fields, saw 3\\nSkipping line 1018: expected 2 fields, saw 3\\nSkipping line 1023: expected 2 fields, saw 3\\nSkipping line 1031: expected 2 fields, saw 3\\nSkipping line 1083: expected 2 fields, saw 3\\nSkipping line 1090: expected 2 fields, saw 3\\nSkipping line 1092: expected 2 fields, saw 3\\nSkipping line 1106: expected 2 fields, saw 3\\nSkipping line 1143: expected 2 fields, saw 3\\nSkipping line 1147: expected 2 fields, saw 4\\nSkipping line 1174: expected 2 fields, saw 3\\nSkipping line 1180: expected 2 fields, saw 3\\nSkipping line 1185: expected 2 fields, saw 3\\nSkipping line 1191: expected 2 fields, saw 3\\nSkipping line 1196: expected 2 fields, saw 4\\nSkipping line 1216: expected 2 fields, saw 3\\nSkipping line 1254: expected 2 fields, saw 3\\nSkipping line 1264: expected 2 fields, saw 3\\nSkipping line 1268: expected 2 fields, saw 3\\nSkipping line 1284: expected 2 fields, saw 3\\nSkipping line 1290: expected 2 fields, saw 4\\nSkipping line 1291: expected 2 fields, saw 4\\nSkipping line 1310: expected 2 fields, saw 3\\nSkipping line 1319: expected 2 fields, saw 4\\nSkipping line 1329: expected 2 fields, saw 3\\nSkipping line 1337: expected 2 fields, saw 3\\nSkipping line 1344: expected 2 fields, saw 3\\nSkipping line 1369: expected 2 fields, saw 3\\nSkipping line 1390: expected 2 fields, saw 3\\nSkipping line 1395: expected 2 fields, saw 3\\nSkipping line 1412: expected 2 fields, saw 3\\nSkipping line 1413: expected 2 fields, saw 3\\nSkipping line 1417: expected 2 fields, saw 3\\nSkipping line 1421: expected 2 fields, saw 3\\nSkipping line 1422: expected 2 fields, saw 3\\nSkipping line 1423: expected 2 fields, saw 3\\nSkipping line 1430: expected 2 fields, saw 3\\nSkipping line 1432: expected 2 fields, saw 3\\nSkipping line 1433: expected 2 fields, saw 3\\nSkipping line 1452: expected 2 fields, saw 3\\nSkipping line 1453: expected 2 fields, saw 3\\nSkipping line 1454: expected 2 fields, saw 3\\nSkipping line 1455: expected 2 fields, saw 3\\nSkipping line 1456: expected 2 fields, saw 3\\nSkipping line 1457: expected 2 fields, saw 3\\nSkipping line 1458: expected 2 fields, saw 3\\nSkipping line 1480: expected 2 fields, saw 3\\nSkipping line 1482: expected 2 fields, saw 3\\nSkipping line 1503: expected 2 fields, saw 3\\nSkipping line 1510: expected 2 fields, saw 3\\nSkipping line 1581: expected 2 fields, saw 4\\nSkipping line 1591: expected 2 fields, saw 3\\nSkipping line 1601: expected 2 fields, saw 3\\nSkipping line 1602: expected 2 fields, saw 3\\nSkipping line 1620: expected 2 fields, saw 3\\nSkipping line 1630: expected 2 fields, saw 3\\nSkipping line 1634: expected 2 fields, saw 3\\nSkipping line 1651: expected 2 fields, saw 3\\nSkipping line 1663: expected 2 fields, saw 4\\nSkipping line 1682: expected 2 fields, saw 3\\nSkipping line 1689: expected 2 fields, saw 3\\nSkipping line 1693: expected 2 fields, saw 4\\nSkipping line 1724: expected 2 fields, saw 3\\nSkipping line 1747: expected 2 fields, saw 3\\nSkipping line 1775: expected 2 fields, saw 3\\nSkipping line 1779: expected 2 fields, saw 3\\nSkipping line 1832: expected 2 fields, saw 3\\nSkipping line 1847: expected 2 fields, saw 3\\nSkipping line 1904: expected 2 fields, saw 3\\nSkipping line 1905: expected 2 fields, saw 3\\nSkipping line 1911: expected 2 fields, saw 3\\nSkipping line 1926: expected 2 fields, saw 3\\nSkipping line 1934: expected 2 fields, saw 3\\nSkipping line 1936: expected 2 fields, saw 3\\nSkipping line 1948: expected 2 fields, saw 3\\nSkipping line 1954: expected 2 fields, saw 3\\nSkipping line 1970: expected 2 fields, saw 4\\nSkipping line 1973: expected 2 fields, saw 4\\nSkipping line 1976: expected 2 fields, saw 4\\nSkipping line 1979: expected 2 fields, saw 4\\nSkipping line 1980: expected 2 fields, saw 4\\nSkipping line 1981: expected 2 fields, saw 3\\nSkipping line 1987: expected 2 fields, saw 3\\nSkipping line 1990: expected 2 fields, saw 3\\nSkipping line 1995: expected 2 fields, saw 4\\nSkipping line 1996: expected 2 fields, saw 3\\nSkipping line 1997: expected 2 fields, saw 6\\nSkipping line 1999: expected 2 fields, saw 4\\nSkipping line 2000: expected 2 fields, saw 3\\nSkipping line 2012: expected 2 fields, saw 4\\nSkipping line 2015: expected 2 fields, saw 3\\nSkipping line 2016: expected 2 fields, saw 3\\nSkipping line 2019: expected 2 fields, saw 3\\nSkipping line 2060: expected 2 fields, saw 3\\nSkipping line 2082: expected 2 fields, saw 3\\nSkipping line 2096: expected 2 fields, saw 3\\nSkipping line 2102: expected 2 fields, saw 4\\nSkipping line 2104: expected 2 fields, saw 3\\nSkipping line 2114: expected 2 fields, saw 3\\nSkipping line 2121: expected 2 fields, saw 3\\nSkipping line 2125: expected 2 fields, saw 3\\nSkipping line 2135: expected 2 fields, saw 3\\nSkipping line 2139: expected 2 fields, saw 3\\nSkipping line 2184: expected 2 fields, saw 3\\nSkipping line 2319: expected 2 fields, saw 4\\nSkipping line 2323: expected 2 fields, saw 3\\nSkipping line 2333: expected 2 fields, saw 3\\nSkipping line 2335: expected 2 fields, saw 3\\nSkipping line 2341: expected 2 fields, saw 3\\nSkipping line 2344: expected 2 fields, saw 5\\nSkipping line 2354: expected 2 fields, saw 4\\nSkipping line 2367: expected 2 fields, saw 3\\nSkipping line 2375: expected 2 fields, saw 5\\nSkipping line 2387: expected 2 fields, saw 3\\nSkipping line 2396: expected 2 fields, saw 3\\nSkipping line 2397: expected 2 fields, saw 3\\nSkipping line 2431: expected 2 fields, saw 4\\nSkipping line 2442: expected 2 fields, saw 3\\nSkipping line 2457: expected 2 fields, saw 3\\nSkipping line 2466: expected 2 fields, saw 3\\nSkipping line 2477: expected 2 fields, saw 3\\nSkipping line 2481: expected 2 fields, saw 3\\nSkipping line 2504: expected 2 fields, saw 4\\nSkipping line 2540: expected 2 fields, saw 3\\nSkipping line 2548: expected 2 fields, saw 3\\nSkipping line 2557: expected 2 fields, saw 3\\nSkipping line 2565: expected 2 fields, saw 4\\nSkipping line 2566: expected 2 fields, saw 3\\nSkipping line 2636: expected 2 fields, saw 3\\nSkipping line 2642: expected 2 fields, saw 3\\nSkipping line 2645: expected 2 fields, saw 3\\nSkipping line 2672: expected 2 fields, saw 3\\nSkipping line 2699: expected 2 fields, saw 3\\nSkipping line 2718: expected 2 fields, saw 3\\nSkipping line 2720: expected 2 fields, saw 3\\nSkipping line 2721: expected 2 fields, saw 3\\nSkipping line 2723: expected 2 fields, saw 4\\nSkipping line 2741: expected 2 fields, saw 3\\nSkipping line 2745: expected 2 fields, saw 3\\nSkipping line 2748: expected 2 fields, saw 3\\nSkipping line 2749: expected 2 fields, saw 3\\nSkipping line 2768: expected 2 fields, saw 3\\nSkipping line 2807: expected 2 fields, saw 3\\nSkipping line 2861: expected 2 fields, saw 3\\nSkipping line 2899: expected 2 fields, saw 3\\nSkipping line 2907: expected 2 fields, saw 3\\nSkipping line 2911: expected 2 fields, saw 3\\nSkipping line 2930: expected 2 fields, saw 4\\nSkipping line 2936: expected 2 fields, saw 3\\nSkipping line 2943: expected 2 fields, saw 3\\nSkipping line 2987: expected 2 fields, saw 3\\nSkipping line 2990: expected 2 fields, saw 3\\nSkipping line 2998: expected 2 fields, saw 4\\nSkipping line 3003: expected 2 fields, saw 3\\nSkipping line 3004: expected 2 fields, saw 6\\nSkipping line 3005: expected 2 fields, saw 3\\nSkipping line 3013: expected 2 fields, saw 3\\nSkipping line 3029: expected 2 fields, saw 3\\nSkipping line 3040: expected 2 fields, saw 3\\nSkipping line 3064: expected 2 fields, saw 3\\nSkipping line 3095: expected 2 fields, saw 3\\nSkipping line 3110: expected 2 fields, saw 3\\nSkipping line 3141: expected 2 fields, saw 3\\nSkipping line 3149: expected 2 fields, saw 4\\nSkipping line 3153: expected 2 fields, saw 3\\nSkipping line 3211: expected 2 fields, saw 3\\nSkipping line 3251: expected 2 fields, saw 3\\nSkipping line 3259: expected 2 fields, saw 3\\nSkipping line 3272: expected 2 fields, saw 4\\nSkipping line 3291: expected 2 fields, saw 3\\nSkipping line 3294: expected 2 fields, saw 4\\nSkipping line 3296: expected 2 fields, saw 3\\nSkipping line 3299: expected 2 fields, saw 4\\nSkipping line 3300: expected 2 fields, saw 3\\nSkipping line 3304: expected 2 fields, saw 3\\nSkipping line 3310: expected 2 fields, saw 3\\nSkipping line 3313: expected 2 fields, saw 3\\nSkipping line 3328: expected 2 fields, saw 4\\nSkipping line 3340: expected 2 fields, saw 3\\nSkipping line 3345: expected 2 fields, saw 3\\nSkipping line 3368: expected 2 fields, saw 3\\nSkipping line 3449: expected 2 fields, saw 3\\nSkipping line 3469: expected 2 fields, saw 3\\nSkipping line 3479: expected 2 fields, saw 3\\nSkipping line 3513: expected 2 fields, saw 3\\nSkipping line 3519: expected 2 fields, saw 3\\nSkipping line 3524: expected 2 fields, saw 3\\nSkipping line 3549: expected 2 fields, saw 3\\nSkipping line 3551: expected 2 fields, saw 3\\nSkipping line 3574: expected 2 fields, saw 3\\nSkipping line 3681: expected 2 fields, saw 3\\nSkipping line 3693: expected 2 fields, saw 3\\nSkipping line 3729: expected 2 fields, saw 4\\nSkipping line 3759: expected 2 fields, saw 3\\nSkipping line 3789: expected 2 fields, saw 3\\nSkipping line 3791: expected 2 fields, saw 7\\nSkipping line 3799: expected 2 fields, saw 3\\nSkipping line 3803: expected 2 fields, saw 3\\nSkipping line 3805: expected 2 fields, saw 3\\nSkipping line 3807: expected 2 fields, saw 3\\nSkipping line 3810: expected 2 fields, saw 3\\nSkipping line 3863: expected 2 fields, saw 3\\nSkipping line 3870: expected 2 fields, saw 3\\nSkipping line 3877: expected 2 fields, saw 3\\nSkipping line 3882: expected 2 fields, saw 3\\nSkipping line 3903: expected 2 fields, saw 3\\nSkipping line 3906: expected 2 fields, saw 3\\nSkipping line 3908: expected 2 fields, saw 3\\nSkipping line 3931: expected 2 fields, saw 3\\nSkipping line 3942: expected 2 fields, saw 3\\nSkipping line 3944: expected 2 fields, saw 3\\nSkipping line 3978: expected 2 fields, saw 4\\nSkipping line 3998: expected 2 fields, saw 3\\nSkipping line 4006: expected 2 fields, saw 3\\nSkipping line 4009: expected 2 fields, saw 3\\nSkipping line 4020: expected 2 fields, saw 3\\nSkipping line 4021: expected 2 fields, saw 3\\nSkipping line 4033: expected 2 fields, saw 5\\nSkipping line 4035: expected 2 fields, saw 3\\nSkipping line 4039: expected 2 fields, saw 4\\nSkipping line 4044: expected 2 fields, saw 3\\nSkipping line 4064: expected 2 fields, saw 3\\nSkipping line 4070: expected 2 fields, saw 3\\nSkipping line 4081: expected 2 fields, saw 3\\nSkipping line 4083: expected 2 fields, saw 3\\nSkipping line 4086: expected 2 fields, saw 4\\nSkipping line 4103: expected 2 fields, saw 3\\nSkipping line 4118: expected 2 fields, saw 3\\nSkipping line 4157: expected 2 fields, saw 3\\nSkipping line 4177: expected 2 fields, saw 3\\nSkipping line 4211: expected 2 fields, saw 3\\nSkipping line 4223: expected 2 fields, saw 3\\nSkipping line 4235: expected 2 fields, saw 3\\nSkipping line 4238: expected 2 fields, saw 3\\nSkipping line 4252: expected 2 fields, saw 3\\nSkipping line 4268: expected 2 fields, saw 3\\nSkipping line 4274: expected 2 fields, saw 3\\nSkipping line 4290: expected 2 fields, saw 3\\nSkipping line 4295: expected 2 fields, saw 4\\nSkipping line 4304: expected 2 fields, saw 3\\nSkipping line 4308: expected 2 fields, saw 3\\nSkipping line 4311: expected 2 fields, saw 4\\nSkipping line 4316: expected 2 fields, saw 3\\nSkipping line 4397: expected 2 fields, saw 3\\nSkipping line 4398: expected 2 fields, saw 3\\nSkipping line 4399: expected 2 fields, saw 3\\nSkipping line 4411: expected 2 fields, saw 3\\nSkipping line 4415: expected 2 fields, saw 3\\nSkipping line 4425: expected 2 fields, saw 5\\nSkipping line 4448: expected 2 fields, saw 3\\nSkipping line 4490: expected 2 fields, saw 3\\nSkipping line 4507: expected 2 fields, saw 3\\nSkipping line 4530: expected 2 fields, saw 4\\nSkipping line 4544: expected 2 fields, saw 3\\nSkipping line 4590: expected 2 fields, saw 3\\nSkipping line 4594: expected 2 fields, saw 4\\nSkipping line 4597: expected 2 fields, saw 3\\nSkipping line 4618: expected 2 fields, saw 3\\nSkipping line 4644: expected 2 fields, saw 3\\nSkipping line 4652: expected 2 fields, saw 3\\nSkipping line 4663: expected 2 fields, saw 3\\nSkipping line 4686: expected 2 fields, saw 3\\nSkipping line 4689: expected 2 fields, saw 3\\nSkipping line 4728: expected 2 fields, saw 3\\nSkipping line 4740: expected 2 fields, saw 4\\nSkipping line 4796: expected 2 fields, saw 3\\nSkipping line 4815: expected 2 fields, saw 3\\nSkipping line 4826: expected 2 fields, saw 3\\nSkipping line 4865: expected 2 fields, saw 3\\nSkipping line 4891: expected 2 fields, saw 3\\nSkipping line 4977: expected 2 fields, saw 5\\nSkipping line 5023: expected 2 fields, saw 3\\nSkipping line 5027: expected 2 fields, saw 3\\nSkipping line 5068: expected 2 fields, saw 3\\nSkipping line 5074: expected 2 fields, saw 4\\nSkipping line 5075: expected 2 fields, saw 3\\nSkipping line 5076: expected 2 fields, saw 3\\nSkipping line 5102: expected 2 fields, saw 3\\nSkipping line 5152: expected 2 fields, saw 3\\nSkipping line 5259: expected 2 fields, saw 3\\nSkipping line 5260: expected 2 fields, saw 3\\nSkipping line 5270: expected 2 fields, saw 3\\nSkipping line 5276: expected 2 fields, saw 3\\nSkipping line 5280: expected 2 fields, saw 3\\nSkipping line 5298: expected 2 fields, saw 3\\nSkipping line 5349: expected 2 fields, saw 3\\nSkipping line 5352: expected 2 fields, saw 3\\nSkipping line 5353: expected 2 fields, saw 3\\nSkipping line 5427: expected 2 fields, saw 3\\nSkipping line 5444: expected 2 fields, saw 3\\nSkipping line 5448: expected 2 fields, saw 3\\nSkipping line 5449: expected 2 fields, saw 3\\nSkipping line 5487: expected 2 fields, saw 4\\nSkipping line 5488: expected 2 fields, saw 3\\nSkipping line 5515: expected 2 fields, saw 3\\nSkipping line 5529: expected 2 fields, saw 3\\nSkipping line 5535: expected 2 fields, saw 3\\nSkipping line 5554: expected 2 fields, saw 4\\nSkipping line 5555: expected 2 fields, saw 3\\nSkipping line 5561: expected 2 fields, saw 3\\nSkipping line 5572: expected 2 fields, saw 3\\nSkipping line 5578: expected 2 fields, saw 3\\nSkipping line 5589: expected 2 fields, saw 3\\nSkipping line 5600: expected 2 fields, saw 3\\nSkipping line 5633: expected 2 fields, saw 3\\nSkipping line 5638: expected 2 fields, saw 3\\nSkipping line 5641: expected 2 fields, saw 3\\nSkipping line 5644: expected 2 fields, saw 3\\nSkipping line 5655: expected 2 fields, saw 4\\nSkipping line 5661: expected 2 fields, saw 3\\nSkipping line 5665: expected 2 fields, saw 3\\nSkipping line 5671: expected 2 fields, saw 3\\nSkipping line 5705: expected 2 fields, saw 3\\nSkipping line 5722: expected 2 fields, saw 6\\nSkipping line 5730: expected 2 fields, saw 3\\nSkipping line 5757: expected 2 fields, saw 11\\nSkipping line 5778: expected 2 fields, saw 6\\nSkipping line 5789: expected 2 fields, saw 3\\nSkipping line 5796: expected 2 fields, saw 3\\nSkipping line 5843: expected 2 fields, saw 3\\nSkipping line 5877: expected 2 fields, saw 4\\nSkipping line 5891: expected 2 fields, saw 3\\nSkipping line 5893: expected 2 fields, saw 3\\nSkipping line 5894: expected 2 fields, saw 3\\nSkipping line 5909: expected 2 fields, saw 3\\nSkipping line 5919: expected 2 fields, saw 3\\nSkipping line 5921: expected 2 fields, saw 3\\nSkipping line 5924: expected 2 fields, saw 3\\nSkipping line 5934: expected 2 fields, saw 3\\nSkipping line 5953: expected 2 fields, saw 3\\nSkipping line 5958: expected 2 fields, saw 3\\nSkipping line 5964: expected 2 fields, saw 4\\nSkipping line 5994: expected 2 fields, saw 3\\nSkipping line 5999: expected 2 fields, saw 3\\nSkipping line 6024: expected 2 fields, saw 3\\nSkipping line 6039: expected 2 fields, saw 3\\nSkipping line 6040: expected 2 fields, saw 3\\nSkipping line 6043: expected 2 fields, saw 3\\nSkipping line 6056: expected 2 fields, saw 4\\nSkipping line 6128: expected 2 fields, saw 3\\nSkipping line 6171: expected 2 fields, saw 3\\nSkipping line 6174: expected 2 fields, saw 5\\nSkipping line 6175: expected 2 fields, saw 3\\nSkipping line 6196: expected 2 fields, saw 3\\nSkipping line 6228: expected 2 fields, saw 3\\nSkipping line 6231: expected 2 fields, saw 3\\nSkipping line 6236: expected 2 fields, saw 4\\nSkipping line 6238: expected 2 fields, saw 3\\nSkipping line 6245: expected 2 fields, saw 3\\nSkipping line 6246: expected 2 fields, saw 3\\nSkipping line 6252: expected 2 fields, saw 3\\nSkipping line 6257: expected 2 fields, saw 4\\nSkipping line 6260: expected 2 fields, saw 3\\nSkipping line 6263: expected 2 fields, saw 3\\nSkipping line 6270: expected 2 fields, saw 3\\nSkipping line 6274: expected 2 fields, saw 3\\nSkipping line 6283: expected 2 fields, saw 4\\nSkipping line 6284: expected 2 fields, saw 3\\nSkipping line 6286: expected 2 fields, saw 3\\nSkipping line 6287: expected 2 fields, saw 3\\nSkipping line 6296: expected 2 fields, saw 4\\nSkipping line 6301: expected 2 fields, saw 3\\nSkipping line 6311: expected 2 fields, saw 3\\nSkipping line 6320: expected 2 fields, saw 3\\nSkipping line 6327: expected 2 fields, saw 3\\nSkipping line 6341: expected 2 fields, saw 3\\nSkipping line 6384: expected 2 fields, saw 3\\nSkipping line 6394: expected 2 fields, saw 3\\nSkipping line 6397: expected 2 fields, saw 3\\nSkipping line 6407: expected 2 fields, saw 3\\nSkipping line 6409: expected 2 fields, saw 3\\nSkipping line 6473: expected 2 fields, saw 5\\nSkipping line 6481: expected 2 fields, saw 3\\nSkipping line 6486: expected 2 fields, saw 3\\nSkipping line 6489: expected 2 fields, saw 3\\nSkipping line 6573: expected 2 fields, saw 3\\nSkipping line 6575: expected 2 fields, saw 3\\nSkipping line 6577: expected 2 fields, saw 4\\nSkipping line 6583: expected 2 fields, saw 3\\nSkipping line 6590: expected 2 fields, saw 4\\nSkipping line 6618: expected 2 fields, saw 3\\nSkipping line 6636: expected 2 fields, saw 3\\nSkipping line 6653: expected 2 fields, saw 3\\nSkipping line 6671: expected 2 fields, saw 3\\nSkipping line 6700: expected 2 fields, saw 3\\nSkipping line 6709: expected 2 fields, saw 3\\nSkipping line 6718: expected 2 fields, saw 3\\nSkipping line 6722: expected 2 fields, saw 3\\nSkipping line 6738: expected 2 fields, saw 3\\nSkipping line 6762: expected 2 fields, saw 4\\nSkipping line 6795: expected 2 fields, saw 3\\nSkipping line 6810: expected 2 fields, saw 3\\nSkipping line 6819: expected 2 fields, saw 3\\nSkipping line 6821: expected 2 fields, saw 3\\nSkipping line 6834: expected 2 fields, saw 3\\nSkipping line 6873: expected 2 fields, saw 3\\nSkipping line 6880: expected 2 fields, saw 3\\nSkipping line 6949: expected 2 fields, saw 3\\nSkipping line 6950: expected 2 fields, saw 3\\nSkipping line 6982: expected 2 fields, saw 3\\nSkipping line 6989: expected 2 fields, saw 3\\nSkipping line 7045: expected 2 fields, saw 3\\nSkipping line 7128: expected 2 fields, saw 4\\nSkipping line 7133: expected 2 fields, saw 3\\nSkipping line 7152: expected 2 fields, saw 3\\nSkipping line 7159: expected 2 fields, saw 3\\nSkipping line 7170: expected 2 fields, saw 3\\nSkipping line 7182: expected 2 fields, saw 3\\nSkipping line 7184: expected 2 fields, saw 7\\nSkipping line 7186: expected 2 fields, saw 3\\nSkipping line 7193: expected 2 fields, saw 3\\nSkipping line 7206: expected 2 fields, saw 3\\nSkipping line 7212: expected 2 fields, saw 3\\nSkipping line 7215: expected 2 fields, saw 3\\nSkipping line 7218: expected 2 fields, saw 3\\nSkipping line 7223: expected 2 fields, saw 3\\nSkipping line 7224: expected 2 fields, saw 4\\nSkipping line 7231: expected 2 fields, saw 5\\nSkipping line 7233: expected 2 fields, saw 4\\nSkipping line 7235: expected 2 fields, saw 5\\nSkipping line 7253: expected 2 fields, saw 3\\nSkipping line 7273: expected 2 fields, saw 3\\nSkipping line 7287: expected 2 fields, saw 3\\nSkipping line 7291: expected 2 fields, saw 3\\nSkipping line 7302: expected 2 fields, saw 3\\nSkipping line 7310: expected 2 fields, saw 3\\nSkipping line 7312: expected 2 fields, saw 3\\nSkipping line 7323: expected 2 fields, saw 4\\nSkipping line 7330: expected 2 fields, saw 3\\nSkipping line 7342: expected 2 fields, saw 3\\nSkipping line 7362: expected 2 fields, saw 3\\nSkipping line 7366: expected 2 fields, saw 4\\nSkipping line 7376: expected 2 fields, saw 6\\nSkipping line 7380: expected 2 fields, saw 3\\nSkipping line 7427: expected 2 fields, saw 3\\nSkipping line 7445: expected 2 fields, saw 3\\nSkipping line 7446: expected 2 fields, saw 3\\nSkipping line 7451: expected 2 fields, saw 3\\nSkipping line 7457: expected 2 fields, saw 3\\nSkipping line 7461: expected 2 fields, saw 3\\nSkipping line 7482: expected 2 fields, saw 3\\nSkipping line 7498: expected 2 fields, saw 3\\nSkipping line 7499: expected 2 fields, saw 3\\nSkipping line 7502: expected 2 fields, saw 3\\nSkipping line 7518: expected 2 fields, saw 4\\nSkipping line 7525: expected 2 fields, saw 4\\nSkipping line 7537: expected 2 fields, saw 3\\nSkipping line 7552: expected 2 fields, saw 3\\nSkipping line 7556: expected 2 fields, saw 4\\nSkipping line 7564: expected 2 fields, saw 3\\nSkipping line 7574: expected 2 fields, saw 3\\nSkipping line 7587: expected 2 fields, saw 3\\nSkipping line 7590: expected 2 fields, saw 3\\nSkipping line 7615: expected 2 fields, saw 3\\nSkipping line 7638: expected 2 fields, saw 3\\nSkipping line 7647: expected 2 fields, saw 3\\nSkipping line 7678: expected 2 fields, saw 4\\nSkipping line 7682: expected 2 fields, saw 3\\nSkipping line 7683: expected 2 fields, saw 3\\nSkipping line 7684: expected 2 fields, saw 3\\nSkipping line 7687: expected 2 fields, saw 3\\nSkipping line 7694: expected 2 fields, saw 3\\nSkipping line 7698: expected 2 fields, saw 3\\nSkipping line 7764: expected 2 fields, saw 3\\nSkipping line 7820: expected 2 fields, saw 3\\nSkipping line 7821: expected 2 fields, saw 4\\nSkipping line 7822: expected 2 fields, saw 4\\nSkipping line 7847: expected 2 fields, saw 3\\nSkipping line 7967: expected 2 fields, saw 3\\nSkipping line 7972: expected 2 fields, saw 3\\nSkipping line 7980: expected 2 fields, saw 3\\nSkipping line 8018: expected 2 fields, saw 3\\nSkipping line 8030: expected 2 fields, saw 3\\nSkipping line 8035: expected 2 fields, saw 3\\nSkipping line 8054: expected 2 fields, saw 4\\nSkipping line 8059: expected 2 fields, saw 3\\nSkipping line 8092: expected 2 fields, saw 3\\nSkipping line 8094: expected 2 fields, saw 3\\nSkipping line 8127: expected 2 fields, saw 3\\nSkipping line 8157: expected 2 fields, saw 3\\nSkipping line 8198: expected 2 fields, saw 3\\nSkipping line 8209: expected 2 fields, saw 4\\nSkipping line 8218: expected 2 fields, saw 3\\nSkipping line 8228: expected 2 fields, saw 3\\nSkipping line 8247: expected 2 fields, saw 3\\nSkipping line 8264: expected 2 fields, saw 3\\nSkipping line 8303: expected 2 fields, saw 3\\nSkipping line 8341: expected 2 fields, saw 3\\nSkipping line 8360: expected 2 fields, saw 3\\nSkipping line 8367: expected 2 fields, saw 3\\nSkipping line 8371: expected 2 fields, saw 3\\nSkipping line 8382: expected 2 fields, saw 4\\nSkipping line 8384: expected 2 fields, saw 3\\nSkipping line 8385: expected 2 fields, saw 3\\nSkipping line 8408: expected 2 fields, saw 3\\nSkipping line 8422: expected 2 fields, saw 3\\nSkipping line 8426: expected 2 fields, saw 3\\nSkipping line 8458: expected 2 fields, saw 3\\nSkipping line 8467: expected 2 fields, saw 3\\nSkipping line 8468: expected 2 fields, saw 4\\nSkipping line 8469: expected 2 fields, saw 3\\nSkipping line 8500: expected 2 fields, saw 3\\nSkipping line 8501: expected 2 fields, saw 3\\nSkipping line 8510: expected 2 fields, saw 5\\nSkipping line 8511: expected 2 fields, saw 5\\nSkipping line 8538: expected 2 fields, saw 3\\nSkipping line 8540: expected 2 fields, saw 4\\nSkipping line 8564: expected 2 fields, saw 3\\nSkipping line 8567: expected 2 fields, saw 4\\nSkipping line 8575: expected 2 fields, saw 6\\nSkipping line 8577: expected 2 fields, saw 9\\nSkipping line 8604: expected 2 fields, saw 3\\nSkipping line 8609: expected 2 fields, saw 4\\nSkipping line 8623: expected 2 fields, saw 3\\nSkipping line 8693: expected 2 fields, saw 3\\nSkipping line 8818: expected 2 fields, saw 3\\nSkipping line 8830: expected 2 fields, saw 3\\nSkipping line 8832: expected 2 fields, saw 3\\nSkipping line 8856: expected 2 fields, saw 3\\nSkipping line 8857: expected 2 fields, saw 3\\nSkipping line 8894: expected 2 fields, saw 3\\nSkipping line 8896: expected 2 fields, saw 3\\nSkipping line 8932: expected 2 fields, saw 4\\nSkipping line 8956: expected 2 fields, saw 3\\nSkipping line 8966: expected 2 fields, saw 3\\nSkipping line 8969: expected 2 fields, saw 3\\nSkipping line 8977: expected 2 fields, saw 5\\nSkipping line 8978: expected 2 fields, saw 3\\nSkipping line 8979: expected 2 fields, saw 4\\nSkipping line 9081: expected 2 fields, saw 3\\nSkipping line 9100: expected 2 fields, saw 3\\nSkipping line 9112: expected 2 fields, saw 3\\nSkipping line 9114: expected 2 fields, saw 4\\nSkipping line 9153: expected 2 fields, saw 3\\nSkipping line 9175: expected 2 fields, saw 3\\nSkipping line 9195: expected 2 fields, saw 3\\nSkipping line 9204: expected 2 fields, saw 3\\nSkipping line 9211: expected 2 fields, saw 3\\nSkipping line 9212: expected 2 fields, saw 3\\nSkipping line 9238: expected 2 fields, saw 3\\nSkipping line 9270: expected 2 fields, saw 3\\nSkipping line 9272: expected 2 fields, saw 3\\nSkipping line 9320: expected 2 fields, saw 3\\nSkipping line 9322: expected 2 fields, saw 3\\nSkipping line 9332: expected 2 fields, saw 3\\nSkipping line 9345: expected 2 fields, saw 3\\nSkipping line 9353: expected 2 fields, saw 3\\nSkipping line 9359: expected 2 fields, saw 3\\nSkipping line 9365: expected 2 fields, saw 6\\nSkipping line 9366: expected 2 fields, saw 6\\nSkipping line 9423: expected 2 fields, saw 3\\nSkipping line 9467: expected 2 fields, saw 3\\nSkipping line 9503: expected 2 fields, saw 3\\nSkipping line 9513: expected 2 fields, saw 3\\nSkipping line 9535: expected 2 fields, saw 3\\nSkipping line 9602: expected 2 fields, saw 3\\nSkipping line 9613: expected 2 fields, saw 3\\nSkipping line 9648: expected 2 fields, saw 12\\nSkipping line 9669: expected 2 fields, saw 6\\nSkipping line 9670: expected 2 fields, saw 6\\nSkipping line 9716: expected 2 fields, saw 3\\nSkipping line 9734: expected 2 fields, saw 3\\nSkipping line 9762: expected 2 fields, saw 3\\nSkipping line 9785: expected 2 fields, saw 3\\nSkipping line 9807: expected 2 fields, saw 3\\nSkipping line 9809: expected 2 fields, saw 3\\nSkipping line 9826: expected 2 fields, saw 3\\nSkipping line 9847: expected 2 fields, saw 4\\nSkipping line 9881: expected 2 fields, saw 3\\nSkipping line 9900: expected 2 fields, saw 3\\nSkipping line 9909: expected 2 fields, saw 6\\nSkipping line 9911: expected 2 fields, saw 3\\nSkipping line 9926: expected 2 fields, saw 3\\nSkipping line 9930: expected 2 fields, saw 3\\nSkipping line 9933: expected 2 fields, saw 3\\nSkipping line 9940: expected 2 fields, saw 3\\nSkipping line 9942: expected 2 fields, saw 3\\nSkipping line 9971: expected 2 fields, saw 6\\nSkipping line 9972: expected 2 fields, saw 6\\nSkipping line 10038: expected 2 fields, saw 3\\nSkipping line 10042: expected 2 fields, saw 3\\nSkipping line 10092: expected 2 fields, saw 3\\nSkipping line 10150: expected 2 fields, saw 3\\nSkipping line 10151: expected 2 fields, saw 3\\nSkipping line 10154: expected 2 fields, saw 3\\nSkipping line 10155: expected 2 fields, saw 3\\nSkipping line 10160: expected 2 fields, saw 3\\nSkipping line 10173: expected 2 fields, saw 6\\nSkipping line 10174: expected 2 fields, saw 6\\nSkipping line 10255: expected 2 fields, saw 3\\nSkipping line 10281: expected 2 fields, saw 3\\nSkipping line 10282: expected 2 fields, saw 3\\nSkipping line 10283: expected 2 fields, saw 3\\nSkipping line 10284: expected 2 fields, saw 3\\nSkipping line 10310: expected 2 fields, saw 3\\nSkipping line 10352: expected 2 fields, saw 3\\nSkipping line 10364: expected 2 fields, saw 3\\nSkipping line 10368: expected 2 fields, saw 3\\nSkipping line 10396: expected 2 fields, saw 3\\nSkipping line 10397: expected 2 fields, saw 3\\nSkipping line 10408: expected 2 fields, saw 3\\nSkipping line 10422: expected 2 fields, saw 6\\nSkipping line 10423: expected 2 fields, saw 6\\nSkipping line 10456: expected 2 fields, saw 3\\nSkipping line 10457: expected 2 fields, saw 3\\nSkipping line 10491: expected 2 fields, saw 11\\nSkipping line 10492: expected 2 fields, saw 10\\nSkipping line 10495: expected 2 fields, saw 3\\nSkipping line 10498: expected 2 fields, saw 3\\nSkipping line 10517: expected 2 fields, saw 9\\nSkipping line 10521: expected 2 fields, saw 4\\nSkipping line 10531: expected 2 fields, saw 3\\nSkipping line 10534: expected 2 fields, saw 3\\nSkipping line 10537: expected 2 fields, saw 3\\nSkipping line 10551: expected 2 fields, saw 5\\nSkipping line 10568: expected 2 fields, saw 3\\nSkipping line 10574: expected 2 fields, saw 3\\nSkipping line 10594: expected 2 fields, saw 4\\nSkipping line 10623: expected 2 fields, saw 3\\nSkipping line 10627: expected 2 fields, saw 3\\nSkipping line 10632: expected 2 fields, saw 4\\nSkipping line 10634: expected 2 fields, saw 3\\nSkipping line 10635: expected 2 fields, saw 3\\nSkipping line 10648: expected 2 fields, saw 3\\nSkipping line 10663: expected 2 fields, saw 3\\nSkipping line 10669: expected 2 fields, saw 3\\nSkipping line 10705: expected 2 fields, saw 3\\nSkipping line 10706: expected 2 fields, saw 3\\nSkipping line 10735: expected 2 fields, saw 3\\nSkipping line 10792: expected 2 fields, saw 6\\nSkipping line 10793: expected 2 fields, saw 6\\nSkipping line 10818: expected 2 fields, saw 3\\nSkipping line 10823: expected 2 fields, saw 3\\nSkipping line 10834: expected 2 fields, saw 3\\nSkipping line 10840: expected 2 fields, saw 3\\nSkipping line 10852: expected 2 fields, saw 3\\nSkipping line 10853: expected 2 fields, saw 3\\nSkipping line 10855: expected 2 fields, saw 3\\nSkipping line 10861: expected 2 fields, saw 3\\nSkipping line 10872: expected 2 fields, saw 3\\nSkipping line 10873: expected 2 fields, saw 3\\nSkipping line 10889: expected 2 fields, saw 3\\nSkipping line 10936: expected 2 fields, saw 3\\nSkipping line 10979: expected 2 fields, saw 3\\nSkipping line 11005: expected 2 fields, saw 3\\nSkipping line 11021: expected 2 fields, saw 3\\nSkipping line 11026: expected 2 fields, saw 3\\nSkipping line 11030: expected 2 fields, saw 3\\nSkipping line 11061: expected 2 fields, saw 4\\nSkipping line 11084: expected 2 fields, saw 3\\nSkipping line 11087: expected 2 fields, saw 3\\nSkipping line 11135: expected 2 fields, saw 3\\nSkipping line 11142: expected 2 fields, saw 3\\nSkipping line 11177: expected 2 fields, saw 7\\nSkipping line 11191: expected 2 fields, saw 3\\nSkipping line 11251: expected 2 fields, saw 3\\nSkipping line 11312: expected 2 fields, saw 3\\nSkipping line 11361: expected 2 fields, saw 3\\nSkipping line 11375: expected 2 fields, saw 3\\nSkipping line 11397: expected 2 fields, saw 4\\nSkipping line 11419: expected 2 fields, saw 3\\nSkipping line 11470: expected 2 fields, saw 6\\nSkipping line 11485: expected 2 fields, saw 3\\nSkipping line 11487: expected 2 fields, saw 3\\nSkipping line 11548: expected 2 fields, saw 3\\nSkipping line 11568: expected 2 fields, saw 3\\nSkipping line 11572: expected 2 fields, saw 3\\nSkipping line 11573: expected 2 fields, saw 3\\nSkipping line 11610: expected 2 fields, saw 3\\nSkipping line 11633: expected 2 fields, saw 3\\nSkipping line 11635: expected 2 fields, saw 3\\nSkipping line 11637: expected 2 fields, saw 4\\nSkipping line 11651: expected 2 fields, saw 3\\nSkipping line 11654: expected 2 fields, saw 3\\nSkipping line 11660: expected 2 fields, saw 3\\nSkipping line 11703: expected 2 fields, saw 5\\nSkipping line 11710: expected 2 fields, saw 4\\nSkipping line 11717: expected 2 fields, saw 3\\nSkipping line 11725: expected 2 fields, saw 3\\nSkipping line 11727: expected 2 fields, saw 3\\nSkipping line 11744: expected 2 fields, saw 3\\nSkipping line 11754: expected 2 fields, saw 3\\nSkipping line 11756: expected 2 fields, saw 3\\nSkipping line 11765: expected 2 fields, saw 3\\nSkipping line 11769: expected 2 fields, saw 3\\nSkipping line 11804: expected 2 fields, saw 4\\nSkipping line 11849: expected 2 fields, saw 6\\nSkipping line 11850: expected 2 fields, saw 6\\nSkipping line 11863: expected 2 fields, saw 3\\nSkipping line 11914: expected 2 fields, saw 3\\nSkipping line 11935: expected 2 fields, saw 5\\nSkipping line 11948: expected 2 fields, saw 3\\nSkipping line 11981: expected 2 fields, saw 3\\nSkipping line 11994: expected 2 fields, saw 3\\nSkipping line 12019: expected 2 fields, saw 3\\nSkipping line 12028: expected 2 fields, saw 3\\nSkipping line 12029: expected 2 fields, saw 3\\nSkipping line 12033: expected 2 fields, saw 3\\nSkipping line 12040: expected 2 fields, saw 3\\nSkipping line 12054: expected 2 fields, saw 3\\nSkipping line 12079: expected 2 fields, saw 3\\nSkipping line 12087: expected 2 fields, saw 4\\nSkipping line 12102: expected 2 fields, saw 4\\nSkipping line 12114: expected 2 fields, saw 3\\nSkipping line 12117: expected 2 fields, saw 3\\nSkipping line 12138: expected 2 fields, saw 6\\nSkipping line 12139: expected 2 fields, saw 6\\nSkipping line 12191: expected 2 fields, saw 3\\nSkipping line 12221: expected 2 fields, saw 3\\nSkipping line 12222: expected 2 fields, saw 4\\nSkipping line 12240: expected 2 fields, saw 3\\nSkipping line 12253: expected 2 fields, saw 3\\nSkipping line 12260: expected 2 fields, saw 3\\nSkipping line 12262: expected 2 fields, saw 3\\nSkipping line 12285: expected 2 fields, saw 4\\nSkipping line 12291: expected 2 fields, saw 3\\nSkipping line 12322: expected 2 fields, saw 3\\nSkipping line 12330: expected 2 fields, saw 3\\nSkipping line 12331: expected 2 fields, saw 3\\nSkipping line 12441: expected 2 fields, saw 3\\nSkipping line 12458: expected 2 fields, saw 3\\nSkipping line 12496: expected 2 fields, saw 3\\nSkipping line 12497: expected 2 fields, saw 3\\nSkipping line 12537: expected 2 fields, saw 3\\nSkipping line 12538: expected 2 fields, saw 3\\nSkipping line 12552: expected 2 fields, saw 3\\nSkipping line 12557: expected 2 fields, saw 3\\nSkipping line 12572: expected 2 fields, saw 3\\nSkipping line 12584: expected 2 fields, saw 3\\nSkipping line 12586: expected 2 fields, saw 3\\nSkipping line 12594: expected 2 fields, saw 3\\nSkipping line 12606: expected 2 fields, saw 4\\nSkipping line 12620: expected 2 fields, saw 3\\nSkipping line 12658: expected 2 fields, saw 3\\nSkipping line 12665: expected 2 fields, saw 3\\nSkipping line 12679: expected 2 fields, saw 3\\nSkipping line 12691: expected 2 fields, saw 4\\nSkipping line 12692: expected 2 fields, saw 3\\nSkipping line 12725: expected 2 fields, saw 3\\nSkipping line 12757: expected 2 fields, saw 3\\nSkipping line 12758: expected 2 fields, saw 3\\nSkipping line 12792: expected 2 fields, saw 5\\nSkipping line 12798: expected 2 fields, saw 3\\nSkipping line 12837: expected 2 fields, saw 3\\nSkipping line 12853: expected 2 fields, saw 3\\nSkipping line 12855: expected 2 fields, saw 4\\nSkipping line 12859: expected 2 fields, saw 3\\nSkipping line 12870: expected 2 fields, saw 3\\nSkipping line 12884: expected 2 fields, saw 3\\nSkipping line 12930: expected 2 fields, saw 3\\nSkipping line 12962: expected 2 fields, saw 3\\nSkipping line 12964: expected 2 fields, saw 3\\nSkipping line 12999: expected 2 fields, saw 3\\nSkipping line 13033: expected 2 fields, saw 3\\nSkipping line 13042: expected 2 fields, saw 3\\nSkipping line 13048: expected 2 fields, saw 3\\nSkipping line 13054: expected 2 fields, saw 3\\nSkipping line 13063: expected 2 fields, saw 3\\nSkipping line 13066: expected 2 fields, saw 3\\nSkipping line 13097: expected 2 fields, saw 3\\nSkipping line 13113: expected 2 fields, saw 4\\nSkipping line 13123: expected 2 fields, saw 4\\nSkipping line 13127: expected 2 fields, saw 3\\nSkipping line 13133: expected 2 fields, saw 3\\nSkipping line 13136: expected 2 fields, saw 3\\nSkipping line 13183: expected 2 fields, saw 3\\nSkipping line 13184: expected 2 fields, saw 3\\nSkipping line 13235: expected 2 fields, saw 3\\nSkipping line 13248: expected 2 fields, saw 3\\nSkipping line 13265: expected 2 fields, saw 3\\nSkipping line 13271: expected 2 fields, saw 3\\nSkipping line 13280: expected 2 fields, saw 3\\nSkipping line 13313: expected 2 fields, saw 3\\nSkipping line 13324: expected 2 fields, saw 3\\nSkipping line 13364: expected 2 fields, saw 3\\nSkipping line 13393: expected 2 fields, saw 5\\nSkipping line 13398: expected 2 fields, saw 3\\nSkipping line 13415: expected 2 fields, saw 3\\nSkipping line 13420: expected 2 fields, saw 4\\nSkipping line 13431: expected 2 fields, saw 3\\nSkipping line 13447: expected 2 fields, saw 3\\nSkipping line 13469: expected 2 fields, saw 3\\nSkipping line 13485: expected 2 fields, saw 3\\nSkipping line 13495: expected 2 fields, saw 5\\nSkipping line 13500: expected 2 fields, saw 3\\nSkipping line 13530: expected 2 fields, saw 3\\nSkipping line 13546: expected 2 fields, saw 3\\nSkipping line 13556: expected 2 fields, saw 3\\nSkipping line 13562: expected 2 fields, saw 3\\nSkipping line 13566: expected 2 fields, saw 3\\nSkipping line 13585: expected 2 fields, saw 3\\nSkipping line 13594: expected 2 fields, saw 3\\nSkipping line 13602: expected 2 fields, saw 3\\nSkipping line 13605: expected 2 fields, saw 3\\nSkipping line 13607: expected 2 fields, saw 3\\nSkipping line 13633: expected 2 fields, saw 3\\nSkipping line 13645: expected 2 fields, saw 6\\nSkipping line 13652: expected 2 fields, saw 3\\nSkipping line 13653: expected 2 fields, saw 3\\nSkipping line 13675: expected 2 fields, saw 4\\nSkipping line 13676: expected 2 fields, saw 3\\nSkipping line 13682: expected 2 fields, saw 3\\nSkipping line 13684: expected 2 fields, saw 3\\nSkipping line 13689: expected 2 fields, saw 3\\nSkipping line 13692: expected 2 fields, saw 3\\nSkipping line 13693: expected 2 fields, saw 3\\nSkipping line 13709: expected 2 fields, saw 4\\nSkipping line 13757: expected 2 fields, saw 3\\n'\n"
     ]
    },
    {
     "data": {
      "text/html": [
       "<div>\n",
       "<style scoped>\n",
       "    .dataframe tbody tr th:only-of-type {\n",
       "        vertical-align: middle;\n",
       "    }\n",
       "\n",
       "    .dataframe tbody tr th {\n",
       "        vertical-align: top;\n",
       "    }\n",
       "\n",
       "    .dataframe thead th {\n",
       "        text-align: right;\n",
       "    }\n",
       "</style>\n",
       "<table border=\"1\" class=\"dataframe\">\n",
       "  <thead>\n",
       "    <tr style=\"text-align: right;\">\n",
       "      <th></th>\n",
       "      <th>9/4/19</th>\n",
       "      <th>5:46 PM - Messages to this group are now secured with end-to-end encryption. Tap for more info.</th>\n",
       "    </tr>\n",
       "  </thead>\n",
       "  <tbody>\n",
       "    <tr>\n",
       "      <th>0</th>\n",
       "      <td>9/3/19</td>\n",
       "      <td>5:34 PM - +91 98888 26051 created group \"Lang...</td>\n",
       "    </tr>\n",
       "    <tr>\n",
       "      <th>1</th>\n",
       "      <td>9/4/19</td>\n",
       "      <td>5:46 PM - Nikita Batra DA added you</td>\n",
       "    </tr>\n",
       "    <tr>\n",
       "      <th>2</th>\n",
       "      <td>9/4/19</td>\n",
       "      <td>5:59 PM - +91 90414 65914 added Vasu DA Lanagara</td>\n",
       "    </tr>\n",
       "    <tr>\n",
       "      <th>3</th>\n",
       "      <td>9/4/19</td>\n",
       "      <td>8:21 PM - jaspreet singh: &lt;Media omitted&gt;</td>\n",
       "    </tr>\n",
       "    <tr>\n",
       "      <th>4</th>\n",
       "      <td>9/4/19</td>\n",
       "      <td>8:22 PM - jaspreet singh: Hardware required f...</td>\n",
       "    </tr>\n",
       "  </tbody>\n",
       "</table>\n",
       "</div>"
      ],
      "text/plain": [
       "   9/4/19  \\\n",
       "0  9/3/19   \n",
       "1  9/4/19   \n",
       "2  9/4/19   \n",
       "3  9/4/19   \n",
       "4  9/4/19   \n",
       "\n",
       "   5:46 PM - Messages to this group are now secured with end-to-end encryption. Tap for more info.  \n",
       "0   5:34 PM - +91 98888 26051 created group \"Lang...                                                \n",
       "1                5:46 PM - Nikita Batra DA added you                                                \n",
       "2   5:59 PM - +91 90414 65914 added Vasu DA Lanagara                                                \n",
       "3          8:21 PM - jaspreet singh: <Media omitted>                                                \n",
       "4   8:22 PM - jaspreet singh: Hardware required f...                                                "
      ]
     },
     "execution_count": 114,
     "metadata": {},
     "output_type": "execute_result"
    }
   ],
   "source": [
    "#import data\n",
    "data = pd.read_csv(r\"WhatsApp Chat with PDD.DA’19.txt\", error_bad_lines=False)\n",
    "data.head()"
   ]
  },
  {
   "cell_type": "code",
   "execution_count": 115,
   "metadata": {},
   "outputs": [
    {
     "data": {
      "text/html": [
       "<div>\n",
       "<style scoped>\n",
       "    .dataframe tbody tr th:only-of-type {\n",
       "        vertical-align: middle;\n",
       "    }\n",
       "\n",
       "    .dataframe tbody tr th {\n",
       "        vertical-align: top;\n",
       "    }\n",
       "\n",
       "    .dataframe thead th {\n",
       "        text-align: right;\n",
       "    }\n",
       "</style>\n",
       "<table border=\"1\" class=\"dataframe\">\n",
       "  <thead>\n",
       "    <tr style=\"text-align: right;\">\n",
       "      <th></th>\n",
       "      <th>9/4/19</th>\n",
       "      <th>5:46 PM - Messages to this group are now secured with end-to-end encryption. Tap for more info.</th>\n",
       "    </tr>\n",
       "  </thead>\n",
       "  <tbody>\n",
       "    <tr>\n",
       "      <th>0</th>\n",
       "      <td>9/3/19</td>\n",
       "      <td>5:34 PM - +91 98888 26051 created group \"Lang...</td>\n",
       "    </tr>\n",
       "    <tr>\n",
       "      <th>1</th>\n",
       "      <td>9/4/19</td>\n",
       "      <td>5:46 PM - Nikita Batra DA added you</td>\n",
       "    </tr>\n",
       "    <tr>\n",
       "      <th>2</th>\n",
       "      <td>9/4/19</td>\n",
       "      <td>5:59 PM - +91 90414 65914 added Vasu DA Lanagara</td>\n",
       "    </tr>\n",
       "    <tr>\n",
       "      <th>3</th>\n",
       "      <td>9/4/19</td>\n",
       "      <td>8:21 PM - jaspreet singh: &lt;Media omitted&gt;</td>\n",
       "    </tr>\n",
       "    <tr>\n",
       "      <th>4</th>\n",
       "      <td>9/4/19</td>\n",
       "      <td>8:22 PM - jaspreet singh: Hardware required f...</td>\n",
       "    </tr>\n",
       "  </tbody>\n",
       "</table>\n",
       "</div>"
      ],
      "text/plain": [
       "   9/4/19  \\\n",
       "0  9/3/19   \n",
       "1  9/4/19   \n",
       "2  9/4/19   \n",
       "3  9/4/19   \n",
       "4  9/4/19   \n",
       "\n",
       "   5:46 PM - Messages to this group are now secured with end-to-end encryption. Tap for more info.  \n",
       "0   5:34 PM - +91 98888 26051 created group \"Lang...                                                \n",
       "1                5:46 PM - Nikita Batra DA added you                                                \n",
       "2   5:59 PM - +91 90414 65914 added Vasu DA Lanagara                                                \n",
       "3          8:21 PM - jaspreet singh: <Media omitted>                                                \n",
       "4   8:22 PM - jaspreet singh: Hardware required f...                                                "
      ]
     },
     "execution_count": 115,
     "metadata": {},
     "output_type": "execute_result"
    }
   ],
   "source": [
    "data.head()"
   ]
  },
  {
   "cell_type": "code",
   "execution_count": 116,
   "metadata": {},
   "outputs": [
    {
     "data": {
      "text/plain": [
       "Index(['9/4/19', ' 5:46 PM - Messages to this group are now secured with end-to-end encryption. Tap for more info.'], dtype='object')"
      ]
     },
     "execution_count": 116,
     "metadata": {},
     "output_type": "execute_result"
    }
   ],
   "source": [
    "data.columns"
   ]
  },
  {
   "cell_type": "code",
   "execution_count": 117,
   "metadata": {},
   "outputs": [],
   "source": [
    "data.rename(columns = {\"9/4/19\":\"Date\",\" 5:46 PM - Messages to this group are now secured with end-to-end encryption. Tap for more info.\":\"info\"}, inplace = True)"
   ]
  },
  {
   "cell_type": "code",
   "execution_count": 118,
   "metadata": {},
   "outputs": [
    {
     "data": {
      "text/html": [
       "<div>\n",
       "<style scoped>\n",
       "    .dataframe tbody tr th:only-of-type {\n",
       "        vertical-align: middle;\n",
       "    }\n",
       "\n",
       "    .dataframe tbody tr th {\n",
       "        vertical-align: top;\n",
       "    }\n",
       "\n",
       "    .dataframe thead th {\n",
       "        text-align: right;\n",
       "    }\n",
       "</style>\n",
       "<table border=\"1\" class=\"dataframe\">\n",
       "  <thead>\n",
       "    <tr style=\"text-align: right;\">\n",
       "      <th></th>\n",
       "      <th>Date</th>\n",
       "      <th>info</th>\n",
       "    </tr>\n",
       "  </thead>\n",
       "  <tbody>\n",
       "    <tr>\n",
       "      <th>0</th>\n",
       "      <td>9/3/19</td>\n",
       "      <td>5:34 PM - +91 98888 26051 created group \"Lang...</td>\n",
       "    </tr>\n",
       "    <tr>\n",
       "      <th>1</th>\n",
       "      <td>9/4/19</td>\n",
       "      <td>5:46 PM - Nikita Batra DA added you</td>\n",
       "    </tr>\n",
       "    <tr>\n",
       "      <th>2</th>\n",
       "      <td>9/4/19</td>\n",
       "      <td>5:59 PM - +91 90414 65914 added Vasu DA Lanagara</td>\n",
       "    </tr>\n",
       "    <tr>\n",
       "      <th>3</th>\n",
       "      <td>9/4/19</td>\n",
       "      <td>8:21 PM - jaspreet singh: &lt;Media omitted&gt;</td>\n",
       "    </tr>\n",
       "    <tr>\n",
       "      <th>4</th>\n",
       "      <td>9/4/19</td>\n",
       "      <td>8:22 PM - jaspreet singh: Hardware required f...</td>\n",
       "    </tr>\n",
       "  </tbody>\n",
       "</table>\n",
       "</div>"
      ],
      "text/plain": [
       "     Date                                               info\n",
       "0  9/3/19   5:34 PM - +91 98888 26051 created group \"Lang...\n",
       "1  9/4/19                5:46 PM - Nikita Batra DA added you\n",
       "2  9/4/19   5:59 PM - +91 90414 65914 added Vasu DA Lanagara\n",
       "3  9/4/19          8:21 PM - jaspreet singh: <Media omitted>\n",
       "4  9/4/19   8:22 PM - jaspreet singh: Hardware required f..."
      ]
     },
     "execution_count": 118,
     "metadata": {},
     "output_type": "execute_result"
    }
   ],
   "source": [
    "data.head()"
   ]
  },
  {
   "cell_type": "code",
   "execution_count": 119,
   "metadata": {},
   "outputs": [
    {
     "data": {
      "text/html": [
       "<div>\n",
       "<style scoped>\n",
       "    .dataframe tbody tr th:only-of-type {\n",
       "        vertical-align: middle;\n",
       "    }\n",
       "\n",
       "    .dataframe tbody tr th {\n",
       "        vertical-align: top;\n",
       "    }\n",
       "\n",
       "    .dataframe thead th {\n",
       "        text-align: right;\n",
       "    }\n",
       "</style>\n",
       "<table border=\"1\" class=\"dataframe\">\n",
       "  <thead>\n",
       "    <tr style=\"text-align: right;\">\n",
       "      <th></th>\n",
       "      <th>0</th>\n",
       "      <th>1</th>\n",
       "    </tr>\n",
       "  </thead>\n",
       "  <tbody>\n",
       "    <tr>\n",
       "      <th>0</th>\n",
       "      <td>5:34 PM</td>\n",
       "      <td>+91 98888 26051 created group \"Langara College\"</td>\n",
       "    </tr>\n",
       "    <tr>\n",
       "      <th>1</th>\n",
       "      <td>5:46 PM</td>\n",
       "      <td>Nikita Batra DA added you</td>\n",
       "    </tr>\n",
       "    <tr>\n",
       "      <th>2</th>\n",
       "      <td>5:59 PM</td>\n",
       "      <td>+91 90414 65914 added Vasu DA Lanagara</td>\n",
       "    </tr>\n",
       "    <tr>\n",
       "      <th>3</th>\n",
       "      <td>8:21 PM</td>\n",
       "      <td>jaspreet singh: &lt;Media omitted&gt;</td>\n",
       "    </tr>\n",
       "    <tr>\n",
       "      <th>4</th>\n",
       "      <td>8:22 PM</td>\n",
       "      <td>jaspreet singh: Hardware required for this co...</td>\n",
       "    </tr>\n",
       "  </tbody>\n",
       "</table>\n",
       "</div>"
      ],
      "text/plain": [
       "           0                                                  1\n",
       "0   5:34 PM     +91 98888 26051 created group \"Langara College\"\n",
       "1   5:46 PM                           Nikita Batra DA added you\n",
       "2   5:59 PM              +91 90414 65914 added Vasu DA Lanagara\n",
       "3   8:21 PM                     jaspreet singh: <Media omitted>\n",
       "4   8:22 PM    jaspreet singh: Hardware required for this co..."
      ]
     },
     "execution_count": 119,
     "metadata": {},
     "output_type": "execute_result"
    }
   ],
   "source": [
    "# new data frame with split value columns \n",
    "new = data[\"info\"].str.split(\"-\", n = 1, expand = True) \n",
    "new.head()"
   ]
  },
  {
   "cell_type": "code",
   "execution_count": 120,
   "metadata": {},
   "outputs": [
    {
     "data": {
      "text/html": [
       "<div>\n",
       "<style scoped>\n",
       "    .dataframe tbody tr th:only-of-type {\n",
       "        vertical-align: middle;\n",
       "    }\n",
       "\n",
       "    .dataframe tbody tr th {\n",
       "        vertical-align: top;\n",
       "    }\n",
       "\n",
       "    .dataframe thead th {\n",
       "        text-align: right;\n",
       "    }\n",
       "</style>\n",
       "<table border=\"1\" class=\"dataframe\">\n",
       "  <thead>\n",
       "    <tr style=\"text-align: right;\">\n",
       "      <th></th>\n",
       "      <th>Date</th>\n",
       "      <th>Time</th>\n",
       "      <th>Message</th>\n",
       "    </tr>\n",
       "  </thead>\n",
       "  <tbody>\n",
       "    <tr>\n",
       "      <th>0</th>\n",
       "      <td>9/3/19</td>\n",
       "      <td>5:34 PM</td>\n",
       "      <td>+91 98888 26051 created group \"Langara College\"</td>\n",
       "    </tr>\n",
       "    <tr>\n",
       "      <th>1</th>\n",
       "      <td>9/4/19</td>\n",
       "      <td>5:46 PM</td>\n",
       "      <td>Nikita Batra DA added you</td>\n",
       "    </tr>\n",
       "    <tr>\n",
       "      <th>2</th>\n",
       "      <td>9/4/19</td>\n",
       "      <td>5:59 PM</td>\n",
       "      <td>+91 90414 65914 added Vasu DA Lanagara</td>\n",
       "    </tr>\n",
       "    <tr>\n",
       "      <th>3</th>\n",
       "      <td>9/4/19</td>\n",
       "      <td>8:21 PM</td>\n",
       "      <td>jaspreet singh: &lt;Media omitted&gt;</td>\n",
       "    </tr>\n",
       "    <tr>\n",
       "      <th>4</th>\n",
       "      <td>9/4/19</td>\n",
       "      <td>8:22 PM</td>\n",
       "      <td>jaspreet singh: Hardware required for this co...</td>\n",
       "    </tr>\n",
       "  </tbody>\n",
       "</table>\n",
       "</div>"
      ],
      "text/plain": [
       "     Date       Time                                            Message\n",
       "0  9/3/19   5:34 PM     +91 98888 26051 created group \"Langara College\"\n",
       "1  9/4/19   5:46 PM                           Nikita Batra DA added you\n",
       "2  9/4/19   5:59 PM              +91 90414 65914 added Vasu DA Lanagara\n",
       "3  9/4/19   8:21 PM                     jaspreet singh: <Media omitted>\n",
       "4  9/4/19   8:22 PM    jaspreet singh: Hardware required for this co..."
      ]
     },
     "execution_count": 120,
     "metadata": {},
     "output_type": "execute_result"
    }
   ],
   "source": [
    "# making separate first name column from new data frame \n",
    "data[\"Time\"]= new[0] \n",
    "  \n",
    "# making separate last name column from new data frame \n",
    "data[\"Message\"]= new[1] \n",
    "  \n",
    "# Dropping old Name columns \n",
    "data.drop(columns =[\"info\"], inplace = True) \n",
    "  \n",
    "# df display \n",
    "data.head()"
   ]
  },
  {
   "cell_type": "code",
   "execution_count": 121,
   "metadata": {},
   "outputs": [
    {
     "data": {
      "text/html": [
       "<div>\n",
       "<style scoped>\n",
       "    .dataframe tbody tr th:only-of-type {\n",
       "        vertical-align: middle;\n",
       "    }\n",
       "\n",
       "    .dataframe tbody tr th {\n",
       "        vertical-align: top;\n",
       "    }\n",
       "\n",
       "    .dataframe thead th {\n",
       "        text-align: right;\n",
       "    }\n",
       "</style>\n",
       "<table border=\"1\" class=\"dataframe\">\n",
       "  <thead>\n",
       "    <tr style=\"text-align: right;\">\n",
       "      <th></th>\n",
       "      <th>Date</th>\n",
       "      <th>Time</th>\n",
       "      <th>Name</th>\n",
       "      <th>Messages</th>\n",
       "    </tr>\n",
       "  </thead>\n",
       "  <tbody>\n",
       "    <tr>\n",
       "      <th>0</th>\n",
       "      <td>9/3/19</td>\n",
       "      <td>5:34 PM</td>\n",
       "      <td>+91 98888 26051 created group \"Langara College\"</td>\n",
       "      <td>None</td>\n",
       "    </tr>\n",
       "    <tr>\n",
       "      <th>1</th>\n",
       "      <td>9/4/19</td>\n",
       "      <td>5:46 PM</td>\n",
       "      <td>Nikita Batra DA added you</td>\n",
       "      <td>None</td>\n",
       "    </tr>\n",
       "    <tr>\n",
       "      <th>2</th>\n",
       "      <td>9/4/19</td>\n",
       "      <td>5:59 PM</td>\n",
       "      <td>+91 90414 65914 added Vasu DA Lanagara</td>\n",
       "      <td>None</td>\n",
       "    </tr>\n",
       "    <tr>\n",
       "      <th>3</th>\n",
       "      <td>9/4/19</td>\n",
       "      <td>8:21 PM</td>\n",
       "      <td>jaspreet singh</td>\n",
       "      <td>&lt;Media omitted&gt;</td>\n",
       "    </tr>\n",
       "    <tr>\n",
       "      <th>4</th>\n",
       "      <td>9/4/19</td>\n",
       "      <td>8:22 PM</td>\n",
       "      <td>jaspreet singh</td>\n",
       "      <td>Hardware required for this course is not that...</td>\n",
       "    </tr>\n",
       "    <tr>\n",
       "      <th>...</th>\n",
       "      <td>...</td>\n",
       "      <td>...</td>\n",
       "      <td>...</td>\n",
       "      <td>...</td>\n",
       "    </tr>\n",
       "    <tr>\n",
       "      <th>12673</th>\n",
       "      <td>6/24/20</td>\n",
       "      <td>7:19 PM</td>\n",
       "      <td>jaspreet singh</td>\n",
       "      <td>&lt;Media omitted&gt;</td>\n",
       "    </tr>\n",
       "    <tr>\n",
       "      <th>12674</th>\n",
       "      <td>6/24/20</td>\n",
       "      <td>7:40 PM</td>\n",
       "      <td>David Vazquez Data Analytics</td>\n",
       "      <td>Does it include de bokeh slider? 😛</td>\n",
       "    </tr>\n",
       "    <tr>\n",
       "      <th>12675</th>\n",
       "      <td>6/24/20</td>\n",
       "      <td>7:40 PM</td>\n",
       "      <td>jaspreet singh</td>\n",
       "      <td>no idea</td>\n",
       "    </tr>\n",
       "    <tr>\n",
       "      <th>12676</th>\n",
       "      <td>6/24/20</td>\n",
       "      <td>7:43 PM</td>\n",
       "      <td>Vasu DA Lanagara</td>\n",
       "      <td>Send me the Code if slider includes😂</td>\n",
       "    </tr>\n",
       "    <tr>\n",
       "      <th>12677</th>\n",
       "      <td>6/24/20</td>\n",
       "      <td>8:08 PM</td>\n",
       "      <td>Kiran DA</td>\n",
       "      <td>Hi guys need php laravel developer and html d...</td>\n",
       "    </tr>\n",
       "  </tbody>\n",
       "</table>\n",
       "<p>12678 rows × 4 columns</p>\n",
       "</div>"
      ],
      "text/plain": [
       "          Date       Time                                              Name  \\\n",
       "0       9/3/19   5:34 PM    +91 98888 26051 created group \"Langara College\"   \n",
       "1       9/4/19   5:46 PM                          Nikita Batra DA added you   \n",
       "2       9/4/19   5:59 PM             +91 90414 65914 added Vasu DA Lanagara   \n",
       "3       9/4/19   8:21 PM                                     jaspreet singh   \n",
       "4       9/4/19   8:22 PM                                     jaspreet singh   \n",
       "...        ...        ...                                               ...   \n",
       "12673  6/24/20   7:19 PM                                     jaspreet singh   \n",
       "12674  6/24/20   7:40 PM                       David Vazquez Data Analytics   \n",
       "12675  6/24/20   7:40 PM                                     jaspreet singh   \n",
       "12676  6/24/20   7:43 PM                                   Vasu DA Lanagara   \n",
       "12677  6/24/20   8:08 PM                                           Kiran DA   \n",
       "\n",
       "                                                Messages  \n",
       "0                                                   None  \n",
       "1                                                   None  \n",
       "2                                                   None  \n",
       "3                                        <Media omitted>  \n",
       "4       Hardware required for this course is not that...  \n",
       "...                                                  ...  \n",
       "12673                                    <Media omitted>  \n",
       "12674                 Does it include de bokeh slider? 😛  \n",
       "12675                                            no idea  \n",
       "12676               Send me the Code if slider includes😂  \n",
       "12677   Hi guys need php laravel developer and html d...  \n",
       "\n",
       "[12678 rows x 4 columns]"
      ]
     },
     "execution_count": 121,
     "metadata": {},
     "output_type": "execute_result"
    }
   ],
   "source": [
    "# new data frame with split value columns \n",
    "new = data[\"Message\"].str.split(\":\", n = 1, expand = True) \n",
    "  \n",
    "# making separate first name column from new data frame \n",
    "data[\"Name\"]= new[0] \n",
    "  \n",
    "# making separate last name column from new data frame \n",
    "data[\"Messages\"]= new[1] \n",
    "  \n",
    "# Dropping old Name columns \n",
    "data.drop(columns =[\"Message\"], inplace = True) \n",
    "  \n",
    "# df display \n",
    "data "
   ]
  },
  {
   "cell_type": "code",
   "execution_count": 122,
   "metadata": {},
   "outputs": [],
   "source": [
    "#drop NA\n",
    "data.dropna(inplace=True)"
   ]
  },
  {
   "cell_type": "code",
   "execution_count": 123,
   "metadata": {},
   "outputs": [
    {
     "data": {
      "text/plain": [
       "30"
      ]
     },
     "execution_count": 123,
     "metadata": {},
     "output_type": "execute_result"
    }
   ],
   "source": [
    "#check unique students\n",
    "data.Name.nunique()"
   ]
  },
  {
   "cell_type": "code",
   "execution_count": 124,
   "metadata": {
    "scrolled": true
   },
   "outputs": [
    {
     "data": {
      "text/plain": [
       " Kirra DA LANGARA                  1517\n",
       " Roberta DA Langara                1472\n",
       " Dharun Canada DA                   939\n",
       " jaspreet singh                     855\n",
       " Vasu DA Lanagara                   796\n",
       " Kiran DA                           554\n",
       " Arshpreet Singh Lanagar DA         505\n",
       " Amir DA                            501\n",
       " Jasman DA Lanagara                 494\n",
       " Naval DA Langara                   445\n",
       " Tuli Data Analytics Langara        443\n",
       " Ved DA Langara                     369\n",
       " Cici DA Langara                    368\n",
       " Rashman DA                         335\n",
       " Harshad DA Langara                 301\n",
       " Nikita Batra DA                    293\n",
       " Kania DA Langara                   269\n",
       " Kiran DA Langara                   215\n",
       " Aditi Jaswal Langara DA Canada     204\n",
       " David Vazquez Data Analytics       198\n",
       " Reddy DA Langara Vivek             169\n",
       " Beth DA                            145\n",
       " Edward DA Langara                  119\n",
       " Navjot DA                          105\n",
       " Manoj DA Langara                    94\n",
       " Niki DA Langara                     83\n",
       " +91 98888 26051                     17\n",
       " Harsh Data Analytics Langara        14\n",
       " +91 90414 65914                     11\n",
       " Aditi DA Langara                     7\n",
       "Name: Name, dtype: int64"
      ]
     },
     "execution_count": 124,
     "metadata": {},
     "output_type": "execute_result"
    }
   ],
   "source": [
    "#counts of Names\n",
    "data[\"Name\"].value_counts()"
   ]
  },
  {
   "cell_type": "code",
   "execution_count": 125,
   "metadata": {},
   "outputs": [
    {
     "name": "stdout",
     "output_type": "stream",
     "text": [
      "[' Kirra DA LANGARA', ' Roberta DA Langara', ' Dharun Canada DA', ' jaspreet singh', ' Vasu DA Lanagara', ' Kiran DA', ' Arshpreet Singh Lanagar DA', ' Amir DA', ' Jasman DA Lanagara', ' Naval DA Langara', ' Tuli Data Analytics Langara', ' Ved DA Langara', ' Cici DA Langara', ' Rashman DA', ' Harshad DA Langara', ' Nikita Batra DA', ' Kania DA Langara', ' Kiran DA Langara', ' Aditi Jaswal Langara DA Canada', ' David Vazquez Data Analytics', ' Reddy DA Langara Vivek', ' Beth DA', ' Edward DA Langara', ' Navjot DA', ' Manoj DA Langara', ' Niki DA Langara', ' +91 98888 26051', ' Harsh Data Analytics Langara', ' +91 90414 65914', ' Aditi DA Langara']\n"
     ]
    }
   ],
   "source": [
    "#list of the Names from series value_counts object\n",
    "UniqueList =data[\"Name\"].value_counts().keys().to_list()\n",
    "print(UniqueList)"
   ]
  },
  {
   "cell_type": "code",
   "execution_count": 126,
   "metadata": {},
   "outputs": [
    {
     "data": {
      "text/plain": [
       "30"
      ]
     },
     "execution_count": 126,
     "metadata": {},
     "output_type": "execute_result"
    }
   ],
   "source": [
    "#total unique Names in Data frame \n",
    "len(data.Name.unique())"
   ]
  },
  {
   "cell_type": "code",
   "execution_count": 127,
   "metadata": {},
   "outputs": [],
   "source": [
    "data.to_csv(\"Chat.csv\", index =False)"
   ]
  },
  {
   "cell_type": "code",
   "execution_count": 128,
   "metadata": {
    "scrolled": true
   },
   "outputs": [
    {
     "data": {
      "text/html": [
       "<div>\n",
       "<style scoped>\n",
       "    .dataframe tbody tr th:only-of-type {\n",
       "        vertical-align: middle;\n",
       "    }\n",
       "\n",
       "    .dataframe tbody tr th {\n",
       "        vertical-align: top;\n",
       "    }\n",
       "\n",
       "    .dataframe thead th {\n",
       "        text-align: right;\n",
       "    }\n",
       "</style>\n",
       "<table border=\"1\" class=\"dataframe\">\n",
       "  <thead>\n",
       "    <tr style=\"text-align: right;\">\n",
       "      <th></th>\n",
       "      <th>Date</th>\n",
       "      <th>Time</th>\n",
       "      <th>Name</th>\n",
       "      <th>Messages</th>\n",
       "    </tr>\n",
       "  </thead>\n",
       "  <tbody>\n",
       "    <tr>\n",
       "      <th>3</th>\n",
       "      <td>9/4/19</td>\n",
       "      <td>8:21 PM</td>\n",
       "      <td>jaspreet singh</td>\n",
       "      <td>&lt;Media omitted&gt;</td>\n",
       "    </tr>\n",
       "    <tr>\n",
       "      <th>4</th>\n",
       "      <td>9/4/19</td>\n",
       "      <td>8:22 PM</td>\n",
       "      <td>jaspreet singh</td>\n",
       "      <td>Hardware required for this course is not that...</td>\n",
       "    </tr>\n",
       "    <tr>\n",
       "      <th>5</th>\n",
       "      <td>9/4/19</td>\n",
       "      <td>8:22 PM</td>\n",
       "      <td>jaspreet singh</td>\n",
       "      <td>May be our older system work for this course</td>\n",
       "    </tr>\n",
       "    <tr>\n",
       "      <th>6</th>\n",
       "      <td>9/4/19</td>\n",
       "      <td>8:27 PM</td>\n",
       "      <td>Dharun Canada DA</td>\n",
       "      <td>👀</td>\n",
       "    </tr>\n",
       "    <tr>\n",
       "      <th>7</th>\n",
       "      <td>9/5/19</td>\n",
       "      <td>12:34 PM</td>\n",
       "      <td>jaspreet singh</td>\n",
       "      <td>Did anyone know where this Maths Test will be...</td>\n",
       "    </tr>\n",
       "  </tbody>\n",
       "</table>\n",
       "</div>"
      ],
      "text/plain": [
       "     Date        Time               Name  \\\n",
       "3  9/4/19    8:21 PM      jaspreet singh   \n",
       "4  9/4/19    8:22 PM      jaspreet singh   \n",
       "5  9/4/19    8:22 PM      jaspreet singh   \n",
       "6  9/4/19    8:27 PM    Dharun Canada DA   \n",
       "7  9/5/19   12:34 PM      jaspreet singh   \n",
       "\n",
       "                                            Messages  \n",
       "3                                    <Media omitted>  \n",
       "4   Hardware required for this course is not that...  \n",
       "5       May be our older system work for this course  \n",
       "6                                                  👀  \n",
       "7   Did anyone know where this Maths Test will be...  "
      ]
     },
     "execution_count": 128,
     "metadata": {},
     "output_type": "execute_result"
    }
   ],
   "source": [
    "data.head()"
   ]
  },
  {
   "cell_type": "code",
   "execution_count": 129,
   "metadata": {},
   "outputs": [],
   "source": [
    "data['Date'] =  pd.to_datetime(data['Date'], format='%m/%d/%y')"
   ]
  },
  {
   "cell_type": "code",
   "execution_count": 130,
   "metadata": {},
   "outputs": [],
   "source": [
    "def t(x):\n",
    "    if x[-3:-1]=='PM' and x.split(':')[0][1:3]=='12':\n",
    "        return(x[1:6])\n",
    "    if x[-3:-1]=='PM' and x.split(':')[0][:2]!='12':\n",
    "        return(str(int(x.split(':')[0])+12)+str(':')+str(x.split(':')[1][:2]))\n",
    "    if x[-3:-1]=='AM' and x.split(':')[0][1:3]=='12':\n",
    "        return(str('00')+str(':')+str(x.split(':')[1][:2]))\n",
    "    if x[-3:-1]=='AM' and x.split(':')[0][:2]!='12' and x.split(':')[0][1:3]!='10' and x.split(':')[0][1:3]!='11':\n",
    "        return(x[1:5])\n",
    "    if x[-3:-1]=='AM' and x.split(':')[0][1:3]=='10':\n",
    "        return(x[1:6])\n",
    "    if x[-3:-1]=='AM' and x.split(':')[0][1:3]=='11':\n",
    "        return(x[1:6])"
   ]
  },
  {
   "cell_type": "code",
   "execution_count": 131,
   "metadata": {},
   "outputs": [],
   "source": [
    "data['Time'] = data['Time'].apply(lambda x: t(x))"
   ]
  },
  {
   "cell_type": "code",
   "execution_count": 132,
   "metadata": {},
   "outputs": [],
   "source": [
    "data['Time'] = pd.to_datetime(data['Time'], format='%H:%M')"
   ]
  },
  {
   "cell_type": "code",
   "execution_count": 133,
   "metadata": {},
   "outputs": [
    {
     "data": {
      "text/plain": [
       "Date        datetime64[ns]\n",
       "Time        datetime64[ns]\n",
       "Name                object\n",
       "Messages            object\n",
       "dtype: object"
      ]
     },
     "execution_count": 133,
     "metadata": {},
     "output_type": "execute_result"
    }
   ],
   "source": [
    "data.dtypes"
   ]
  },
  {
   "cell_type": "code",
   "execution_count": 134,
   "metadata": {},
   "outputs": [],
   "source": [
    "data.to_csv(r\"FinalCorrectData.csv\")"
   ]
  },
  {
   "cell_type": "markdown",
   "metadata": {},
   "source": [
    "# Total Number of message by student"
   ]
  },
  {
   "cell_type": "code",
   "execution_count": 135,
   "metadata": {},
   "outputs": [
    {
     "data": {
      "text/html": [
       "<div>\n",
       "<style scoped>\n",
       "    .dataframe tbody tr th:only-of-type {\n",
       "        vertical-align: middle;\n",
       "    }\n",
       "\n",
       "    .dataframe tbody tr th {\n",
       "        vertical-align: top;\n",
       "    }\n",
       "\n",
       "    .dataframe thead th {\n",
       "        text-align: right;\n",
       "    }\n",
       "</style>\n",
       "<table border=\"1\" class=\"dataframe\">\n",
       "  <thead>\n",
       "    <tr style=\"text-align: right;\">\n",
       "      <th></th>\n",
       "      <th>Date</th>\n",
       "      <th>Time</th>\n",
       "      <th>Name</th>\n",
       "      <th>Messages</th>\n",
       "    </tr>\n",
       "  </thead>\n",
       "  <tbody>\n",
       "    <tr>\n",
       "      <th>3</th>\n",
       "      <td>2019-09-04</td>\n",
       "      <td>1900-01-01 20:21:00</td>\n",
       "      <td>jaspreet singh</td>\n",
       "      <td>&lt;Media omitted&gt;</td>\n",
       "    </tr>\n",
       "    <tr>\n",
       "      <th>4</th>\n",
       "      <td>2019-09-04</td>\n",
       "      <td>1900-01-01 20:22:00</td>\n",
       "      <td>jaspreet singh</td>\n",
       "      <td>Hardware required for this course is not that...</td>\n",
       "    </tr>\n",
       "    <tr>\n",
       "      <th>5</th>\n",
       "      <td>2019-09-04</td>\n",
       "      <td>1900-01-01 20:22:00</td>\n",
       "      <td>jaspreet singh</td>\n",
       "      <td>May be our older system work for this course</td>\n",
       "    </tr>\n",
       "    <tr>\n",
       "      <th>6</th>\n",
       "      <td>2019-09-04</td>\n",
       "      <td>1900-01-01 20:27:00</td>\n",
       "      <td>Dharun Canada DA</td>\n",
       "      <td>👀</td>\n",
       "    </tr>\n",
       "    <tr>\n",
       "      <th>7</th>\n",
       "      <td>2019-09-05</td>\n",
       "      <td>1900-01-01 12:34:00</td>\n",
       "      <td>jaspreet singh</td>\n",
       "      <td>Did anyone know where this Maths Test will be...</td>\n",
       "    </tr>\n",
       "  </tbody>\n",
       "</table>\n",
       "</div>"
      ],
      "text/plain": [
       "        Date                Time               Name  \\\n",
       "3 2019-09-04 1900-01-01 20:21:00     jaspreet singh   \n",
       "4 2019-09-04 1900-01-01 20:22:00     jaspreet singh   \n",
       "5 2019-09-04 1900-01-01 20:22:00     jaspreet singh   \n",
       "6 2019-09-04 1900-01-01 20:27:00   Dharun Canada DA   \n",
       "7 2019-09-05 1900-01-01 12:34:00     jaspreet singh   \n",
       "\n",
       "                                            Messages  \n",
       "3                                    <Media omitted>  \n",
       "4   Hardware required for this course is not that...  \n",
       "5       May be our older system work for this course  \n",
       "6                                                  👀  \n",
       "7   Did anyone know where this Maths Test will be...  "
      ]
     },
     "execution_count": 135,
     "metadata": {},
     "output_type": "execute_result"
    }
   ],
   "source": [
    "data.head()"
   ]
  },
  {
   "cell_type": "code",
   "execution_count": 136,
   "metadata": {},
   "outputs": [],
   "source": [
    "data[\"period\"] = data[\"Date\"].astype(str) +\"/\"+ data[\"Time\"].astype(str)\n"
   ]
  },
  {
   "cell_type": "code",
   "execution_count": 137,
   "metadata": {},
   "outputs": [
    {
     "data": {
      "text/html": [
       "<div>\n",
       "<style scoped>\n",
       "    .dataframe tbody tr th:only-of-type {\n",
       "        vertical-align: middle;\n",
       "    }\n",
       "\n",
       "    .dataframe tbody tr th {\n",
       "        vertical-align: top;\n",
       "    }\n",
       "\n",
       "    .dataframe thead th {\n",
       "        text-align: right;\n",
       "    }\n",
       "</style>\n",
       "<table border=\"1\" class=\"dataframe\">\n",
       "  <thead>\n",
       "    <tr style=\"text-align: right;\">\n",
       "      <th></th>\n",
       "      <th>Date</th>\n",
       "      <th>Time</th>\n",
       "      <th>Name</th>\n",
       "      <th>Messages</th>\n",
       "      <th>period</th>\n",
       "    </tr>\n",
       "  </thead>\n",
       "  <tbody>\n",
       "    <tr>\n",
       "      <th>3</th>\n",
       "      <td>2019-09-04</td>\n",
       "      <td>1900-01-01 20:21:00</td>\n",
       "      <td>jaspreet singh</td>\n",
       "      <td>&lt;Media omitted&gt;</td>\n",
       "      <td>2019-09-04/1900-01-01 20:21:00</td>\n",
       "    </tr>\n",
       "    <tr>\n",
       "      <th>4</th>\n",
       "      <td>2019-09-04</td>\n",
       "      <td>1900-01-01 20:22:00</td>\n",
       "      <td>jaspreet singh</td>\n",
       "      <td>Hardware required for this course is not that...</td>\n",
       "      <td>2019-09-04/1900-01-01 20:22:00</td>\n",
       "    </tr>\n",
       "    <tr>\n",
       "      <th>5</th>\n",
       "      <td>2019-09-04</td>\n",
       "      <td>1900-01-01 20:22:00</td>\n",
       "      <td>jaspreet singh</td>\n",
       "      <td>May be our older system work for this course</td>\n",
       "      <td>2019-09-04/1900-01-01 20:22:00</td>\n",
       "    </tr>\n",
       "    <tr>\n",
       "      <th>6</th>\n",
       "      <td>2019-09-04</td>\n",
       "      <td>1900-01-01 20:27:00</td>\n",
       "      <td>Dharun Canada DA</td>\n",
       "      <td>👀</td>\n",
       "      <td>2019-09-04/1900-01-01 20:27:00</td>\n",
       "    </tr>\n",
       "    <tr>\n",
       "      <th>7</th>\n",
       "      <td>2019-09-05</td>\n",
       "      <td>1900-01-01 12:34:00</td>\n",
       "      <td>jaspreet singh</td>\n",
       "      <td>Did anyone know where this Maths Test will be...</td>\n",
       "      <td>2019-09-05/1900-01-01 12:34:00</td>\n",
       "    </tr>\n",
       "  </tbody>\n",
       "</table>\n",
       "</div>"
      ],
      "text/plain": [
       "        Date                Time               Name  \\\n",
       "3 2019-09-04 1900-01-01 20:21:00     jaspreet singh   \n",
       "4 2019-09-04 1900-01-01 20:22:00     jaspreet singh   \n",
       "5 2019-09-04 1900-01-01 20:22:00     jaspreet singh   \n",
       "6 2019-09-04 1900-01-01 20:27:00   Dharun Canada DA   \n",
       "7 2019-09-05 1900-01-01 12:34:00     jaspreet singh   \n",
       "\n",
       "                                            Messages  \\\n",
       "3                                    <Media omitted>   \n",
       "4   Hardware required for this course is not that...   \n",
       "5       May be our older system work for this course   \n",
       "6                                                  👀   \n",
       "7   Did anyone know where this Maths Test will be...   \n",
       "\n",
       "                           period  \n",
       "3  2019-09-04/1900-01-01 20:21:00  \n",
       "4  2019-09-04/1900-01-01 20:22:00  \n",
       "5  2019-09-04/1900-01-01 20:22:00  \n",
       "6  2019-09-04/1900-01-01 20:27:00  \n",
       "7  2019-09-05/1900-01-01 12:34:00  "
      ]
     },
     "execution_count": 137,
     "metadata": {},
     "output_type": "execute_result"
    }
   ],
   "source": [
    "data.head()"
   ]
  },
  {
   "cell_type": "code",
   "execution_count": 138,
   "metadata": {},
   "outputs": [],
   "source": [
    "period = data[\"period\"].to_list()"
   ]
  },
  {
   "cell_type": "code",
   "execution_count": 139,
   "metadata": {},
   "outputs": [],
   "source": [
    "DateTime = []\n",
    "for i in period:\n",
    "    DateTime.append(i[0:10]+\" \"+i[22:])"
   ]
  },
  {
   "cell_type": "code",
   "execution_count": 140,
   "metadata": {},
   "outputs": [],
   "source": [
    "data['Date'] =  pd.to_datetime(DateTime, format='%Y-%m-%d %H:%M:%S')"
   ]
  },
  {
   "cell_type": "code",
   "execution_count": 141,
   "metadata": {},
   "outputs": [],
   "source": [
    "data.drop(\"Time\", axis = 1, inplace =True)"
   ]
  },
  {
   "cell_type": "code",
   "execution_count": 142,
   "metadata": {},
   "outputs": [],
   "source": [
    "data.drop(\"period\", axis = 1, inplace =True)"
   ]
  },
  {
   "cell_type": "code",
   "execution_count": 143,
   "metadata": {},
   "outputs": [],
   "source": [
    "data.reset_index(inplace = True)"
   ]
  },
  {
   "cell_type": "code",
   "execution_count": 144,
   "metadata": {},
   "outputs": [],
   "source": [
    "data.drop(\"index\" , axis =1, inplace = True)"
   ]
  },
  {
   "cell_type": "code",
   "execution_count": 38,
   "metadata": {},
   "outputs": [
    {
     "data": {
      "text/html": [
       "<div>\n",
       "<style scoped>\n",
       "    .dataframe tbody tr th:only-of-type {\n",
       "        vertical-align: middle;\n",
       "    }\n",
       "\n",
       "    .dataframe tbody tr th {\n",
       "        vertical-align: top;\n",
       "    }\n",
       "\n",
       "    .dataframe thead th {\n",
       "        text-align: right;\n",
       "    }\n",
       "</style>\n",
       "<table border=\"1\" class=\"dataframe\">\n",
       "  <thead>\n",
       "    <tr style=\"text-align: right;\">\n",
       "      <th></th>\n",
       "      <th>Date</th>\n",
       "      <th>Name</th>\n",
       "      <th>Messages</th>\n",
       "    </tr>\n",
       "  </thead>\n",
       "  <tbody>\n",
       "    <tr>\n",
       "      <th>0</th>\n",
       "      <td>2019-09-04 20:21:00</td>\n",
       "      <td>jaspreet singh</td>\n",
       "      <td>&lt;Media omitted&gt;</td>\n",
       "    </tr>\n",
       "    <tr>\n",
       "      <th>1</th>\n",
       "      <td>2019-09-04 20:22:00</td>\n",
       "      <td>jaspreet singh</td>\n",
       "      <td>Hardware required for this course is not that...</td>\n",
       "    </tr>\n",
       "    <tr>\n",
       "      <th>2</th>\n",
       "      <td>2019-09-04 20:22:00</td>\n",
       "      <td>jaspreet singh</td>\n",
       "      <td>May be our older system work for this course</td>\n",
       "    </tr>\n",
       "    <tr>\n",
       "      <th>3</th>\n",
       "      <td>2019-09-04 20:27:00</td>\n",
       "      <td>Dharun Canada DA</td>\n",
       "      <td>👀</td>\n",
       "    </tr>\n",
       "    <tr>\n",
       "      <th>4</th>\n",
       "      <td>2019-09-05 12:34:00</td>\n",
       "      <td>jaspreet singh</td>\n",
       "      <td>Did anyone know where this Maths Test will be...</td>\n",
       "    </tr>\n",
       "  </tbody>\n",
       "</table>\n",
       "</div>"
      ],
      "text/plain": [
       "                 Date               Name  \\\n",
       "0 2019-09-04 20:21:00     jaspreet singh   \n",
       "1 2019-09-04 20:22:00     jaspreet singh   \n",
       "2 2019-09-04 20:22:00     jaspreet singh   \n",
       "3 2019-09-04 20:27:00   Dharun Canada DA   \n",
       "4 2019-09-05 12:34:00     jaspreet singh   \n",
       "\n",
       "                                            Messages  \n",
       "0                                    <Media omitted>  \n",
       "1   Hardware required for this course is not that...  \n",
       "2       May be our older system work for this course  \n",
       "3                                                  👀  \n",
       "4   Did anyone know where this Maths Test will be...  "
      ]
     },
     "execution_count": 38,
     "metadata": {},
     "output_type": "execute_result"
    }
   ],
   "source": [
    "data.head()"
   ]
  },
  {
   "cell_type": "code",
   "execution_count": 51,
   "metadata": {},
   "outputs": [],
   "source": [
    "#Weekdays column \n",
    "data['Weekdays'] = data['Date'].dt.day_name()\n"
   ]
  },
  {
   "cell_type": "code",
   "execution_count": 153,
   "metadata": {
    "scrolled": true
   },
   "outputs": [
    {
     "data": {
      "text/html": [
       "<div>\n",
       "<style scoped>\n",
       "    .dataframe tbody tr th:only-of-type {\n",
       "        vertical-align: middle;\n",
       "    }\n",
       "\n",
       "    .dataframe tbody tr th {\n",
       "        vertical-align: top;\n",
       "    }\n",
       "\n",
       "    .dataframe thead th {\n",
       "        text-align: right;\n",
       "    }\n",
       "</style>\n",
       "<table border=\"1\" class=\"dataframe\">\n",
       "  <thead>\n",
       "    <tr style=\"text-align: right;\">\n",
       "      <th></th>\n",
       "      <th>Date</th>\n",
       "      <th>Name</th>\n",
       "      <th>Messages</th>\n",
       "      <th>Weekdays</th>\n",
       "    </tr>\n",
       "  </thead>\n",
       "  <tbody>\n",
       "    <tr>\n",
       "      <th>11832</th>\n",
       "      <td>2020-06-24 19:19:00</td>\n",
       "      <td>jaspreet singh</td>\n",
       "      <td>&lt;Media omitted&gt;</td>\n",
       "      <td>Wednesday</td>\n",
       "    </tr>\n",
       "    <tr>\n",
       "      <th>11833</th>\n",
       "      <td>2020-06-24 19:40:00</td>\n",
       "      <td>David Vazquez Data Analytics</td>\n",
       "      <td>Does it include de bokeh slider? 😛</td>\n",
       "      <td>Wednesday</td>\n",
       "    </tr>\n",
       "    <tr>\n",
       "      <th>11834</th>\n",
       "      <td>2020-06-24 19:40:00</td>\n",
       "      <td>jaspreet singh</td>\n",
       "      <td>no idea</td>\n",
       "      <td>Wednesday</td>\n",
       "    </tr>\n",
       "    <tr>\n",
       "      <th>11835</th>\n",
       "      <td>2020-06-24 19:43:00</td>\n",
       "      <td>Vasu DA Lanagara</td>\n",
       "      <td>Send me the Code if slider includes😂</td>\n",
       "      <td>Wednesday</td>\n",
       "    </tr>\n",
       "    <tr>\n",
       "      <th>11836</th>\n",
       "      <td>2020-06-24 20:08:00</td>\n",
       "      <td>Kiran DA</td>\n",
       "      <td>Hi guys need php laravel developer and html d...</td>\n",
       "      <td>Wednesday</td>\n",
       "    </tr>\n",
       "  </tbody>\n",
       "</table>\n",
       "</div>"
      ],
      "text/plain": [
       "                     Date                           Name  \\\n",
       "11832 2020-06-24 19:19:00                 jaspreet singh   \n",
       "11833 2020-06-24 19:40:00   David Vazquez Data Analytics   \n",
       "11834 2020-06-24 19:40:00                 jaspreet singh   \n",
       "11835 2020-06-24 19:43:00               Vasu DA Lanagara   \n",
       "11836 2020-06-24 20:08:00                       Kiran DA   \n",
       "\n",
       "                                                Messages   Weekdays  \n",
       "11832                                    <Media omitted>  Wednesday  \n",
       "11833                 Does it include de bokeh slider? 😛  Wednesday  \n",
       "11834                                            no idea  Wednesday  \n",
       "11835               Send me the Code if slider includes😂  Wednesday  \n",
       "11836   Hi guys need php laravel developer and html d...  Wednesday  "
      ]
     },
     "execution_count": 153,
     "metadata": {},
     "output_type": "execute_result"
    }
   ],
   "source": [
    "data.tail()"
   ]
  },
  {
   "cell_type": "code",
   "execution_count": 53,
   "metadata": {},
   "outputs": [],
   "source": [
    "#Groupby by names to get total number of messages \n",
    "Total_number_of_messages=pd.DataFrame(data.groupby(\"Name\")[\"Messages\"].nunique())\n",
    "\n",
    "#Creating a sorted dataframe \n",
    "Total_number_of_messages =pd.DataFrame(Total_number_of_messages[\"Messages\"].sort_values(ascending=True))"
   ]
  },
  {
   "cell_type": "code",
   "execution_count": 54,
   "metadata": {
    "scrolled": true
   },
   "outputs": [
    {
     "data": {
      "image/png": "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\n",
      "text/plain": [
       "<Figure size 1080x720 with 1 Axes>"
      ]
     },
     "metadata": {
      "needs_background": "light"
     },
     "output_type": "display_data"
    }
   ],
   "source": [
    "# Simple horizontal Plot\n",
    "fig = plt.figure(figsize=(15,10))\n",
    "ax = fig.add_axes([0,0,1,1])\n",
    "ax.barh(Total_number_of_messages.index,Total_number_of_messages.Messages)\n",
    "plt.show()"
   ]
  },
  {
   "cell_type": "code",
   "execution_count": 60,
   "metadata": {
    "scrolled": true
   },
   "outputs": [
    {
     "data": {
      "text/plain": [
       "[1126, 1862, 849, 922, 2670, 2629, 1779]"
      ]
     },
     "execution_count": 60,
     "metadata": {},
     "output_type": "execute_result"
    }
   ],
   "source": [
    "list(data.groupby('Weekdays').Messages.count())"
   ]
  },
  {
   "cell_type": "code",
   "execution_count": 128,
   "metadata": {
    "scrolled": true
   },
   "outputs": [
    {
     "data": {
      "text/plain": [
       "{'Sunday': 0,\n",
       " 'Monday': 1,\n",
       " 'Tuesday': 2,\n",
       " 'Wednesday': 3,\n",
       " 'Thursday': 4,\n",
       " 'Friday': 5,\n",
       " 'Saturday': 6}"
      ]
     },
     "execution_count": 128,
     "metadata": {},
     "output_type": "execute_result"
    }
   ],
   "source": [
    "data_Weekdays_Count=pd.DataFrame(data.groupby('Weekdays').Messages.count())\n",
    "sorter = ['Sunday', 'Monday', 'Tuesday', 'Wednesday', 'Thursday', 'Friday', 'Saturday']\n",
    "sorterIndex = dict(zip(sorter,range(len(sorter))))\n",
    "sorterIndex"
   ]
  },
  {
   "cell_type": "code",
   "execution_count": 130,
   "metadata": {},
   "outputs": [],
   "source": [
    "data_Weekdays_Count['Weekday'] = data_Weekdays_Count.index\n",
    "data_Weekdays_Count['Weekday'] = data_Weekdays_Count['Weekday'].map(sorterIndex)\n",
    "data_Weekdays_Count.sort_values('Weekday',inplace=True)"
   ]
  },
  {
   "cell_type": "code",
   "execution_count": 131,
   "metadata": {
    "scrolled": true
   },
   "outputs": [
    {
     "data": {
      "text/html": [
       "<div>\n",
       "<style scoped>\n",
       "    .dataframe tbody tr th:only-of-type {\n",
       "        vertical-align: middle;\n",
       "    }\n",
       "\n",
       "    .dataframe tbody tr th {\n",
       "        vertical-align: top;\n",
       "    }\n",
       "\n",
       "    .dataframe thead th {\n",
       "        text-align: right;\n",
       "    }\n",
       "</style>\n",
       "<table border=\"1\" class=\"dataframe\">\n",
       "  <thead>\n",
       "    <tr style=\"text-align: right;\">\n",
       "      <th></th>\n",
       "      <th>Messages</th>\n",
       "      <th>Weekday</th>\n",
       "    </tr>\n",
       "    <tr>\n",
       "      <th>Weekdays</th>\n",
       "      <th></th>\n",
       "      <th></th>\n",
       "    </tr>\n",
       "  </thead>\n",
       "  <tbody>\n",
       "    <tr>\n",
       "      <th>Sunday</th>\n",
       "      <td>922</td>\n",
       "      <td>0</td>\n",
       "    </tr>\n",
       "    <tr>\n",
       "      <th>Monday</th>\n",
       "      <td>1862</td>\n",
       "      <td>1</td>\n",
       "    </tr>\n",
       "    <tr>\n",
       "      <th>Tuesday</th>\n",
       "      <td>2629</td>\n",
       "      <td>2</td>\n",
       "    </tr>\n",
       "    <tr>\n",
       "      <th>Wednesday</th>\n",
       "      <td>1779</td>\n",
       "      <td>3</td>\n",
       "    </tr>\n",
       "    <tr>\n",
       "      <th>Thursday</th>\n",
       "      <td>2670</td>\n",
       "      <td>4</td>\n",
       "    </tr>\n",
       "    <tr>\n",
       "      <th>Friday</th>\n",
       "      <td>1126</td>\n",
       "      <td>5</td>\n",
       "    </tr>\n",
       "    <tr>\n",
       "      <th>Saturday</th>\n",
       "      <td>849</td>\n",
       "      <td>6</td>\n",
       "    </tr>\n",
       "  </tbody>\n",
       "</table>\n",
       "</div>"
      ],
      "text/plain": [
       "           Messages  Weekday\n",
       "Weekdays                    \n",
       "Sunday          922        0\n",
       "Monday         1862        1\n",
       "Tuesday        2629        2\n",
       "Wednesday      1779        3\n",
       "Thursday       2670        4\n",
       "Friday         1126        5\n",
       "Saturday        849        6"
      ]
     },
     "execution_count": 131,
     "metadata": {},
     "output_type": "execute_result"
    }
   ],
   "source": [
    "data_Weekdays_Count"
   ]
  },
  {
   "cell_type": "code",
<<<<<<< HEAD
   "execution_count": 132,
   "metadata": {
    "scrolled": true
   },
   "outputs": [
    {
     "data": {
      "image/png": "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\n",
      "text/plain": [
       "<Figure size 1080x720 with 1 Axes>"
      ]
     },
     "metadata": {
      "needs_background": "light"
     },
     "output_type": "display_data"
    }
   ],
   "source": [
    "fig = plt.figure(figsize=(15,10))\n",
    "ax = fig.add_axes([0,0,1,1])\n",
    "ax.bar(data_Weekdays_Count.index,data_Weekdays_Count.Messages)\n",
    "plt.show()"
   ]
  },
  {
   "cell_type": "code",
   "execution_count": 152,
   "metadata": {},
   "outputs": [
    {
     "data": {
      "text/plain": [
       "Name\n",
       " Aditi Jaswal Langara DA Canada    117\n",
       " Amir DA                           270\n",
       " Arshpreet Singh Lanagar DA        222\n",
       " Beth DA                            59\n",
       " Cici DA Langara                   137\n",
       " David Vazquez Data Analytics      130\n",
       " Dharun Canada DA                  522\n",
       " Edward DA Langara                  61\n",
       " Harshad DA Langara                169\n",
       " Jasman DA Lanagara                241\n",
       " Kania DA Langara                  177\n",
       " Kiran DA                          240\n",
       " Kiran DA Langara                  112\n",
       " Kirra DA LANGARA                  778\n",
       " Manoj DA Langara                   34\n",
       " Naval DA Langara                  247\n",
       " Navjot DA                          47\n",
       " Niki DA Langara                    25\n",
       " Nikita Batra DA                   112\n",
       " Rashman DA                        132\n",
       " Reddy DA Langara Vivek             64\n",
       " Roberta DA Langara                776\n",
       " Tuli Data Analytics Langara       230\n",
       " Vasu DA Lanagara                  302\n",
       " Ved DA Langara                    220\n",
       " jaspreet singh                    378\n",
       "Name: Messages, dtype: int64"
      ]
     },
     "execution_count": 152,
     "metadata": {},
     "output_type": "execute_result"
    }
   ],
   "source": [
    "#term 2\n",
    "data[(data.Date.dt.month>=1) & (data.Date.dt.month<=4)].groupby('Name').Messages.count()"
=======
   "execution_count": 161,
   "metadata": {},
   "outputs": [],
   "source": [
    "a = pd.DataFrame(data.groupby(\"Weekdays\").Messages.count())"
>>>>>>> ebe537c95977bf197227bb7bc58d9428b3b02359
   ]
  },
  {
   "cell_type": "code",
<<<<<<< HEAD
   "execution_count": 154,
=======
   "execution_count": 163,
>>>>>>> ebe537c95977bf197227bb7bc58d9428b3b02359
   "metadata": {},
   "outputs": [
    {
     "data": {
<<<<<<< HEAD
      "text/plain": [
       "Name\n",
       " Aditi Jaswal Langara DA Canada     52\n",
       " Amir DA                           231\n",
       " Arshpreet Singh Lanagar DA        199\n",
       " Beth DA                            35\n",
       " Cici DA Langara                   231\n",
       " David Vazquez Data Analytics       60\n",
       " Dharun Canada DA                  195\n",
       " Edward DA Langara                  41\n",
       " Harshad DA Langara                113\n",
       " Jasman DA Lanagara                187\n",
       " Kania DA Langara                   92\n",
       " Kiran DA                          268\n",
       " Kiran DA Langara                   85\n",
       " Kirra DA LANGARA                  475\n",
       " Manoj DA Langara                   29\n",
       " Naval DA Langara                  151\n",
       " Navjot DA                          35\n",
       " Niki DA Langara                    58\n",
       " Nikita Batra DA                   151\n",
       " Rashman DA                        178\n",
       " Reddy DA Langara Vivek             71\n",
       " Roberta DA Langara                571\n",
       " Tuli Data Analytics Langara       198\n",
       " Vasu DA Lanagara                  335\n",
       " Ved DA Langara                    125\n",
       " jaspreet singh                    273\n",
       "Name: Messages, dtype: int64"
      ]
     },
     "execution_count": 154,
=======
      "text/html": [
       "<div>\n",
       "<style scoped>\n",
       "    .dataframe tbody tr th:only-of-type {\n",
       "        vertical-align: middle;\n",
       "    }\n",
       "\n",
       "    .dataframe tbody tr th {\n",
       "        vertical-align: top;\n",
       "    }\n",
       "\n",
       "    .dataframe thead th {\n",
       "        text-align: right;\n",
       "    }\n",
       "</style>\n",
       "<table border=\"1\" class=\"dataframe\">\n",
       "  <thead>\n",
       "    <tr style=\"text-align: right;\">\n",
       "      <th></th>\n",
       "      <th>Messages</th>\n",
       "    </tr>\n",
       "    <tr>\n",
       "      <th>Weekdays</th>\n",
       "      <th></th>\n",
       "    </tr>\n",
       "  </thead>\n",
       "  <tbody>\n",
       "    <tr>\n",
       "      <th>Friday</th>\n",
       "      <td>1126</td>\n",
       "    </tr>\n",
       "    <tr>\n",
       "      <th>Monday</th>\n",
       "      <td>1862</td>\n",
       "    </tr>\n",
       "    <tr>\n",
       "      <th>Saturday</th>\n",
       "      <td>849</td>\n",
       "    </tr>\n",
       "    <tr>\n",
       "      <th>Sunday</th>\n",
       "      <td>922</td>\n",
       "    </tr>\n",
       "    <tr>\n",
       "      <th>Thursday</th>\n",
       "      <td>2670</td>\n",
       "    </tr>\n",
       "    <tr>\n",
       "      <th>Tuesday</th>\n",
       "      <td>2629</td>\n",
       "    </tr>\n",
       "    <tr>\n",
       "      <th>Wednesday</th>\n",
       "      <td>1779</td>\n",
       "    </tr>\n",
       "  </tbody>\n",
       "</table>\n",
       "</div>"
      ],
      "text/plain": [
       "           Messages\n",
       "Weekdays           \n",
       "Friday         1126\n",
       "Monday         1862\n",
       "Saturday        849\n",
       "Sunday          922\n",
       "Thursday       2670\n",
       "Tuesday        2629\n",
       "Wednesday      1779"
      ]
     },
     "execution_count": 163,
>>>>>>> ebe537c95977bf197227bb7bc58d9428b3b02359
     "metadata": {},
     "output_type": "execute_result"
    }
   ],
   "source": [
<<<<<<< HEAD
    "#Term 3\n",
    "data[(data.Date.dt.month>=5) & (data.Date.dt.month<=6)].groupby('Name').Messages.count()"
   ]
  },
  {
   "cell_type": "markdown",
   "metadata": {},
   "source": [
    "# Term 1"
   ]
  },
  {
   "cell_type": "code",
   "execution_count": 160,
   "metadata": {},
   "outputs": [
    {
     "data": {
      "image/png": "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\n",
      "text/plain": [
       "<Figure size 1080x720 with 1 Axes>"
      ]
     },
     "metadata": {
      "needs_background": "light"
     },
     "output_type": "display_data"
    }
   ],
   "source": [
    "#Groupby by names to get total number of messages in term1\n",
    "Total_number_of_messages_term1=pd.DataFrame(data[(data.Date.dt.month>=9) & (data.Date.dt.month<=12) &\n",
    "                                                (data.Date.dt.year == 2019)].groupby('Name').Messages.count())\n",
    "\n",
    "#Creating a sorted dataframe in term1\n",
    "Total_number_of_messages_term1 =pd.DataFrame(Total_number_of_messages_term1[\"Messages\"].sort_values(ascending=True))\n",
    "\n",
    "# Simple horizontal Plot for term1\n",
    "fig = plt.figure(figsize=(15,10))\n",
    "ax = fig.add_axes([0,0,1,1])\n",
    "ax.barh(Total_number_of_messages_term1.index,Total_number_of_messages_term1.Messages)\n",
    "plt.show()"
   ]
  },
  {
   "cell_type": "markdown",
   "metadata": {},
   "source": [
    "# Term 2"
   ]
  },
  {
   "cell_type": "code",
   "execution_count": 161,
   "metadata": {},
   "outputs": [
    {
     "data": {
      "image/png": "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\n",
      "text/plain": [
       "<Figure size 1080x720 with 1 Axes>"
      ]
     },
     "metadata": {
      "needs_background": "light"
     },
     "output_type": "display_data"
    }
   ],
   "source": [
    "#Groupby by names to get total number of messages in term2\n",
    "Total_number_of_messages_term2=pd.DataFrame(data[(data.Date.dt.month>=1) & (data.Date.dt.month<=4) &\n",
    "                                                (data.Date.dt.year == 2020)].groupby('Name').Messages.count())\n",
    "\n",
    "#Creating a sorted dataframe in term1\n",
    "Total_number_of_messages_term2 =pd.DataFrame(Total_number_of_messages_term2[\"Messages\"].sort_values(ascending=True))\n",
    "\n",
    "# Simple horizontal Plot for term2\n",
    "fig = plt.figure(figsize=(15,10))\n",
    "ax = fig.add_axes([0,0,1,1])\n",
    "ax.barh(Total_number_of_messages_term2.index,Total_number_of_messages_term2.Messages)\n",
    "plt.show()"
   ]
  },
  {
   "cell_type": "markdown",
   "metadata": {},
   "source": [
    "# Term3"
   ]
  },
  {
   "cell_type": "code",
   "execution_count": 162,
   "metadata": {},
   "outputs": [
    {
     "data": {
      "image/png": "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\n",
      "text/plain": [
       "<Figure size 1080x720 with 1 Axes>"
      ]
     },
     "metadata": {
      "needs_background": "light"
     },
     "output_type": "display_data"
    }
   ],
   "source": [
    "#Groupby by names to get total number of messages in term3\n",
    "Total_number_of_messages_term3=pd.DataFrame(data[(data.Date.dt.month>=5) & (data.Date.dt.month<=6) &\n",
    "                                                (data.Date.dt.year == 2020)].groupby('Name').Messages.count())\n",
    "\n",
    "#Creating a sorted dataframe in term3\n",
    "Total_number_of_messages_term3 =pd.DataFrame(Total_number_of_messages_term3[\"Messages\"].sort_values(ascending=True))\n",
    "\n",
    "# Simple horizontal Plot for term3\n",
    "fig = plt.figure(figsize=(15,10))\n",
    "ax = fig.add_axes([0,0,1,1])\n",
    "ax.barh(Total_number_of_messages_term3.index,Total_number_of_messages_term3.Messages)\n",
    "plt.show()"
=======
    "a"
>>>>>>> ebe537c95977bf197227bb7bc58d9428b3b02359
   ]
  },
  {
   "cell_type": "code",
   "execution_count": null,
   "metadata": {},
   "outputs": [],
   "source": []
  }
 ],
 "metadata": {
  "kernelspec": {
   "display_name": "Python 3",
   "language": "python",
   "name": "python3"
  },
  "language_info": {
   "codemirror_mode": {
    "name": "ipython",
    "version": 3
   },
   "file_extension": ".py",
   "mimetype": "text/x-python",
   "name": "python",
   "nbconvert_exporter": "python",
   "pygments_lexer": "ipython3",
   "version": "3.7.1"
  }
 },
 "nbformat": 4,
 "nbformat_minor": 4
}
