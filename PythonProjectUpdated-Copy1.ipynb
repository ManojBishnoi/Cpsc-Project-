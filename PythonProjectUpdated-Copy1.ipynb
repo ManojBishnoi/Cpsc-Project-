{
 "cells": [
  {
   "cell_type": "markdown",
   "metadata": {},
   "source": [
    "# Whatsapp Chat Visualization PDD.DA'19"
   ]
  },
  {
   "cell_type": "code",
   "execution_count": 14,
   "metadata": {},
   "outputs": [],
   "source": [
    "#import necessory file \n",
    "import pandas as pd \n",
    "import numpy as np\n",
    "import matplotlib.pyplot as plt\n",
    "from math import pi\n",
    "import pandas as pd\n",
    "from bokeh.io import output_file, show, output_notebook\n",
    "from bokeh.palettes import Category20c\n",
    "from bokeh.plotting import figure\n",
    "from bokeh.transform import cumsum\n",
    "import altair as alt\n",
    "from vega_datasets import data\n",
    "alt.renderers.enable('default')\n",
    "import calendar\n",
    "import plotly.graph_objects as go"
   ]
  },
  {
   "cell_type": "code",
   "execution_count": 15,
   "metadata": {},
   "outputs": [
    {
     "name": "stderr",
     "output_type": "stream",
     "text": [
      "b'Skipping line 58: expected 2 fields, saw 3\\nSkipping line 78: expected 2 fields, saw 3\\nSkipping line 94: expected 2 fields, saw 3\\nSkipping line 114: expected 2 fields, saw 3\\nSkipping line 115: expected 2 fields, saw 3\\nSkipping line 133: expected 2 fields, saw 3\\nSkipping line 187: expected 2 fields, saw 3\\nSkipping line 189: expected 2 fields, saw 3\\nSkipping line 197: expected 2 fields, saw 3\\nSkipping line 265: expected 2 fields, saw 3\\nSkipping line 272: expected 2 fields, saw 3\\nSkipping line 292: expected 2 fields, saw 3\\nSkipping line 293: expected 2 fields, saw 3\\nSkipping line 295: expected 2 fields, saw 3\\nSkipping line 296: expected 2 fields, saw 3\\nSkipping line 332: expected 2 fields, saw 4\\nSkipping line 343: expected 2 fields, saw 3\\nSkipping line 349: expected 2 fields, saw 3\\nSkipping line 352: expected 2 fields, saw 3\\nSkipping line 357: expected 2 fields, saw 3\\nSkipping line 360: expected 2 fields, saw 3\\nSkipping line 377: expected 2 fields, saw 3\\nSkipping line 397: expected 2 fields, saw 3\\nSkipping line 399: expected 2 fields, saw 3\\nSkipping line 404: expected 2 fields, saw 3\\nSkipping line 409: expected 2 fields, saw 3\\nSkipping line 463: expected 2 fields, saw 3\\nSkipping line 519: expected 2 fields, saw 3\\nSkipping line 540: expected 2 fields, saw 3\\nSkipping line 553: expected 2 fields, saw 3\\nSkipping line 554: expected 2 fields, saw 4\\nSkipping line 600: expected 2 fields, saw 3\\nSkipping line 628: expected 2 fields, saw 3\\nSkipping line 635: expected 2 fields, saw 3\\nSkipping line 649: expected 2 fields, saw 3\\nSkipping line 657: expected 2 fields, saw 3\\nSkipping line 693: expected 2 fields, saw 3\\nSkipping line 705: expected 2 fields, saw 3\\nSkipping line 707: expected 2 fields, saw 3\\nSkipping line 731: expected 2 fields, saw 3\\nSkipping line 747: expected 2 fields, saw 3\\nSkipping line 771: expected 2 fields, saw 3\\nSkipping line 798: expected 2 fields, saw 3\\nSkipping line 849: expected 2 fields, saw 4\\nSkipping line 873: expected 2 fields, saw 3\\nSkipping line 921: expected 2 fields, saw 4\\nSkipping line 948: expected 2 fields, saw 3\\nSkipping line 949: expected 2 fields, saw 3\\nSkipping line 963: expected 2 fields, saw 3\\nSkipping line 975: expected 2 fields, saw 3\\nSkipping line 977: expected 2 fields, saw 3\\nSkipping line 990: expected 2 fields, saw 3\\nSkipping line 1042: expected 2 fields, saw 3\\nSkipping line 1102: expected 2 fields, saw 3\\nSkipping line 1106: expected 2 fields, saw 4\\nSkipping line 1139: expected 2 fields, saw 3\\nSkipping line 1144: expected 2 fields, saw 3\\nSkipping line 1150: expected 2 fields, saw 3\\nSkipping line 1155: expected 2 fields, saw 4\\nSkipping line 1175: expected 2 fields, saw 3\\nSkipping line 1213: expected 2 fields, saw 3\\nSkipping line 1223: expected 2 fields, saw 3\\nSkipping line 1227: expected 2 fields, saw 3\\nSkipping line 1243: expected 2 fields, saw 3\\nSkipping line 1249: expected 2 fields, saw 4\\nSkipping line 1250: expected 2 fields, saw 4\\nSkipping line 1269: expected 2 fields, saw 3\\nSkipping line 1278: expected 2 fields, saw 4\\nSkipping line 1288: expected 2 fields, saw 3\\nSkipping line 1296: expected 2 fields, saw 3\\nSkipping line 1303: expected 2 fields, saw 3\\nSkipping line 1349: expected 2 fields, saw 3\\nSkipping line 1354: expected 2 fields, saw 3\\nSkipping line 1469: expected 2 fields, saw 3\\nSkipping line 1540: expected 2 fields, saw 4\\nSkipping line 1550: expected 2 fields, saw 3\\nSkipping line 1561: expected 2 fields, saw 3\\nSkipping line 1579: expected 2 fields, saw 3\\nSkipping line 1610: expected 2 fields, saw 3\\nSkipping line 1622: expected 2 fields, saw 4\\nSkipping line 1641: expected 2 fields, saw 3\\nSkipping line 1648: expected 2 fields, saw 3\\nSkipping line 1652: expected 2 fields, saw 4\\nSkipping line 1706: expected 2 fields, saw 3\\nSkipping line 1738: expected 2 fields, saw 3\\nSkipping line 1791: expected 2 fields, saw 3\\nSkipping line 1806: expected 2 fields, saw 3\\nSkipping line 1863: expected 2 fields, saw 3\\nSkipping line 1864: expected 2 fields, saw 3\\nSkipping line 1870: expected 2 fields, saw 3\\nSkipping line 1907: expected 2 fields, saw 3\\nSkipping line 1913: expected 2 fields, saw 3\\nSkipping line 1929: expected 2 fields, saw 4\\nSkipping line 1932: expected 2 fields, saw 4\\nSkipping line 1935: expected 2 fields, saw 4\\nSkipping line 1938: expected 2 fields, saw 4\\nSkipping line 1939: expected 2 fields, saw 4\\nSkipping line 1940: expected 2 fields, saw 3\\nSkipping line 1946: expected 2 fields, saw 3\\nSkipping line 1949: expected 2 fields, saw 3\\nSkipping line 1954: expected 2 fields, saw 4\\nSkipping line 1955: expected 2 fields, saw 3\\nSkipping line 1956: expected 2 fields, saw 6\\nSkipping line 1958: expected 2 fields, saw 4\\nSkipping line 1959: expected 2 fields, saw 3\\nSkipping line 1971: expected 2 fields, saw 4\\nSkipping line 1974: expected 2 fields, saw 3\\nSkipping line 1975: expected 2 fields, saw 3\\nSkipping line 1978: expected 2 fields, saw 3\\nSkipping line 2019: expected 2 fields, saw 3\\nSkipping line 2041: expected 2 fields, saw 3\\nSkipping line 2055: expected 2 fields, saw 3\\nSkipping line 2061: expected 2 fields, saw 4\\nSkipping line 2063: expected 2 fields, saw 3\\nSkipping line 2073: expected 2 fields, saw 3\\nSkipping line 2080: expected 2 fields, saw 3\\nSkipping line 2084: expected 2 fields, saw 3\\nSkipping line 2094: expected 2 fields, saw 3\\nSkipping line 2098: expected 2 fields, saw 3\\nSkipping line 2143: expected 2 fields, saw 3\\nSkipping line 2278: expected 2 fields, saw 4\\nSkipping line 2282: expected 2 fields, saw 3\\nSkipping line 2292: expected 2 fields, saw 3\\nSkipping line 2294: expected 2 fields, saw 3\\nSkipping line 2303: expected 2 fields, saw 5\\nSkipping line 2313: expected 2 fields, saw 4\\nSkipping line 2326: expected 2 fields, saw 3\\nSkipping line 2334: expected 2 fields, saw 5\\nSkipping line 2346: expected 2 fields, saw 3\\nSkipping line 2355: expected 2 fields, saw 3\\nSkipping line 2356: expected 2 fields, saw 3\\nSkipping line 2390: expected 2 fields, saw 4\\nSkipping line 2401: expected 2 fields, saw 3\\nSkipping line 2416: expected 2 fields, saw 3\\nSkipping line 2425: expected 2 fields, saw 3\\nSkipping line 2436: expected 2 fields, saw 3\\nSkipping line 2440: expected 2 fields, saw 3\\nSkipping line 2463: expected 2 fields, saw 4\\nSkipping line 2499: expected 2 fields, saw 3\\nSkipping line 2507: expected 2 fields, saw 3\\nSkipping line 2516: expected 2 fields, saw 3\\nSkipping line 2524: expected 2 fields, saw 4\\nSkipping line 2525: expected 2 fields, saw 3\\nSkipping line 2595: expected 2 fields, saw 3\\nSkipping line 2601: expected 2 fields, saw 3\\nSkipping line 2604: expected 2 fields, saw 3\\nSkipping line 2631: expected 2 fields, saw 3\\nSkipping line 2680: expected 2 fields, saw 3\\nSkipping line 2682: expected 2 fields, saw 3\\nSkipping line 2700: expected 2 fields, saw 3\\nSkipping line 2704: expected 2 fields, saw 3\\nSkipping line 2707: expected 2 fields, saw 3\\nSkipping line 2708: expected 2 fields, saw 3\\nSkipping line 2727: expected 2 fields, saw 3\\nSkipping line 2766: expected 2 fields, saw 3\\nSkipping line 2820: expected 2 fields, saw 3\\nSkipping line 2858: expected 2 fields, saw 3\\nSkipping line 2870: expected 2 fields, saw 3\\nSkipping line 2889: expected 2 fields, saw 4\\nSkipping line 2895: expected 2 fields, saw 3\\nSkipping line 2902: expected 2 fields, saw 3\\nSkipping line 2946: expected 2 fields, saw 3\\nSkipping line 2949: expected 2 fields, saw 3\\nSkipping line 2957: expected 2 fields, saw 4\\nSkipping line 2962: expected 2 fields, saw 3\\nSkipping line 2963: expected 2 fields, saw 6\\nSkipping line 2964: expected 2 fields, saw 3\\nSkipping line 2972: expected 2 fields, saw 3\\nSkipping line 2988: expected 2 fields, saw 3\\nSkipping line 2999: expected 2 fields, saw 3\\nSkipping line 3054: expected 2 fields, saw 3\\nSkipping line 3069: expected 2 fields, saw 3\\nSkipping line 3100: expected 2 fields, saw 3\\nSkipping line 3108: expected 2 fields, saw 4\\nSkipping line 3112: expected 2 fields, saw 3\\nSkipping line 3170: expected 2 fields, saw 3\\nSkipping line 3210: expected 2 fields, saw 3\\nSkipping line 3218: expected 2 fields, saw 3\\nSkipping line 3231: expected 2 fields, saw 4\\nSkipping line 3250: expected 2 fields, saw 3\\nSkipping line 3253: expected 2 fields, saw 4\\nSkipping line 3255: expected 2 fields, saw 3\\nSkipping line 3258: expected 2 fields, saw 4\\nSkipping line 3259: expected 2 fields, saw 3\\nSkipping line 3263: expected 2 fields, saw 3\\nSkipping line 3269: expected 2 fields, saw 3\\nSkipping line 3272: expected 2 fields, saw 3\\nSkipping line 3287: expected 2 fields, saw 4\\nSkipping line 3299: expected 2 fields, saw 3\\nSkipping line 3304: expected 2 fields, saw 3\\nSkipping line 3327: expected 2 fields, saw 3\\nSkipping line 3408: expected 2 fields, saw 3\\nSkipping line 3428: expected 2 fields, saw 3\\nSkipping line 3438: expected 2 fields, saw 3\\nSkipping line 3483: expected 2 fields, saw 3\\nSkipping line 3508: expected 2 fields, saw 3\\nSkipping line 3510: expected 2 fields, saw 3\\nSkipping line 3533: expected 2 fields, saw 3\\nSkipping line 3640: expected 2 fields, saw 3\\nSkipping line 3652: expected 2 fields, saw 3\\nSkipping line 3688: expected 2 fields, saw 4\\nSkipping line 3718: expected 2 fields, saw 3\\nSkipping line 3748: expected 2 fields, saw 3\\nSkipping line 3750: expected 2 fields, saw 7\\nSkipping line 3758: expected 2 fields, saw 3\\nSkipping line 3762: expected 2 fields, saw 3\\nSkipping line 3764: expected 2 fields, saw 3\\nSkipping line 3766: expected 2 fields, saw 3\\nSkipping line 3769: expected 2 fields, saw 3\\nSkipping line 3822: expected 2 fields, saw 3\\nSkipping line 3829: expected 2 fields, saw 3\\nSkipping line 3836: expected 2 fields, saw 3\\nSkipping line 3841: expected 2 fields, saw 3\\nSkipping line 3862: expected 2 fields, saw 3\\nSkipping line 3865: expected 2 fields, saw 3\\nSkipping line 3867: expected 2 fields, saw 3\\nSkipping line 3890: expected 2 fields, saw 3\\nSkipping line 3900: expected 2 fields, saw 3\\nSkipping line 3903: expected 2 fields, saw 3\\nSkipping line 3937: expected 2 fields, saw 4\\nSkipping line 3957: expected 2 fields, saw 3\\nSkipping line 3965: expected 2 fields, saw 3\\nSkipping line 3968: expected 2 fields, saw 3\\nSkipping line 3979: expected 2 fields, saw 3\\nSkipping line 3980: expected 2 fields, saw 3\\nSkipping line 3992: expected 2 fields, saw 5\\nSkipping line 3994: expected 2 fields, saw 3\\nSkipping line 3998: expected 2 fields, saw 4\\nSkipping line 4003: expected 2 fields, saw 3\\nSkipping line 4023: expected 2 fields, saw 3\\nSkipping line 4029: expected 2 fields, saw 3\\nSkipping line 4040: expected 2 fields, saw 3\\nSkipping line 4043: expected 2 fields, saw 3\\nSkipping line 4045: expected 2 fields, saw 4\\nSkipping line 4062: expected 2 fields, saw 3\\nSkipping line 4077: expected 2 fields, saw 3\\nSkipping line 4136: expected 2 fields, saw 3\\nSkipping line 4170: expected 2 fields, saw 3\\nSkipping line 4182: expected 2 fields, saw 3\\nSkipping line 4194: expected 2 fields, saw 3\\nSkipping line 4197: expected 2 fields, saw 3\\nSkipping line 4211: expected 2 fields, saw 3\\nSkipping line 4227: expected 2 fields, saw 3\\nSkipping line 4233: expected 2 fields, saw 3\\nSkipping line 4254: expected 2 fields, saw 4\\nSkipping line 4263: expected 2 fields, saw 3\\nSkipping line 4267: expected 2 fields, saw 3\\nSkipping line 4270: expected 2 fields, saw 4\\nSkipping line 4275: expected 2 fields, saw 3\\nSkipping line 4356: expected 2 fields, saw 3\\nSkipping line 4357: expected 2 fields, saw 3\\nSkipping line 4358: expected 2 fields, saw 3\\nSkipping line 4370: expected 2 fields, saw 3\\nSkipping line 4374: expected 2 fields, saw 3\\nSkipping line 4384: expected 2 fields, saw 5\\nSkipping line 4407: expected 2 fields, saw 3\\nSkipping line 4449: expected 2 fields, saw 3\\nSkipping line 4466: expected 2 fields, saw 3\\nSkipping line 4489: expected 2 fields, saw 4\\nSkipping line 4503: expected 2 fields, saw 3\\nSkipping line 4549: expected 2 fields, saw 3\\nSkipping line 4553: expected 2 fields, saw 4\\nSkipping line 4556: expected 2 fields, saw 3\\nSkipping line 4577: expected 2 fields, saw 3\\nSkipping line 4603: expected 2 fields, saw 3\\nSkipping line 4611: expected 2 fields, saw 3\\nSkipping line 4622: expected 2 fields, saw 3\\nSkipping line 4645: expected 2 fields, saw 3\\nSkipping line 4648: expected 2 fields, saw 3\\nSkipping line 4699: expected 2 fields, saw 4\\nSkipping line 4755: expected 2 fields, saw 3\\nSkipping line 4774: expected 2 fields, saw 3\\nSkipping line 4785: expected 2 fields, saw 3\\nSkipping line 4824: expected 2 fields, saw 3\\nSkipping line 4850: expected 2 fields, saw 3\\nSkipping line 4936: expected 2 fields, saw 5\\nSkipping line 4982: expected 2 fields, saw 3\\nSkipping line 4986: expected 2 fields, saw 3\\nSkipping line 5027: expected 2 fields, saw 3\\nSkipping line 5033: expected 2 fields, saw 4\\nSkipping line 5034: expected 2 fields, saw 3\\nSkipping line 5035: expected 2 fields, saw 3\\nSkipping line 5111: expected 2 fields, saw 3\\nSkipping line 5218: expected 2 fields, saw 3\\nSkipping line 5219: expected 2 fields, saw 3\\nSkipping line 5229: expected 2 fields, saw 3\\nSkipping line 5235: expected 2 fields, saw 3\\nSkipping line 5239: expected 2 fields, saw 3\\nSkipping line 5257: expected 2 fields, saw 3\\nSkipping line 5308: expected 2 fields, saw 3\\nSkipping line 5386: expected 2 fields, saw 3\\nSkipping line 5403: expected 2 fields, saw 3\\nSkipping line 5407: expected 2 fields, saw 3\\nSkipping line 5408: expected 2 fields, saw 3\\nSkipping line 5446: expected 2 fields, saw 4\\nSkipping line 5447: expected 2 fields, saw 3\\nSkipping line 5474: expected 2 fields, saw 3\\nSkipping line 5488: expected 2 fields, saw 3\\nSkipping line 5494: expected 2 fields, saw 3\\nSkipping line 5513: expected 2 fields, saw 4\\nSkipping line 5514: expected 2 fields, saw 3\\nSkipping line 5531: expected 2 fields, saw 3\\nSkipping line 5537: expected 2 fields, saw 3\\nSkipping line 5548: expected 2 fields, saw 3\\nSkipping line 5559: expected 2 fields, saw 3\\nSkipping line 5597: expected 2 fields, saw 3\\nSkipping line 5600: expected 2 fields, saw 3\\nSkipping line 5614: expected 2 fields, saw 4\\nSkipping line 5620: expected 2 fields, saw 3\\nSkipping line 5624: expected 2 fields, saw 3\\nSkipping line 5630: expected 2 fields, saw 3\\nSkipping line 5664: expected 2 fields, saw 3\\nSkipping line 5681: expected 2 fields, saw 6\\nSkipping line 5689: expected 2 fields, saw 3\\nSkipping line 5716: expected 2 fields, saw 11\\nSkipping line 5737: expected 2 fields, saw 6\\nSkipping line 5748: expected 2 fields, saw 3\\nSkipping line 5755: expected 2 fields, saw 3\\nSkipping line 5802: expected 2 fields, saw 3\\nSkipping line 5836: expected 2 fields, saw 4\\nSkipping line 5850: expected 2 fields, saw 3\\nSkipping line 5852: expected 2 fields, saw 3\\nSkipping line 5853: expected 2 fields, saw 3\\nSkipping line 5868: expected 2 fields, saw 3\\nSkipping line 5878: expected 2 fields, saw 3\\nSkipping line 5880: expected 2 fields, saw 3\\nSkipping line 5883: expected 2 fields, saw 3\\nSkipping line 5912: expected 2 fields, saw 3\\nSkipping line 5917: expected 2 fields, saw 3\\nSkipping line 5923: expected 2 fields, saw 4\\nSkipping line 5953: expected 2 fields, saw 3\\nSkipping line 5958: expected 2 fields, saw 3\\nSkipping line 5983: expected 2 fields, saw 3\\nSkipping line 5998: expected 2 fields, saw 3\\nSkipping line 5999: expected 2 fields, saw 3\\nSkipping line 6002: expected 2 fields, saw 3\\nSkipping line 6015: expected 2 fields, saw 4\\nSkipping line 6130: expected 2 fields, saw 3\\nSkipping line 6133: expected 2 fields, saw 5\\nSkipping line 6134: expected 2 fields, saw 3\\nSkipping line 6155: expected 2 fields, saw 3\\nSkipping line 6187: expected 2 fields, saw 3\\nSkipping line 6190: expected 2 fields, saw 3\\nSkipping line 6195: expected 2 fields, saw 4\\nSkipping line 6197: expected 2 fields, saw 3\\nSkipping line 6204: expected 2 fields, saw 3\\nSkipping line 6205: expected 2 fields, saw 3\\nSkipping line 6211: expected 2 fields, saw 3\\nSkipping line 6216: expected 2 fields, saw 4\\nSkipping line 6219: expected 2 fields, saw 3\\nSkipping line 6222: expected 2 fields, saw 3\\nSkipping line 6229: expected 2 fields, saw 3\\nSkipping line 6233: expected 2 fields, saw 3\\nSkipping line 6242: expected 2 fields, saw 4\\nSkipping line 6243: expected 2 fields, saw 3\\nSkipping line 6245: expected 2 fields, saw 3\\nSkipping line 6246: expected 2 fields, saw 3\\nSkipping line 6255: expected 2 fields, saw 4\\nSkipping line 6260: expected 2 fields, saw 3\\nSkipping line 6270: expected 2 fields, saw 3\\nSkipping line 6279: expected 2 fields, saw 3\\nSkipping line 6286: expected 2 fields, saw 3\\nSkipping line 6300: expected 2 fields, saw 3\\nSkipping line 6343: expected 2 fields, saw 3\\nSkipping line 6353: expected 2 fields, saw 3\\nSkipping line 6356: expected 2 fields, saw 3\\nSkipping line 6366: expected 2 fields, saw 3\\nSkipping line 6368: expected 2 fields, saw 3\\nSkipping line 6432: expected 2 fields, saw 5\\nSkipping line 6440: expected 2 fields, saw 3\\nSkipping line 6448: expected 2 fields, saw 3\\nSkipping line 6532: expected 2 fields, saw 3\\nSkipping line 6534: expected 2 fields, saw 3\\nSkipping line 6536: expected 2 fields, saw 4\\nSkipping line 6549: expected 2 fields, saw 4\\nSkipping line 6577: expected 2 fields, saw 3\\nSkipping line 6595: expected 2 fields, saw 3\\nSkipping line 6630: expected 2 fields, saw 3\\nSkipping line 6659: expected 2 fields, saw 3\\nSkipping line 6668: expected 2 fields, saw 3\\nSkipping line 6697: expected 2 fields, saw 3\\nSkipping line 6721: expected 2 fields, saw 4\\nSkipping line 6754: expected 2 fields, saw 3\\nSkipping line 6769: expected 2 fields, saw 3\\nSkipping line 6778: expected 2 fields, saw 3\\nSkipping line 6780: expected 2 fields, saw 3\\nSkipping line 6832: expected 2 fields, saw 3\\nSkipping line 6839: expected 2 fields, saw 3\\nSkipping line 6908: expected 2 fields, saw 3\\nSkipping line 6909: expected 2 fields, saw 3\\nSkipping line 6941: expected 2 fields, saw 3\\nSkipping line 7087: expected 2 fields, saw 4\\nSkipping line 7092: expected 2 fields, saw 3\\nSkipping line 7111: expected 2 fields, saw 3\\nSkipping line 7118: expected 2 fields, saw 3\\nSkipping line 7129: expected 2 fields, saw 3\\nSkipping line 7141: expected 2 fields, saw 3\\nSkipping line 7143: expected 2 fields, saw 7\\nSkipping line 7145: expected 2 fields, saw 3\\nSkipping line 7152: expected 2 fields, saw 3\\nSkipping line 7165: expected 2 fields, saw 3\\nSkipping line 7171: expected 2 fields, saw 3\\nSkipping line 7174: expected 2 fields, saw 3\\nSkipping line 7177: expected 2 fields, saw 3\\nSkipping line 7182: expected 2 fields, saw 3\\nSkipping line 7183: expected 2 fields, saw 4\\nSkipping line 7190: expected 2 fields, saw 5\\nSkipping line 7192: expected 2 fields, saw 4\\nSkipping line 7194: expected 2 fields, saw 5\\nSkipping line 7212: expected 2 fields, saw 3\\nSkipping line 7232: expected 2 fields, saw 3\\nSkipping line 7246: expected 2 fields, saw 3\\nSkipping line 7250: expected 2 fields, saw 3\\nSkipping line 7261: expected 2 fields, saw 3\\nSkipping line 7269: expected 2 fields, saw 3\\nSkipping line 7271: expected 2 fields, saw 3\\nSkipping line 7282: expected 2 fields, saw 4\\nSkipping line 7289: expected 2 fields, saw 3\\nSkipping line 7301: expected 2 fields, saw 3\\nSkipping line 7321: expected 2 fields, saw 3\\nSkipping line 7325: expected 2 fields, saw 4\\nSkipping line 7335: expected 2 fields, saw 6\\nSkipping line 7339: expected 2 fields, saw 3\\nSkipping line 7404: expected 2 fields, saw 3\\nSkipping line 7405: expected 2 fields, saw 3\\nSkipping line 7441: expected 2 fields, saw 3\\nSkipping line 7457: expected 2 fields, saw 3\\nSkipping line 7458: expected 2 fields, saw 3\\nSkipping line 7461: expected 2 fields, saw 3\\nSkipping line 7477: expected 2 fields, saw 4\\nSkipping line 7484: expected 2 fields, saw 4\\nSkipping line 7496: expected 2 fields, saw 3\\nSkipping line 7511: expected 2 fields, saw 3\\nSkipping line 7515: expected 2 fields, saw 4\\nSkipping line 7546: expected 2 fields, saw 3\\nSkipping line 7549: expected 2 fields, saw 3\\nSkipping line 7597: expected 2 fields, saw 3\\nSkipping line 7606: expected 2 fields, saw 3\\nSkipping line 7637: expected 2 fields, saw 4\\nSkipping line 7641: expected 2 fields, saw 3\\nSkipping line 7642: expected 2 fields, saw 3\\nSkipping line 7643: expected 2 fields, saw 3\\nSkipping line 7646: expected 2 fields, saw 3\\nSkipping line 7653: expected 2 fields, saw 3\\nSkipping line 7657: expected 2 fields, saw 3\\nSkipping line 7723: expected 2 fields, saw 3\\nSkipping line 7779: expected 2 fields, saw 3\\nSkipping line 7780: expected 2 fields, saw 4\\nSkipping line 7781: expected 2 fields, saw 4\\nSkipping line 7806: expected 2 fields, saw 3\\nSkipping line 7926: expected 2 fields, saw 3\\nSkipping line 7931: expected 2 fields, saw 3\\nSkipping line 7939: expected 2 fields, saw 3\\nSkipping line 7989: expected 2 fields, saw 3\\nSkipping line 7994: expected 2 fields, saw 3\\nSkipping line 8013: expected 2 fields, saw 4\\nSkipping line 8018: expected 2 fields, saw 3\\nSkipping line 8051: expected 2 fields, saw 3\\nSkipping line 8053: expected 2 fields, saw 3\\nSkipping line 8086: expected 2 fields, saw 3\\nSkipping line 8116: expected 2 fields, saw 3\\nSkipping line 8157: expected 2 fields, saw 3\\nSkipping line 8168: expected 2 fields, saw 4\\nSkipping line 8177: expected 2 fields, saw 3\\nSkipping line 8187: expected 2 fields, saw 3\\nSkipping line 8206: expected 2 fields, saw 3\\nSkipping line 8223: expected 2 fields, saw 3\\nSkipping line 8262: expected 2 fields, saw 3\\nSkipping line 8300: expected 2 fields, saw 3\\nSkipping line 8319: expected 2 fields, saw 3\\nSkipping line 8326: expected 2 fields, saw 3\\nSkipping line 8330: expected 2 fields, saw 3\\nSkipping line 8341: expected 2 fields, saw 4\\nSkipping line 8343: expected 2 fields, saw 3\\nSkipping line 8344: expected 2 fields, saw 3\\nSkipping line 8381: expected 2 fields, saw 3\\nSkipping line 8385: expected 2 fields, saw 3\\nSkipping line 8417: expected 2 fields, saw 3\\nSkipping line 8426: expected 2 fields, saw 3\\nSkipping line 8427: expected 2 fields, saw 4\\nSkipping line 8428: expected 2 fields, saw 3\\nSkipping line 8459: expected 2 fields, saw 3\\nSkipping line 8460: expected 2 fields, saw 3\\nSkipping line 8469: expected 2 fields, saw 5\\nSkipping line 8470: expected 2 fields, saw 5\\nSkipping line 8497: expected 2 fields, saw 3\\nSkipping line 8499: expected 2 fields, saw 4\\nSkipping line 8526: expected 2 fields, saw 4\\nSkipping line 8534: expected 2 fields, saw 6\\nSkipping line 8536: expected 2 fields, saw 9\\nSkipping line 8563: expected 2 fields, saw 3\\nSkipping line 8568: expected 2 fields, saw 4\\nSkipping line 8582: expected 2 fields, saw 3\\nSkipping line 8652: expected 2 fields, saw 3\\nSkipping line 8777: expected 2 fields, saw 3\\nSkipping line 8789: expected 2 fields, saw 3\\nSkipping line 8791: expected 2 fields, saw 3\\nSkipping line 8815: expected 2 fields, saw 3\\nSkipping line 8816: expected 2 fields, saw 3\\nSkipping line 8853: expected 2 fields, saw 3\\nSkipping line 8855: expected 2 fields, saw 3\\nSkipping line 8891: expected 2 fields, saw 4\\nSkipping line 8915: expected 2 fields, saw 3\\nSkipping line 8925: expected 2 fields, saw 3\\nSkipping line 8928: expected 2 fields, saw 3\\nSkipping line 8936: expected 2 fields, saw 5\\nSkipping line 8937: expected 2 fields, saw 3\\nSkipping line 8938: expected 2 fields, saw 4\\nSkipping line 9040: expected 2 fields, saw 3\\nSkipping line 9059: expected 2 fields, saw 3\\nSkipping line 9071: expected 2 fields, saw 3\\nSkipping line 9073: expected 2 fields, saw 4\\nSkipping line 9112: expected 2 fields, saw 3\\nSkipping line 9134: expected 2 fields, saw 3\\nSkipping line 9154: expected 2 fields, saw 3\\nSkipping line 9163: expected 2 fields, saw 3\\nSkipping line 9170: expected 2 fields, saw 3\\nSkipping line 9171: expected 2 fields, saw 3\\nSkipping line 9197: expected 2 fields, saw 3\\nSkipping line 9229: expected 2 fields, saw 3\\nSkipping line 9231: expected 2 fields, saw 3\\nSkipping line 9279: expected 2 fields, saw 3\\nSkipping line 9281: expected 2 fields, saw 3\\nSkipping line 9291: expected 2 fields, saw 3\\nSkipping line 9304: expected 2 fields, saw 3\\nSkipping line 9312: expected 2 fields, saw 3\\nSkipping line 9324: expected 2 fields, saw 6\\nSkipping line 9325: expected 2 fields, saw 6\\nSkipping line 9426: expected 2 fields, saw 3\\nSkipping line 9462: expected 2 fields, saw 3\\nSkipping line 9472: expected 2 fields, saw 3\\nSkipping line 9494: expected 2 fields, saw 3\\nSkipping line 9572: expected 2 fields, saw 3\\nSkipping line 9607: expected 2 fields, saw 12\\nSkipping line 9628: expected 2 fields, saw 6\\nSkipping line 9629: expected 2 fields, saw 6\\nSkipping line 9675: expected 2 fields, saw 3\\nSkipping line 9693: expected 2 fields, saw 3\\nSkipping line 9721: expected 2 fields, saw 3\\nSkipping line 9744: expected 2 fields, saw 3\\nSkipping line 9766: expected 2 fields, saw 3\\nSkipping line 9768: expected 2 fields, saw 3\\nSkipping line 9785: expected 2 fields, saw 3\\nSkipping line 9806: expected 2 fields, saw 4\\nSkipping line 9859: expected 2 fields, saw 3\\nSkipping line 9868: expected 2 fields, saw 6\\nSkipping line 9870: expected 2 fields, saw 3\\nSkipping line 9885: expected 2 fields, saw 3\\nSkipping line 9889: expected 2 fields, saw 3\\nSkipping line 9892: expected 2 fields, saw 3\\nSkipping line 9899: expected 2 fields, saw 3\\nSkipping line 9901: expected 2 fields, saw 3\\nSkipping line 9930: expected 2 fields, saw 6\\nSkipping line 9931: expected 2 fields, saw 6\\nSkipping line 9997: expected 2 fields, saw 3\\nSkipping line 10001: expected 2 fields, saw 3\\nSkipping line 10051: expected 2 fields, saw 3\\nSkipping line 10109: expected 2 fields, saw 3\\nSkipping line 10110: expected 2 fields, saw 3\\nSkipping line 10113: expected 2 fields, saw 3\\nSkipping line 10114: expected 2 fields, saw 3\\nSkipping line 10119: expected 2 fields, saw 3\\nSkipping line 10132: expected 2 fields, saw 6\\nSkipping line 10133: expected 2 fields, saw 6\\nSkipping line 10214: expected 2 fields, saw 3\\nSkipping line 10240: expected 2 fields, saw 3\\nSkipping line 10241: expected 2 fields, saw 3\\nSkipping line 10242: expected 2 fields, saw 3\\nSkipping line 10243: expected 2 fields, saw 3\\nSkipping line 10269: expected 2 fields, saw 3\\nSkipping line 10311: expected 2 fields, saw 3\\nSkipping line 10323: expected 2 fields, saw 3\\nSkipping line 10327: expected 2 fields, saw 3\\nSkipping line 10355: expected 2 fields, saw 3\\nSkipping line 10356: expected 2 fields, saw 3\\nSkipping line 10367: expected 2 fields, saw 3\\nSkipping line 10381: expected 2 fields, saw 6\\nSkipping line 10382: expected 2 fields, saw 6\\nSkipping line 10450: expected 2 fields, saw 11\\nSkipping line 10451: expected 2 fields, saw 10\\nSkipping line 10454: expected 2 fields, saw 3\\nSkipping line 10457: expected 2 fields, saw 3\\nSkipping line 10476: expected 2 fields, saw 9\\nSkipping line 10480: expected 2 fields, saw 4\\nSkipping line 10490: expected 2 fields, saw 3\\nSkipping line 10493: expected 2 fields, saw 3\\nSkipping line 10496: expected 2 fields, saw 3\\nSkipping line 10510: expected 2 fields, saw 5\\nSkipping line 10527: expected 2 fields, saw 3\\nSkipping line 10533: expected 2 fields, saw 3\\nSkipping line 10553: expected 2 fields, saw 4\\nSkipping line 10582: expected 2 fields, saw 3\\nSkipping line 10586: expected 2 fields, saw 3\\nSkipping line 10591: expected 2 fields, saw 4\\nSkipping line 10593: expected 2 fields, saw 3\\nSkipping line 10594: expected 2 fields, saw 3\\nSkipping line 10607: expected 2 fields, saw 3\\nSkipping line 10622: expected 2 fields, saw 3\\nSkipping line 10628: expected 2 fields, saw 3\\nSkipping line 10664: expected 2 fields, saw 3\\nSkipping line 10665: expected 2 fields, saw 3\\nSkipping line 10751: expected 2 fields, saw 6\\nSkipping line 10752: expected 2 fields, saw 6\\nSkipping line 10777: expected 2 fields, saw 3\\nSkipping line 10782: expected 2 fields, saw 3\\nSkipping line 10793: expected 2 fields, saw 3\\nSkipping line 10799: expected 2 fields, saw 3\\nSkipping line 10811: expected 2 fields, saw 3\\nSkipping line 10812: expected 2 fields, saw 3\\nSkipping line 10814: expected 2 fields, saw 3\\nSkipping line 10820: expected 2 fields, saw 3\\nSkipping line 10831: expected 2 fields, saw 3\\nSkipping line 10832: expected 2 fields, saw 3\\nSkipping line 10895: expected 2 fields, saw 3\\nSkipping line 10980: expected 2 fields, saw 3\\nSkipping line 10985: expected 2 fields, saw 3\\nSkipping line 11020: expected 2 fields, saw 4\\nSkipping line 11043: expected 2 fields, saw 3\\nSkipping line 11046: expected 2 fields, saw 3\\nSkipping line 11094: expected 2 fields, saw 3\\nSkipping line 11101: expected 2 fields, saw 3\\nSkipping line 11136: expected 2 fields, saw 7\\nSkipping line 11210: expected 2 fields, saw 3\\nSkipping line 11271: expected 2 fields, saw 3\\nSkipping line 11320: expected 2 fields, saw 3\\nSkipping line 11334: expected 2 fields, saw 3\\nSkipping line 11356: expected 2 fields, saw 4\\nSkipping line 11378: expected 2 fields, saw 3\\nSkipping line 11429: expected 2 fields, saw 6\\nSkipping line 11444: expected 2 fields, saw 3\\nSkipping line 11446: expected 2 fields, saw 3\\nSkipping line 11507: expected 2 fields, saw 3\\nSkipping line 11527: expected 2 fields, saw 3\\nSkipping line 11531: expected 2 fields, saw 3\\nSkipping line 11532: expected 2 fields, saw 3\\nSkipping line 11569: expected 2 fields, saw 3\\nSkipping line 11592: expected 2 fields, saw 3\\nSkipping line 11594: expected 2 fields, saw 3\\nSkipping line 11596: expected 2 fields, saw 4\\nSkipping line 11610: expected 2 fields, saw 3\\nSkipping line 11613: expected 2 fields, saw 3\\nSkipping line 11619: expected 2 fields, saw 3\\nSkipping line 11662: expected 2 fields, saw 5\\nSkipping line 11669: expected 2 fields, saw 4\\nSkipping line 11676: expected 2 fields, saw 3\\nSkipping line 11684: expected 2 fields, saw 3\\nSkipping line 11686: expected 2 fields, saw 3\\nSkipping line 11703: expected 2 fields, saw 3\\nSkipping line 11715: expected 2 fields, saw 3\\nSkipping line 11724: expected 2 fields, saw 3\\nSkipping line 11728: expected 2 fields, saw 3\\nSkipping line 11763: expected 2 fields, saw 4\\nSkipping line 11808: expected 2 fields, saw 6\\nSkipping line 11809: expected 2 fields, saw 6\\nSkipping line 11822: expected 2 fields, saw 3\\nSkipping line 11894: expected 2 fields, saw 5\\nSkipping line 11907: expected 2 fields, saw 3\\nSkipping line 11940: expected 2 fields, saw 3\\nSkipping line 11953: expected 2 fields, saw 3\\nSkipping line 11978: expected 2 fields, saw 3\\nSkipping line 11987: expected 2 fields, saw 3\\nSkipping line 11988: expected 2 fields, saw 3\\nSkipping line 11992: expected 2 fields, saw 3\\nSkipping line 11999: expected 2 fields, saw 3\\nSkipping line 12013: expected 2 fields, saw 3\\nSkipping line 12038: expected 2 fields, saw 3\\nSkipping line 12046: expected 2 fields, saw 4\\nSkipping line 12061: expected 2 fields, saw 4\\nSkipping line 12073: expected 2 fields, saw 3\\nSkipping line 12076: expected 2 fields, saw 3\\nSkipping line 12097: expected 2 fields, saw 6\\nSkipping line 12098: expected 2 fields, saw 6\\nSkipping line 12150: expected 2 fields, saw 3\\nSkipping line 12180: expected 2 fields, saw 3\\nSkipping line 12181: expected 2 fields, saw 4\\nSkipping line 12199: expected 2 fields, saw 3\\nSkipping line 12219: expected 2 fields, saw 3\\nSkipping line 12221: expected 2 fields, saw 3\\nSkipping line 12244: expected 2 fields, saw 4\\nSkipping line 12250: expected 2 fields, saw 3\\nSkipping line 12281: expected 2 fields, saw 3\\nSkipping line 12400: expected 2 fields, saw 3\\nSkipping line 12417: expected 2 fields, saw 3\\nSkipping line 12455: expected 2 fields, saw 3\\nSkipping line 12456: expected 2 fields, saw 3\\nSkipping line 12496: expected 2 fields, saw 3\\nSkipping line 12497: expected 2 fields, saw 3\\nSkipping line 12511: expected 2 fields, saw 3\\nSkipping line 12516: expected 2 fields, saw 3\\nSkipping line 12531: expected 2 fields, saw 3\\nSkipping line 12543: expected 2 fields, saw 3\\nSkipping line 12545: expected 2 fields, saw 3\\nSkipping line 12553: expected 2 fields, saw 3\\nSkipping line 12565: expected 2 fields, saw 4\\nSkipping line 12617: expected 2 fields, saw 3\\nSkipping line 12624: expected 2 fields, saw 3\\nSkipping line 12638: expected 2 fields, saw 3\\nSkipping line 12650: expected 2 fields, saw 4\\nSkipping line 12651: expected 2 fields, saw 3\\nSkipping line 12716: expected 2 fields, saw 3\\nSkipping line 12717: expected 2 fields, saw 3\\nSkipping line 12751: expected 2 fields, saw 5\\nSkipping line 12757: expected 2 fields, saw 3\\nSkipping line 12796: expected 2 fields, saw 3\\nSkipping line 12812: expected 2 fields, saw 3\\nSkipping line 12814: expected 2 fields, saw 4\\nSkipping line 12818: expected 2 fields, saw 3\\nSkipping line 12829: expected 2 fields, saw 3\\nSkipping line 12843: expected 2 fields, saw 3\\nSkipping line 12889: expected 2 fields, saw 3\\nSkipping line 12921: expected 2 fields, saw 3\\nSkipping line 12923: expected 2 fields, saw 3\\nSkipping line 12958: expected 2 fields, saw 3\\nSkipping line 12992: expected 2 fields, saw 3\\nSkipping line 13001: expected 2 fields, saw 3\\nSkipping line 13007: expected 2 fields, saw 3\\nSkipping line 13013: expected 2 fields, saw 3\\nSkipping line 13022: expected 2 fields, saw 3\\nSkipping line 13025: expected 2 fields, saw 3\\nSkipping line 13056: expected 2 fields, saw 3\\nSkipping line 13072: expected 2 fields, saw 4\\nSkipping line 13082: expected 2 fields, saw 4\\nSkipping line 13086: expected 2 fields, saw 3\\nSkipping line 13092: expected 2 fields, saw 3\\nSkipping line 13095: expected 2 fields, saw 3\\nSkipping line 13144: expected 2 fields, saw 3\\nSkipping line 13145: expected 2 fields, saw 3\\nSkipping line 13207: expected 2 fields, saw 3\\nSkipping line 13224: expected 2 fields, saw 3\\nSkipping line 13230: expected 2 fields, saw 3\\nSkipping line 13239: expected 2 fields, saw 3\\nSkipping line 13283: expected 2 fields, saw 3\\nSkipping line 13323: expected 2 fields, saw 3\\nSkipping line 13352: expected 2 fields, saw 5\\nSkipping line 13357: expected 2 fields, saw 3\\nSkipping line 13374: expected 2 fields, saw 3\\nSkipping line 13379: expected 2 fields, saw 4\\nSkipping line 13406: expected 2 fields, saw 3\\nSkipping line 13428: expected 2 fields, saw 3\\nSkipping line 13444: expected 2 fields, saw 3\\nSkipping line 13454: expected 2 fields, saw 5\\nSkipping line 13525: expected 2 fields, saw 3\\nSkipping line 13544: expected 2 fields, saw 3\\nSkipping line 13553: expected 2 fields, saw 3\\nSkipping line 13564: expected 2 fields, saw 3\\nSkipping line 13592: expected 2 fields, saw 3\\nSkipping line 13604: expected 2 fields, saw 6\\nSkipping line 13611: expected 2 fields, saw 3\\nSkipping line 13612: expected 2 fields, saw 3\\nSkipping line 13634: expected 2 fields, saw 4\\nSkipping line 13635: expected 2 fields, saw 3\\nSkipping line 13641: expected 2 fields, saw 3\\nSkipping line 13643: expected 2 fields, saw 3\\nSkipping line 13648: expected 2 fields, saw 3\\nSkipping line 13651: expected 2 fields, saw 3\\nSkipping line 13652: expected 2 fields, saw 3\\nSkipping line 13668: expected 2 fields, saw 4\\nSkipping line 13716: expected 2 fields, saw 3\\nSkipping line 13726: expected 2 fields, saw 3\\nSkipping line 13727: expected 2 fields, saw 4\\nSkipping line 13735: expected 2 fields, saw 6\\nSkipping line 13736: expected 2 fields, saw 6\\nSkipping line 13819: expected 2 fields, saw 3\\nSkipping line 13829: expected 2 fields, saw 3\\nSkipping line 13831: expected 2 fields, saw 3\\nSkipping line 13890: expected 2 fields, saw 3\\nSkipping line 13893: expected 2 fields, saw 3\\nSkipping line 13913: expected 2 fields, saw 3\\nSkipping line 13920: expected 2 fields, saw 3\\nSkipping line 13924: expected 2 fields, saw 3\\nSkipping line 13949: expected 2 fields, saw 3\\nSkipping line 13952: expected 2 fields, saw 3\\nSkipping line 13959: expected 2 fields, saw 4\\nSkipping line 13963: expected 2 fields, saw 3\\nSkipping line 13970: expected 2 fields, saw 3\\nSkipping line 13972: expected 2 fields, saw 4\\nSkipping line 13975: expected 2 fields, saw 3\\nSkipping line 13977: expected 2 fields, saw 3\\nSkipping line 13982: expected 2 fields, saw 3\\nSkipping line 13983: expected 2 fields, saw 3\\nSkipping line 13986: expected 2 fields, saw 3\\nSkipping line 14012: expected 2 fields, saw 3\\nSkipping line 14030: expected 2 fields, saw 3\\nSkipping line 14051: expected 2 fields, saw 4\\nSkipping line 14104: expected 2 fields, saw 3\\nSkipping line 14108: expected 2 fields, saw 5\\nSkipping line 14131: expected 2 fields, saw 5\\nSkipping line 14174: expected 2 fields, saw 3\\nSkipping line 14205: expected 2 fields, saw 5\\nSkipping line 14206: expected 2 fields, saw 3\\nSkipping line 14257: expected 2 fields, saw 3\\nSkipping line 14258: expected 2 fields, saw 3\\nSkipping line 14289: expected 2 fields, saw 4\\nSkipping line 14290: expected 2 fields, saw 3\\nSkipping line 14292: expected 2 fields, saw 3\\nSkipping line 14301: expected 2 fields, saw 3\\nSkipping line 14304: expected 2 fields, saw 4\\nSkipping line 14309: expected 2 fields, saw 3\\nSkipping line 14330: expected 2 fields, saw 4\\nSkipping line 14342: expected 2 fields, saw 3\\nSkipping line 14380: expected 2 fields, saw 3\\nSkipping line 14425: expected 2 fields, saw 4\\nSkipping line 14451: expected 2 fields, saw 3\\nSkipping line 14471: expected 2 fields, saw 3\\nSkipping line 14496: expected 2 fields, saw 3\\nSkipping line 14514: expected 2 fields, saw 3\\nSkipping line 14527: expected 2 fields, saw 3\\nSkipping line 14529: expected 2 fields, saw 3\\nSkipping line 14534: expected 2 fields, saw 3\\nSkipping line 14556: expected 2 fields, saw 3\\nSkipping line 14558: expected 2 fields, saw 3\\nSkipping line 14578: expected 2 fields, saw 3\\nSkipping line 14583: expected 2 fields, saw 4\\nSkipping line 14585: expected 2 fields, saw 3\\nSkipping line 14592: expected 2 fields, saw 3\\nSkipping line 14633: expected 2 fields, saw 4\\nSkipping line 14637: expected 2 fields, saw 6\\nSkipping line 14641: expected 2 fields, saw 5\\nSkipping line 14686: expected 2 fields, saw 3\\nSkipping line 14692: expected 2 fields, saw 3\\nSkipping line 14693: expected 2 fields, saw 3\\nSkipping line 14694: expected 2 fields, saw 3\\nSkipping line 14696: expected 2 fields, saw 3\\nSkipping line 14713: expected 2 fields, saw 4\\nSkipping line 14725: expected 2 fields, saw 3\\nSkipping line 14726: expected 2 fields, saw 3\\nSkipping line 14756: expected 2 fields, saw 3\\nSkipping line 14767: expected 2 fields, saw 4\\nSkipping line 14782: expected 2 fields, saw 3\\nSkipping line 14785: expected 2 fields, saw 3\\nSkipping line 14797: expected 2 fields, saw 3\\nSkipping line 14823: expected 2 fields, saw 4\\nSkipping line 14827: expected 2 fields, saw 3\\nSkipping line 14828: expected 2 fields, saw 4\\nSkipping line 14846: expected 2 fields, saw 3\\nSkipping line 14863: expected 2 fields, saw 3\\nSkipping line 14885: expected 2 fields, saw 4\\nSkipping line 14888: expected 2 fields, saw 3\\nSkipping line 14906: expected 2 fields, saw 3\\nSkipping line 14913: expected 2 fields, saw 3\\nSkipping line 14932: expected 2 fields, saw 3\\nSkipping line 14936: expected 2 fields, saw 3\\nSkipping line 14943: expected 2 fields, saw 3\\nSkipping line 14984: expected 2 fields, saw 3\\nSkipping line 14990: expected 2 fields, saw 3\\nSkipping line 14992: expected 2 fields, saw 3\\nSkipping line 15057: expected 2 fields, saw 3\\nSkipping line 15066: expected 2 fields, saw 3\\nSkipping line 15069: expected 2 fields, saw 3\\nSkipping line 15078: expected 2 fields, saw 3\\nSkipping line 15090: expected 2 fields, saw 3\\nSkipping line 15125: expected 2 fields, saw 6\\nSkipping line 15126: expected 2 fields, saw 6\\nSkipping line 15156: expected 2 fields, saw 3\\nSkipping line 15157: expected 2 fields, saw 6\\nSkipping line 15191: expected 2 fields, saw 4\\nSkipping line 15217: expected 2 fields, saw 3\\nSkipping line 15221: expected 2 fields, saw 3\\nSkipping line 15224: expected 2 fields, saw 3\\nSkipping line 15283: expected 2 fields, saw 3\\nSkipping line 15328: expected 2 fields, saw 3\\nSkipping line 15329: expected 2 fields, saw 6\\nSkipping line 15364: expected 2 fields, saw 3\\nSkipping line 15372: expected 2 fields, saw 3\\nSkipping line 15390: expected 2 fields, saw 3\\nSkipping line 15421: expected 2 fields, saw 3\\nSkipping line 15516: expected 2 fields, saw 3\\nSkipping line 15566: expected 2 fields, saw 3\\nSkipping line 15586: expected 2 fields, saw 3\\nSkipping line 15604: expected 2 fields, saw 4\\nSkipping line 15611: expected 2 fields, saw 3\\nSkipping line 15612: expected 2 fields, saw 3\\nSkipping line 15664: expected 2 fields, saw 3\\nSkipping line 15702: expected 2 fields, saw 3\\nSkipping line 15703: expected 2 fields, saw 3\\n'\n"
     ]
    }
   ],
   "source": [
    "#import data\n",
    "data = pd.read_csv(r\"WhatsApp Chat with PDD.DA’19.txt\", error_bad_lines=False)"
   ]
  },
  {
   "cell_type": "code",
   "execution_count": 16,
   "metadata": {},
   "outputs": [
    {
     "data": {
      "text/html": [
       "<div>\n",
       "<style scoped>\n",
       "    .dataframe tbody tr th:only-of-type {\n",
       "        vertical-align: middle;\n",
       "    }\n",
       "\n",
       "    .dataframe tbody tr th {\n",
       "        vertical-align: top;\n",
       "    }\n",
       "\n",
       "    .dataframe thead th {\n",
       "        text-align: right;\n",
       "    }\n",
       "</style>\n",
       "<table border=\"1\" class=\"dataframe\">\n",
       "  <thead>\n",
       "    <tr style=\"text-align: right;\">\n",
       "      <th></th>\n",
       "      <th>05/09/2019</th>\n",
       "      <th>4:29 pm - Messages to this group are now secured with end-to-end encryption. Tap for more info.</th>\n",
       "    </tr>\n",
       "  </thead>\n",
       "  <tbody>\n",
       "    <tr>\n",
       "      <th>0</th>\n",
       "      <td>03/09/2019</td>\n",
       "      <td>5:34 pm - rashman canada created group \"Langa...</td>\n",
       "    </tr>\n",
       "    <tr>\n",
       "      <th>1</th>\n",
       "      <td>05/09/2019</td>\n",
       "      <td>4:29 pm - rashman canada added you</td>\n",
       "    </tr>\n",
       "    <tr>\n",
       "      <th>2</th>\n",
       "      <td>05/09/2019</td>\n",
       "      <td>4:30 pm - rashman canada added +91 82190 16358</td>\n",
       "    </tr>\n",
       "    <tr>\n",
       "      <th>3</th>\n",
       "      <td>05/09/2019</td>\n",
       "      <td>4:30 pm - You're now an admin</td>\n",
       "    </tr>\n",
       "    <tr>\n",
       "      <th>4</th>\n",
       "      <td>05/09/2019</td>\n",
       "      <td>9:07 pm - dharun cls: Does anyone have any id...</td>\n",
       "    </tr>\n",
       "  </tbody>\n",
       "</table>\n",
       "</div>"
      ],
      "text/plain": [
       "   05/09/2019  \\\n",
       "0  03/09/2019   \n",
       "1  05/09/2019   \n",
       "2  05/09/2019   \n",
       "3  05/09/2019   \n",
       "4  05/09/2019   \n",
       "\n",
       "   4:29 pm - Messages to this group are now secured with end-to-end encryption. Tap for more info.  \n",
       "0   5:34 pm - rashman canada created group \"Langa...                                                \n",
       "1                 4:29 pm - rashman canada added you                                                \n",
       "2     4:30 pm - rashman canada added +91 82190 16358                                                \n",
       "3                      4:30 pm - You're now an admin                                                \n",
       "4   9:07 pm - dharun cls: Does anyone have any id...                                                "
      ]
     },
     "execution_count": 16,
     "metadata": {},
     "output_type": "execute_result"
    }
   ],
   "source": [
    "# First View of Data\n",
    "data.head()"
   ]
  },
  {
   "cell_type": "code",
   "execution_count": 17,
   "metadata": {},
   "outputs": [
    {
     "data": {
      "text/plain": [
       "Index(['05/09/2019', ' 4:29 pm - Messages to this group are now secured with end-to-end encryption. Tap for more info.'], dtype='object')"
      ]
     },
     "execution_count": 17,
     "metadata": {},
     "output_type": "execute_result"
    }
   ],
   "source": [
    "# checking columns in the data \n",
    "data.columns"
   ]
  },
  {
   "cell_type": "code",
   "execution_count": 18,
   "metadata": {},
   "outputs": [],
   "source": [
    "# Renaming columns \n",
    "data.rename(columns = {\"05/09/2019\":\"Date\",\" 4:29 pm - Messages to this group are now secured with end-to-end encryption. Tap for more info.\":\"info\"}, inplace = True)"
   ]
  },
  {
   "cell_type": "code",
   "execution_count": 19,
   "metadata": {},
   "outputs": [
    {
     "data": {
      "text/html": [
       "<div>\n",
       "<style scoped>\n",
       "    .dataframe tbody tr th:only-of-type {\n",
       "        vertical-align: middle;\n",
       "    }\n",
       "\n",
       "    .dataframe tbody tr th {\n",
       "        vertical-align: top;\n",
       "    }\n",
       "\n",
       "    .dataframe thead th {\n",
       "        text-align: right;\n",
       "    }\n",
       "</style>\n",
       "<table border=\"1\" class=\"dataframe\">\n",
       "  <thead>\n",
       "    <tr style=\"text-align: right;\">\n",
       "      <th></th>\n",
       "      <th>Date</th>\n",
       "      <th>Time</th>\n",
       "      <th>Message</th>\n",
       "    </tr>\n",
       "  </thead>\n",
       "  <tbody>\n",
       "    <tr>\n",
       "      <th>0</th>\n",
       "      <td>03/09/2019</td>\n",
       "      <td>5:34 pm</td>\n",
       "      <td>rashman canada created group \"Langara College\"</td>\n",
       "    </tr>\n",
       "    <tr>\n",
       "      <th>1</th>\n",
       "      <td>05/09/2019</td>\n",
       "      <td>4:29 pm</td>\n",
       "      <td>rashman canada added you</td>\n",
       "    </tr>\n",
       "    <tr>\n",
       "      <th>2</th>\n",
       "      <td>05/09/2019</td>\n",
       "      <td>4:30 pm</td>\n",
       "      <td>rashman canada added +91 82190 16358</td>\n",
       "    </tr>\n",
       "    <tr>\n",
       "      <th>3</th>\n",
       "      <td>05/09/2019</td>\n",
       "      <td>4:30 pm</td>\n",
       "      <td>You're now an admin</td>\n",
       "    </tr>\n",
       "    <tr>\n",
       "      <th>4</th>\n",
       "      <td>05/09/2019</td>\n",
       "      <td>9:07 pm</td>\n",
       "      <td>dharun cls: Does anyone have any idea how to ...</td>\n",
       "    </tr>\n",
       "  </tbody>\n",
       "</table>\n",
       "</div>"
      ],
      "text/plain": [
       "         Date       Time                                            Message\n",
       "0  03/09/2019   5:34 pm      rashman canada created group \"Langara College\"\n",
       "1  05/09/2019   4:29 pm                            rashman canada added you\n",
       "2  05/09/2019   4:30 pm                rashman canada added +91 82190 16358\n",
       "3  05/09/2019   4:30 pm                                 You're now an admin\n",
       "4  05/09/2019   9:07 pm    dharun cls: Does anyone have any idea how to ..."
      ]
     },
     "execution_count": 19,
     "metadata": {},
     "output_type": "execute_result"
    }
   ],
   "source": [
    "# Spliting info into Time and Message\n",
    "new = data[\"info\"].str.split(\"-\", n = 1, expand = True) \n",
    "# making separate first name column from new data frame \n",
    "data[\"Time\"]= new[0] \n",
    "  \n",
    "# making separate last name column from new data frame \n",
    "data[\"Message\"]= new[1] \n",
    "  \n",
    "# Dropping old Name columns \n",
    "data.drop(columns =[\"info\"], inplace = True) \n",
    "  \n",
    "# df display \n",
    "data.head()"
   ]
  },
  {
   "cell_type": "code",
   "execution_count": 20,
   "metadata": {},
   "outputs": [
    {
     "data": {
      "text/html": [
       "<div>\n",
       "<style scoped>\n",
       "    .dataframe tbody tr th:only-of-type {\n",
       "        vertical-align: middle;\n",
       "    }\n",
       "\n",
       "    .dataframe tbody tr th {\n",
       "        vertical-align: top;\n",
       "    }\n",
       "\n",
       "    .dataframe thead th {\n",
       "        text-align: right;\n",
       "    }\n",
       "</style>\n",
       "<table border=\"1\" class=\"dataframe\">\n",
       "  <thead>\n",
       "    <tr style=\"text-align: right;\">\n",
       "      <th></th>\n",
       "      <th>Date</th>\n",
       "      <th>Time</th>\n",
       "      <th>Name</th>\n",
       "      <th>Messages</th>\n",
       "    </tr>\n",
       "  </thead>\n",
       "  <tbody>\n",
       "    <tr>\n",
       "      <th>0</th>\n",
       "      <td>03/09/2019</td>\n",
       "      <td>5:34 pm</td>\n",
       "      <td>rashman canada created group \"Langara College\"</td>\n",
       "      <td>None</td>\n",
       "    </tr>\n",
       "    <tr>\n",
       "      <th>1</th>\n",
       "      <td>05/09/2019</td>\n",
       "      <td>4:29 pm</td>\n",
       "      <td>rashman canada added you</td>\n",
       "      <td>None</td>\n",
       "    </tr>\n",
       "    <tr>\n",
       "      <th>2</th>\n",
       "      <td>05/09/2019</td>\n",
       "      <td>4:30 pm</td>\n",
       "      <td>rashman canada added +91 82190 16358</td>\n",
       "      <td>None</td>\n",
       "    </tr>\n",
       "    <tr>\n",
       "      <th>3</th>\n",
       "      <td>05/09/2019</td>\n",
       "      <td>4:30 pm</td>\n",
       "      <td>You're now an admin</td>\n",
       "      <td>None</td>\n",
       "    </tr>\n",
       "    <tr>\n",
       "      <th>4</th>\n",
       "      <td>05/09/2019</td>\n",
       "      <td>9:07 pm</td>\n",
       "      <td>dharun cls</td>\n",
       "      <td>Does anyone have any idea how to solve questi...</td>\n",
       "    </tr>\n",
       "  </tbody>\n",
       "</table>\n",
       "</div>"
      ],
      "text/plain": [
       "         Date       Time                                             Name  \\\n",
       "0  03/09/2019   5:34 pm    rashman canada created group \"Langara College\"   \n",
       "1  05/09/2019   4:29 pm                          rashman canada added you   \n",
       "2  05/09/2019   4:30 pm              rashman canada added +91 82190 16358   \n",
       "3  05/09/2019   4:30 pm                               You're now an admin   \n",
       "4  05/09/2019   9:07 pm                                        dharun cls   \n",
       "\n",
       "                                            Messages  \n",
       "0                                               None  \n",
       "1                                               None  \n",
       "2                                               None  \n",
       "3                                               None  \n",
       "4   Does anyone have any idea how to solve questi...  "
      ]
     },
     "execution_count": 20,
     "metadata": {},
     "output_type": "execute_result"
    }
   ],
   "source": [
    "# Seprating Message into Name and Messages \n",
    "# new data frame with split value columns \n",
    "new = data[\"Message\"].str.split(\":\", n = 1, expand = True) \n",
    "  \n",
    "# making separate first name column from new data frame \n",
    "data[\"Name\"]= new[0] \n",
    "  \n",
    "# making separate last name column from new data frame \n",
    "data[\"Messages\"]= new[1] \n",
    "  \n",
    "# Dropping old Name columns \n",
    "data.drop(columns =[\"Message\"], inplace = True) \n",
    "  \n",
    "# df display \n",
    "data.head()"
   ]
  },
  {
   "cell_type": "code",
   "execution_count": 21,
   "metadata": {},
   "outputs": [],
   "source": [
    "#Removing null values \n",
    "data.dropna(inplace=True)"
   ]
  },
  {
   "cell_type": "code",
   "execution_count": 22,
   "metadata": {},
   "outputs": [
    {
     "data": {
      "text/plain": [
       "31"
      ]
     },
     "execution_count": 22,
     "metadata": {},
     "output_type": "execute_result"
    }
   ],
   "source": [
    "#check unique students\n",
    "data.Name.nunique()"
   ]
  },
  {
   "cell_type": "code",
   "execution_count": 23,
   "metadata": {},
   "outputs": [
    {
     "name": "stdout",
     "output_type": "stream",
     "text": [
      "[' kirra', ' Roberta Langara', ' dharun cls', ' jaspreet cls canada', ' vasu', ' kiran kumar cls', ' Amir Langara', ' arsh langara', ' jasman cls', ' tuli class', ' naval clss', ' cici', ' Vedant Langara', ' rashman canada', ' nikita langara', ' harshad cls', ' Kania Langara', ' aditi jaswal', ' Kiran Gill', ' david langara', ' vivek reddy', ' Beth Langara', ' Prerna Langara', ' Edward', ' navjot canada', ' minoj bishnoi langara', ' Nicky Langara', ' Harshad Langara', ' +91 79884 37459', ' +91 82190 16358', ' +91 90414 65914']\n"
     ]
    }
   ],
   "source": [
    "#list of the Names from series value_counts object\n",
    "UniqueList =data[\"Name\"].value_counts().keys().to_list()\n",
    "print(UniqueList)"
   ]
  },
  {
   "cell_type": "code",
   "execution_count": 24,
   "metadata": {},
   "outputs": [],
   "source": [
    "data['Name'].replace(to_replace = [' dharun cls',\n",
    " ' vasu',\n",
    " ' vivek reddy',\n",
    " ' +91 90414 65914',\n",
    " ' rashman canada',\n",
    " ' jaspreet cls canada',\n",
    " ' tuli class',\n",
    " ' Prerna Langara',\n",
    " ' +91 82190 16358',\n",
    " ' nikita langara',\n",
    " ' navjot canada',\n",
    " ' Kiran Gill',\n",
    " ' arsh langara',\n",
    " ' Edward',\n",
    " ' jasman cls',\n",
    " ' kirra',\n",
    " ' Roberta Langara',\n",
    " ' Harshad Langara',\n",
    " ' minoj bishnoi langara',\n",
    " ' Vedant Langara',\n",
    " ' kiran kumar cls',\n",
    " ' Beth Langara',\n",
    " ' aditi jaswal',\n",
    " ' naval clss',\n",
    " ' david langara',\n",
    " ' harshad cls',\n",
    " ' Amir Langara',\n",
    " ' Kania Langara',\n",
    " ' Nicky Langara',\n",
    " ' cici',\n",
    " ' +91 79884 37459'], value = ['Dharun',\n",
    "                               'Vasu',\n",
    "                               'Vivek',\n",
    "                               '+91 90414 65914',\n",
    "                               'Rashman',\n",
    "                                ' Jaspreet',\n",
    " ' Tuli ',\n",
    " ' Prerna',\n",
    " ' +91 82190 16358',\n",
    " ' Nikita ',\n",
    " ' Navjot ',\n",
    " ' Kiran ',\n",
    " ' Arsh ',\n",
    " ' Edward',\n",
    " ' Jasman',\n",
    " ' Kirra',\n",
    " ' Roberta',\n",
    " ' Harshad',\n",
    " ' Manoj',\n",
    " ' Vedant ',\n",
    " ' Kiran',\n",
    " ' Beth',\n",
    " ' Aditi',\n",
    " ' Naval',\n",
    " ' David',\n",
    " ' Harshad',\n",
    " ' Amir',\n",
    " ' Kania',\n",
    " ' Nicky',\n",
    " ' Cici',\n",
    " ' Manoj'],inplace=True)"
   ]
  },
  {
   "cell_type": "code",
   "execution_count": 25,
   "metadata": {},
   "outputs": [
    {
     "data": {
      "text/plain": [
       "29"
      ]
     },
     "execution_count": 25,
     "metadata": {},
     "output_type": "execute_result"
    }
   ],
   "source": [
    "#total unique Names in Data frame \n",
    "len(data.Name.unique())"
   ]
  },
  {
   "cell_type": "code",
   "execution_count": 26,
   "metadata": {},
   "outputs": [],
   "source": [
    "# Exporting Data \n",
    "data.to_csv(\"Chat.csv\", index =False)"
   ]
  },
  {
   "cell_type": "code",
   "execution_count": 27,
   "metadata": {
    "scrolled": true
   },
   "outputs": [
    {
     "data": {
      "text/html": [
       "<div>\n",
       "<style scoped>\n",
       "    .dataframe tbody tr th:only-of-type {\n",
       "        vertical-align: middle;\n",
       "    }\n",
       "\n",
       "    .dataframe tbody tr th {\n",
       "        vertical-align: top;\n",
       "    }\n",
       "\n",
       "    .dataframe thead th {\n",
       "        text-align: right;\n",
       "    }\n",
       "</style>\n",
       "<table border=\"1\" class=\"dataframe\">\n",
       "  <thead>\n",
       "    <tr style=\"text-align: right;\">\n",
       "      <th></th>\n",
       "      <th>Date</th>\n",
       "      <th>Time</th>\n",
       "      <th>Name</th>\n",
       "      <th>Messages</th>\n",
       "    </tr>\n",
       "  </thead>\n",
       "  <tbody>\n",
       "    <tr>\n",
       "      <th>4</th>\n",
       "      <td>05/09/2019</td>\n",
       "      <td>9:07 pm</td>\n",
       "      <td>Dharun</td>\n",
       "      <td>Does anyone have any idea how to solve questi...</td>\n",
       "    </tr>\n",
       "    <tr>\n",
       "      <th>6</th>\n",
       "      <td>05/09/2019</td>\n",
       "      <td>9:08 pm</td>\n",
       "      <td>Dharun</td>\n",
       "      <td>Spoiler alert: answer is</td>\n",
       "    </tr>\n",
       "    <tr>\n",
       "      <th>8</th>\n",
       "      <td>05/09/2019</td>\n",
       "      <td>9:09 pm</td>\n",
       "      <td>Dharun</td>\n",
       "      <td>But if anyone knows how to solve it.. it woul...</td>\n",
       "    </tr>\n",
       "    <tr>\n",
       "      <th>9</th>\n",
       "      <td>05/09/2019</td>\n",
       "      <td>9:10 pm</td>\n",
       "      <td>Dharun</td>\n",
       "      <td>I know it's x ≤ -3</td>\n",
       "    </tr>\n",
       "    <tr>\n",
       "      <th>10</th>\n",
       "      <td>05/09/2019</td>\n",
       "      <td>9:10 pm</td>\n",
       "      <td>Vasu</td>\n",
       "      <td>Let me see</td>\n",
       "    </tr>\n",
       "  </tbody>\n",
       "</table>\n",
       "</div>"
      ],
      "text/plain": [
       "          Date       Time    Name  \\\n",
       "4   05/09/2019   9:07 pm   Dharun   \n",
       "6   05/09/2019   9:08 pm   Dharun   \n",
       "8   05/09/2019   9:09 pm   Dharun   \n",
       "9   05/09/2019   9:10 pm   Dharun   \n",
       "10  05/09/2019   9:10 pm     Vasu   \n",
       "\n",
       "                                             Messages  \n",
       "4    Does anyone have any idea how to solve questi...  \n",
       "6                           Spoiler alert: answer is   \n",
       "8    But if anyone knows how to solve it.. it woul...  \n",
       "9                                  I know it's x ≤ -3  \n",
       "10                                         Let me see  "
      ]
     },
     "execution_count": 27,
     "metadata": {},
     "output_type": "execute_result"
    }
   ],
   "source": [
    "# Display Head \n",
    "data.head()"
   ]
  },
  {
   "cell_type": "code",
   "execution_count": 28,
   "metadata": {
    "scrolled": true
   },
   "outputs": [],
   "source": [
    "# Converting Date into datetime \n",
    "data['Date'] =  pd.to_datetime(data['Date'],format=\"%d/%m/%Y\")"
   ]
  },
  {
   "cell_type": "code",
   "execution_count": 29,
   "metadata": {},
   "outputs": [],
   "source": [
    "# Creating a Function to convert 12 Hours format to 24 Hours format.\n",
    "def t(x):\n",
    "    if x[-3:-1]=='pm' and x.split(':')[0][1:3]=='12':\n",
    "        return(x[1:6])\n",
    "    if x[-3:-1]=='pm' and x.split(':')[0][:2]!='12':\n",
    "        return(str(int(x.split(':')[0])+12)+str(':')+str(x.split(':')[1][:2]))\n",
    "    if x[-3:-1]=='am' and x.split(':')[0][1:3]=='12':\n",
    "        return(str('00')+str(':')+str(x.split(':')[1][:2]))\n",
    "    if x[-3:-1]=='am' and x.split(':')[0][:2]!='12' and x.split(':')[0][1:3]!='10' and x.split(':')[0][1:3]!='11':\n",
    "        return(x[1:5])\n",
    "    if x[-3:-1]=='am' and x.split(':')[0][1:3]=='10':\n",
    "        return(x[1:6])\n",
    "    if x[-3:-1]=='am' and x.split(':')[0][1:3]=='11':\n",
    "        return(x[1:6])"
   ]
  },
  {
   "cell_type": "code",
   "execution_count": 30,
   "metadata": {},
   "outputs": [],
   "source": [
    "# Applying function on Time using lambda \n",
    "data['Time'] = data['Time'].apply(lambda x: t(x))"
   ]
  },
  {
   "cell_type": "code",
   "execution_count": 31,
   "metadata": {},
   "outputs": [
    {
     "data": {
      "text/html": [
       "<div>\n",
       "<style scoped>\n",
       "    .dataframe tbody tr th:only-of-type {\n",
       "        vertical-align: middle;\n",
       "    }\n",
       "\n",
       "    .dataframe tbody tr th {\n",
       "        vertical-align: top;\n",
       "    }\n",
       "\n",
       "    .dataframe thead th {\n",
       "        text-align: right;\n",
       "    }\n",
       "</style>\n",
       "<table border=\"1\" class=\"dataframe\">\n",
       "  <thead>\n",
       "    <tr style=\"text-align: right;\">\n",
       "      <th></th>\n",
       "      <th>Date</th>\n",
       "      <th>Time</th>\n",
       "      <th>Name</th>\n",
       "      <th>Messages</th>\n",
       "    </tr>\n",
       "  </thead>\n",
       "  <tbody>\n",
       "    <tr>\n",
       "      <th>4</th>\n",
       "      <td>2019-09-05</td>\n",
       "      <td>21:07</td>\n",
       "      <td>Dharun</td>\n",
       "      <td>Does anyone have any idea how to solve questi...</td>\n",
       "    </tr>\n",
       "    <tr>\n",
       "      <th>6</th>\n",
       "      <td>2019-09-05</td>\n",
       "      <td>21:08</td>\n",
       "      <td>Dharun</td>\n",
       "      <td>Spoiler alert: answer is</td>\n",
       "    </tr>\n",
       "    <tr>\n",
       "      <th>8</th>\n",
       "      <td>2019-09-05</td>\n",
       "      <td>21:09</td>\n",
       "      <td>Dharun</td>\n",
       "      <td>But if anyone knows how to solve it.. it woul...</td>\n",
       "    </tr>\n",
       "    <tr>\n",
       "      <th>9</th>\n",
       "      <td>2019-09-05</td>\n",
       "      <td>21:10</td>\n",
       "      <td>Dharun</td>\n",
       "      <td>I know it's x ≤ -3</td>\n",
       "    </tr>\n",
       "    <tr>\n",
       "      <th>10</th>\n",
       "      <td>2019-09-05</td>\n",
       "      <td>21:10</td>\n",
       "      <td>Vasu</td>\n",
       "      <td>Let me see</td>\n",
       "    </tr>\n",
       "  </tbody>\n",
       "</table>\n",
       "</div>"
      ],
      "text/plain": [
       "         Date   Time    Name  \\\n",
       "4  2019-09-05  21:07  Dharun   \n",
       "6  2019-09-05  21:08  Dharun   \n",
       "8  2019-09-05  21:09  Dharun   \n",
       "9  2019-09-05  21:10  Dharun   \n",
       "10 2019-09-05  21:10    Vasu   \n",
       "\n",
       "                                             Messages  \n",
       "4    Does anyone have any idea how to solve questi...  \n",
       "6                           Spoiler alert: answer is   \n",
       "8    But if anyone knows how to solve it.. it woul...  \n",
       "9                                  I know it's x ≤ -3  \n",
       "10                                         Let me see  "
      ]
     },
     "execution_count": 31,
     "metadata": {},
     "output_type": "execute_result"
    }
   ],
   "source": [
    "# Display head of the data \n",
    "data.head()"
   ]
  },
  {
   "cell_type": "code",
   "execution_count": 32,
   "metadata": {},
   "outputs": [],
   "source": [
    "# Convert Time columnn to date time format\n",
    "data['Time'] = pd.to_datetime(data['Time'], format='%H:%M')"
   ]
  },
  {
   "cell_type": "code",
   "execution_count": 33,
   "metadata": {},
   "outputs": [
    {
     "data": {
      "text/plain": [
       "Date        datetime64[ns]\n",
       "Time        datetime64[ns]\n",
       "Name                object\n",
       "Messages            object\n",
       "dtype: object"
      ]
     },
     "execution_count": 33,
     "metadata": {},
     "output_type": "execute_result"
    }
   ],
   "source": [
    "# checking data type \n",
    "data.dtypes"
   ]
  },
  {
   "cell_type": "code",
   "execution_count": 34,
   "metadata": {},
   "outputs": [],
   "source": [
    "data1 = data "
   ]
  },
  {
   "cell_type": "code",
   "execution_count": 35,
   "metadata": {},
   "outputs": [
    {
     "data": {
      "text/html": [
       "<div>\n",
       "<style scoped>\n",
       "    .dataframe tbody tr th:only-of-type {\n",
       "        vertical-align: middle;\n",
       "    }\n",
       "\n",
       "    .dataframe tbody tr th {\n",
       "        vertical-align: top;\n",
       "    }\n",
       "\n",
       "    .dataframe thead th {\n",
       "        text-align: right;\n",
       "    }\n",
       "</style>\n",
       "<table border=\"1\" class=\"dataframe\">\n",
       "  <thead>\n",
       "    <tr style=\"text-align: right;\">\n",
       "      <th></th>\n",
       "      <th>Date</th>\n",
       "      <th>Time</th>\n",
       "      <th>Name</th>\n",
       "      <th>Messages</th>\n",
       "    </tr>\n",
       "  </thead>\n",
       "  <tbody>\n",
       "    <tr>\n",
       "      <th>4</th>\n",
       "      <td>2019-09-05</td>\n",
       "      <td>1900-01-01 21:07:00</td>\n",
       "      <td>Dharun</td>\n",
       "      <td>Does anyone have any idea how to solve questi...</td>\n",
       "    </tr>\n",
       "    <tr>\n",
       "      <th>6</th>\n",
       "      <td>2019-09-05</td>\n",
       "      <td>1900-01-01 21:08:00</td>\n",
       "      <td>Dharun</td>\n",
       "      <td>Spoiler alert: answer is</td>\n",
       "    </tr>\n",
       "    <tr>\n",
       "      <th>8</th>\n",
       "      <td>2019-09-05</td>\n",
       "      <td>1900-01-01 21:09:00</td>\n",
       "      <td>Dharun</td>\n",
       "      <td>But if anyone knows how to solve it.. it woul...</td>\n",
       "    </tr>\n",
       "    <tr>\n",
       "      <th>9</th>\n",
       "      <td>2019-09-05</td>\n",
       "      <td>1900-01-01 21:10:00</td>\n",
       "      <td>Dharun</td>\n",
       "      <td>I know it's x ≤ -3</td>\n",
       "    </tr>\n",
       "    <tr>\n",
       "      <th>10</th>\n",
       "      <td>2019-09-05</td>\n",
       "      <td>1900-01-01 21:10:00</td>\n",
       "      <td>Vasu</td>\n",
       "      <td>Let me see</td>\n",
       "    </tr>\n",
       "  </tbody>\n",
       "</table>\n",
       "</div>"
      ],
      "text/plain": [
       "         Date                Time    Name  \\\n",
       "4  2019-09-05 1900-01-01 21:07:00  Dharun   \n",
       "6  2019-09-05 1900-01-01 21:08:00  Dharun   \n",
       "8  2019-09-05 1900-01-01 21:09:00  Dharun   \n",
       "9  2019-09-05 1900-01-01 21:10:00  Dharun   \n",
       "10 2019-09-05 1900-01-01 21:10:00    Vasu   \n",
       "\n",
       "                                             Messages  \n",
       "4    Does anyone have any idea how to solve questi...  \n",
       "6                           Spoiler alert: answer is   \n",
       "8    But if anyone knows how to solve it.. it woul...  \n",
       "9                                  I know it's x ≤ -3  \n",
       "10                                         Let me see  "
      ]
     },
     "execution_count": 35,
     "metadata": {},
     "output_type": "execute_result"
    }
   ],
   "source": [
    "data1.head()"
   ]
  },
  {
   "cell_type": "code",
   "execution_count": 36,
   "metadata": {},
   "outputs": [],
   "source": [
    "# As we can see Time column contain some extra value that look like some date \n",
    "# we will merge Date and Time column\n",
    "\n",
    "# creating a period column that contain string values of therir respectivve date and tiem column\n",
    "data1[\"period\"] = data1[\"Date\"].astype(str) +\"/\"+ data1[\"Time\"].astype(str)\n",
    "period = data1[\"period\"].to_list()"
   ]
  },
  {
   "cell_type": "code",
   "execution_count": 37,
   "metadata": {},
   "outputs": [
    {
     "data": {
      "text/html": [
       "<div>\n",
       "<style scoped>\n",
       "    .dataframe tbody tr th:only-of-type {\n",
       "        vertical-align: middle;\n",
       "    }\n",
       "\n",
       "    .dataframe tbody tr th {\n",
       "        vertical-align: top;\n",
       "    }\n",
       "\n",
       "    .dataframe thead th {\n",
       "        text-align: right;\n",
       "    }\n",
       "</style>\n",
       "<table border=\"1\" class=\"dataframe\">\n",
       "  <thead>\n",
       "    <tr style=\"text-align: right;\">\n",
       "      <th></th>\n",
       "      <th>Date</th>\n",
       "      <th>Name</th>\n",
       "      <th>Messages</th>\n",
       "    </tr>\n",
       "  </thead>\n",
       "  <tbody>\n",
       "    <tr>\n",
       "      <th>4</th>\n",
       "      <td>2019-09-05 21:07:00</td>\n",
       "      <td>Dharun</td>\n",
       "      <td>Does anyone have any idea how to solve questi...</td>\n",
       "    </tr>\n",
       "    <tr>\n",
       "      <th>6</th>\n",
       "      <td>2019-09-05 21:08:00</td>\n",
       "      <td>Dharun</td>\n",
       "      <td>Spoiler alert: answer is</td>\n",
       "    </tr>\n",
       "    <tr>\n",
       "      <th>8</th>\n",
       "      <td>2019-09-05 21:09:00</td>\n",
       "      <td>Dharun</td>\n",
       "      <td>But if anyone knows how to solve it.. it woul...</td>\n",
       "    </tr>\n",
       "    <tr>\n",
       "      <th>9</th>\n",
       "      <td>2019-09-05 21:10:00</td>\n",
       "      <td>Dharun</td>\n",
       "      <td>I know it's x ≤ -3</td>\n",
       "    </tr>\n",
       "    <tr>\n",
       "      <th>10</th>\n",
       "      <td>2019-09-05 21:10:00</td>\n",
       "      <td>Vasu</td>\n",
       "      <td>Let me see</td>\n",
       "    </tr>\n",
       "  </tbody>\n",
       "</table>\n",
       "</div>"
      ],
      "text/plain": [
       "                  Date    Name  \\\n",
       "4  2019-09-05 21:07:00  Dharun   \n",
       "6  2019-09-05 21:08:00  Dharun   \n",
       "8  2019-09-05 21:09:00  Dharun   \n",
       "9  2019-09-05 21:10:00  Dharun   \n",
       "10 2019-09-05 21:10:00    Vasu   \n",
       "\n",
       "                                             Messages  \n",
       "4    Does anyone have any idea how to solve questi...  \n",
       "6                           Spoiler alert: answer is   \n",
       "8    But if anyone knows how to solve it.. it woul...  \n",
       "9                                  I know it's x ≤ -3  \n",
       "10                                         Let me see  "
      ]
     },
     "execution_count": 37,
     "metadata": {},
     "output_type": "execute_result"
    }
   ],
   "source": [
    "# Creating a list Datetime with cleaned values\n",
    "DateTime = []\n",
    "for i in period:\n",
    "    DateTime.append(i[0:10]+\" \"+i[22:])\n",
    "    \n",
    "# Creating a Date column with right format\n",
    "data1['Date'] =  pd.to_datetime(DateTime,format=\"%Y-%m-%d %H:%M:%S\")\n",
    "\n",
    "# Droping Time & period Columns \n",
    "data1.drop(\"Time\", axis = 1, inplace =True)\n",
    "data1.drop(\"period\", axis = 1, inplace =True)\n",
    "\n",
    "# Displaying Head \n",
    "data1.head()"
   ]
  },
  {
   "cell_type": "code",
   "execution_count": 38,
   "metadata": {},
   "outputs": [
    {
     "data": {
      "text/html": [
       "<div>\n",
       "<style scoped>\n",
       "    .dataframe tbody tr th:only-of-type {\n",
       "        vertical-align: middle;\n",
       "    }\n",
       "\n",
       "    .dataframe tbody tr th {\n",
       "        vertical-align: top;\n",
       "    }\n",
       "\n",
       "    .dataframe thead th {\n",
       "        text-align: right;\n",
       "    }\n",
       "</style>\n",
       "<table border=\"1\" class=\"dataframe\">\n",
       "  <thead>\n",
       "    <tr style=\"text-align: right;\">\n",
       "      <th></th>\n",
       "      <th>Date</th>\n",
       "      <th>Name</th>\n",
       "      <th>Messages</th>\n",
       "      <th>Weekdays</th>\n",
       "    </tr>\n",
       "  </thead>\n",
       "  <tbody>\n",
       "    <tr>\n",
       "      <th>4</th>\n",
       "      <td>2019-09-05 21:07:00</td>\n",
       "      <td>Dharun</td>\n",
       "      <td>Does anyone have any idea how to solve questi...</td>\n",
       "      <td>Thursday</td>\n",
       "    </tr>\n",
       "    <tr>\n",
       "      <th>6</th>\n",
       "      <td>2019-09-05 21:08:00</td>\n",
       "      <td>Dharun</td>\n",
       "      <td>Spoiler alert: answer is</td>\n",
       "      <td>Thursday</td>\n",
       "    </tr>\n",
       "    <tr>\n",
       "      <th>8</th>\n",
       "      <td>2019-09-05 21:09:00</td>\n",
       "      <td>Dharun</td>\n",
       "      <td>But if anyone knows how to solve it.. it woul...</td>\n",
       "      <td>Thursday</td>\n",
       "    </tr>\n",
       "    <tr>\n",
       "      <th>9</th>\n",
       "      <td>2019-09-05 21:10:00</td>\n",
       "      <td>Dharun</td>\n",
       "      <td>I know it's x ≤ -3</td>\n",
       "      <td>Thursday</td>\n",
       "    </tr>\n",
       "    <tr>\n",
       "      <th>10</th>\n",
       "      <td>2019-09-05 21:10:00</td>\n",
       "      <td>Vasu</td>\n",
       "      <td>Let me see</td>\n",
       "      <td>Thursday</td>\n",
       "    </tr>\n",
       "  </tbody>\n",
       "</table>\n",
       "</div>"
      ],
      "text/plain": [
       "                  Date    Name  \\\n",
       "4  2019-09-05 21:07:00  Dharun   \n",
       "6  2019-09-05 21:08:00  Dharun   \n",
       "8  2019-09-05 21:09:00  Dharun   \n",
       "9  2019-09-05 21:10:00  Dharun   \n",
       "10 2019-09-05 21:10:00    Vasu   \n",
       "\n",
       "                                             Messages  Weekdays  \n",
       "4    Does anyone have any idea how to solve questi...  Thursday  \n",
       "6                           Spoiler alert: answer is   Thursday  \n",
       "8    But if anyone knows how to solve it.. it woul...  Thursday  \n",
       "9                                  I know it's x ≤ -3  Thursday  \n",
       "10                                         Let me see  Thursday  "
      ]
     },
     "execution_count": 38,
     "metadata": {},
     "output_type": "execute_result"
    }
   ],
   "source": [
    "#Creating a Weekday column \n",
    "data1['Weekdays'] = data1['Date'].dt.day_name()\n",
    "data1.head()"
   ]
  },
  {
   "cell_type": "code",
   "execution_count": 39,
   "metadata": {},
   "outputs": [],
   "source": [
    "data1.to_csv(r\"FinalData.csv\", index = False)"
   ]
  },
  {
   "cell_type": "markdown",
   "metadata": {},
   "source": [
    "# Total Messages count per Student"
   ]
  },
  {
   "cell_type": "code",
   "execution_count": 139,
   "metadata": {},
   "outputs": [
    {
     "data": {
      "image/png": "[encoded data removed]",
      "text/plain": [
       "<Figure size 1296x936 with 1 Axes>"
      ]
     },
     "metadata": {
      "needs_background": "light"
     },
     "output_type": "display_data"
    }
   ],
   "source": [
    "# Total Messages count per Student \n",
    "\n",
    "#Groupby by names to get total number of messages \n",
    "Total_number_of_messages=pd.DataFrame(data1.groupby(\"Name\")[\"Messages\"].nunique())\n",
    "\n",
    "#Creating a sorted dataframe \n",
    "Total_number_of_messages =pd.DataFrame(Total_number_of_messages[\"Messages\"].sort_values(ascending=True))\n",
    "\n",
    "# Simple horizontal Plot\n",
    "fig = plt.figure(figsize=(18,13))\n",
    "ax = fig.add_axes([0,0,1,1])\n",
    "\n",
    "# Set the font dictionaries (for plot title and axis titles)\n",
    "title_font = {'fontname':'Arial', 'size':'45', 'color':'black', 'weight':'bold',\n",
    "              'verticalalignment':'bottom'} # Bottom vertical alignment for more space\n",
    "axis_font = {'fontname':'Arial', 'size':'30'}\n",
    "\n",
    "# Set Label and Title \n",
    "plt.xlabel(\" Message Count\", **axis_font)\n",
    "plt.ylabel(\" Name \", **axis_font)\n",
    "plt.title(\" Total Message count for each student\", **title_font)\n",
    "\n",
    "\n",
    "# Set Tick label Size \n",
    "for item in (ax.get_xticklabels() + ax.get_yticklabels()):\n",
    "    item.set_fontsize(20)\n",
    "\n",
    "ax.barh(Total_number_of_messages.index,Total_number_of_messages.Messages, color = \"Red\")\n",
    "plt.show()"
   ]
  },
  {
   "cell_type": "markdown",
   "metadata": {},
   "source": [
    "# Total Message count on Weekdays"
   ]
  },
  {
   "cell_type": "code",
   "execution_count": 140,
   "metadata": {
    "scrolled": true
   },
   "outputs": [
    {
     "data": {
      "image/png": "[encoded data removed]",
      "text/plain": [
       "<Figure size 648x288 with 1 Axes>"
      ]
     },
     "metadata": {
      "needs_background": "light"
     },
     "output_type": "display_data"
    }
   ],
   "source": [
    "data_Weekdays_Count=pd.DataFrame(data1.groupby('Weekdays').Messages.count())\n",
    "sorter = ['Sunday', 'Monday', 'Tuesday', 'Wednesday', 'Thursday', 'Friday', 'Saturday']\n",
    "sorterIndex = dict(zip(sorter,range(len(sorter))))\n",
    "\n",
    "data_Weekdays_Count['Weekday'] = data_Weekdays_Count.index\n",
    "data_Weekdays_Count['Weekday'] = data_Weekdays_Count['Weekday'].map(sorterIndex)\n",
    "data_Weekdays_Count.sort_values('Weekday',inplace=True)\n",
    "fig = plt.figure(figsize=(9,4))\n",
    "ax = fig.add_axes([0,0,1,1])\n",
    "ax.bar(data_Weekdays_Count.index,data_Weekdays_Count.Messages,color=\"blue\")\n",
    "plt.show()"
   ]
  },
  {
   "cell_type": "markdown",
   "metadata": {},
   "source": [
    "# Number of Message per Term"
   ]
  },
  {
   "cell_type": "code",
   "execution_count": 189,
   "metadata": {},
   "outputs": [
    {
     "data": {
      "text/html": [
       "\n",
       "\n",
       "\n",
       "\n",
       "\n",
       "\n",
       "  <div class=\"bk-root\" id=\"18e1669d-90e0-4323-bfec-a452081030f7\" data-root-id=\"2907\"></div>\n"
      ]
     },
     "metadata": {},
     "output_type": "display_data"
    },
    {
     "data": {
      "application/javascript": [
       "(function(root) {\n",
       "  function embed_document(root) {\n",
       "    \n",
       "  var docs_json = {\"2ee36dff-264b-4e5c-b9e9-fb0131e92c61\":{\"roots\":{\"references\":[{\"attributes\":{\"below\":[{\"id\":\"2918\",\"type\":\"LinearAxis\"}],\"center\":[{\"id\":\"2922\",\"type\":\"Grid\"},{\"id\":\"2927\",\"type\":\"Grid\"}],\"left\":[{\"id\":\"2923\",\"type\":\"LinearAxis\"}],\"renderers\":[{\"id\":\"2937\",\"type\":\"GlyphRenderer\"}],\"title\":{\"id\":\"2908\",\"type\":\"Title\"},\"toolbar\":{\"id\":\"2929\",\"type\":\"Toolbar\"},\"toolbar_location\":null,\"x_range\":{\"id\":\"2910\",\"type\":\"DataRange1d\"},\"x_scale\":{\"id\":\"2914\",\"type\":\"LinearScale\"},\"y_range\":{\"id\":\"2912\",\"type\":\"DataRange1d\"},\"y_scale\":{\"id\":\"2916\",\"type\":\"LinearScale\"}},\"id\":\"2907\",\"subtype\":\"Figure\",\"type\":\"Plot\"},{\"attributes\":{},\"id\":\"3043\",\"type\":\"UnionRenderers\"},{\"attributes\":{\"formatter\":{\"id\":\"3039\",\"type\":\"BasicTickFormatter\"},\"ticker\":{\"id\":\"2919\",\"type\":\"BasicTicker\"},\"visible\":false},\"id\":\"2918\",\"type\":\"LinearAxis\"},{\"attributes\":{},\"id\":\"2916\",\"type\":\"LinearScale\"},{\"attributes\":{\"end_angle\":{\"expr\":{\"id\":\"2932\",\"type\":\"CumSum\"},\"units\":\"rad\"},\"fill_color\":{\"field\":\"color\"},\"radius\":{\"units\":\"data\",\"value\":0.95},\"start_angle\":{\"expr\":{\"id\":\"2931\",\"type\":\"CumSum\"},\"units\":\"rad\"},\"x\":{\"value\":0},\"y\":{\"value\":0}},\"id\":\"2935\",\"type\":\"Wedge\"},{\"attributes\":{},\"id\":\"3042\",\"type\":\"Selection\"},{\"attributes\":{\"text\":\"Total Persentage of messages in Each Term\"},\"id\":\"2908\",\"type\":\"Title\"},{\"attributes\":{\"data_source\":{\"id\":\"2933\",\"type\":\"ColumnDataSource\"},\"glyph\":{\"id\":\"2935\",\"type\":\"Wedge\"},\"hover_glyph\":null,\"muted_glyph\":null,\"nonselection_glyph\":{\"id\":\"2936\",\"type\":\"Wedge\"},\"selection_glyph\":null,\"view\":{\"id\":\"2938\",\"type\":\"CDSView\"}},\"id\":\"2937\",\"type\":\"GlyphRenderer\"},{\"attributes\":{\"field\":\"angle\",\"include_zero\":true},\"id\":\"2931\",\"type\":\"CumSum\"},{\"attributes\":{\"end_angle\":{\"expr\":{\"id\":\"2932\",\"type\":\"CumSum\"},\"units\":\"rad\"},\"fill_alpha\":{\"value\":0.1},\"fill_color\":{\"value\":\"#1f77b4\"},\"line_alpha\":{\"value\":0.1},\"line_color\":{\"value\":\"#1f77b4\"},\"radius\":{\"units\":\"data\",\"value\":0.95},\"start_angle\":{\"expr\":{\"id\":\"2931\",\"type\":\"CumSum\"},\"units\":\"rad\"},\"x\":{\"value\":0},\"y\":{\"value\":0}},\"id\":\"2936\",\"type\":\"Wedge\"},{\"attributes\":{},\"id\":\"2914\",\"type\":\"LinearScale\"},{\"attributes\":{\"callback\":null,\"tooltips\":\"@Term: @percent{0.2f} %\"},\"id\":\"2928\",\"type\":\"HoverTool\"},{\"attributes\":{\"source\":{\"id\":\"2933\",\"type\":\"ColumnDataSource\"}},\"id\":\"2938\",\"type\":\"CDSView\"},{\"attributes\":{\"dimension\":1,\"ticker\":{\"id\":\"2924\",\"type\":\"BasicTicker\"}},\"id\":\"2927\",\"type\":\"Grid\"},{\"attributes\":{},\"id\":\"2924\",\"type\":\"BasicTicker\"},{\"attributes\":{},\"id\":\"3041\",\"type\":\"BasicTickFormatter\"},{\"attributes\":{\"field\":\"angle\"},\"id\":\"2932\",\"type\":\"CumSum\"},{\"attributes\":{\"formatter\":{\"id\":\"3041\",\"type\":\"BasicTickFormatter\"},\"ticker\":{\"id\":\"2924\",\"type\":\"BasicTicker\"},\"visible\":false},\"id\":\"2923\",\"type\":\"LinearAxis\"},{\"attributes\":{\"callback\":null,\"data\":{\"Count\":[1611,5842,6173],\"Term\":[\"Term1\",\"Term2\",\"Term3\"],\"angle\":{\"__ndarray__\":\"txfIg4LF5z8+3fEDAI0FQAR3pAOWxQZA\",\"dtype\":\"float64\",\"shape\":[3]},\"color\":[\"#3182bd\",\"#6baed6\",\"#9ecae1\"],\"index\":[0,1,2],\"percent\":{\"__ndarray__\":\"goD0WV6lJ0CmzWuH3G9FQDkSF+LLpkZA\",\"dtype\":\"float64\",\"shape\":[3]}},\"selected\":{\"id\":\"3042\",\"type\":\"Selection\"},\"selection_policy\":{\"id\":\"3043\",\"type\":\"UnionRenderers\"}},\"id\":\"2933\",\"type\":\"ColumnDataSource\"},{\"attributes\":{\"ticker\":{\"id\":\"2919\",\"type\":\"BasicTicker\"}},\"id\":\"2922\",\"type\":\"Grid\"},{\"attributes\":{\"active_drag\":\"auto\",\"active_inspect\":\"auto\",\"active_multi\":null,\"active_scroll\":\"auto\",\"active_tap\":\"auto\",\"tools\":[{\"id\":\"2928\",\"type\":\"HoverTool\"}]},\"id\":\"2929\",\"type\":\"Toolbar\"},{\"attributes\":{\"callback\":null},\"id\":\"2910\",\"type\":\"DataRange1d\"},{\"attributes\":{},\"id\":\"3039\",\"type\":\"BasicTickFormatter\"},{\"attributes\":{\"callback\":null},\"id\":\"2912\",\"type\":\"DataRange1d\"},{\"attributes\":{},\"id\":\"2919\",\"type\":\"BasicTicker\"}],\"root_ids\":[\"2907\"]},\"title\":\"Bokeh Application\",\"version\":\"1.2.0\"}};\n",
       "  var render_items = [{\"docid\":\"2ee36dff-264b-4e5c-b9e9-fb0131e92c61\",\"roots\":{\"2907\":\"18e1669d-90e0-4323-bfec-a452081030f7\"}}];\n",
       "  root.Bokeh.embed.embed_items_notebook(docs_json, render_items);\n",
       "\n",
       "  }\n",
       "  if (root.Bokeh !== undefined) {\n",
       "    embed_document(root);\n",
       "  } else {\n",
       "    var attempts = 0;\n",
       "    var timer = setInterval(function(root) {\n",
       "      if (root.Bokeh !== undefined) {\n",
       "        embed_document(root);\n",
       "        clearInterval(timer);\n",
       "      }\n",
       "      attempts++;\n",
       "      if (attempts > 100) {\n",
       "        console.log(\"Bokeh: ERROR: Unable to run BokehJS code because BokehJS library is missing\");\n",
       "        clearInterval(timer);\n",
       "      }\n",
       "    }, 10, root)\n",
       "  }\n",
       "})(window);"
      ],
      "application/vnd.bokehjs_exec.v0+json": ""
     },
     "metadata": {
      "application/vnd.bokehjs_exec.v0+json": {
       "id": "2907"
      }
     },
     "output_type": "display_data"
    }
   ],
   "source": [
    "#Message Count for term 1\n",
    "Term1=data1[(data1.Date.dt.month>=9) & (data1.Date.dt.month<=12) &\n",
    "                                                (data1.Date.dt.year == 2019)].groupby('Name').Messages.count().sum()\n",
    "#Message Count for term 2\n",
    "Term2= data1[(data1.Date.dt.month>=1) & (data1.Date.dt.month<=4) &\n",
    "                                                (data1.Date.dt.year == 2020)].groupby('Name').Messages.count().sum()\n",
    "#Message Count fo term 3\n",
    "Term3=data1[(data1.Date.dt.month>=5) & (data1.Date.dt.month<=7) &\n",
    "                                                (data1.Date.dt.year == 2020)].groupby('Name').Messages.count().sum()\n",
    "#Preparing DataFrame\n",
    "x = {\"Term1\": Term1,\"Term2\": Term2,\"Term3\": Term3}\n",
    "x= pd.DataFrame.from_dict(x,orient='index')\n",
    "x.reset_index(inplace=True)\n",
    "x.rename(columns={\"index\": \"Term\", 0: \"Count\"},inplace=True)\n",
    "\n",
    "data=x\n",
    "data['angle'] = data['Count']/data['Count'].sum() * 2*pi\n",
    "data['color'] = Category20c[len(x)]\n",
    "data['percent'] = (data['Count'] / x.Count.sum()) * 100\n",
    "\n",
    "p = figure(plot_height=600, title=\"Total Persentage of messages in Each Term\", toolbar_location=None,\n",
    "        tools=\"hover\", tooltips=\"@Term: @percent{0.2f} %\")\n",
    "\n",
    "p.wedge(x=0, y=0, radius=0.95,\n",
    "        start_angle=cumsum('angle', include_zero=True), end_angle=cumsum('angle'),\n",
    "        line_color=\"black\", fill_color='color', source=data)\n",
    "\n",
    "p.axis.visible = False\n",
    "\n",
    "\n",
    "show(p)"
   ]
  },
  {
   "cell_type": "markdown",
   "metadata": {},
   "source": [
    "# Number of messages during CPSC lecture"
   ]
  },
  {
   "cell_type": "code",
   "execution_count": 193,
   "metadata": {},
   "outputs": [
    {
     "data": {
      "image/png": "[encoded data removed]",
      "text/plain": [
       "<Figure size 1080x720 with 1 Axes>"
      ]
     },
     "metadata": {
      "needs_background": "light"
     },
     "output_type": "display_data"
    }
   ],
   "source": [
    "#Groupby by names to get total number of messages in term3\n",
    "\n",
    "#creating a data frame for Term 3 and for Monday\n",
    "Total_number_of_messages_term3=pd.DataFrame(data1[(data1.Date.dt.month>=5) & (data1.Date.dt.month<=7) &\n",
    "                                                (data1.Date.dt.year == 2020) & \n",
    "                                                 (data1.Weekdays == \"Monday\") \n",
    "                                               ])\n",
    "\n",
    "# set date as index because in next step we need to filter data as per time \n",
    "Total_number_of_messages_term3.set_index(\"Date\", inplace= True)\n",
    "\n",
    "# filtering data as per time and \n",
    "#creating a new data frame for the messages count in between 4:30 PM and 6:30 pm\n",
    "Total_number_of_messages_term3 =pd.DataFrame(Total_number_of_messages_term3.between_time(\"16:30\",\n",
    "    \"18:30\").groupby(\"Name\").Messages.count())\n",
    "\n",
    "\n",
    "#Creating a sorted dataframe in term3\n",
    "Total_number_of_messages_term3 =pd.DataFrame(Total_number_of_messages_term3[\"Messages\"].sort_values(ascending=True))\n",
    "\n",
    "# Simple horizontal Plot for term3\n",
    "fig = plt.figure(figsize=(15,10))\n",
    "ax = fig.add_axes([0,0,1,1])\n",
    "\n",
    "# Set the font dictionaries (for plot title and axis titles)\n",
    "title_font = {'fontname':'Arial', 'size':'45', 'color':'black', 'weight':'bold',\n",
    "              'verticalalignment':'bottom'} # Bottom vertical alignment for more space\n",
    "axis_font = {'fontname':'Arial', 'size':'30'}\n",
    "\n",
    "# Set Label and Title \n",
    "plt.xlabel(\" Message Count\", **axis_font)\n",
    "plt.ylabel(\" Name \", **axis_font)\n",
    "plt.title(\" Total Message count in CPSC Lecture\", **title_font)\n",
    "\n",
    "\n",
    "# Set Tick label Size \n",
    "for item in (ax.get_xticklabels() + ax.get_yticklabels()):\n",
    "    item.set_fontsize(20)\n",
    "\n",
    "ax.barh(Total_number_of_messages_term3.index,Total_number_of_messages_term3.Messages,color=\"yellow\")\n",
    "plt.show()\n"
   ]
  },
  {
   "cell_type": "markdown",
   "metadata": {},
   "source": [
    "# Number of message during CPSC Lab"
   ]
  },
  {
   "cell_type": "code",
   "execution_count": 195,
   "metadata": {},
   "outputs": [
    {
     "data": {
      "image/png": "[encoded data removed]",
      "text/plain": [
       "<Figure size 1080x720 with 1 Axes>"
      ]
     },
     "metadata": {
      "needs_background": "light"
     },
     "output_type": "display_data"
    }
   ],
   "source": [
    "#Groupby by names to get total number of messages in term3\n",
    "\n",
    "#creating a data frame for Term 3 and for Wednesday\n",
    "Total_number_of_messages_term3Lab=pd.DataFrame(data1[(data1.Date.dt.month>=5) & (data1.Date.dt.month<=7) &\n",
    "                                                (data1.Date.dt.year == 2020) & \n",
    "                                                 (data1.Weekdays == \"Wednesday\") \n",
    "                                               ])\n",
    "\n",
    "# set date as index because in next step we need to filter data as per time \n",
    "Total_number_of_messages_term3Lab.set_index(\"Date\", inplace= True)\n",
    "\n",
    "# filtering data as per time and \n",
    "#creating a new data frame for the messages count in between 4:30 PM and 6:30 pm\n",
    "Total_number_of_messages_term3Lab =pd.DataFrame(Total_number_of_messages_term3Lab.between_time(\"16:30\",\n",
    "    \"18:30\").groupby(\"Name\").Messages.count())\n",
    "\n",
    "\n",
    "#Creating a sorted dataframe in term3\n",
    "Total_number_of_messages_term3Lab =pd.DataFrame(Total_number_of_messages_term3Lab[\"Messages\"].sort_values(ascending=True))\n",
    "\n",
    "# Simple horizontal Plot for term3\n",
    "fig = plt.figure(figsize=(15,10))\n",
    "ax = fig.add_axes([0,0,1,1])\n",
    "\n",
    "# Set the font dictionaries (for plot title and axis titles)\n",
    "title_font = {'fontname':'Arial', 'size':'45', 'color':'black', 'weight':'bold',\n",
    "              'verticalalignment':'bottom'} # Bottom vertical alignment for more space\n",
    "axis_font = {'fontname':'Arial', 'size':'30'}\n",
    "\n",
    "# Set Label and Title \n",
    "plt.xlabel(\" Message Count\", **axis_font)\n",
    "plt.ylabel(\" Name \", **axis_font)\n",
    "plt.title(\" Total Message count in CPSC LAB\", **title_font)\n",
    "\n",
    "\n",
    "# Set Tick label Size \n",
    "for item in (ax.get_xticklabels() + ax.get_yticklabels()):\n",
    "    item.set_fontsize(20)\n",
    "\n",
    "ax.barh(Total_number_of_messages_term3Lab.index,Total_number_of_messages_term3Lab.Messages,color=\"orange\")\n",
    "plt.show()"
   ]
  },
  {
   "cell_type": "markdown",
   "metadata": {},
   "source": [
    "# Number of Messages during DANA 4830"
   ]
  },
  {
   "cell_type": "code",
   "execution_count": 197,
   "metadata": {},
   "outputs": [
    {
     "data": {
      "image/png": "[encoded data removed]",
      "text/plain": [
       "<Figure size 1080x720 with 1 Axes>"
      ]
     },
     "metadata": {
      "needs_background": "light"
     },
     "output_type": "display_data"
    }
   ],
   "source": [
    "#Groupby by names to get total number of messages in term3\n",
    "\n",
    "#creating a data frame for Term 3 and for DANA 4830\n",
    "Total_number_of_messages_DANA4830=pd.DataFrame(data1[(data1.Date.dt.month>=5) & (data1.Date.dt.month<=7) &\n",
    "                                                (data1.Date.dt.year == 2020) & \n",
    "                                                 ((data1.Weekdays == \"Tuesday\")|(data1.Weekdays == \"Thursday\")) \n",
    "                                               ])\n",
    "\n",
    "# set date as index because in next step we need to filter data as per time \n",
    "Total_number_of_messages_DANA4830.set_index(\"Date\", inplace= True)\n",
    "\n",
    "# filtering data as per time and \n",
    "#creating a new data frame for the messages count in between 4:30 PM and 6:30 pm\n",
    "Total_number_of_messages_DANA4830 =pd.DataFrame(Total_number_of_messages_DANA4830.between_time(\"16:30\",\n",
    "    \"18:30\").groupby(\"Name\").Messages.count())\n",
    "\n",
    "\n",
    "#Creating a sorted dataframe in term3\n",
    "Total_number_of_messages_DANA4830 =pd.DataFrame(Total_number_of_messages_DANA4830[\"Messages\"].sort_values(ascending=True))\n",
    "\n",
    "# Simple horizontal Plot for term3\n",
    "fig = plt.figure(figsize=(15,10))\n",
    "ax = fig.add_axes([0,0,1,1])\n",
    "\n",
    "# Set the font dictionaries (for plot title and axis titles)\n",
    "title_font = {'fontname':'Arial', 'size':'45', 'color':'black', 'weight':'bold',\n",
    "              'verticalalignment':'bottom'} # Bottom vertical alignment for more space\n",
    "axis_font = {'fontname':'Arial', 'size':'30'}\n",
    "\n",
    "# Set Label and Title \n",
    "plt.xlabel(\" Message Count\", **axis_font)\n",
    "plt.ylabel(\" Name \", **axis_font)\n",
    "plt.title(\" Total Message count in DANA 4830\", **title_font)\n",
    "\n",
    "\n",
    "# Set Tick label Size \n",
    "for item in (ax.get_xticklabels() + ax.get_yticklabels()):\n",
    "    item.set_fontsize(20)\n",
    "\n",
    "ax.barh(Total_number_of_messages_DANA4830.index,Total_number_of_messages_DANA4830.Messages,color=\"pink\")\n",
    "plt.show()"
   ]
  },
  {
   "cell_type": "markdown",
   "metadata": {},
   "source": [
    "# Number of Messages per Month "
   ]
  },
  {
   "cell_type": "code",
   "execution_count": 48,
   "metadata": {},
   "outputs": [
    {
     "data": {
      "image/png": "[encoded data removed]",
      "text/plain": [
       "<Figure size 1080x720 with 1 Axes>"
      ]
     },
     "metadata": {
      "needs_background": "light"
     },
     "output_type": "display_data"
    }
   ],
   "source": [
    "# Extracting months in a List and creating a month column with it  \n",
    "Month=[]\n",
    "for i in list(data1.Date.dt.month):\n",
    "    Month.append(calendar.month_abbr[i])\n",
    "\n",
    "data1[\"Month\"]= Month\n",
    "\n",
    "fig = plt.figure(figsize=(15,10))\n",
    "ax = fig.add_axes([0,0,1,1])\n",
    "ax.bar(data1.groupby(\"Month\").Messages.count().index,data1.groupby(\"Month\").Messages.count().values)\n",
    "plt.show()"
   ]
  },
  {
   "cell_type": "markdown",
   "metadata": {},
   "source": [
    "# Total message count per month for each student"
   ]
  },
  {
   "cell_type": "code",
   "execution_count": 116,
   "metadata": {
    "scrolled": true
   },
   "outputs": [
    {
     "data": {
      "text/html": [
       "\n",
       "<div id=\"altair-viz-7471f9df8d464845a71048cbf399c27a\"></div>\n",
       "<script type=\"text/javascript\">\n",
       "  (function(spec, embedOpt){\n",
       "    let outputDiv = document.currentScript.previousElementSibling;\n",
       "    if (outputDiv.id !== \"altair-viz-7471f9df8d464845a71048cbf399c27a\") {\n",
       "      outputDiv = document.getElementById(\"altair-viz-7471f9df8d464845a71048cbf399c27a\");\n",
       "    }\n",
       "    const paths = {\n",
       "      \"vega\": \"https://cdn.jsdelivr.net/npm//vega@5?noext\",\n",
       "      \"vega-lib\": \"https://cdn.jsdelivr.net/npm//vega-lib?noext\",\n",
       "      \"vega-lite\": \"https://cdn.jsdelivr.net/npm//vega-lite@4.8.1?noext\",\n",
       "      \"vega-embed\": \"https://cdn.jsdelivr.net/npm//vega-embed@6?noext\",\n",
       "    };\n",
       "\n",
       "    function loadScript(lib) {\n",
       "      return new Promise(function(resolve, reject) {\n",
       "        var s = document.createElement('script');\n",
       "        s.src = paths[lib];\n",
       "        s.async = true;\n",
       "        s.onload = () => resolve(paths[lib]);\n",
       "        s.onerror = () => reject(`Error loading script: ${paths[lib]}`);\n",
       "        document.getElementsByTagName(\"head\")[0].appendChild(s);\n",
       "      });\n",
       "    }\n",
       "\n",
       "    function showError(err) {\n",
       "      outputDiv.innerHTML = `<div class=\"error\" style=\"color:red;\">${err}</div>`;\n",
       "      throw err;\n",
       "    }\n",
       "\n",
       "    function displayChart(vegaEmbed) {\n",
       "      vegaEmbed(outputDiv, spec, embedOpt)\n",
       "        .catch(err => showError(`Javascript Error: ${err.message}<br>This usually means there's a typo in your chart specification. See the javascript console for the full traceback.`));\n",
       "    }\n",
       "\n",
       "    if(typeof define === \"function\" && define.amd) {\n",
       "      requirejs.config({paths});\n",
       "      require([\"vega-embed\"], displayChart, err => showError(`Error loading script: ${err.message}`));\n",
       "    } else if (typeof vegaEmbed === \"function\") {\n",
       "      displayChart(vegaEmbed);\n",
       "    } else {\n",
       "      loadScript(\"vega\")\n",
       "        .then(() => loadScript(\"vega-lite\"))\n",
       "        .then(() => loadScript(\"vega-embed\"))\n",
       "        .catch(showError)\n",
       "        .then(() => displayChart(vegaEmbed));\n",
       "    }\n",
       "  })({\"config\": {\"view\": {\"continuousWidth\": 400, \"continuousHeight\": 300}}, \"data\": {\"name\": \"data-5a14e3660332648b2bb1d87550d20eb3\"}, \"mark\": \"line\", \"encoding\": {\"color\": {\"condition\": {\"type\": \"nominal\", \"field\": \"Name\", \"selection\": \"Select\"}, \"value\": \"transparent\"}, \"tooltip\": {\"type\": \"quantitative\", \"field\": \"Name\"}, \"x\": {\"type\": \"nominal\", \"field\": \"Month\", \"sort\": [\"Sep\", \"Oct\", \"Nov\", \"Dec\", \"Jan\", \"Feb\", \"Mar\", \"Apr\", \"May\", \"Jun\", \"Jul\"]}, \"y\": {\"type\": \"quantitative\", \"field\": \"Messages\"}}, \"height\": 490, \"selection\": {\"Select\": {\"type\": \"single\", \"fields\": [\"Name\"], \"bind\": {\"input\": \"select\", \"options\": [\" Roberta\", \"Vasu\", \" Tuli \", \" Kirra\", \" Naval\", \" Kiran \", \"Dharun\", \" Amir\", \" Cici\", \" Nicky\", \" Nikita \", \" Navjot \", \" +91 82190 16358\", \"+91 90414 65914\", \" Arsh \", \" Kania\", \" Kiran\", \" Edward\", \" Harshad\", \" Jasman\", \" Prerna\", \" Vedant \", \" David\", \"Rashman\", \" Manoj\", \"Vivek\", \" Aditi\", \" Beth\", \" Jaspreet\"]}}}, \"width\": 730, \"$schema\": \"https://vega.github.io/schema/vega-lite/v4.8.1.json\", \"datasets\": {\"data-5a14e3660332648b2bb1d87550d20eb3\": [{\"Month\": \"Apr\", \"Name\": \" Aditi\", \"Messages\": 18}, {\"Month\": \"Apr\", \"Name\": \" Amir\", \"Messages\": 33}, {\"Month\": \"Apr\", \"Name\": \" Arsh \", \"Messages\": 45}, {\"Month\": \"Apr\", \"Name\": \" Beth\", \"Messages\": 4}, {\"Month\": \"Apr\", \"Name\": \" Cici\", \"Messages\": 54}, {\"Month\": \"Apr\", \"Name\": \" David\", \"Messages\": 17}, {\"Month\": \"Apr\", \"Name\": \" Edward\", \"Messages\": 6}, {\"Month\": \"Apr\", \"Name\": \" Harshad\", \"Messages\": 14}, {\"Month\": \"Apr\", \"Name\": \" Jasman\", \"Messages\": 39}, {\"Month\": \"Apr\", \"Name\": \" Jaspreet\", \"Messages\": 100}, {\"Month\": \"Apr\", \"Name\": \" Kania\", \"Messages\": 24}, {\"Month\": \"Apr\", \"Name\": \" Kiran\", \"Messages\": 35}, {\"Month\": \"Apr\", \"Name\": \" Kiran \", \"Messages\": 11}, {\"Month\": \"Apr\", \"Name\": \" Kirra\", \"Messages\": 178}, {\"Month\": \"Apr\", \"Name\": \" Manoj\", \"Messages\": 7}, {\"Month\": \"Apr\", \"Name\": \" Naval\", \"Messages\": 40}, {\"Month\": \"Apr\", \"Name\": \" Navjot \", \"Messages\": 9}, {\"Month\": \"Apr\", \"Name\": \" Nicky\", \"Messages\": 8}, {\"Month\": \"Apr\", \"Name\": \" Nikita \", \"Messages\": 20}, {\"Month\": \"Apr\", \"Name\": \" Prerna\", \"Messages\": 10}, {\"Month\": \"Apr\", \"Name\": \" Roberta\", \"Messages\": 132}, {\"Month\": \"Apr\", \"Name\": \" Tuli \", \"Messages\": 44}, {\"Month\": \"Apr\", \"Name\": \" Vedant \", \"Messages\": 19}, {\"Month\": \"Apr\", \"Name\": \"Dharun\", \"Messages\": 47}, {\"Month\": \"Apr\", \"Name\": \"Rashman\", \"Messages\": 25}, {\"Month\": \"Apr\", \"Name\": \"Vasu\", \"Messages\": 65}, {\"Month\": \"Apr\", \"Name\": \"Vivek\", \"Messages\": 3}, {\"Month\": \"Dec\", \"Name\": \" Aditi\", \"Messages\": 7}, {\"Month\": \"Dec\", \"Name\": \" Arsh \", \"Messages\": 16}, {\"Month\": \"Dec\", \"Name\": \" Beth\", \"Messages\": 21}, {\"Month\": \"Dec\", \"Name\": \" David\", \"Messages\": 2}, {\"Month\": \"Dec\", \"Name\": \" Edward\", \"Messages\": 1}, {\"Month\": \"Dec\", \"Name\": \" Harshad\", \"Messages\": 17}, {\"Month\": \"Dec\", \"Name\": \" Jasman\", \"Messages\": 14}, {\"Month\": \"Dec\", \"Name\": \" Jaspreet\", \"Messages\": 11}, {\"Month\": \"Dec\", \"Name\": \" Kiran\", \"Messages\": 8}, {\"Month\": \"Dec\", \"Name\": \" Kiran \", \"Messages\": 3}, {\"Month\": \"Dec\", \"Name\": \" Kirra\", \"Messages\": 114}, {\"Month\": \"Dec\", \"Name\": \" Manoj\", \"Messages\": 10}, {\"Month\": \"Dec\", \"Name\": \" Naval\", \"Messages\": 29}, {\"Month\": \"Dec\", \"Name\": \" Nikita \", \"Messages\": 3}, {\"Month\": \"Dec\", \"Name\": \" Prerna\", \"Messages\": 8}, {\"Month\": \"Dec\", \"Name\": \" Roberta\", \"Messages\": 32}, {\"Month\": \"Dec\", \"Name\": \" Tuli \", \"Messages\": 4}, {\"Month\": \"Dec\", \"Name\": \" Vedant \", \"Messages\": 8}, {\"Month\": \"Dec\", \"Name\": \"Dharun\", \"Messages\": 39}, {\"Month\": \"Dec\", \"Name\": \"Rashman\", \"Messages\": 4}, {\"Month\": \"Dec\", \"Name\": \"Vasu\", \"Messages\": 21}, {\"Month\": \"Dec\", \"Name\": \"Vivek\", \"Messages\": 5}, {\"Month\": \"Feb\", \"Name\": \" Aditi\", \"Messages\": 35}, {\"Month\": \"Feb\", \"Name\": \" Amir\", \"Messages\": 69}, {\"Month\": \"Feb\", \"Name\": \" Arsh \", \"Messages\": 75}, {\"Month\": \"Feb\", \"Name\": \" Beth\", \"Messages\": 22}, {\"Month\": \"Feb\", \"Name\": \" Cici\", \"Messages\": 41}, {\"Month\": \"Feb\", \"Name\": \" David\", \"Messages\": 37}, {\"Month\": \"Feb\", \"Name\": \" Edward\", \"Messages\": 19}, {\"Month\": \"Feb\", \"Name\": \" Harshad\", \"Messages\": 76}, {\"Month\": \"Feb\", \"Name\": \" Jasman\", \"Messages\": 80}, {\"Month\": \"Feb\", \"Name\": \" Jaspreet\", \"Messages\": 91}, {\"Month\": \"Feb\", \"Name\": \" Kania\", \"Messages\": 48}, {\"Month\": \"Feb\", \"Name\": \" Kiran\", \"Messages\": 46}, {\"Month\": \"Feb\", \"Name\": \" Kiran \", \"Messages\": 65}, {\"Month\": \"Feb\", \"Name\": \" Kirra\", \"Messages\": 255}, {\"Month\": \"Feb\", \"Name\": \" Manoj\", \"Messages\": 2}, {\"Month\": \"Feb\", \"Name\": \" Naval\", \"Messages\": 104}, {\"Month\": \"Feb\", \"Name\": \" Navjot \", \"Messages\": 16}, {\"Month\": \"Feb\", \"Name\": \" Nicky\", \"Messages\": 12}, {\"Month\": \"Feb\", \"Name\": \" Nikita \", \"Messages\": 42}, {\"Month\": \"Feb\", \"Name\": \" Prerna\", \"Messages\": 7}, {\"Month\": \"Feb\", \"Name\": \" Roberta\", \"Messages\": 244}, {\"Month\": \"Feb\", \"Name\": \" Tuli \", \"Messages\": 50}, {\"Month\": \"Feb\", \"Name\": \" Vedant \", \"Messages\": 85}, {\"Month\": \"Feb\", \"Name\": \"Dharun\", \"Messages\": 177}, {\"Month\": \"Feb\", \"Name\": \"Rashman\", \"Messages\": 45}, {\"Month\": \"Feb\", \"Name\": \"Vasu\", \"Messages\": 116}, {\"Month\": \"Feb\", \"Name\": \"Vivek\", \"Messages\": 18}, {\"Month\": \"Jan\", \"Name\": \" Aditi\", \"Messages\": 38}, {\"Month\": \"Jan\", \"Name\": \" Amir\", \"Messages\": 63}, {\"Month\": \"Jan\", \"Name\": \" Arsh \", \"Messages\": 44}, {\"Month\": \"Jan\", \"Name\": \" Beth\", \"Messages\": 13}, {\"Month\": \"Jan\", \"Name\": \" Cici\", \"Messages\": 8}, {\"Month\": \"Jan\", \"Name\": \" David\", \"Messages\": 7}, {\"Month\": \"Jan\", \"Name\": \" Edward\", \"Messages\": 14}, {\"Month\": \"Jan\", \"Name\": \" Harshad\", \"Messages\": 25}, {\"Month\": \"Jan\", \"Name\": \" Jasman\", \"Messages\": 31}, {\"Month\": \"Jan\", \"Name\": \" Jaspreet\", \"Messages\": 53}, {\"Month\": \"Jan\", \"Name\": \" Kania\", \"Messages\": 10}, {\"Month\": \"Jan\", \"Name\": \" Kiran\", \"Messages\": 63}, {\"Month\": \"Jan\", \"Name\": \" Kiran \", \"Messages\": 10}, {\"Month\": \"Jan\", \"Name\": \" Kirra\", \"Messages\": 123}, {\"Month\": \"Jan\", \"Name\": \" Manoj\", \"Messages\": 11}, {\"Month\": \"Jan\", \"Name\": \" Naval\", \"Messages\": 51}, {\"Month\": \"Jan\", \"Name\": \" Navjot \", \"Messages\": 4}, {\"Month\": \"Jan\", \"Name\": \" Nicky\", \"Messages\": 2}, {\"Month\": \"Jan\", \"Name\": \" Nikita \", \"Messages\": 37}, {\"Month\": \"Jan\", \"Name\": \" Prerna\", \"Messages\": 8}, {\"Month\": \"Jan\", \"Name\": \" Roberta\", \"Messages\": 81}, {\"Month\": \"Jan\", \"Name\": \" Tuli \", \"Messages\": 40}, {\"Month\": \"Jan\", \"Name\": \" Vedant \", \"Messages\": 49}, {\"Month\": \"Jan\", \"Name\": \"Dharun\", \"Messages\": 131}, {\"Month\": \"Jan\", \"Name\": \"Rashman\", \"Messages\": 15}, {\"Month\": \"Jan\", \"Name\": \"Vasu\", \"Messages\": 52}, {\"Month\": \"Jan\", \"Name\": \"Vivek\", \"Messages\": 24}, {\"Month\": \"Jul\", \"Name\": \" Aditi\", \"Messages\": 13}, {\"Month\": \"Jul\", \"Name\": \" Amir\", \"Messages\": 64}, {\"Month\": \"Jul\", \"Name\": \" Arsh \", \"Messages\": 26}, {\"Month\": \"Jul\", \"Name\": \" Beth\", \"Messages\": 11}, {\"Month\": \"Jul\", \"Name\": \" Cici\", \"Messages\": 56}, {\"Month\": \"Jul\", \"Name\": \" David\", \"Messages\": 12}, {\"Month\": \"Jul\", \"Name\": \" Edward\", \"Messages\": 3}, {\"Month\": \"Jul\", \"Name\": \" Harshad\", \"Messages\": 29}, {\"Month\": \"Jul\", \"Name\": \" Jasman\", \"Messages\": 10}, {\"Month\": \"Jul\", \"Name\": \" Jaspreet\", \"Messages\": 102}, {\"Month\": \"Jul\", \"Name\": \" Kania\", \"Messages\": 2}, {\"Month\": \"Jul\", \"Name\": \" Kiran\", \"Messages\": 26}, {\"Month\": \"Jul\", \"Name\": \" Kiran \", \"Messages\": 7}, {\"Month\": \"Jul\", \"Name\": \" Kirra\", \"Messages\": 160}, {\"Month\": \"Jul\", \"Name\": \" Manoj\", \"Messages\": 13}, {\"Month\": \"Jul\", \"Name\": \" Naval\", \"Messages\": 21}, {\"Month\": \"Jul\", \"Name\": \" Navjot \", \"Messages\": 4}, {\"Month\": \"Jul\", \"Name\": \" Nicky\", \"Messages\": 13}, {\"Month\": \"Jul\", \"Name\": \" Nikita \", \"Messages\": 28}, {\"Month\": \"Jul\", \"Name\": \" Prerna\", \"Messages\": 8}, {\"Month\": \"Jul\", \"Name\": \" Roberta\", \"Messages\": 101}, {\"Month\": \"Jul\", \"Name\": \" Tuli \", \"Messages\": 22}, {\"Month\": \"Jul\", \"Name\": \" Vedant \", \"Messages\": 38}, {\"Month\": \"Jul\", \"Name\": \"Dharun\", \"Messages\": 34}, {\"Month\": \"Jul\", \"Name\": \"Rashman\", \"Messages\": 44}, {\"Month\": \"Jul\", \"Name\": \"Vasu\", \"Messages\": 117}, {\"Month\": \"Jul\", \"Name\": \"Vivek\", \"Messages\": 9}, {\"Month\": \"Jun\", \"Name\": \" Aditi\", \"Messages\": 52}, {\"Month\": \"Jun\", \"Name\": \" Amir\", \"Messages\": 166}, {\"Month\": \"Jun\", \"Name\": \" Arsh \", \"Messages\": 99}, {\"Month\": \"Jun\", \"Name\": \" Beth\", \"Messages\": 31}, {\"Month\": \"Jun\", \"Name\": \" Cici\", \"Messages\": 161}, {\"Month\": \"Jun\", \"Name\": \" David\", \"Messages\": 24}, {\"Month\": \"Jun\", \"Name\": \" Edward\", \"Messages\": 16}, {\"Month\": \"Jun\", \"Name\": \" Harshad\", \"Messages\": 58}, {\"Month\": \"Jun\", \"Name\": \" Jasman\", \"Messages\": 98}, {\"Month\": \"Jun\", \"Name\": \" Jaspreet\", \"Messages\": 153}, {\"Month\": \"Jun\", \"Name\": \" Kania\", \"Messages\": 75}, {\"Month\": \"Jun\", \"Name\": \" Kiran\", \"Messages\": 184}, {\"Month\": \"Jun\", \"Name\": \" Kiran \", \"Messages\": 42}, {\"Month\": \"Jun\", \"Name\": \" Kirra\", \"Messages\": 366}, {\"Month\": \"Jun\", \"Name\": \" Manoj\", \"Messages\": 38}, {\"Month\": \"Jun\", \"Name\": \" Naval\", \"Messages\": 124}, {\"Month\": \"Jun\", \"Name\": \" Navjot \", \"Messages\": 16}, {\"Month\": \"Jun\", \"Name\": \" Nicky\", \"Messages\": 19}, {\"Month\": \"Jun\", \"Name\": \" Nikita \", \"Messages\": 77}, {\"Month\": \"Jun\", \"Name\": \" Prerna\", \"Messages\": 30}, {\"Month\": \"Jun\", \"Name\": \" Roberta\", \"Messages\": 442}, {\"Month\": \"Jun\", \"Name\": \" Tuli \", \"Messages\": 164}, {\"Month\": \"Jun\", \"Name\": \" Vedant \", \"Messages\": 100}, {\"Month\": \"Jun\", \"Name\": \"Dharun\", \"Messages\": 100}, {\"Month\": \"Jun\", \"Name\": \"Rashman\", \"Messages\": 124}, {\"Month\": \"Jun\", \"Name\": \"Vasu\", \"Messages\": 281}, {\"Month\": \"Jun\", \"Name\": \"Vivek\", \"Messages\": 34}, {\"Month\": \"Mar\", \"Name\": \" Aditi\", \"Messages\": 26}, {\"Month\": \"Mar\", \"Name\": \" Amir\", \"Messages\": 105}, {\"Month\": \"Mar\", \"Name\": \" Arsh \", \"Messages\": 58}, {\"Month\": \"Mar\", \"Name\": \" Beth\", \"Messages\": 20}, {\"Month\": \"Mar\", \"Name\": \" Cici\", \"Messages\": 34}, {\"Month\": \"Mar\", \"Name\": \" David\", \"Messages\": 69}, {\"Month\": \"Mar\", \"Name\": \" Edward\", \"Messages\": 22}, {\"Month\": \"Mar\", \"Name\": \" Harshad\", \"Messages\": 54}, {\"Month\": \"Mar\", \"Name\": \" Jasman\", \"Messages\": 91}, {\"Month\": \"Mar\", \"Name\": \" Jaspreet\", \"Messages\": 134}, {\"Month\": \"Mar\", \"Name\": \" Kania\", \"Messages\": 95}, {\"Month\": \"Mar\", \"Name\": \" Kiran\", \"Messages\": 96}, {\"Month\": \"Mar\", \"Name\": \" Kiran \", \"Messages\": 26}, {\"Month\": \"Mar\", \"Name\": \" Kirra\", \"Messages\": 222}, {\"Month\": \"Mar\", \"Name\": \" Manoj\", \"Messages\": 14}, {\"Month\": \"Mar\", \"Name\": \" Naval\", \"Messages\": 52}, {\"Month\": \"Mar\", \"Name\": \" Navjot \", \"Messages\": 18}, {\"Month\": \"Mar\", \"Name\": \" Nicky\", \"Messages\": 3}, {\"Month\": \"Mar\", \"Name\": \" Nikita \", \"Messages\": 13}, {\"Month\": \"Mar\", \"Name\": \" Prerna\", \"Messages\": 15}, {\"Month\": \"Mar\", \"Name\": \" Roberta\", \"Messages\": 319}, {\"Month\": \"Mar\", \"Name\": \" Tuli \", \"Messages\": 96}, {\"Month\": \"Mar\", \"Name\": \" Vedant \", \"Messages\": 67}, {\"Month\": \"Mar\", \"Name\": \"Dharun\", \"Messages\": 167}, {\"Month\": \"Mar\", \"Name\": \"Rashman\", \"Messages\": 47}, {\"Month\": \"Mar\", \"Name\": \"Vasu\", \"Messages\": 69}, {\"Month\": \"Mar\", \"Name\": \"Vivek\", \"Messages\": 19}, {\"Month\": \"May\", \"Name\": \" Aditi\", \"Messages\": 32}, {\"Month\": \"May\", \"Name\": \" Amir\", \"Messages\": 106}, {\"Month\": \"May\", \"Name\": \" Arsh \", \"Messages\": 122}, {\"Month\": \"May\", \"Name\": \" Beth\", \"Messages\": 17}, {\"Month\": \"May\", \"Name\": \" Cici\", \"Messages\": 115}, {\"Month\": \"May\", \"Name\": \" David\", \"Messages\": 37}, {\"Month\": \"May\", \"Name\": \" Edward\", \"Messages\": 27}, {\"Month\": \"May\", \"Name\": \" Harshad\", \"Messages\": 63}, {\"Month\": \"May\", \"Name\": \" Jasman\", \"Messages\": 102}, {\"Month\": \"May\", \"Name\": \" Jaspreet\", \"Messages\": 149}, {\"Month\": \"May\", \"Name\": \" Kania\", \"Messages\": 35}, {\"Month\": \"May\", \"Name\": \" Kiran\", \"Messages\": 122}, {\"Month\": \"May\", \"Name\": \" Kiran \", \"Messages\": 43}, {\"Month\": \"May\", \"Name\": \" Kirra\", \"Messages\": 209}, {\"Month\": \"May\", \"Name\": \" Manoj\", \"Messages\": 15}, {\"Month\": \"May\", \"Name\": \" Naval\", \"Messages\": 74}, {\"Month\": \"May\", \"Name\": \" Navjot \", \"Messages\": 21}, {\"Month\": \"May\", \"Name\": \" Nicky\", \"Messages\": 41}, {\"Month\": \"May\", \"Name\": \" Nikita \", \"Messages\": 88}, {\"Month\": \"May\", \"Name\": \" Prerna\", \"Messages\": 11}, {\"Month\": \"May\", \"Name\": \" Roberta\", \"Messages\": 213}, {\"Month\": \"May\", \"Name\": \" Tuli \", \"Messages\": 85}, {\"Month\": \"May\", \"Name\": \" Vedant \", \"Messages\": 49}, {\"Month\": \"May\", \"Name\": \"Dharun\", \"Messages\": 116}, {\"Month\": \"May\", \"Name\": \"Rashman\", \"Messages\": 71}, {\"Month\": \"May\", \"Name\": \"Vasu\", \"Messages\": 121}, {\"Month\": \"May\", \"Name\": \"Vivek\", \"Messages\": 42}, {\"Month\": \"Nov\", \"Name\": \" Aditi\", \"Messages\": 24}, {\"Month\": \"Nov\", \"Name\": \" Arsh \", \"Messages\": 20}, {\"Month\": \"Nov\", \"Name\": \" Beth\", \"Messages\": 15}, {\"Month\": \"Nov\", \"Name\": \" David\", \"Messages\": 6}, {\"Month\": \"Nov\", \"Name\": \" Edward\", \"Messages\": 2}, {\"Month\": \"Nov\", \"Name\": \" Harshad\", \"Messages\": 7}, {\"Month\": \"Nov\", \"Name\": \" Jasman\", \"Messages\": 29}, {\"Month\": \"Nov\", \"Name\": \" Jaspreet\", \"Messages\": 48}, {\"Month\": \"Nov\", \"Name\": \" Kiran\", \"Messages\": 27}, {\"Month\": \"Nov\", \"Name\": \" Kiran \", \"Messages\": 5}, {\"Month\": \"Nov\", \"Name\": \" Kirra\", \"Messages\": 102}, {\"Month\": \"Nov\", \"Name\": \" Manoj\", \"Messages\": 20}, {\"Month\": \"Nov\", \"Name\": \" Naval\", \"Messages\": 18}, {\"Month\": \"Nov\", \"Name\": \" Navjot \", \"Messages\": 15}, {\"Month\": \"Nov\", \"Name\": \" Nikita \", \"Messages\": 8}, {\"Month\": \"Nov\", \"Name\": \" Prerna\", \"Messages\": 25}, {\"Month\": \"Nov\", \"Name\": \" Roberta\", \"Messages\": 74}, {\"Month\": \"Nov\", \"Name\": \" Tuli \", \"Messages\": 3}, {\"Month\": \"Nov\", \"Name\": \" Vedant \", \"Messages\": 15}, {\"Month\": \"Nov\", \"Name\": \"Dharun\", \"Messages\": 36}, {\"Month\": \"Nov\", \"Name\": \"Rashman\", \"Messages\": 4}, {\"Month\": \"Nov\", \"Name\": \"Vasu\", \"Messages\": 53}, {\"Month\": \"Nov\", \"Name\": \"Vivek\", \"Messages\": 9}, {\"Month\": \"Oct\", \"Name\": \" +91 82190 16358\", \"Messages\": 2}, {\"Month\": \"Oct\", \"Name\": \" Aditi\", \"Messages\": 4}, {\"Month\": \"Oct\", \"Name\": \" Arsh \", \"Messages\": 22}, {\"Month\": \"Oct\", \"Name\": \" Beth\", \"Messages\": 15}, {\"Month\": \"Oct\", \"Name\": \" Edward\", \"Messages\": 3}, {\"Month\": \"Oct\", \"Name\": \" Harshad\", \"Messages\": 9}, {\"Month\": \"Oct\", \"Name\": \" Jasman\", \"Messages\": 5}, {\"Month\": \"Oct\", \"Name\": \" Jaspreet\", \"Messages\": 41}, {\"Month\": \"Oct\", \"Name\": \" Kiran\", \"Messages\": 11}, {\"Month\": \"Oct\", \"Name\": \" Kirra\", \"Messages\": 28}, {\"Month\": \"Oct\", \"Name\": \" Manoj\", \"Messages\": 1}, {\"Month\": \"Oct\", \"Name\": \" Nikita \", \"Messages\": 5}, {\"Month\": \"Oct\", \"Name\": \" Prerna\", \"Messages\": 4}, {\"Month\": \"Oct\", \"Name\": \" Roberta\", \"Messages\": 19}, {\"Month\": \"Oct\", \"Name\": \" Tuli \", \"Messages\": 3}, {\"Month\": \"Oct\", \"Name\": \" Vedant \", \"Messages\": 1}, {\"Month\": \"Oct\", \"Name\": \"Dharun\", \"Messages\": 18}, {\"Month\": \"Oct\", \"Name\": \"Rashman\", \"Messages\": 2}, {\"Month\": \"Oct\", \"Name\": \"Vasu\", \"Messages\": 33}, {\"Month\": \"Oct\", \"Name\": \"Vivek\", \"Messages\": 10}, {\"Month\": \"Sep\", \"Name\": \" +91 82190 16358\", \"Messages\": 5}, {\"Month\": \"Sep\", \"Name\": \" Arsh \", \"Messages\": 26}, {\"Month\": \"Sep\", \"Name\": \" Edward\", \"Messages\": 11}, {\"Month\": \"Sep\", \"Name\": \" Jasman\", \"Messages\": 18}, {\"Month\": \"Sep\", \"Name\": \" Jaspreet\", \"Messages\": 94}, {\"Month\": \"Sep\", \"Name\": \" Kiran \", \"Messages\": 10}, {\"Month\": \"Sep\", \"Name\": \" Kirra\", \"Messages\": 20}, {\"Month\": \"Sep\", \"Name\": \" Navjot \", \"Messages\": 6}, {\"Month\": \"Sep\", \"Name\": \" Nikita \", \"Messages\": 11}, {\"Month\": \"Sep\", \"Name\": \" Prerna\", \"Messages\": 17}, {\"Month\": \"Sep\", \"Name\": \" Tuli \", \"Messages\": 5}, {\"Month\": \"Sep\", \"Name\": \"+91 90414 65914\", \"Messages\": 6}, {\"Month\": \"Sep\", \"Name\": \"Dharun\", \"Messages\": 118}, {\"Month\": \"Sep\", \"Name\": \"Rashman\", \"Messages\": 29}, {\"Month\": \"Sep\", \"Name\": \"Vasu\", \"Messages\": 47}, {\"Month\": \"Sep\", \"Name\": \"Vivek\", \"Messages\": 10}]}}, {\"mode\": \"vega-lite\"});\n",
       "</script>"
      ],
      "text/plain": [
       "alt.Chart(...)"
      ]
     },
     "execution_count": 116,
     "metadata": {},
     "output_type": "execute_result"
    }
   ],
   "source": [
    "# Creating a line chart in Altier that shows total message per month for each student \n",
    "\n",
    "# Creating a new data frame which has message count per month for each student \n",
    "df=pd.DataFrame(data1['Messages'].groupby([data1.Month,data1.Name]).count())\n",
    "\n",
    "# Reset the index \n",
    "df.reset_index(inplace=True)\n",
    "\n",
    "# Generate a month list \n",
    "month= ['Sep','Oct','Nov','Dec','Jan','Feb','Mar','Apr','May','Jun','Jul']\n",
    "\n",
    "# Binding Values for our dropdown \n",
    "input_dropdown = alt.binding_select(options=list(set(df.Name.unique())))\n",
    "\n",
    "# selection\n",
    "selected_points = alt.selection_single(fields=['Name'], bind=input_dropdown, name='Select')\n",
    "\n",
    "#color \n",
    "color = alt.condition(selected_points,\n",
    "alt.Color('Name:N'),\n",
    "alt.value('transparent'))\n",
    "\n",
    "# Define Chart \n",
    "alt.Chart(df, width=730, height=490).mark_line().encode(\n",
    "x=alt.X('Month',sort=month ),\n",
    "y='Messages',\n",
    "color=color,\n",
    "tooltip='Name:Q'\n",
    ").add_selection(selected_points)\n",
    "\n"
   ]
  },
  {
   "cell_type": "markdown",
   "metadata": {},
   "source": [
    "# Total Message Count Per day for each month"
   ]
  },
  {
   "cell_type": "code",
   "execution_count": 50,
   "metadata": {},
   "outputs": [],
   "source": [
    "# Most chat on the day"
   ]
  },
  {
   "cell_type": "code",
   "execution_count": 51,
   "metadata": {},
   "outputs": [
    {
     "data": {
      "text/html": [
       "\n",
       "<div id=\"altair-viz-4ad6de760a224d81a2cf1654b36069a3\"></div>\n",
       "<script type=\"text/javascript\">\n",
       "  (function(spec, embedOpt){\n",
       "    let outputDiv = document.currentScript.previousElementSibling;\n",
       "    if (outputDiv.id !== \"altair-viz-4ad6de760a224d81a2cf1654b36069a3\") {\n",
       "      outputDiv = document.getElementById(\"altair-viz-4ad6de760a224d81a2cf1654b36069a3\");\n",
       "    }\n",
       "    const paths = {\n",
       "      \"vega\": \"https://cdn.jsdelivr.net/npm//vega@5?noext\",\n",
       "      \"vega-lib\": \"https://cdn.jsdelivr.net/npm//vega-lib?noext\",\n",
       "      \"vega-lite\": \"https://cdn.jsdelivr.net/npm//vega-lite@4.8.1?noext\",\n",
       "      \"vega-embed\": \"https://cdn.jsdelivr.net/npm//vega-embed@6?noext\",\n",
       "    };\n",
       "\n",
       "    function loadScript(lib) {\n",
       "      return new Promise(function(resolve, reject) {\n",
       "        var s = document.createElement('script');\n",
       "        s.src = paths[lib];\n",
       "        s.async = true;\n",
       "        s.onload = () => resolve(paths[lib]);\n",
       "        s.onerror = () => reject(`Error loading script: ${paths[lib]}`);\n",
       "        document.getElementsByTagName(\"head\")[0].appendChild(s);\n",
       "      });\n",
       "    }\n",
       "\n",
       "    function showError(err) {\n",
       "      outputDiv.innerHTML = `<div class=\"error\" style=\"color:red;\">${err}</div>`;\n",
       "      throw err;\n",
       "    }\n",
       "\n",
       "    function displayChart(vegaEmbed) {\n",
       "      vegaEmbed(outputDiv, spec, embedOpt)\n",
       "        .catch(err => showError(`Javascript Error: ${err.message}<br>This usually means there's a typo in your chart specification. See the javascript console for the full traceback.`));\n",
       "    }\n",
       "\n",
       "    if(typeof define === \"function\" && define.amd) {\n",
       "      requirejs.config({paths});\n",
       "      require([\"vega-embed\"], displayChart, err => showError(`Error loading script: ${err.message}`));\n",
       "    } else if (typeof vegaEmbed === \"function\") {\n",
       "      displayChart(vegaEmbed);\n",
       "    } else {\n",
       "      loadScript(\"vega\")\n",
       "        .then(() => loadScript(\"vega-lite\"))\n",
       "        .then(() => loadScript(\"vega-embed\"))\n",
       "        .catch(showError)\n",
       "        .then(() => displayChart(vegaEmbed));\n",
       "    }\n",
       "  })({\"config\": {\"view\": {\"continuousWidth\": 400, \"continuousHeight\": 300}}, \"data\": {\"name\": \"data-5221e94dc8f9464736d12f58bc86caa8\"}, \"mark\": \"line\", \"encoding\": {\"color\": {\"condition\": {\"type\": \"nominal\", \"field\": \"Month\", \"selection\": \"Select\"}, \"value\": \"transparent\"}, \"tooltip\": {\"type\": \"quantitative\", \"field\": \"Month\"}, \"x\": {\"type\": \"quantitative\", \"field\": \"Date\"}, \"y\": {\"type\": \"quantitative\", \"field\": \"Messages\"}}, \"height\": 500, \"selection\": {\"Select\": {\"type\": \"single\", \"fields\": [\"Month\"], \"bind\": {\"input\": \"select\", \"options\": [\"Oct\", \"Dec\", \"Sep\", \"Apr\", \"Mar\", \"Feb\", \"Nov\", \"Jul\", \"Jan\", \"Jun\", \"May\"]}}}, \"width\": 730, \"$schema\": \"https://vega.github.io/schema/vega-lite/v4.8.1.json\", \"datasets\": {\"data-5221e94dc8f9464736d12f58bc86caa8\": [{\"Month\": \"Apr\", \"Date\": 1, \"Messages\": 16}, {\"Month\": \"Apr\", \"Date\": 2, \"Messages\": 91}, {\"Month\": \"Apr\", \"Date\": 3, \"Messages\": 32}, {\"Month\": \"Apr\", \"Date\": 4, \"Messages\": 152}, {\"Month\": \"Apr\", \"Date\": 5, \"Messages\": 55}, {\"Month\": \"Apr\", \"Date\": 6, \"Messages\": 28}, {\"Month\": \"Apr\", \"Date\": 7, \"Messages\": 93}, {\"Month\": \"Apr\", \"Date\": 8, \"Messages\": 27}, {\"Month\": \"Apr\", \"Date\": 9, \"Messages\": 5}, {\"Month\": \"Apr\", \"Date\": 10, \"Messages\": 10}, {\"Month\": \"Apr\", \"Date\": 11, \"Messages\": 3}, {\"Month\": \"Apr\", \"Date\": 12, \"Messages\": 19}, {\"Month\": \"Apr\", \"Date\": 13, \"Messages\": 22}, {\"Month\": \"Apr\", \"Date\": 14, \"Messages\": 7}, {\"Month\": \"Apr\", \"Date\": 15, \"Messages\": 27}, {\"Month\": \"Apr\", \"Date\": 16, \"Messages\": 216}, {\"Month\": \"Apr\", \"Date\": 17, \"Messages\": 95}, {\"Month\": \"Apr\", \"Date\": 18, \"Messages\": 22}, {\"Month\": \"Apr\", \"Date\": 20, \"Messages\": 28}, {\"Month\": \"Apr\", \"Date\": 21, \"Messages\": 43}, {\"Month\": \"Apr\", \"Date\": 22, \"Messages\": 9}, {\"Month\": \"Apr\", \"Date\": 30, \"Messages\": 7}, {\"Month\": \"Dec\", \"Date\": 1, \"Messages\": 22}, {\"Month\": \"Dec\", \"Date\": 2, \"Messages\": 13}, {\"Month\": \"Dec\", \"Date\": 3, \"Messages\": 49}, {\"Month\": \"Dec\", \"Date\": 4, \"Messages\": 44}, {\"Month\": \"Dec\", \"Date\": 5, \"Messages\": 28}, {\"Month\": \"Dec\", \"Date\": 6, \"Messages\": 60}, {\"Month\": \"Dec\", \"Date\": 7, \"Messages\": 5}, {\"Month\": \"Dec\", \"Date\": 8, \"Messages\": 28}, {\"Month\": \"Dec\", \"Date\": 9, \"Messages\": 36}, {\"Month\": \"Dec\", \"Date\": 10, \"Messages\": 11}, {\"Month\": \"Dec\", \"Date\": 11, \"Messages\": 4}, {\"Month\": \"Dec\", \"Date\": 12, \"Messages\": 1}, {\"Month\": \"Dec\", \"Date\": 13, \"Messages\": 15}, {\"Month\": \"Dec\", \"Date\": 14, \"Messages\": 3}, {\"Month\": \"Dec\", \"Date\": 16, \"Messages\": 9}, {\"Month\": \"Dec\", \"Date\": 17, \"Messages\": 13}, {\"Month\": \"Dec\", \"Date\": 21, \"Messages\": 14}, {\"Month\": \"Dec\", \"Date\": 22, \"Messages\": 2}, {\"Month\": \"Dec\", \"Date\": 26, \"Messages\": 18}, {\"Month\": \"Dec\", \"Date\": 27, \"Messages\": 1}, {\"Month\": \"Dec\", \"Date\": 28, \"Messages\": 1}, {\"Month\": \"Feb\", \"Date\": 1, \"Messages\": 11}, {\"Month\": \"Feb\", \"Date\": 2, \"Messages\": 49}, {\"Month\": \"Feb\", \"Date\": 3, \"Messages\": 36}, {\"Month\": \"Feb\", \"Date\": 4, \"Messages\": 108}, {\"Month\": \"Feb\", \"Date\": 5, \"Messages\": 36}, {\"Month\": \"Feb\", \"Date\": 6, \"Messages\": 49}, {\"Month\": \"Feb\", \"Date\": 7, \"Messages\": 94}, {\"Month\": \"Feb\", \"Date\": 8, \"Messages\": 93}, {\"Month\": \"Feb\", \"Date\": 9, \"Messages\": 24}, {\"Month\": \"Feb\", \"Date\": 10, \"Messages\": 65}, {\"Month\": \"Feb\", \"Date\": 11, \"Messages\": 78}, {\"Month\": \"Feb\", \"Date\": 12, \"Messages\": 17}, {\"Month\": \"Feb\", \"Date\": 13, \"Messages\": 55}, {\"Month\": \"Feb\", \"Date\": 14, \"Messages\": 7}, {\"Month\": \"Feb\", \"Date\": 15, \"Messages\": 14}, {\"Month\": \"Feb\", \"Date\": 16, \"Messages\": 68}, {\"Month\": \"Feb\", \"Date\": 17, \"Messages\": 50}, {\"Month\": \"Feb\", \"Date\": 18, \"Messages\": 57}, {\"Month\": \"Feb\", \"Date\": 19, \"Messages\": 12}, {\"Month\": \"Feb\", \"Date\": 20, \"Messages\": 36}, {\"Month\": \"Feb\", \"Date\": 21, \"Messages\": 51}, {\"Month\": \"Feb\", \"Date\": 22, \"Messages\": 82}, {\"Month\": \"Feb\", \"Date\": 23, \"Messages\": 79}, {\"Month\": \"Feb\", \"Date\": 24, \"Messages\": 111}, {\"Month\": \"Feb\", \"Date\": 25, \"Messages\": 90}, {\"Month\": \"Feb\", \"Date\": 26, \"Messages\": 297}, {\"Month\": \"Feb\", \"Date\": 27, \"Messages\": 119}, {\"Month\": \"Feb\", \"Date\": 28, \"Messages\": 65}, {\"Month\": \"Feb\", \"Date\": 29, \"Messages\": 24}, {\"Month\": \"Jan\", \"Date\": 1, \"Messages\": 16}, {\"Month\": \"Jan\", \"Date\": 2, \"Messages\": 4}, {\"Month\": \"Jan\", \"Date\": 3, \"Messages\": 7}, {\"Month\": \"Jan\", \"Date\": 6, \"Messages\": 26}, {\"Month\": \"Jan\", \"Date\": 7, \"Messages\": 5}, {\"Month\": \"Jan\", \"Date\": 8, \"Messages\": 25}, {\"Month\": \"Jan\", \"Date\": 9, \"Messages\": 16}, {\"Month\": \"Jan\", \"Date\": 10, \"Messages\": 7}, {\"Month\": \"Jan\", \"Date\": 11, \"Messages\": 8}, {\"Month\": \"Jan\", \"Date\": 12, \"Messages\": 33}, {\"Month\": \"Jan\", \"Date\": 13, \"Messages\": 33}, {\"Month\": \"Jan\", \"Date\": 14, \"Messages\": 91}, {\"Month\": \"Jan\", \"Date\": 15, \"Messages\": 83}, {\"Month\": \"Jan\", \"Date\": 16, \"Messages\": 64}, {\"Month\": \"Jan\", \"Date\": 17, \"Messages\": 20}, {\"Month\": \"Jan\", \"Date\": 18, \"Messages\": 7}, {\"Month\": \"Jan\", \"Date\": 19, \"Messages\": 34}, {\"Month\": \"Jan\", \"Date\": 20, \"Messages\": 34}, {\"Month\": \"Jan\", \"Date\": 21, \"Messages\": 27}, {\"Month\": \"Jan\", \"Date\": 22, \"Messages\": 88}, {\"Month\": \"Jan\", \"Date\": 23, \"Messages\": 59}, {\"Month\": \"Jan\", \"Date\": 24, \"Messages\": 60}, {\"Month\": \"Jan\", \"Date\": 25, \"Messages\": 51}, {\"Month\": \"Jan\", \"Date\": 26, \"Messages\": 21}, {\"Month\": \"Jan\", \"Date\": 27, \"Messages\": 51}, {\"Month\": \"Jan\", \"Date\": 28, \"Messages\": 84}, {\"Month\": \"Jan\", \"Date\": 29, \"Messages\": 36}, {\"Month\": \"Jan\", \"Date\": 30, \"Messages\": 7}, {\"Month\": \"Jan\", \"Date\": 31, \"Messages\": 10}, {\"Month\": \"Jul\", \"Date\": 1, \"Messages\": 51}, {\"Month\": \"Jul\", \"Date\": 2, \"Messages\": 66}, {\"Month\": \"Jul\", \"Date\": 3, \"Messages\": 14}, {\"Month\": \"Jul\", \"Date\": 5, \"Messages\": 15}, {\"Month\": \"Jul\", \"Date\": 6, \"Messages\": 19}, {\"Month\": \"Jul\", \"Date\": 7, \"Messages\": 39}, {\"Month\": \"Jul\", \"Date\": 8, \"Messages\": 58}, {\"Month\": \"Jul\", \"Date\": 9, \"Messages\": 187}, {\"Month\": \"Jul\", \"Date\": 10, \"Messages\": 6}, {\"Month\": \"Jul\", \"Date\": 11, \"Messages\": 2}, {\"Month\": \"Jul\", \"Date\": 12, \"Messages\": 7}, {\"Month\": \"Jul\", \"Date\": 13, \"Messages\": 26}, {\"Month\": \"Jul\", \"Date\": 14, \"Messages\": 57}, {\"Month\": \"Jul\", \"Date\": 15, \"Messages\": 42}, {\"Month\": \"Jul\", \"Date\": 16, \"Messages\": 102}, {\"Month\": \"Jul\", \"Date\": 18, \"Messages\": 18}, {\"Month\": \"Jul\", \"Date\": 19, \"Messages\": 9}, {\"Month\": \"Jul\", \"Date\": 20, \"Messages\": 40}, {\"Month\": \"Jul\", \"Date\": 21, \"Messages\": 36}, {\"Month\": \"Jul\", \"Date\": 22, \"Messages\": 63}, {\"Month\": \"Jul\", \"Date\": 23, \"Messages\": 105}, {\"Month\": \"Jul\", \"Date\": 24, \"Messages\": 9}, {\"Month\": \"Jul\", \"Date\": 25, \"Messages\": 1}, {\"Month\": \"Jul\", \"Date\": 26, \"Messages\": 1}, {\"Month\": \"Jun\", \"Date\": 1, \"Messages\": 42}, {\"Month\": \"Jun\", \"Date\": 2, \"Messages\": 40}, {\"Month\": \"Jun\", \"Date\": 3, \"Messages\": 35}, {\"Month\": \"Jun\", \"Date\": 4, \"Messages\": 223}, {\"Month\": \"Jun\", \"Date\": 5, \"Messages\": 74}, {\"Month\": \"Jun\", \"Date\": 6, \"Messages\": 56}, {\"Month\": \"Jun\", \"Date\": 7, \"Messages\": 47}, {\"Month\": \"Jun\", \"Date\": 8, \"Messages\": 82}, {\"Month\": \"Jun\", \"Date\": 9, \"Messages\": 229}, {\"Month\": \"Jun\", \"Date\": 10, \"Messages\": 8}, {\"Month\": \"Jun\", \"Date\": 11, \"Messages\": 101}, {\"Month\": \"Jun\", \"Date\": 12, \"Messages\": 31}, {\"Month\": \"Jun\", \"Date\": 13, \"Messages\": 31}, {\"Month\": \"Jun\", \"Date\": 14, \"Messages\": 67}, {\"Month\": \"Jun\", \"Date\": 15, \"Messages\": 93}, {\"Month\": \"Jun\", \"Date\": 16, \"Messages\": 131}, {\"Month\": \"Jun\", \"Date\": 17, \"Messages\": 15}, {\"Month\": \"Jun\", \"Date\": 18, \"Messages\": 114}, {\"Month\": \"Jun\", \"Date\": 19, \"Messages\": 7}, {\"Month\": \"Jun\", \"Date\": 20, \"Messages\": 4}, {\"Month\": \"Jun\", \"Date\": 21, \"Messages\": 18}, {\"Month\": \"Jun\", \"Date\": 22, \"Messages\": 435}, {\"Month\": \"Jun\", \"Date\": 23, \"Messages\": 372}, {\"Month\": \"Jun\", \"Date\": 24, \"Messages\": 87}, {\"Month\": \"Jun\", \"Date\": 25, \"Messages\": 30}, {\"Month\": \"Jun\", \"Date\": 27, \"Messages\": 24}, {\"Month\": \"Jun\", \"Date\": 28, \"Messages\": 71}, {\"Month\": \"Jun\", \"Date\": 29, \"Messages\": 361}, {\"Month\": \"Jun\", \"Date\": 30, \"Messages\": 246}, {\"Month\": \"Mar\", \"Date\": 1, \"Messages\": 36}, {\"Month\": \"Mar\", \"Date\": 2, \"Messages\": 24}, {\"Month\": \"Mar\", \"Date\": 3, \"Messages\": 6}, {\"Month\": \"Mar\", \"Date\": 4, \"Messages\": 28}, {\"Month\": \"Mar\", \"Date\": 5, \"Messages\": 63}, {\"Month\": \"Mar\", \"Date\": 6, \"Messages\": 46}, {\"Month\": \"Mar\", \"Date\": 7, \"Messages\": 17}, {\"Month\": \"Mar\", \"Date\": 8, \"Messages\": 4}, {\"Month\": \"Mar\", \"Date\": 9, \"Messages\": 22}, {\"Month\": \"Mar\", \"Date\": 10, \"Messages\": 13}, {\"Month\": \"Mar\", \"Date\": 11, \"Messages\": 32}, {\"Month\": \"Mar\", \"Date\": 12, \"Messages\": 44}, {\"Month\": \"Mar\", \"Date\": 13, \"Messages\": 140}, {\"Month\": \"Mar\", \"Date\": 14, \"Messages\": 35}, {\"Month\": \"Mar\", \"Date\": 15, \"Messages\": 91}, {\"Month\": \"Mar\", \"Date\": 16, \"Messages\": 98}, {\"Month\": \"Mar\", \"Date\": 17, \"Messages\": 130}, {\"Month\": \"Mar\", \"Date\": 18, \"Messages\": 147}, {\"Month\": \"Mar\", \"Date\": 19, \"Messages\": 216}, {\"Month\": \"Mar\", \"Date\": 20, \"Messages\": 67}, {\"Month\": \"Mar\", \"Date\": 21, \"Messages\": 23}, {\"Month\": \"Mar\", \"Date\": 22, \"Messages\": 40}, {\"Month\": \"Mar\", \"Date\": 23, \"Messages\": 72}, {\"Month\": \"Mar\", \"Date\": 24, \"Messages\": 161}, {\"Month\": \"Mar\", \"Date\": 25, \"Messages\": 152}, {\"Month\": \"Mar\", \"Date\": 26, \"Messages\": 52}, {\"Month\": \"Mar\", \"Date\": 27, \"Messages\": 67}, {\"Month\": \"Mar\", \"Date\": 28, \"Messages\": 29}, {\"Month\": \"Mar\", \"Date\": 29, \"Messages\": 6}, {\"Month\": \"Mar\", \"Date\": 30, \"Messages\": 43}, {\"Month\": \"Mar\", \"Date\": 31, \"Messages\": 47}, {\"Month\": \"May\", \"Date\": 1, \"Messages\": 4}, {\"Month\": \"May\", \"Date\": 2, \"Messages\": 29}, {\"Month\": \"May\", \"Date\": 3, \"Messages\": 5}, {\"Month\": \"May\", \"Date\": 4, \"Messages\": 28}, {\"Month\": \"May\", \"Date\": 5, \"Messages\": 168}, {\"Month\": \"May\", \"Date\": 6, \"Messages\": 54}, {\"Month\": \"May\", \"Date\": 7, \"Messages\": 223}, {\"Month\": \"May\", \"Date\": 8, \"Messages\": 42}, {\"Month\": \"May\", \"Date\": 9, \"Messages\": 1}, {\"Month\": \"May\", \"Date\": 10, \"Messages\": 2}, {\"Month\": \"May\", \"Date\": 11, \"Messages\": 73}, {\"Month\": \"May\", \"Date\": 12, \"Messages\": 224}, {\"Month\": \"May\", \"Date\": 13, \"Messages\": 98}, {\"Month\": \"May\", \"Date\": 14, \"Messages\": 224}, {\"Month\": \"May\", \"Date\": 16, \"Messages\": 10}, {\"Month\": \"May\", \"Date\": 17, \"Messages\": 4}, {\"Month\": \"May\", \"Date\": 18, \"Messages\": 139}, {\"Month\": \"May\", \"Date\": 19, \"Messages\": 214}, {\"Month\": \"May\", \"Date\": 20, \"Messages\": 48}, {\"Month\": \"May\", \"Date\": 21, \"Messages\": 121}, {\"Month\": \"May\", \"Date\": 22, \"Messages\": 8}, {\"Month\": \"May\", \"Date\": 23, \"Messages\": 2}, {\"Month\": \"May\", \"Date\": 24, \"Messages\": 32}, {\"Month\": \"May\", \"Date\": 25, \"Messages\": 37}, {\"Month\": \"May\", \"Date\": 26, \"Messages\": 68}, {\"Month\": \"May\", \"Date\": 27, \"Messages\": 55}, {\"Month\": \"May\", \"Date\": 28, \"Messages\": 164}, {\"Month\": \"May\", \"Date\": 29, \"Messages\": 20}, {\"Month\": \"May\", \"Date\": 30, \"Messages\": 21}, {\"Month\": \"May\", \"Date\": 31, \"Messages\": 8}, {\"Month\": \"Nov\", \"Date\": 1, \"Messages\": 1}, {\"Month\": \"Nov\", \"Date\": 2, \"Messages\": 3}, {\"Month\": \"Nov\", \"Date\": 3, \"Messages\": 34}, {\"Month\": \"Nov\", \"Date\": 4, \"Messages\": 13}, {\"Month\": \"Nov\", \"Date\": 5, \"Messages\": 19}, {\"Month\": \"Nov\", \"Date\": 6, \"Messages\": 3}, {\"Month\": \"Nov\", \"Date\": 7, \"Messages\": 43}, {\"Month\": \"Nov\", \"Date\": 8, \"Messages\": 1}, {\"Month\": \"Nov\", \"Date\": 10, \"Messages\": 18}, {\"Month\": \"Nov\", \"Date\": 11, \"Messages\": 14}, {\"Month\": \"Nov\", \"Date\": 12, \"Messages\": 5}, {\"Month\": \"Nov\", \"Date\": 13, \"Messages\": 23}, {\"Month\": \"Nov\", \"Date\": 14, \"Messages\": 25}, {\"Month\": \"Nov\", \"Date\": 15, \"Messages\": 5}, {\"Month\": \"Nov\", \"Date\": 16, \"Messages\": 2}, {\"Month\": \"Nov\", \"Date\": 17, \"Messages\": 4}, {\"Month\": \"Nov\", \"Date\": 18, \"Messages\": 4}, {\"Month\": \"Nov\", \"Date\": 19, \"Messages\": 13}, {\"Month\": \"Nov\", \"Date\": 20, \"Messages\": 55}, {\"Month\": \"Nov\", \"Date\": 21, \"Messages\": 9}, {\"Month\": \"Nov\", \"Date\": 23, \"Messages\": 8}, {\"Month\": \"Nov\", \"Date\": 24, \"Messages\": 39}, {\"Month\": \"Nov\", \"Date\": 25, \"Messages\": 13}, {\"Month\": \"Nov\", \"Date\": 26, \"Messages\": 13}, {\"Month\": \"Nov\", \"Date\": 27, \"Messages\": 27}, {\"Month\": \"Nov\", \"Date\": 28, \"Messages\": 69}, {\"Month\": \"Nov\", \"Date\": 29, \"Messages\": 46}, {\"Month\": \"Nov\", \"Date\": 30, \"Messages\": 56}, {\"Month\": \"Oct\", \"Date\": 1, \"Messages\": 17}, {\"Month\": \"Oct\", \"Date\": 3, \"Messages\": 6}, {\"Month\": \"Oct\", \"Date\": 4, \"Messages\": 1}, {\"Month\": \"Oct\", \"Date\": 6, \"Messages\": 22}, {\"Month\": \"Oct\", \"Date\": 7, \"Messages\": 12}, {\"Month\": \"Oct\", \"Date\": 8, \"Messages\": 2}, {\"Month\": \"Oct\", \"Date\": 9, \"Messages\": 30}, {\"Month\": \"Oct\", \"Date\": 10, \"Messages\": 15}, {\"Month\": \"Oct\", \"Date\": 11, \"Messages\": 8}, {\"Month\": \"Oct\", \"Date\": 12, \"Messages\": 3}, {\"Month\": \"Oct\", \"Date\": 13, \"Messages\": 13}, {\"Month\": \"Oct\", \"Date\": 14, \"Messages\": 11}, {\"Month\": \"Oct\", \"Date\": 30, \"Messages\": 39}, {\"Month\": \"Oct\", \"Date\": 31, \"Messages\": 57}, {\"Month\": \"Sep\", \"Date\": 5, \"Messages\": 37}, {\"Month\": \"Sep\", \"Date\": 6, \"Messages\": 19}, {\"Month\": \"Sep\", \"Date\": 7, \"Messages\": 32}, {\"Month\": \"Sep\", \"Date\": 9, \"Messages\": 26}, {\"Month\": \"Sep\", \"Date\": 10, \"Messages\": 13}, {\"Month\": \"Sep\", \"Date\": 11, \"Messages\": 31}, {\"Month\": \"Sep\", \"Date\": 12, \"Messages\": 39}, {\"Month\": \"Sep\", \"Date\": 13, \"Messages\": 3}, {\"Month\": \"Sep\", \"Date\": 14, \"Messages\": 21}, {\"Month\": \"Sep\", \"Date\": 15, \"Messages\": 4}, {\"Month\": \"Sep\", \"Date\": 16, \"Messages\": 34}, {\"Month\": \"Sep\", \"Date\": 17, \"Messages\": 6}, {\"Month\": \"Sep\", \"Date\": 18, \"Messages\": 40}, {\"Month\": \"Sep\", \"Date\": 19, \"Messages\": 9}, {\"Month\": \"Sep\", \"Date\": 20, \"Messages\": 6}, {\"Month\": \"Sep\", \"Date\": 22, \"Messages\": 5}, {\"Month\": \"Sep\", \"Date\": 23, \"Messages\": 6}, {\"Month\": \"Sep\", \"Date\": 24, \"Messages\": 2}, {\"Month\": \"Sep\", \"Date\": 25, \"Messages\": 51}, {\"Month\": \"Sep\", \"Date\": 26, \"Messages\": 30}, {\"Month\": \"Sep\", \"Date\": 27, \"Messages\": 10}, {\"Month\": \"Sep\", \"Date\": 30, \"Messages\": 9}]}}, {\"mode\": \"vega-lite\"});\n",
       "</script>"
      ],
      "text/plain": [
       "alt.Chart(...)"
      ]
     },
     "execution_count": 51,
     "metadata": {},
     "output_type": "execute_result"
    }
   ],
   "source": [
    "# Creating a new data frame which has message count per day \n",
    "\n",
    "df1=pd.DataFrame(data1[\"Messages\"].groupby([data1.Month,data1.Date.dt.day]).count())\n",
    "\n",
    "# Resting index\n",
    "df1.reset_index(inplace=True)\n",
    "\n",
    "# Binding Values for our dropdown \n",
    "input_dropdown1 = alt.binding_select(options=list(set(df1.Month.unique())))\n",
    "\n",
    "#selection \n",
    "selected_points1 = alt.selection_single(fields=['Month'], bind=input_dropdown1, name='Select')\n",
    "\n",
    "# color  \n",
    "color = alt.condition(selected_points1,alt.Color('Month:N'),alt.value('transparent'))\n",
    "\n",
    "# define Chart\n",
    "alt.Chart(df1, width=730, height=500).mark_line().encode(\n",
    "x='Date:Q',\n",
    "y='Messages',\n",
    "color=color,\n",
    "tooltip='Month:Q'\n",
    ").add_selection(selected_points1)\n",
    "\n"
   ]
  },
  {
   "cell_type": "markdown",
   "metadata": {},
   "source": [
    "# Which day i spend more time on study group"
   ]
  },
  {
   "cell_type": "code",
   "execution_count": 111,
   "metadata": {},
   "outputs": [
    {
     "data": {
      "text/html": [
       "\n",
       "<div id=\"altair-viz-f1b8ca8da5414008a364c6494df93f6e\"></div>\n",
       "<script type=\"text/javascript\">\n",
       "  (function(spec, embedOpt){\n",
       "    let outputDiv = document.currentScript.previousElementSibling;\n",
       "    if (outputDiv.id !== \"altair-viz-f1b8ca8da5414008a364c6494df93f6e\") {\n",
       "      outputDiv = document.getElementById(\"altair-viz-f1b8ca8da5414008a364c6494df93f6e\");\n",
       "    }\n",
       "    const paths = {\n",
       "      \"vega\": \"https://cdn.jsdelivr.net/npm//vega@5?noext\",\n",
       "      \"vega-lib\": \"https://cdn.jsdelivr.net/npm//vega-lib?noext\",\n",
       "      \"vega-lite\": \"https://cdn.jsdelivr.net/npm//vega-lite@4.8.1?noext\",\n",
       "      \"vega-embed\": \"https://cdn.jsdelivr.net/npm//vega-embed@6?noext\",\n",
       "    };\n",
       "\n",
       "    function loadScript(lib) {\n",
       "      return new Promise(function(resolve, reject) {\n",
       "        var s = document.createElement('script');\n",
       "        s.src = paths[lib];\n",
       "        s.async = true;\n",
       "        s.onload = () => resolve(paths[lib]);\n",
       "        s.onerror = () => reject(`Error loading script: ${paths[lib]}`);\n",
       "        document.getElementsByTagName(\"head\")[0].appendChild(s);\n",
       "      });\n",
       "    }\n",
       "\n",
       "    function showError(err) {\n",
       "      outputDiv.innerHTML = `<div class=\"error\" style=\"color:red;\">${err}</div>`;\n",
       "      throw err;\n",
       "    }\n",
       "\n",
       "    function displayChart(vegaEmbed) {\n",
       "      vegaEmbed(outputDiv, spec, embedOpt)\n",
       "        .catch(err => showError(`Javascript Error: ${err.message}<br>This usually means there's a typo in your chart specification. See the javascript console for the full traceback.`));\n",
       "    }\n",
       "\n",
       "    if(typeof define === \"function\" && define.amd) {\n",
       "      requirejs.config({paths});\n",
       "      require([\"vega-embed\"], displayChart, err => showError(`Error loading script: ${err.message}`));\n",
       "    } else if (typeof vegaEmbed === \"function\") {\n",
       "      displayChart(vegaEmbed);\n",
       "    } else {\n",
       "      loadScript(\"vega\")\n",
       "        .then(() => loadScript(\"vega-lite\"))\n",
       "        .then(() => loadScript(\"vega-embed\"))\n",
       "        .catch(showError)\n",
       "        .then(() => displayChart(vegaEmbed));\n",
       "    }\n",
       "  })({\"config\": {\"view\": {\"continuousWidth\": 400, \"continuousHeight\": 300}}, \"data\": {\"name\": \"data-194059529b92f01b4e36a9f6c9543b17\"}, \"mark\": \"line\", \"encoding\": {\"color\": {\"condition\": {\"type\": \"nominal\", \"field\": \"Name\", \"selection\": \"Select\"}, \"value\": \"transparent\"}, \"tooltip\": {\"type\": \"quantitative\", \"field\": \"Messages\"}, \"x\": {\"type\": \"nominal\", \"field\": \"Weekdays\", \"sort\": [\"Sunday\", \"Monday\", \"Tuesday\", \"Wednesday\", \"Thursday\", \"Friday\", \"Saturday\"]}, \"y\": {\"type\": \"quantitative\", \"field\": \"Messages\"}}, \"height\": 500, \"selection\": {\"Select\": {\"type\": \"single\", \"fields\": [\"Name\"], \"bind\": {\"input\": \"select\", \"options\": [\" Roberta\", \"Vasu\", \" Tuli \", \" Kirra\", \" Naval\", \" Kiran \", \"Dharun\", \" Amir\", \" Cici\", \" Nicky\", \" Nikita \", \" Navjot \", \" +91 82190 16358\", \"+91 90414 65914\", \" Arsh \", \" Kania\", \" Kiran\", \" Edward\", \" Harshad\", \" Jasman\", \" Prerna\", \" Vedant \", \" David\", \"Rashman\", \" Manoj\", \"Vivek\", \" Aditi\", \" Beth\", \" Jaspreet\"]}}}, \"width\": 800, \"$schema\": \"https://vega.github.io/schema/vega-lite/v4.8.1.json\", \"datasets\": {\"data-194059529b92f01b4e36a9f6c9543b17\": [{\"Name\": \" +91 82190 16358\", \"Weekdays\": \"Friday\", \"Messages\": 3}, {\"Name\": \" +91 82190 16358\", \"Weekdays\": \"Thursday\", \"Messages\": 1}, {\"Name\": \" +91 82190 16358\", \"Weekdays\": \"Tuesday\", \"Messages\": 1}, {\"Name\": \" +91 82190 16358\", \"Weekdays\": \"Wednesday\", \"Messages\": 2}, {\"Name\": \" Aditi\", \"Weekdays\": \"Friday\", \"Messages\": 30}, {\"Name\": \" Aditi\", \"Weekdays\": \"Monday\", \"Messages\": 37}, {\"Name\": \" Aditi\", \"Weekdays\": \"Saturday\", \"Messages\": 17}, {\"Name\": \" Aditi\", \"Weekdays\": \"Sunday\", \"Messages\": 14}, {\"Name\": \" Aditi\", \"Weekdays\": \"Thursday\", \"Messages\": 57}, {\"Name\": \" Aditi\", \"Weekdays\": \"Tuesday\", \"Messages\": 53}, {\"Name\": \" Aditi\", \"Weekdays\": \"Wednesday\", \"Messages\": 41}, {\"Name\": \" Amir\", \"Weekdays\": \"Friday\", \"Messages\": 65}, {\"Name\": \" Amir\", \"Weekdays\": \"Monday\", \"Messages\": 92}, {\"Name\": \" Amir\", \"Weekdays\": \"Saturday\", \"Messages\": 32}, {\"Name\": \" Amir\", \"Weekdays\": \"Sunday\", \"Messages\": 39}, {\"Name\": \" Amir\", \"Weekdays\": \"Thursday\", \"Messages\": 130}, {\"Name\": \" Amir\", \"Weekdays\": \"Tuesday\", \"Messages\": 153}, {\"Name\": \" Amir\", \"Weekdays\": \"Wednesday\", \"Messages\": 95}, {\"Name\": \" Arsh \", \"Weekdays\": \"Friday\", \"Messages\": 20}, {\"Name\": \" Arsh \", \"Weekdays\": \"Monday\", \"Messages\": 77}, {\"Name\": \" Arsh \", \"Weekdays\": \"Saturday\", \"Messages\": 52}, {\"Name\": \" Arsh \", \"Weekdays\": \"Sunday\", \"Messages\": 57}, {\"Name\": \" Arsh \", \"Weekdays\": \"Thursday\", \"Messages\": 167}, {\"Name\": \" Arsh \", \"Weekdays\": \"Tuesday\", \"Messages\": 135}, {\"Name\": \" Arsh \", \"Weekdays\": \"Wednesday\", \"Messages\": 45}, {\"Name\": \" Beth\", \"Weekdays\": \"Friday\", \"Messages\": 11}, {\"Name\": \" Beth\", \"Weekdays\": \"Monday\", \"Messages\": 37}, {\"Name\": \" Beth\", \"Weekdays\": \"Saturday\", \"Messages\": 5}, {\"Name\": \" Beth\", \"Weekdays\": \"Sunday\", \"Messages\": 14}, {\"Name\": \" Beth\", \"Weekdays\": \"Thursday\", \"Messages\": 38}, {\"Name\": \" Beth\", \"Weekdays\": \"Tuesday\", \"Messages\": 27}, {\"Name\": \" Beth\", \"Weekdays\": \"Wednesday\", \"Messages\": 37}, {\"Name\": \" Cici\", \"Weekdays\": \"Friday\", \"Messages\": 16}, {\"Name\": \" Cici\", \"Weekdays\": \"Monday\", \"Messages\": 82}, {\"Name\": \" Cici\", \"Weekdays\": \"Saturday\", \"Messages\": 36}, {\"Name\": \" Cici\", \"Weekdays\": \"Sunday\", \"Messages\": 19}, {\"Name\": \" Cici\", \"Weekdays\": \"Thursday\", \"Messages\": 155}, {\"Name\": \" Cici\", \"Weekdays\": \"Tuesday\", \"Messages\": 117}, {\"Name\": \" Cici\", \"Weekdays\": \"Wednesday\", \"Messages\": 44}, {\"Name\": \" David\", \"Weekdays\": \"Friday\", \"Messages\": 6}, {\"Name\": \" David\", \"Weekdays\": \"Monday\", \"Messages\": 28}, {\"Name\": \" David\", \"Weekdays\": \"Saturday\", \"Messages\": 41}, {\"Name\": \" David\", \"Weekdays\": \"Sunday\", \"Messages\": 7}, {\"Name\": \" David\", \"Weekdays\": \"Thursday\", \"Messages\": 61}, {\"Name\": \" David\", \"Weekdays\": \"Tuesday\", \"Messages\": 29}, {\"Name\": \" David\", \"Weekdays\": \"Wednesday\", \"Messages\": 39}, {\"Name\": \" Edward\", \"Weekdays\": \"Friday\", \"Messages\": 8}, {\"Name\": \" Edward\", \"Weekdays\": \"Monday\", \"Messages\": 23}, {\"Name\": \" Edward\", \"Weekdays\": \"Saturday\", \"Messages\": 2}, {\"Name\": \" Edward\", \"Weekdays\": \"Sunday\", \"Messages\": 13}, {\"Name\": \" Edward\", \"Weekdays\": \"Thursday\", \"Messages\": 28}, {\"Name\": \" Edward\", \"Weekdays\": \"Tuesday\", \"Messages\": 37}, {\"Name\": \" Edward\", \"Weekdays\": \"Wednesday\", \"Messages\": 13}, {\"Name\": \" Harshad\", \"Weekdays\": \"Friday\", \"Messages\": 40}, {\"Name\": \" Harshad\", \"Weekdays\": \"Monday\", \"Messages\": 45}, {\"Name\": \" Harshad\", \"Weekdays\": \"Saturday\", \"Messages\": 15}, {\"Name\": \" Harshad\", \"Weekdays\": \"Sunday\", \"Messages\": 33}, {\"Name\": \" Harshad\", \"Weekdays\": \"Thursday\", \"Messages\": 74}, {\"Name\": \" Harshad\", \"Weekdays\": \"Tuesday\", \"Messages\": 78}, {\"Name\": \" Harshad\", \"Weekdays\": \"Wednesday\", \"Messages\": 67}, {\"Name\": \" Jasman\", \"Weekdays\": \"Friday\", \"Messages\": 51}, {\"Name\": \" Jasman\", \"Weekdays\": \"Monday\", \"Messages\": 55}, {\"Name\": \" Jasman\", \"Weekdays\": \"Saturday\", \"Messages\": 31}, {\"Name\": \" Jasman\", \"Weekdays\": \"Sunday\", \"Messages\": 53}, {\"Name\": \" Jasman\", \"Weekdays\": \"Thursday\", \"Messages\": 102}, {\"Name\": \" Jasman\", \"Weekdays\": \"Tuesday\", \"Messages\": 134}, {\"Name\": \" Jasman\", \"Weekdays\": \"Wednesday\", \"Messages\": 91}, {\"Name\": \" Jaspreet\", \"Weekdays\": \"Friday\", \"Messages\": 100}, {\"Name\": \" Jaspreet\", \"Weekdays\": \"Monday\", \"Messages\": 156}, {\"Name\": \" Jaspreet\", \"Weekdays\": \"Saturday\", \"Messages\": 70}, {\"Name\": \" Jaspreet\", \"Weekdays\": \"Sunday\", \"Messages\": 97}, {\"Name\": \" Jaspreet\", \"Weekdays\": \"Thursday\", \"Messages\": 212}, {\"Name\": \" Jaspreet\", \"Weekdays\": \"Tuesday\", \"Messages\": 148}, {\"Name\": \" Jaspreet\", \"Weekdays\": \"Wednesday\", \"Messages\": 193}, {\"Name\": \" Kania\", \"Weekdays\": \"Friday\", \"Messages\": 40}, {\"Name\": \" Kania\", \"Weekdays\": \"Monday\", \"Messages\": 43}, {\"Name\": \" Kania\", \"Weekdays\": \"Saturday\", \"Messages\": 14}, {\"Name\": \" Kania\", \"Weekdays\": \"Sunday\", \"Messages\": 24}, {\"Name\": \" Kania\", \"Weekdays\": \"Thursday\", \"Messages\": 79}, {\"Name\": \" Kania\", \"Weekdays\": \"Tuesday\", \"Messages\": 68}, {\"Name\": \" Kania\", \"Weekdays\": \"Wednesday\", \"Messages\": 21}, {\"Name\": \" Kiran\", \"Weekdays\": \"Friday\", \"Messages\": 28}, {\"Name\": \" Kiran\", \"Weekdays\": \"Monday\", \"Messages\": 170}, {\"Name\": \" Kiran\", \"Weekdays\": \"Saturday\", \"Messages\": 23}, {\"Name\": \" Kiran\", \"Weekdays\": \"Sunday\", \"Messages\": 25}, {\"Name\": \" Kiran\", \"Weekdays\": \"Thursday\", \"Messages\": 151}, {\"Name\": \" Kiran\", \"Weekdays\": \"Tuesday\", \"Messages\": 163}, {\"Name\": \" Kiran\", \"Weekdays\": \"Wednesday\", \"Messages\": 58}, {\"Name\": \" Kiran \", \"Weekdays\": \"Friday\", \"Messages\": 34}, {\"Name\": \" Kiran \", \"Weekdays\": \"Monday\", \"Messages\": 29}, {\"Name\": \" Kiran \", \"Weekdays\": \"Saturday\", \"Messages\": 18}, {\"Name\": \" Kiran \", \"Weekdays\": \"Sunday\", \"Messages\": 10}, {\"Name\": \" Kiran \", \"Weekdays\": \"Thursday\", \"Messages\": 49}, {\"Name\": \" Kiran \", \"Weekdays\": \"Tuesday\", \"Messages\": 24}, {\"Name\": \" Kiran \", \"Weekdays\": \"Wednesday\", \"Messages\": 58}, {\"Name\": \" Kirra\", \"Weekdays\": \"Friday\", \"Messages\": 162}, {\"Name\": \" Kirra\", \"Weekdays\": \"Monday\", \"Messages\": 289}, {\"Name\": \" Kirra\", \"Weekdays\": \"Saturday\", \"Messages\": 132}, {\"Name\": \" Kirra\", \"Weekdays\": \"Sunday\", \"Messages\": 120}, {\"Name\": \" Kirra\", \"Weekdays\": \"Thursday\", \"Messages\": 381}, {\"Name\": \" Kirra\", \"Weekdays\": \"Tuesday\", \"Messages\": 395}, {\"Name\": \" Kirra\", \"Weekdays\": \"Wednesday\", \"Messages\": 298}, {\"Name\": \" Manoj\", \"Weekdays\": \"Friday\", \"Messages\": 16}, {\"Name\": \" Manoj\", \"Weekdays\": \"Monday\", \"Messages\": 26}, {\"Name\": \" Manoj\", \"Weekdays\": \"Saturday\", \"Messages\": 10}, {\"Name\": \" Manoj\", \"Weekdays\": \"Sunday\", \"Messages\": 12}, {\"Name\": \" Manoj\", \"Weekdays\": \"Thursday\", \"Messages\": 24}, {\"Name\": \" Manoj\", \"Weekdays\": \"Tuesday\", \"Messages\": 27}, {\"Name\": \" Manoj\", \"Weekdays\": \"Wednesday\", \"Messages\": 16}, {\"Name\": \" Naval\", \"Weekdays\": \"Friday\", \"Messages\": 62}, {\"Name\": \" Naval\", \"Weekdays\": \"Monday\", \"Messages\": 100}, {\"Name\": \" Naval\", \"Weekdays\": \"Saturday\", \"Messages\": 21}, {\"Name\": \" Naval\", \"Weekdays\": \"Sunday\", \"Messages\": 44}, {\"Name\": \" Naval\", \"Weekdays\": \"Thursday\", \"Messages\": 114}, {\"Name\": \" Naval\", \"Weekdays\": \"Tuesday\", \"Messages\": 107}, {\"Name\": \" Naval\", \"Weekdays\": \"Wednesday\", \"Messages\": 65}, {\"Name\": \" Navjot \", \"Weekdays\": \"Friday\", \"Messages\": 9}, {\"Name\": \" Navjot \", \"Weekdays\": \"Monday\", \"Messages\": 21}, {\"Name\": \" Navjot \", \"Weekdays\": \"Saturday\", \"Messages\": 11}, {\"Name\": \" Navjot \", \"Weekdays\": \"Sunday\", \"Messages\": 13}, {\"Name\": \" Navjot \", \"Weekdays\": \"Thursday\", \"Messages\": 28}, {\"Name\": \" Navjot \", \"Weekdays\": \"Tuesday\", \"Messages\": 18}, {\"Name\": \" Navjot \", \"Weekdays\": \"Wednesday\", \"Messages\": 9}, {\"Name\": \" Nicky\", \"Weekdays\": \"Friday\", \"Messages\": 2}, {\"Name\": \" Nicky\", \"Weekdays\": \"Monday\", \"Messages\": 20}, {\"Name\": \" Nicky\", \"Weekdays\": \"Saturday\", \"Messages\": 4}, {\"Name\": \" Nicky\", \"Weekdays\": \"Sunday\", \"Messages\": 10}, {\"Name\": \" Nicky\", \"Weekdays\": \"Thursday\", \"Messages\": 25}, {\"Name\": \" Nicky\", \"Weekdays\": \"Tuesday\", \"Messages\": 12}, {\"Name\": \" Nicky\", \"Weekdays\": \"Wednesday\", \"Messages\": 25}, {\"Name\": \" Nikita \", \"Weekdays\": \"Friday\", \"Messages\": 20}, {\"Name\": \" Nikita \", \"Weekdays\": \"Monday\", \"Messages\": 61}, {\"Name\": \" Nikita \", \"Weekdays\": \"Saturday\", \"Messages\": 18}, {\"Name\": \" Nikita \", \"Weekdays\": \"Sunday\", \"Messages\": 11}, {\"Name\": \" Nikita \", \"Weekdays\": \"Thursday\", \"Messages\": 87}, {\"Name\": \" Nikita \", \"Weekdays\": \"Tuesday\", \"Messages\": 73}, {\"Name\": \" Nikita \", \"Weekdays\": \"Wednesday\", \"Messages\": 62}, {\"Name\": \" Prerna\", \"Weekdays\": \"Friday\", \"Messages\": 14}, {\"Name\": \" Prerna\", \"Weekdays\": \"Monday\", \"Messages\": 17}, {\"Name\": \" Prerna\", \"Weekdays\": \"Saturday\", \"Messages\": 25}, {\"Name\": \" Prerna\", \"Weekdays\": \"Sunday\", \"Messages\": 12}, {\"Name\": \" Prerna\", \"Weekdays\": \"Thursday\", \"Messages\": 28}, {\"Name\": \" Prerna\", \"Weekdays\": \"Tuesday\", \"Messages\": 26}, {\"Name\": \" Prerna\", \"Weekdays\": \"Wednesday\", \"Messages\": 21}, {\"Name\": \" Roberta\", \"Weekdays\": \"Friday\", \"Messages\": 191}, {\"Name\": \" Roberta\", \"Weekdays\": \"Monday\", \"Messages\": 282}, {\"Name\": \" Roberta\", \"Weekdays\": \"Saturday\", \"Messages\": 81}, {\"Name\": \" Roberta\", \"Weekdays\": \"Sunday\", \"Messages\": 81}, {\"Name\": \" Roberta\", \"Weekdays\": \"Thursday\", \"Messages\": 373}, {\"Name\": \" Roberta\", \"Weekdays\": \"Tuesday\", \"Messages\": 411}, {\"Name\": \" Roberta\", \"Weekdays\": \"Wednesday\", \"Messages\": 238}, {\"Name\": \" Tuli \", \"Weekdays\": \"Friday\", \"Messages\": 33}, {\"Name\": \" Tuli \", \"Weekdays\": \"Monday\", \"Messages\": 117}, {\"Name\": \" Tuli \", \"Weekdays\": \"Saturday\", \"Messages\": 45}, {\"Name\": \" Tuli \", \"Weekdays\": \"Sunday\", \"Messages\": 39}, {\"Name\": \" Tuli \", \"Weekdays\": \"Thursday\", \"Messages\": 95}, {\"Name\": \" Tuli \", \"Weekdays\": \"Tuesday\", \"Messages\": 133}, {\"Name\": \" Tuli \", \"Weekdays\": \"Wednesday\", \"Messages\": 54}, {\"Name\": \" Vedant \", \"Weekdays\": \"Friday\", \"Messages\": 17}, {\"Name\": \" Vedant \", \"Weekdays\": \"Monday\", \"Messages\": 59}, {\"Name\": \" Vedant \", \"Weekdays\": \"Saturday\", \"Messages\": 56}, {\"Name\": \" Vedant \", \"Weekdays\": \"Sunday\", \"Messages\": 30}, {\"Name\": \" Vedant \", \"Weekdays\": \"Thursday\", \"Messages\": 93}, {\"Name\": \" Vedant \", \"Weekdays\": \"Tuesday\", \"Messages\": 124}, {\"Name\": \" Vedant \", \"Weekdays\": \"Wednesday\", \"Messages\": 52}, {\"Name\": \"+91 90414 65914\", \"Weekdays\": \"Thursday\", \"Messages\": 6}, {\"Name\": \"Dharun\", \"Weekdays\": \"Friday\", \"Messages\": 93}, {\"Name\": \"Dharun\", \"Weekdays\": \"Monday\", \"Messages\": 148}, {\"Name\": \"Dharun\", \"Weekdays\": \"Saturday\", \"Messages\": 67}, {\"Name\": \"Dharun\", \"Weekdays\": \"Sunday\", \"Messages\": 86}, {\"Name\": \"Dharun\", \"Weekdays\": \"Thursday\", \"Messages\": 218}, {\"Name\": \"Dharun\", \"Weekdays\": \"Tuesday\", \"Messages\": 196}, {\"Name\": \"Dharun\", \"Weekdays\": \"Wednesday\", \"Messages\": 175}, {\"Name\": \"Rashman\", \"Weekdays\": \"Friday\", \"Messages\": 31}, {\"Name\": \"Rashman\", \"Weekdays\": \"Monday\", \"Messages\": 67}, {\"Name\": \"Rashman\", \"Weekdays\": \"Saturday\", \"Messages\": 28}, {\"Name\": \"Rashman\", \"Weekdays\": \"Sunday\", \"Messages\": 20}, {\"Name\": \"Rashman\", \"Weekdays\": \"Thursday\", \"Messages\": 84}, {\"Name\": \"Rashman\", \"Weekdays\": \"Tuesday\", \"Messages\": 117}, {\"Name\": \"Rashman\", \"Weekdays\": \"Wednesday\", \"Messages\": 63}, {\"Name\": \"Vasu\", \"Weekdays\": \"Friday\", \"Messages\": 53}, {\"Name\": \"Vasu\", \"Weekdays\": \"Monday\", \"Messages\": 195}, {\"Name\": \"Vasu\", \"Weekdays\": \"Saturday\", \"Messages\": 51}, {\"Name\": \"Vasu\", \"Weekdays\": \"Sunday\", \"Messages\": 121}, {\"Name\": \"Vasu\", \"Weekdays\": \"Thursday\", \"Messages\": 254}, {\"Name\": \"Vasu\", \"Weekdays\": \"Tuesday\", \"Messages\": 189}, {\"Name\": \"Vasu\", \"Weekdays\": \"Wednesday\", \"Messages\": 112}, {\"Name\": \"Vivek\", \"Weekdays\": \"Friday\", \"Messages\": 14}, {\"Name\": \"Vivek\", \"Weekdays\": \"Monday\", \"Messages\": 42}, {\"Name\": \"Vivek\", \"Weekdays\": \"Saturday\", \"Messages\": 13}, {\"Name\": \"Vivek\", \"Weekdays\": \"Sunday\", \"Messages\": 32}, {\"Name\": \"Vivek\", \"Weekdays\": \"Thursday\", \"Messages\": 35}, {\"Name\": \"Vivek\", \"Weekdays\": \"Tuesday\", \"Messages\": 32}, {\"Name\": \"Vivek\", \"Weekdays\": \"Wednesday\", \"Messages\": 15}]}}, {\"mode\": \"vega-lite\"});\n",
       "</script>"
      ],
      "text/plain": [
       "alt.Chart(...)"
      ]
     },
     "execution_count": 111,
     "metadata": {},
     "output_type": "execute_result"
    }
   ],
   "source": [
    "# Creating a new data frame which has total message count for every week \n",
    "df2=pd.DataFrame(data1[\"Messages\"].groupby([data1.Name,data1.Weekdays]).count())\n",
    "df2.reset_index(inplace=True)\n",
    "\n",
    "# Binding Values for our dropdown \n",
    "input_dropdown = alt.binding_select(options=list(set(df2.Name.unique())))\n",
    "\n",
    "#Selection \n",
    "selected_points = alt.selection_single(fields=['Name'], bind=input_dropdown, name='Select')\n",
    "\n",
    "#Color \n",
    "color = alt.condition(selected_points,\n",
    "alt.Color('Name:N'),\n",
    "alt.value('transparent'))\n",
    "\n",
    "#Define Chart \n",
    "alt.Chart(df2, width=800, height=500).mark_line().encode(\n",
    "x=alt.X('Weekdays',sort=sorter ),\n",
    "y='Messages',\n",
    "color=color,\n",
    "tooltip='Messages'\n",
    ").add_selection(selected_points)"
   ]
  },
  {
   "cell_type": "code",
   "execution_count": 53,
   "metadata": {},
   "outputs": [
    {
     "data": {
      "text/html": [
       "\n",
       "    <div class=\"bk-root\">\n",
       "        <a href=\"https://bokeh.pydata.org\" target=\"_blank\" class=\"bk-logo bk-logo-small bk-logo-notebook\"></a>\n",
       "        <span id=\"1001\">Loading BokehJS ...</span>\n",
       "    </div>"
      ]
     },
     "metadata": {},
     "output_type": "display_data"
    },
    {
     "data": {
      "application/javascript": [
       "\n",
       "(function(root) {\n",
       "  function now() {\n",
       "    return new Date();\n",
       "  }\n",
       "\n",
       "  var force = true;\n",
       "\n",
       "  if (typeof root._bokeh_onload_callbacks === \"undefined\" || force === true) {\n",
       "    root._bokeh_onload_callbacks = [];\n",
       "    root._bokeh_is_loading = undefined;\n",
       "  }\n",
       "\n",
       "  var JS_MIME_TYPE = 'application/javascript';\n",
       "  var HTML_MIME_TYPE = 'text/html';\n",
       "  var EXEC_MIME_TYPE = 'application/vnd.bokehjs_exec.v0+json';\n",
       "  var CLASS_NAME = 'output_bokeh rendered_html';\n",
       "\n",
       "  /**\n",
       "   * Render data to the DOM node\n",
       "   */\n",
       "  function render(props, node) {\n",
       "    var script = document.createElement(\"script\");\n",
       "    node.appendChild(script);\n",
       "  }\n",
       "\n",
       "  /**\n",
       "   * Handle when an output is cleared or removed\n",
       "   */\n",
       "  function handleClearOutput(event, handle) {\n",
       "    var cell = handle.cell;\n",
       "\n",
       "    var id = cell.output_area._bokeh_element_id;\n",
       "    var server_id = cell.output_area._bokeh_server_id;\n",
       "    // Clean up Bokeh references\n",
       "    if (id != null && id in Bokeh.index) {\n",
       "      Bokeh.index[id].model.document.clear();\n",
       "      delete Bokeh.index[id];\n",
       "    }\n",
       "\n",
       "    if (server_id !== undefined) {\n",
       "      // Clean up Bokeh references\n",
       "      var cmd = \"from bokeh.io.state import curstate; print(curstate().uuid_to_server['\" + server_id + \"'].get_sessions()[0].document.roots[0]._id)\";\n",
       "      cell.notebook.kernel.execute(cmd, {\n",
       "        iopub: {\n",
       "          output: function(msg) {\n",
       "            var id = msg.content.text.trim();\n",
       "            if (id in Bokeh.index) {\n",
       "              Bokeh.index[id].model.document.clear();\n",
       "              delete Bokeh.index[id];\n",
       "            }\n",
       "          }\n",
       "        }\n",
       "      });\n",
       "      // Destroy server and session\n",
       "      var cmd = \"import bokeh.io.notebook as ion; ion.destroy_server('\" + server_id + \"')\";\n",
       "      cell.notebook.kernel.execute(cmd);\n",
       "    }\n",
       "  }\n",
       "\n",
       "  /**\n",
       "   * Handle when a new output is added\n",
       "   */\n",
       "  function handleAddOutput(event, handle) {\n",
       "    var output_area = handle.output_area;\n",
       "    var output = handle.output;\n",
       "\n",
       "    // limit handleAddOutput to display_data with EXEC_MIME_TYPE content only\n",
       "    if ((output.output_type != \"display_data\") || (!output.data.hasOwnProperty(EXEC_MIME_TYPE))) {\n",
       "      return\n",
       "    }\n",
       "\n",
       "    var toinsert = output_area.element.find(\".\" + CLASS_NAME.split(' ')[0]);\n",
       "\n",
       "    if (output.metadata[EXEC_MIME_TYPE][\"id\"] !== undefined) {\n",
       "      toinsert[toinsert.length - 1].firstChild.textContent = output.data[JS_MIME_TYPE];\n",
       "      // store reference to embed id on output_area\n",
       "      output_area._bokeh_element_id = output.metadata[EXEC_MIME_TYPE][\"id\"];\n",
       "    }\n",
       "    if (output.metadata[EXEC_MIME_TYPE][\"server_id\"] !== undefined) {\n",
       "      var bk_div = document.createElement(\"div\");\n",
       "      bk_div.innerHTML = output.data[HTML_MIME_TYPE];\n",
       "      var script_attrs = bk_div.children[0].attributes;\n",
       "      for (var i = 0; i < script_attrs.length; i++) {\n",
       "        toinsert[toinsert.length - 1].firstChild.setAttribute(script_attrs[i].name, script_attrs[i].value);\n",
       "      }\n",
       "      // store reference to server id on output_area\n",
       "      output_area._bokeh_server_id = output.metadata[EXEC_MIME_TYPE][\"server_id\"];\n",
       "    }\n",
       "  }\n",
       "\n",
       "  function register_renderer(events, OutputArea) {\n",
       "\n",
       "    function append_mime(data, metadata, element) {\n",
       "      // create a DOM node to render to\n",
       "      var toinsert = this.create_output_subarea(\n",
       "        metadata,\n",
       "        CLASS_NAME,\n",
       "        EXEC_MIME_TYPE\n",
       "      );\n",
       "      this.keyboard_manager.register_events(toinsert);\n",
       "      // Render to node\n",
       "      var props = {data: data, metadata: metadata[EXEC_MIME_TYPE]};\n",
       "      render(props, toinsert[toinsert.length - 1]);\n",
       "      element.append(toinsert);\n",
       "      return toinsert\n",
       "    }\n",
       "\n",
       "    /* Handle when an output is cleared or removed */\n",
       "    events.on('clear_output.CodeCell', handleClearOutput);\n",
       "    events.on('delete.Cell', handleClearOutput);\n",
       "\n",
       "    /* Handle when a new output is added */\n",
       "    events.on('output_added.OutputArea', handleAddOutput);\n",
       "\n",
       "    /**\n",
       "     * Register the mime type and append_mime function with output_area\n",
       "     */\n",
       "    OutputArea.prototype.register_mime_type(EXEC_MIME_TYPE, append_mime, {\n",
       "      /* Is output safe? */\n",
       "      safe: true,\n",
       "      /* Index of renderer in `output_area.display_order` */\n",
       "      index: 0\n",
       "    });\n",
       "  }\n",
       "\n",
       "  // register the mime type if in Jupyter Notebook environment and previously unregistered\n",
       "  if (root.Jupyter !== undefined) {\n",
       "    var events = require('base/js/events');\n",
       "    var OutputArea = require('notebook/js/outputarea').OutputArea;\n",
       "\n",
       "    if (OutputArea.prototype.mime_types().indexOf(EXEC_MIME_TYPE) == -1) {\n",
       "      register_renderer(events, OutputArea);\n",
       "    }\n",
       "  }\n",
       "\n",
       "  \n",
       "  if (typeof (root._bokeh_timeout) === \"undefined\" || force === true) {\n",
       "    root._bokeh_timeout = Date.now() + 5000;\n",
       "    root._bokeh_failed_load = false;\n",
       "  }\n",
       "\n",
       "  var NB_LOAD_WARNING = {'data': {'text/html':\n",
       "     \"<div style='background-color: #fdd'>\\n\"+\n",
       "     \"<p>\\n\"+\n",
       "     \"BokehJS does not appear to have successfully loaded. If loading BokehJS from CDN, this \\n\"+\n",
       "     \"may be due to a slow or bad network connection. Possible fixes:\\n\"+\n",
       "     \"</p>\\n\"+\n",
       "     \"<ul>\\n\"+\n",
       "     \"<li>re-rerun `output_notebook()` to attempt to load from CDN again, or</li>\\n\"+\n",
       "     \"<li>use INLINE resources instead, as so:</li>\\n\"+\n",
       "     \"</ul>\\n\"+\n",
       "     \"<code>\\n\"+\n",
       "     \"from bokeh.resources import INLINE\\n\"+\n",
       "     \"output_notebook(resources=INLINE)\\n\"+\n",
       "     \"</code>\\n\"+\n",
       "     \"</div>\"}};\n",
       "\n",
       "  function display_loaded() {\n",
       "    var el = document.getElementById(\"1001\");\n",
       "    if (el != null) {\n",
       "      el.textContent = \"BokehJS is loading...\";\n",
       "    }\n",
       "    if (root.Bokeh !== undefined) {\n",
       "      if (el != null) {\n",
       "        el.textContent = \"BokehJS \" + root.Bokeh.version + \" successfully loaded.\";\n",
       "      }\n",
       "    } else if (Date.now() < root._bokeh_timeout) {\n",
       "      setTimeout(display_loaded, 100)\n",
       "    }\n",
       "  }\n",
       "\n",
       "\n",
       "  function run_callbacks() {\n",
       "    try {\n",
       "      root._bokeh_onload_callbacks.forEach(function(callback) {\n",
       "        if (callback != null)\n",
       "          callback();\n",
       "      });\n",
       "    } finally {\n",
       "      delete root._bokeh_onload_callbacks\n",
       "    }\n",
       "    console.debug(\"Bokeh: all callbacks have finished\");\n",
       "  }\n",
       "\n",
       "  function load_libs(css_urls, js_urls, callback) {\n",
       "    if (css_urls == null) css_urls = [];\n",
       "    if (js_urls == null) js_urls = [];\n",
       "\n",
       "    root._bokeh_onload_callbacks.push(callback);\n",
       "    if (root._bokeh_is_loading > 0) {\n",
       "      console.debug(\"Bokeh: BokehJS is being loaded, scheduling callback at\", now());\n",
       "      return null;\n",
       "    }\n",
       "    if (js_urls == null || js_urls.length === 0) {\n",
       "      run_callbacks();\n",
       "      return null;\n",
       "    }\n",
       "    console.debug(\"Bokeh: BokehJS not loaded, scheduling load and callback at\", now());\n",
       "    root._bokeh_is_loading = css_urls.length + js_urls.length;\n",
       "\n",
       "    function on_load() {\n",
       "      root._bokeh_is_loading--;\n",
       "      if (root._bokeh_is_loading === 0) {\n",
       "        console.debug(\"Bokeh: all BokehJS libraries/stylesheets loaded\");\n",
       "        run_callbacks()\n",
       "      }\n",
       "    }\n",
       "\n",
       "    function on_error() {\n",
       "      console.error(\"failed to load \" + url);\n",
       "    }\n",
       "\n",
       "    for (var i = 0; i < css_urls.length; i++) {\n",
       "      var url = css_urls[i];\n",
       "      const element = document.createElement(\"link\");\n",
       "      element.onload = on_load;\n",
       "      element.onerror = on_error;\n",
       "      element.rel = \"stylesheet\";\n",
       "      element.type = \"text/css\";\n",
       "      element.href = url;\n",
       "      console.debug(\"Bokeh: injecting link tag for BokehJS stylesheet: \", url);\n",
       "      document.body.appendChild(element);\n",
       "    }\n",
       "\n",
       "    for (var i = 0; i < js_urls.length; i++) {\n",
       "      var url = js_urls[i];\n",
       "      var element = document.createElement('script');\n",
       "      element.onload = on_load;\n",
       "      element.onerror = on_error;\n",
       "      element.async = false;\n",
       "      element.src = url;\n",
       "      console.debug(\"Bokeh: injecting script tag for BokehJS library: \", url);\n",
       "      document.head.appendChild(element);\n",
       "    }\n",
       "  };var element = document.getElementById(\"1001\");\n",
       "  if (element == null) {\n",
       "    console.error(\"Bokeh: ERROR: autoload.js configured with elementid '1001' but no matching script tag was found. \")\n",
       "    return false;\n",
       "  }\n",
       "\n",
       "  function inject_raw_css(css) {\n",
       "    const element = document.createElement(\"style\");\n",
       "    element.appendChild(document.createTextNode(css));\n",
       "    document.body.appendChild(element);\n",
       "  }\n",
       "\n",
       "  var js_urls = [\"https://cdn.pydata.org/bokeh/release/bokeh-1.2.0.min.js\", \"https://cdn.pydata.org/bokeh/release/bokeh-widgets-1.2.0.min.js\", \"https://cdn.pydata.org/bokeh/release/bokeh-tables-1.2.0.min.js\", \"https://cdn.pydata.org/bokeh/release/bokeh-gl-1.2.0.min.js\"];\n",
       "  var css_urls = [\"https://cdn.pydata.org/bokeh/release/bokeh-1.2.0.min.css\", \"https://cdn.pydata.org/bokeh/release/bokeh-widgets-1.2.0.min.css\", \"https://cdn.pydata.org/bokeh/release/bokeh-tables-1.2.0.min.css\"];\n",
       "\n",
       "  var inline_js = [\n",
       "    function(Bokeh) {\n",
       "      Bokeh.set_log_level(\"info\");\n",
       "    },\n",
       "    \n",
       "    function(Bokeh) {\n",
       "      \n",
       "    },\n",
       "    function(Bokeh) {} // ensure no trailing comma for IE\n",
       "  ];\n",
       "\n",
       "  function run_inline_js() {\n",
       "    \n",
       "    if ((root.Bokeh !== undefined) || (force === true)) {\n",
       "      for (var i = 0; i < inline_js.length; i++) {\n",
       "        inline_js[i].call(root, root.Bokeh);\n",
       "      }if (force === true) {\n",
       "        display_loaded();\n",
       "      }} else if (Date.now() < root._bokeh_timeout) {\n",
       "      setTimeout(run_inline_js, 100);\n",
       "    } else if (!root._bokeh_failed_load) {\n",
       "      console.log(\"Bokeh: BokehJS failed to load within specified timeout.\");\n",
       "      root._bokeh_failed_load = true;\n",
       "    } else if (force !== true) {\n",
       "      var cell = $(document.getElementById(\"1001\")).parents('.cell').data().cell;\n",
       "      cell.output_area.append_execute_result(NB_LOAD_WARNING)\n",
       "    }\n",
       "\n",
       "  }\n",
       "\n",
       "  if (root._bokeh_is_loading === 0) {\n",
       "    console.debug(\"Bokeh: BokehJS loaded, going straight to plotting\");\n",
       "    run_inline_js();\n",
       "  } else {\n",
       "    load_libs(css_urls, js_urls, function() {\n",
       "      console.debug(\"Bokeh: BokehJS plotting callback run at\", now());\n",
       "      run_inline_js();\n",
       "    });\n",
       "  }\n",
       "}(window));"
      ],
      "application/vnd.bokehjs_load.v0+json": "\n(function(root) {\n  function now() {\n    return new Date();\n  }\n\n  var force = true;\n\n  if (typeof root._bokeh_onload_callbacks === \"undefined\" || force === true) {\n    root._bokeh_onload_callbacks = [];\n    root._bokeh_is_loading = undefined;\n  }\n\n  \n\n  \n  if (typeof (root._bokeh_timeout) === \"undefined\" || force === true) {\n    root._bokeh_timeout = Date.now() + 5000;\n    root._bokeh_failed_load = false;\n  }\n\n  var NB_LOAD_WARNING = {'data': {'text/html':\n     \"<div style='background-color: #fdd'>\\n\"+\n     \"<p>\\n\"+\n     \"BokehJS does not appear to have successfully loaded. If loading BokehJS from CDN, this \\n\"+\n     \"may be due to a slow or bad network connection. Possible fixes:\\n\"+\n     \"</p>\\n\"+\n     \"<ul>\\n\"+\n     \"<li>re-rerun `output_notebook()` to attempt to load from CDN again, or</li>\\n\"+\n     \"<li>use INLINE resources instead, as so:</li>\\n\"+\n     \"</ul>\\n\"+\n     \"<code>\\n\"+\n     \"from bokeh.resources import INLINE\\n\"+\n     \"output_notebook(resources=INLINE)\\n\"+\n     \"</code>\\n\"+\n     \"</div>\"}};\n\n  function display_loaded() {\n    var el = document.getElementById(\"1001\");\n    if (el != null) {\n      el.textContent = \"BokehJS is loading...\";\n    }\n    if (root.Bokeh !== undefined) {\n      if (el != null) {\n        el.textContent = \"BokehJS \" + root.Bokeh.version + \" successfully loaded.\";\n      }\n    } else if (Date.now() < root._bokeh_timeout) {\n      setTimeout(display_loaded, 100)\n    }\n  }\n\n\n  function run_callbacks() {\n    try {\n      root._bokeh_onload_callbacks.forEach(function(callback) {\n        if (callback != null)\n          callback();\n      });\n    } finally {\n      delete root._bokeh_onload_callbacks\n    }\n    console.debug(\"Bokeh: all callbacks have finished\");\n  }\n\n  function load_libs(css_urls, js_urls, callback) {\n    if (css_urls == null) css_urls = [];\n    if (js_urls == null) js_urls = [];\n\n    root._bokeh_onload_callbacks.push(callback);\n    if (root._bokeh_is_loading > 0) {\n      console.debug(\"Bokeh: BokehJS is being loaded, scheduling callback at\", now());\n      return null;\n    }\n    if (js_urls == null || js_urls.length === 0) {\n      run_callbacks();\n      return null;\n    }\n    console.debug(\"Bokeh: BokehJS not loaded, scheduling load and callback at\", now());\n    root._bokeh_is_loading = css_urls.length + js_urls.length;\n\n    function on_load() {\n      root._bokeh_is_loading--;\n      if (root._bokeh_is_loading === 0) {\n        console.debug(\"Bokeh: all BokehJS libraries/stylesheets loaded\");\n        run_callbacks()\n      }\n    }\n\n    function on_error() {\n      console.error(\"failed to load \" + url);\n    }\n\n    for (var i = 0; i < css_urls.length; i++) {\n      var url = css_urls[i];\n      const element = document.createElement(\"link\");\n      element.onload = on_load;\n      element.onerror = on_error;\n      element.rel = \"stylesheet\";\n      element.type = \"text/css\";\n      element.href = url;\n      console.debug(\"Bokeh: injecting link tag for BokehJS stylesheet: \", url);\n      document.body.appendChild(element);\n    }\n\n    for (var i = 0; i < js_urls.length; i++) {\n      var url = js_urls[i];\n      var element = document.createElement('script');\n      element.onload = on_load;\n      element.onerror = on_error;\n      element.async = false;\n      element.src = url;\n      console.debug(\"Bokeh: injecting script tag for BokehJS library: \", url);\n      document.head.appendChild(element);\n    }\n  };var element = document.getElementById(\"1001\");\n  if (element == null) {\n    console.error(\"Bokeh: ERROR: autoload.js configured with elementid '1001' but no matching script tag was found. \")\n    return false;\n  }\n\n  function inject_raw_css(css) {\n    const element = document.createElement(\"style\");\n    element.appendChild(document.createTextNode(css));\n    document.body.appendChild(element);\n  }\n\n  var js_urls = [\"https://cdn.pydata.org/bokeh/release/bokeh-1.2.0.min.js\", \"https://cdn.pydata.org/bokeh/release/bokeh-widgets-1.2.0.min.js\", \"https://cdn.pydata.org/bokeh/release/bokeh-tables-1.2.0.min.js\", \"https://cdn.pydata.org/bokeh/release/bokeh-gl-1.2.0.min.js\"];\n  var css_urls = [\"https://cdn.pydata.org/bokeh/release/bokeh-1.2.0.min.css\", \"https://cdn.pydata.org/bokeh/release/bokeh-widgets-1.2.0.min.css\", \"https://cdn.pydata.org/bokeh/release/bokeh-tables-1.2.0.min.css\"];\n\n  var inline_js = [\n    function(Bokeh) {\n      Bokeh.set_log_level(\"info\");\n    },\n    \n    function(Bokeh) {\n      \n    },\n    function(Bokeh) {} // ensure no trailing comma for IE\n  ];\n\n  function run_inline_js() {\n    \n    if ((root.Bokeh !== undefined) || (force === true)) {\n      for (var i = 0; i < inline_js.length; i++) {\n        inline_js[i].call(root, root.Bokeh);\n      }if (force === true) {\n        display_loaded();\n      }} else if (Date.now() < root._bokeh_timeout) {\n      setTimeout(run_inline_js, 100);\n    } else if (!root._bokeh_failed_load) {\n      console.log(\"Bokeh: BokehJS failed to load within specified timeout.\");\n      root._bokeh_failed_load = true;\n    } else if (force !== true) {\n      var cell = $(document.getElementById(\"1001\")).parents('.cell').data().cell;\n      cell.output_area.append_execute_result(NB_LOAD_WARNING)\n    }\n\n  }\n\n  if (root._bokeh_is_loading === 0) {\n    console.debug(\"Bokeh: BokehJS loaded, going straight to plotting\");\n    run_inline_js();\n  } else {\n    load_libs(css_urls, js_urls, function() {\n      console.debug(\"Bokeh: BokehJS plotting callback run at\", now());\n      run_inline_js();\n    });\n  }\n}(window));"
     },
     "metadata": {},
     "output_type": "display_data"
    }
   ],
   "source": [
    "output_notebook()"
   ]
  },
  {
   "cell_type": "markdown",
   "metadata": {},
   "source": [
    "# Pie Chart to represent proportion of messages sent "
   ]
  },
  {
   "cell_type": "code",
   "execution_count": 200,
   "metadata": {},
   "outputs": [
    {
     "name": "stderr",
     "output_type": "stream",
     "text": [
      "C:\\Users\\vasu2\\Anaconda3\\lib\\site-packages\\ipykernel_launcher.py:14: SettingWithCopyWarning:\n",
      "\n",
      "\n",
      "A value is trying to be set on a copy of a slice from a DataFrame\n",
      "\n",
      "See the caveats in the documentation: http://pandas.pydata.org/pandas-docs/stable/indexing.html#indexing-view-versus-copy\n",
      "\n"
     ]
    }
   ],
   "source": [
    "# Create a dataframe to to count messages for each student \n",
    "data3 = pd.DataFrame(data1.groupby(\"Name\").Messages.count())\n",
    "\n",
    "# sorting values of message count \n",
    "Contribute=data3.sort_values(\"Messages\",ascending=False)\n",
    "\n",
    "# Checking sum of messages after 15th observation\n",
    "Contribute.iloc[15:].Messages.sum()\n",
    "\n",
    "# temp df to store first 15 data points \n",
    "x=Contribute.iloc[0:15]\n",
    "\n",
    "# adding a new data point to temp df as Other \n",
    "x.loc[\"Other\"]=[2273]\n",
    "\n",
    "# Reseting Index \n",
    "x.reset_index(inplace=True)\n",
    "\n",
    "x=pd.DataFrame(x)"
   ]
  },
  {
   "cell_type": "code",
   "execution_count": 202,
   "metadata": {
    "scrolled": true
   },
   "outputs": [
    {
     "data": {
      "text/html": [
       "\n",
       "\n",
       "\n",
       "\n",
       "\n",
       "\n",
       "  <div class=\"bk-root\" id=\"c766e1c9-b82f-49f2-9086-1c3dc492c891\" data-root-id=\"3272\"></div>\n"
      ]
     },
     "metadata": {},
     "output_type": "display_data"
    },
    {
     "data": {
      "application/javascript": [
       "(function(root) {\n",
       "  function embed_document(root) {\n",
       "    \n",
       "  var docs_json = {\"38755bcf-599a-4157-a829-69e00c22a5c6\":{\"roots\":{\"references\":[{\"attributes\":{\"below\":[{\"id\":\"3283\",\"type\":\"LinearAxis\"}],\"center\":[{\"id\":\"3287\",\"type\":\"Grid\"},{\"id\":\"3292\",\"type\":\"Grid\"}],\"left\":[{\"id\":\"3288\",\"type\":\"LinearAxis\"}],\"renderers\":[{\"id\":\"3302\",\"type\":\"GlyphRenderer\"}],\"title\":{\"id\":\"3273\",\"type\":\"Title\"},\"toolbar\":{\"id\":\"3294\",\"type\":\"Toolbar\"},\"toolbar_location\":null,\"x_range\":{\"id\":\"3275\",\"type\":\"DataRange1d\"},\"x_scale\":{\"id\":\"3279\",\"type\":\"LinearScale\"},\"y_range\":{\"id\":\"3277\",\"type\":\"DataRange1d\"},\"y_scale\":{\"id\":\"3281\",\"type\":\"LinearScale\"}},\"id\":\"3272\",\"subtype\":\"Figure\",\"type\":\"Plot\"},{\"attributes\":{\"source\":{\"id\":\"3298\",\"type\":\"ColumnDataSource\"}},\"id\":\"3303\",\"type\":\"CDSView\"},{\"attributes\":{},\"id\":\"3279\",\"type\":\"LinearScale\"},{\"attributes\":{\"ticker\":{\"id\":\"3284\",\"type\":\"BasicTicker\"}},\"id\":\"3287\",\"type\":\"Grid\"},{\"attributes\":{\"dimension\":1,\"ticker\":{\"id\":\"3289\",\"type\":\"BasicTicker\"}},\"id\":\"3292\",\"type\":\"Grid\"},{\"attributes\":{\"end_angle\":{\"expr\":{\"id\":\"3297\",\"type\":\"CumSum\"},\"units\":\"rad\"},\"fill_color\":{\"field\":\"color\"},\"radius\":{\"units\":\"data\",\"value\":0.95},\"start_angle\":{\"expr\":{\"id\":\"3296\",\"type\":\"CumSum\"},\"units\":\"rad\"},\"x\":{\"value\":0},\"y\":{\"value\":0}},\"id\":\"3300\",\"type\":\"Wedge\"},{\"attributes\":{\"text\":\"Most Contributer Student\"},\"id\":\"3273\",\"type\":\"Title\"},{\"attributes\":{\"data_source\":{\"id\":\"3298\",\"type\":\"ColumnDataSource\"},\"glyph\":{\"id\":\"3300\",\"type\":\"Wedge\"},\"hover_glyph\":null,\"muted_glyph\":null,\"nonselection_glyph\":{\"id\":\"3301\",\"type\":\"Wedge\"},\"selection_glyph\":null,\"view\":{\"id\":\"3303\",\"type\":\"CDSView\"}},\"id\":\"3302\",\"type\":\"GlyphRenderer\"},{\"attributes\":{\"end_angle\":{\"expr\":{\"id\":\"3297\",\"type\":\"CumSum\"},\"units\":\"rad\"},\"fill_alpha\":{\"value\":0.1},\"fill_color\":{\"value\":\"#1f77b4\"},\"line_alpha\":{\"value\":0.1},\"line_color\":{\"value\":\"#1f77b4\"},\"radius\":{\"units\":\"data\",\"value\":0.95},\"start_angle\":{\"expr\":{\"id\":\"3296\",\"type\":\"CumSum\"},\"units\":\"rad\"},\"x\":{\"value\":0},\"y\":{\"value\":0}},\"id\":\"3301\",\"type\":\"Wedge\"},{\"attributes\":{\"active_drag\":\"auto\",\"active_inspect\":\"auto\",\"active_multi\":null,\"active_scroll\":\"auto\",\"active_tap\":\"auto\",\"tools\":[{\"id\":\"3293\",\"type\":\"HoverTool\"}]},\"id\":\"3294\",\"type\":\"Toolbar\"},{\"attributes\":{},\"id\":\"3418\",\"type\":\"BasicTickFormatter\"},{\"attributes\":{\"callback\":null,\"data\":{\"Messages\":[1777,1657,983,976,975,618,606,553,517,516,513,469,431,410,352,2273],\"Name\":[\" Kirra\",\" Roberta\",\"Dharun\",\" Jaspreet\",\"Vasu\",\" Kiran\",\" Amir\",\" Arsh \",\" Jasman\",\" Tuli \",\" Naval\",\" Cici\",\" Vedant \",\"Rashman\",\" Harshad\",\"Other\"],\"angle\":{\"__ndarray__\":\"BcttB5I46j92AvYKRnPoP7Rzqk6DAt0/K3qc16DN3D8Ye5rGEsbcP/fE0Q71PNI/DdC5Qkzi0T8GAVC94lHQP5VEELLQg84/bEYMkLR0zj/4SwAqYEfOP0idUFGKrss/guO4RF1wyT9RCmV6DjPIP4B1fcWuxsQ/73KuQBnF8D8=\",\"dtype\":\"float64\",\"shape\":[16]},\"color\":[\"#3182bd\",\"#6baed6\",\"#9ecae1\",\"#c6dbef\",\"#e6550d\",\"#fd8d3c\",\"#fdae6b\",\"#fdd0a2\",\"#31a354\",\"#74c476\",\"#a1d99b\",\"#c7e9c0\",\"#756bb1\",\"#9e9ac8\",\"#bcbddc\",\"#dadaeb\"],\"index\":[0,1,2,3,4,5,6,7,8,9,10,11,12,13,14,15],\"percent\":{\"__ndarray__\":\"mV3JBR4VKkBFq1rvNlIoQBNQUfxJ2xxAqiGABq+mHEDl0YYsK58cQDiT2jNMJBJA9NUq/B3KEUAHUo3b0TsQQHU0/GiOWg5A6JQJtYZLDkBHtjGZbx4OQFNKfqsciQtAo5t69fdNCUA0hZMyVhIIQKFfm22XqgRAjVKnl2yuMEA=\",\"dtype\":\"float64\",\"shape\":[16]}},\"selected\":{\"id\":\"3421\",\"type\":\"Selection\"},\"selection_policy\":{\"id\":\"3422\",\"type\":\"UnionRenderers\"}},\"id\":\"3298\",\"type\":\"ColumnDataSource\"},{\"attributes\":{},\"id\":\"3284\",\"type\":\"BasicTicker\"},{\"attributes\":{\"formatter\":{\"id\":\"3418\",\"type\":\"BasicTickFormatter\"},\"ticker\":{\"id\":\"3284\",\"type\":\"BasicTicker\"},\"visible\":false},\"id\":\"3283\",\"type\":\"LinearAxis\"},{\"attributes\":{},\"id\":\"3421\",\"type\":\"Selection\"},{\"attributes\":{},\"id\":\"3289\",\"type\":\"BasicTicker\"},{\"attributes\":{\"callback\":null,\"tooltips\":\"@Name: @percent{0.2f} %\"},\"id\":\"3293\",\"type\":\"HoverTool\"},{\"attributes\":{},\"id\":\"3420\",\"type\":\"BasicTickFormatter\"},{\"attributes\":{\"field\":\"angle\"},\"id\":\"3297\",\"type\":\"CumSum\"},{\"attributes\":{},\"id\":\"3422\",\"type\":\"UnionRenderers\"},{\"attributes\":{\"formatter\":{\"id\":\"3420\",\"type\":\"BasicTickFormatter\"},\"ticker\":{\"id\":\"3289\",\"type\":\"BasicTicker\"},\"visible\":false},\"id\":\"3288\",\"type\":\"LinearAxis\"},{\"attributes\":{\"callback\":null},\"id\":\"3275\",\"type\":\"DataRange1d\"},{\"attributes\":{},\"id\":\"3281\",\"type\":\"LinearScale\"},{\"attributes\":{\"field\":\"angle\",\"include_zero\":true},\"id\":\"3296\",\"type\":\"CumSum\"},{\"attributes\":{\"callback\":null},\"id\":\"3277\",\"type\":\"DataRange1d\"}],\"root_ids\":[\"3272\"]},\"title\":\"Bokeh Application\",\"version\":\"1.2.0\"}};\n",
       "  var render_items = [{\"docid\":\"38755bcf-599a-4157-a829-69e00c22a5c6\",\"roots\":{\"3272\":\"c766e1c9-b82f-49f2-9086-1c3dc492c891\"}}];\n",
       "  root.Bokeh.embed.embed_items_notebook(docs_json, render_items);\n",
       "\n",
       "  }\n",
       "  if (root.Bokeh !== undefined) {\n",
       "    embed_document(root);\n",
       "  } else {\n",
       "    var attempts = 0;\n",
       "    var timer = setInterval(function(root) {\n",
       "      if (root.Bokeh !== undefined) {\n",
       "        embed_document(root);\n",
       "        clearInterval(timer);\n",
       "      }\n",
       "      attempts++;\n",
       "      if (attempts > 100) {\n",
       "        console.log(\"Bokeh: ERROR: Unable to run BokehJS code because BokehJS library is missing\");\n",
       "        clearInterval(timer);\n",
       "      }\n",
       "    }, 10, root)\n",
       "  }\n",
       "})(window);"
      ],
      "application/vnd.bokehjs_exec.v0+json": ""
     },
     "metadata": {
      "application/vnd.bokehjs_exec.v0+json": {
       "id": "3272"
      }
     },
     "output_type": "display_data"
    }
   ],
   "source": [
    "#Preparing DataSet\n",
    "data=x\n",
    "data['angle'] = data['Messages']/data['Messages'].sum() * 2*pi\n",
    "data['color'] = Category20c[len(x)]\n",
    "data['percent'] = (data['Messages'] / x.Messages.sum()) * 100\n",
    "\n",
    "p = figure(plot_height=600, title=\"Most Contributer Student\", toolbar_location=None,\n",
    "        tools=\"hover\", tooltips=\"@Name: @percent{0.2f} %\")\n",
    "\n",
    "p.wedge(x=0, y=0, radius=0.95,\n",
    "        start_angle=cumsum('angle', include_zero=True), end_angle=cumsum('angle'),\n",
    "        line_color=\"black\", fill_color='color', source=data)\n",
    "\n",
    "p.axis.visible = False\n",
    "\n",
    "show(p)"
   ]
  },
  {
   "cell_type": "markdown",
   "metadata": {},
   "source": [
    "# Count of Messages on Each Day"
   ]
  },
  {
   "cell_type": "code",
   "execution_count": 1,
   "metadata": {
    "scrolled": true
   },
   "outputs": [
    {
     "ename": "NameError",
     "evalue": "name 'data1' is not defined",
     "output_type": "error",
     "traceback": [
      "\u001b[1;31m---------------------------------------------------------------------------\u001b[0m",
      "\u001b[1;31mNameError\u001b[0m                                 Traceback (most recent call last)",
      "\u001b[1;32m<ipython-input-1-81a999d940ba>\u001b[0m in \u001b[0;36m<module>\u001b[1;34m\u001b[0m\n\u001b[0;32m      1\u001b[0m \u001b[1;31m#Preparing DataSet\u001b[0m\u001b[1;33m\u001b[0m\u001b[1;33m\u001b[0m\u001b[1;33m\u001b[0m\u001b[0m\n\u001b[1;32m----> 2\u001b[1;33m \u001b[0mdata2\u001b[0m\u001b[1;33m=\u001b[0m\u001b[0mdata1\u001b[0m\u001b[1;31m#Crating Copy\u001b[0m\u001b[1;33m\u001b[0m\u001b[1;33m\u001b[0m\u001b[0m\n\u001b[0m\u001b[0;32m      3\u001b[0m \u001b[0mdata2\u001b[0m\u001b[1;33m[\u001b[0m\u001b[1;34m\"DATE\"\u001b[0m\u001b[1;33m]\u001b[0m\u001b[1;33m=\u001b[0m\u001b[0mdata2\u001b[0m\u001b[1;33m.\u001b[0m\u001b[0mDate\u001b[0m\u001b[1;33m.\u001b[0m\u001b[0mdt\u001b[0m\u001b[1;33m.\u001b[0m\u001b[0mdate\u001b[0m \u001b[1;31m#Add another column of only date\u001b[0m\u001b[1;33m\u001b[0m\u001b[1;33m\u001b[0m\u001b[0m\n\u001b[0;32m      4\u001b[0m \u001b[0mDateCount\u001b[0m\u001b[1;33m=\u001b[0m\u001b[0mpd\u001b[0m\u001b[1;33m.\u001b[0m\u001b[0mDataFrame\u001b[0m\u001b[1;33m(\u001b[0m\u001b[0mdata2\u001b[0m\u001b[1;33m.\u001b[0m\u001b[0mgroupby\u001b[0m\u001b[1;33m(\u001b[0m\u001b[1;34m\"DATE\"\u001b[0m\u001b[1;33m)\u001b[0m\u001b[1;33m.\u001b[0m\u001b[0mMessages\u001b[0m\u001b[1;33m.\u001b[0m\u001b[0mcount\u001b[0m\u001b[1;33m(\u001b[0m\u001b[1;33m)\u001b[0m\u001b[1;33m)\u001b[0m \u001b[1;31m#Make new data frame of only date and count of messages\u001b[0m\u001b[1;33m\u001b[0m\u001b[1;33m\u001b[0m\u001b[0m\n\u001b[0;32m      5\u001b[0m \u001b[0mDateCount\u001b[0m\u001b[1;33m.\u001b[0m\u001b[0mreset_index\u001b[0m\u001b[1;33m(\u001b[0m\u001b[0minplace\u001b[0m\u001b[1;33m=\u001b[0m\u001b[1;32mTrue\u001b[0m\u001b[1;33m)\u001b[0m\u001b[1;33m\u001b[0m\u001b[1;33m\u001b[0m\u001b[0m\n",
      "\u001b[1;31mNameError\u001b[0m: name 'data1' is not defined"
     ]
    }
   ],
   "source": [
    "#Preparing DataSet\n",
    "data2=data1#Crating Copy\n",
    "data2[\"DATE\"]=data2.Date.dt.date #Add another column of only date\n",
    "DateCount=pd.DataFrame(data2.groupby(\"DATE\").Messages.count()) #Make new data frame of only date and count of messages\n",
    "DateCount.reset_index(inplace=True)\n",
    "\n",
    "# Create figure\n",
    "fig = go.Figure()\n",
    "\n",
    "fig.add_trace(\n",
    "    go.Scatter(x=list(DateCount.DATE), y=list(DateCount.Messages)))\n",
    "\n",
    "# Set title\n",
    "fig.update_layout(\n",
    "    title=\"Time series with range slider\",\n",
    "     yaxis_title=\"Message Count\",\n",
    "     font=dict(family=\"Courier New, monospace\",\n",
    "        size=18,\n",
    "        color=\"#FECB52\"))\n",
    "\n",
    "# Add range slider\n",
    "fig.update_layout(\n",
    "    xaxis=dict(\n",
    "        rangeselector=dict(\n",
    "            buttons=list([\n",
    "                dict(count=1,\n",
    "                     label=\"1month\",\n",
    "                     step=\"month\",\n",
    "                     stepmode=\"backward\"),\n",
    "                dict(count=2,\n",
    "                     label=\"2months\",\n",
    "                     step=\"month\",\n",
    "                     stepmode=\"backward\"),\n",
    "                dict(count=6,\n",
    "                     label=\"6months\",\n",
    "                     step=\"month\",\n",
    "                     stepmode=\"backward\"),\n",
    "            ])\n",
    "        ),\n",
    "        rangeslider=dict(\n",
    "            visible=True\n",
    "        ),\n",
    "        type=\"date\"\n",
    "    )\n",
    ")\n",
    "\n",
    "fig.show()"
   ]
  },
  {
   "cell_type": "code",
   "execution_count": null,
   "metadata": {},
   "outputs": [],
   "source": []
  },
  {
   "cell_type": "code",
   "execution_count": null,
   "metadata": {},
   "outputs": [],
   "source": []
  }
 ],
 "metadata": {
  "kernelspec": {
   "display_name": "Python 3",
   "language": "python",
   "name": "python3"
  },
  "language_info": {
   "codemirror_mode": {
    "name": "ipython",
    "version": 3
   },
   "file_extension": ".py",
   "mimetype": "text/x-python",
   "name": "python",
   "nbconvert_exporter": "python",
   "pygments_lexer": "ipython3",
   "version": "3.7.3"
  }
 },
 "nbformat": 4,
 "nbformat_minor": 4
}
