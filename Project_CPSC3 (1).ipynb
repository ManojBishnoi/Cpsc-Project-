{
 "cells": [
  {
   "cell_type": "code",
   "execution_count": 108,
   "metadata": {},
   "outputs": [],
   "source": [
    "#import necessory file \n",
    "import pandas as pd \n",
    "import numpy as np\n",
    "import matplotlib.pyplot as plt"
   ]
  },
  {
   "cell_type": "code",
   "execution_count": 109,
   "metadata": {},
   "outputs": [
    {
     "name": "stderr",
     "output_type": "stream",
     "text": [
      "b'Skipping line 58: expected 2 fields, saw 3\\nSkipping line 78: expected 2 fields, saw 3\\nSkipping line 94: expected 2 fields, saw 3\\nSkipping line 114: expected 2 fields, saw 3\\nSkipping line 115: expected 2 fields, saw 3\\nSkipping line 133: expected 2 fields, saw 3\\nSkipping line 187: expected 2 fields, saw 3\\nSkipping line 189: expected 2 fields, saw 3\\nSkipping line 197: expected 2 fields, saw 3\\nSkipping line 265: expected 2 fields, saw 3\\nSkipping line 272: expected 2 fields, saw 3\\nSkipping line 292: expected 2 fields, saw 3\\nSkipping line 293: expected 2 fields, saw 3\\nSkipping line 295: expected 2 fields, saw 3\\nSkipping line 296: expected 2 fields, saw 3\\nSkipping line 332: expected 2 fields, saw 4\\nSkipping line 343: expected 2 fields, saw 3\\nSkipping line 349: expected 2 fields, saw 3\\nSkipping line 352: expected 2 fields, saw 3\\nSkipping line 357: expected 2 fields, saw 3\\nSkipping line 360: expected 2 fields, saw 3\\nSkipping line 377: expected 2 fields, saw 3\\nSkipping line 397: expected 2 fields, saw 3\\nSkipping line 399: expected 2 fields, saw 3\\nSkipping line 404: expected 2 fields, saw 3\\nSkipping line 409: expected 2 fields, saw 3\\nSkipping line 463: expected 2 fields, saw 3\\nSkipping line 519: expected 2 fields, saw 3\\nSkipping line 540: expected 2 fields, saw 3\\nSkipping line 553: expected 2 fields, saw 3\\nSkipping line 554: expected 2 fields, saw 4\\nSkipping line 600: expected 2 fields, saw 3\\nSkipping line 628: expected 2 fields, saw 3\\nSkipping line 635: expected 2 fields, saw 3\\nSkipping line 649: expected 2 fields, saw 3\\nSkipping line 657: expected 2 fields, saw 3\\nSkipping line 693: expected 2 fields, saw 3\\nSkipping line 705: expected 2 fields, saw 3\\nSkipping line 707: expected 2 fields, saw 3\\nSkipping line 731: expected 2 fields, saw 3\\nSkipping line 747: expected 2 fields, saw 3\\nSkipping line 771: expected 2 fields, saw 3\\nSkipping line 798: expected 2 fields, saw 3\\nSkipping line 849: expected 2 fields, saw 4\\nSkipping line 873: expected 2 fields, saw 3\\nSkipping line 921: expected 2 fields, saw 4\\nSkipping line 948: expected 2 fields, saw 3\\nSkipping line 949: expected 2 fields, saw 3\\nSkipping line 963: expected 2 fields, saw 3\\nSkipping line 975: expected 2 fields, saw 3\\nSkipping line 977: expected 2 fields, saw 3\\nSkipping line 990: expected 2 fields, saw 3\\nSkipping line 1042: expected 2 fields, saw 3\\nSkipping line 1102: expected 2 fields, saw 3\\nSkipping line 1106: expected 2 fields, saw 4\\nSkipping line 1139: expected 2 fields, saw 3\\nSkipping line 1144: expected 2 fields, saw 3\\nSkipping line 1150: expected 2 fields, saw 3\\nSkipping line 1155: expected 2 fields, saw 4\\nSkipping line 1175: expected 2 fields, saw 3\\nSkipping line 1213: expected 2 fields, saw 3\\nSkipping line 1223: expected 2 fields, saw 3\\nSkipping line 1227: expected 2 fields, saw 3\\nSkipping line 1243: expected 2 fields, saw 3\\nSkipping line 1249: expected 2 fields, saw 4\\nSkipping line 1250: expected 2 fields, saw 4\\nSkipping line 1269: expected 2 fields, saw 3\\nSkipping line 1278: expected 2 fields, saw 4\\nSkipping line 1288: expected 2 fields, saw 3\\nSkipping line 1296: expected 2 fields, saw 3\\nSkipping line 1303: expected 2 fields, saw 3\\nSkipping line 1349: expected 2 fields, saw 3\\nSkipping line 1354: expected 2 fields, saw 3\\nSkipping line 1469: expected 2 fields, saw 3\\nSkipping line 1540: expected 2 fields, saw 4\\nSkipping line 1550: expected 2 fields, saw 3\\nSkipping line 1561: expected 2 fields, saw 3\\nSkipping line 1579: expected 2 fields, saw 3\\nSkipping line 1610: expected 2 fields, saw 3\\nSkipping line 1622: expected 2 fields, saw 4\\nSkipping line 1641: expected 2 fields, saw 3\\nSkipping line 1648: expected 2 fields, saw 3\\nSkipping line 1652: expected 2 fields, saw 4\\nSkipping line 1706: expected 2 fields, saw 3\\nSkipping line 1738: expected 2 fields, saw 3\\nSkipping line 1791: expected 2 fields, saw 3\\nSkipping line 1806: expected 2 fields, saw 3\\nSkipping line 1863: expected 2 fields, saw 3\\nSkipping line 1864: expected 2 fields, saw 3\\nSkipping line 1870: expected 2 fields, saw 3\\nSkipping line 1907: expected 2 fields, saw 3\\nSkipping line 1913: expected 2 fields, saw 3\\nSkipping line 1929: expected 2 fields, saw 4\\nSkipping line 1932: expected 2 fields, saw 4\\nSkipping line 1935: expected 2 fields, saw 4\\nSkipping line 1938: expected 2 fields, saw 4\\nSkipping line 1939: expected 2 fields, saw 4\\nSkipping line 1940: expected 2 fields, saw 3\\nSkipping line 1946: expected 2 fields, saw 3\\nSkipping line 1949: expected 2 fields, saw 3\\nSkipping line 1954: expected 2 fields, saw 4\\nSkipping line 1955: expected 2 fields, saw 3\\nSkipping line 1956: expected 2 fields, saw 6\\nSkipping line 1958: expected 2 fields, saw 4\\nSkipping line 1959: expected 2 fields, saw 3\\nSkipping line 1971: expected 2 fields, saw 4\\nSkipping line 1974: expected 2 fields, saw 3\\nSkipping line 1975: expected 2 fields, saw 3\\nSkipping line 1978: expected 2 fields, saw 3\\nSkipping line 2019: expected 2 fields, saw 3\\nSkipping line 2041: expected 2 fields, saw 3\\nSkipping line 2055: expected 2 fields, saw 3\\nSkipping line 2061: expected 2 fields, saw 4\\nSkipping line 2063: expected 2 fields, saw 3\\nSkipping line 2073: expected 2 fields, saw 3\\nSkipping line 2080: expected 2 fields, saw 3\\nSkipping line 2084: expected 2 fields, saw 3\\nSkipping line 2094: expected 2 fields, saw 3\\nSkipping line 2098: expected 2 fields, saw 3\\nSkipping line 2143: expected 2 fields, saw 3\\nSkipping line 2278: expected 2 fields, saw 4\\nSkipping line 2282: expected 2 fields, saw 3\\nSkipping line 2292: expected 2 fields, saw 3\\nSkipping line 2294: expected 2 fields, saw 3\\nSkipping line 2303: expected 2 fields, saw 5\\nSkipping line 2313: expected 2 fields, saw 4\\nSkipping line 2326: expected 2 fields, saw 3\\nSkipping line 2334: expected 2 fields, saw 5\\nSkipping line 2346: expected 2 fields, saw 3\\nSkipping line 2355: expected 2 fields, saw 3\\nSkipping line 2356: expected 2 fields, saw 3\\nSkipping line 2390: expected 2 fields, saw 4\\nSkipping line 2401: expected 2 fields, saw 3\\nSkipping line 2416: expected 2 fields, saw 3\\nSkipping line 2425: expected 2 fields, saw 3\\nSkipping line 2436: expected 2 fields, saw 3\\nSkipping line 2440: expected 2 fields, saw 3\\nSkipping line 2463: expected 2 fields, saw 4\\nSkipping line 2499: expected 2 fields, saw 3\\nSkipping line 2507: expected 2 fields, saw 3\\nSkipping line 2516: expected 2 fields, saw 3\\nSkipping line 2524: expected 2 fields, saw 4\\nSkipping line 2525: expected 2 fields, saw 3\\nSkipping line 2595: expected 2 fields, saw 3\\nSkipping line 2601: expected 2 fields, saw 3\\nSkipping line 2604: expected 2 fields, saw 3\\nSkipping line 2631: expected 2 fields, saw 3\\nSkipping line 2680: expected 2 fields, saw 3\\nSkipping line 2682: expected 2 fields, saw 3\\nSkipping line 2700: expected 2 fields, saw 3\\nSkipping line 2704: expected 2 fields, saw 3\\nSkipping line 2707: expected 2 fields, saw 3\\nSkipping line 2708: expected 2 fields, saw 3\\nSkipping line 2727: expected 2 fields, saw 3\\nSkipping line 2766: expected 2 fields, saw 3\\nSkipping line 2820: expected 2 fields, saw 3\\nSkipping line 2858: expected 2 fields, saw 3\\nSkipping line 2870: expected 2 fields, saw 3\\nSkipping line 2889: expected 2 fields, saw 4\\nSkipping line 2895: expected 2 fields, saw 3\\nSkipping line 2902: expected 2 fields, saw 3\\nSkipping line 2946: expected 2 fields, saw 3\\nSkipping line 2949: expected 2 fields, saw 3\\nSkipping line 2957: expected 2 fields, saw 4\\nSkipping line 2962: expected 2 fields, saw 3\\nSkipping line 2963: expected 2 fields, saw 6\\nSkipping line 2964: expected 2 fields, saw 3\\nSkipping line 2972: expected 2 fields, saw 3\\nSkipping line 2988: expected 2 fields, saw 3\\nSkipping line 2999: expected 2 fields, saw 3\\nSkipping line 3054: expected 2 fields, saw 3\\nSkipping line 3069: expected 2 fields, saw 3\\nSkipping line 3100: expected 2 fields, saw 3\\nSkipping line 3108: expected 2 fields, saw 4\\nSkipping line 3112: expected 2 fields, saw 3\\nSkipping line 3170: expected 2 fields, saw 3\\nSkipping line 3210: expected 2 fields, saw 3\\nSkipping line 3218: expected 2 fields, saw 3\\nSkipping line 3231: expected 2 fields, saw 4\\nSkipping line 3250: expected 2 fields, saw 3\\nSkipping line 3253: expected 2 fields, saw 4\\nSkipping line 3255: expected 2 fields, saw 3\\nSkipping line 3258: expected 2 fields, saw 4\\nSkipping line 3259: expected 2 fields, saw 3\\nSkipping line 3263: expected 2 fields, saw 3\\nSkipping line 3269: expected 2 fields, saw 3\\nSkipping line 3272: expected 2 fields, saw 3\\nSkipping line 3287: expected 2 fields, saw 4\\nSkipping line 3299: expected 2 fields, saw 3\\nSkipping line 3304: expected 2 fields, saw 3\\nSkipping line 3327: expected 2 fields, saw 3\\nSkipping line 3408: expected 2 fields, saw 3\\nSkipping line 3428: expected 2 fields, saw 3\\nSkipping line 3438: expected 2 fields, saw 3\\nSkipping line 3483: expected 2 fields, saw 3\\nSkipping line 3508: expected 2 fields, saw 3\\nSkipping line 3510: expected 2 fields, saw 3\\nSkipping line 3533: expected 2 fields, saw 3\\nSkipping line 3640: expected 2 fields, saw 3\\nSkipping line 3652: expected 2 fields, saw 3\\nSkipping line 3688: expected 2 fields, saw 4\\nSkipping line 3718: expected 2 fields, saw 3\\nSkipping line 3748: expected 2 fields, saw 3\\nSkipping line 3750: expected 2 fields, saw 7\\nSkipping line 3758: expected 2 fields, saw 3\\nSkipping line 3762: expected 2 fields, saw 3\\nSkipping line 3764: expected 2 fields, saw 3\\nSkipping line 3766: expected 2 fields, saw 3\\nSkipping line 3769: expected 2 fields, saw 3\\nSkipping line 3822: expected 2 fields, saw 3\\nSkipping line 3829: expected 2 fields, saw 3\\nSkipping line 3836: expected 2 fields, saw 3\\nSkipping line 3841: expected 2 fields, saw 3\\nSkipping line 3862: expected 2 fields, saw 3\\nSkipping line 3865: expected 2 fields, saw 3\\nSkipping line 3867: expected 2 fields, saw 3\\nSkipping line 3890: expected 2 fields, saw 3\\nSkipping line 3900: expected 2 fields, saw 3\\nSkipping line 3903: expected 2 fields, saw 3\\nSkipping line 3937: expected 2 fields, saw 4\\nSkipping line 3957: expected 2 fields, saw 3\\nSkipping line 3965: expected 2 fields, saw 3\\nSkipping line 3968: expected 2 fields, saw 3\\nSkipping line 3979: expected 2 fields, saw 3\\nSkipping line 3980: expected 2 fields, saw 3\\nSkipping line 3992: expected 2 fields, saw 5\\nSkipping line 3994: expected 2 fields, saw 3\\nSkipping line 3998: expected 2 fields, saw 4\\nSkipping line 4003: expected 2 fields, saw 3\\nSkipping line 4023: expected 2 fields, saw 3\\nSkipping line 4029: expected 2 fields, saw 3\\nSkipping line 4040: expected 2 fields, saw 3\\nSkipping line 4043: expected 2 fields, saw 3\\nSkipping line 4045: expected 2 fields, saw 4\\nSkipping line 4062: expected 2 fields, saw 3\\nSkipping line 4077: expected 2 fields, saw 3\\nSkipping line 4136: expected 2 fields, saw 3\\nSkipping line 4170: expected 2 fields, saw 3\\nSkipping line 4182: expected 2 fields, saw 3\\nSkipping line 4194: expected 2 fields, saw 3\\nSkipping line 4197: expected 2 fields, saw 3\\nSkipping line 4211: expected 2 fields, saw 3\\nSkipping line 4227: expected 2 fields, saw 3\\nSkipping line 4233: expected 2 fields, saw 3\\nSkipping line 4254: expected 2 fields, saw 4\\nSkipping line 4263: expected 2 fields, saw 3\\nSkipping line 4267: expected 2 fields, saw 3\\nSkipping line 4270: expected 2 fields, saw 4\\nSkipping line 4275: expected 2 fields, saw 3\\nSkipping line 4356: expected 2 fields, saw 3\\nSkipping line 4357: expected 2 fields, saw 3\\nSkipping line 4358: expected 2 fields, saw 3\\nSkipping line 4370: expected 2 fields, saw 3\\nSkipping line 4374: expected 2 fields, saw 3\\nSkipping line 4384: expected 2 fields, saw 5\\nSkipping line 4407: expected 2 fields, saw 3\\nSkipping line 4449: expected 2 fields, saw 3\\nSkipping line 4466: expected 2 fields, saw 3\\nSkipping line 4489: expected 2 fields, saw 4\\nSkipping line 4503: expected 2 fields, saw 3\\nSkipping line 4549: expected 2 fields, saw 3\\nSkipping line 4553: expected 2 fields, saw 4\\nSkipping line 4556: expected 2 fields, saw 3\\nSkipping line 4577: expected 2 fields, saw 3\\nSkipping line 4603: expected 2 fields, saw 3\\nSkipping line 4611: expected 2 fields, saw 3\\nSkipping line 4622: expected 2 fields, saw 3\\nSkipping line 4645: expected 2 fields, saw 3\\nSkipping line 4648: expected 2 fields, saw 3\\nSkipping line 4699: expected 2 fields, saw 4\\nSkipping line 4755: expected 2 fields, saw 3\\nSkipping line 4774: expected 2 fields, saw 3\\nSkipping line 4785: expected 2 fields, saw 3\\nSkipping line 4824: expected 2 fields, saw 3\\nSkipping line 4850: expected 2 fields, saw 3\\nSkipping line 4936: expected 2 fields, saw 5\\nSkipping line 4982: expected 2 fields, saw 3\\nSkipping line 4986: expected 2 fields, saw 3\\nSkipping line 5027: expected 2 fields, saw 3\\nSkipping line 5033: expected 2 fields, saw 4\\nSkipping line 5034: expected 2 fields, saw 3\\nSkipping line 5035: expected 2 fields, saw 3\\nSkipping line 5111: expected 2 fields, saw 3\\nSkipping line 5218: expected 2 fields, saw 3\\nSkipping line 5219: expected 2 fields, saw 3\\nSkipping line 5229: expected 2 fields, saw 3\\nSkipping line 5235: expected 2 fields, saw 3\\nSkipping line 5239: expected 2 fields, saw 3\\nSkipping line 5257: expected 2 fields, saw 3\\nSkipping line 5308: expected 2 fields, saw 3\\nSkipping line 5386: expected 2 fields, saw 3\\nSkipping line 5403: expected 2 fields, saw 3\\nSkipping line 5407: expected 2 fields, saw 3\\nSkipping line 5408: expected 2 fields, saw 3\\nSkipping line 5446: expected 2 fields, saw 4\\nSkipping line 5447: expected 2 fields, saw 3\\nSkipping line 5474: expected 2 fields, saw 3\\nSkipping line 5488: expected 2 fields, saw 3\\nSkipping line 5494: expected 2 fields, saw 3\\nSkipping line 5513: expected 2 fields, saw 4\\nSkipping line 5514: expected 2 fields, saw 3\\nSkipping line 5531: expected 2 fields, saw 3\\nSkipping line 5537: expected 2 fields, saw 3\\nSkipping line 5548: expected 2 fields, saw 3\\nSkipping line 5559: expected 2 fields, saw 3\\nSkipping line 5597: expected 2 fields, saw 3\\nSkipping line 5600: expected 2 fields, saw 3\\nSkipping line 5614: expected 2 fields, saw 4\\nSkipping line 5620: expected 2 fields, saw 3\\nSkipping line 5624: expected 2 fields, saw 3\\nSkipping line 5630: expected 2 fields, saw 3\\nSkipping line 5664: expected 2 fields, saw 3\\nSkipping line 5681: expected 2 fields, saw 6\\nSkipping line 5689: expected 2 fields, saw 3\\nSkipping line 5716: expected 2 fields, saw 11\\nSkipping line 5737: expected 2 fields, saw 6\\nSkipping line 5748: expected 2 fields, saw 3\\nSkipping line 5755: expected 2 fields, saw 3\\nSkipping line 5802: expected 2 fields, saw 3\\nSkipping line 5836: expected 2 fields, saw 4\\nSkipping line 5850: expected 2 fields, saw 3\\nSkipping line 5852: expected 2 fields, saw 3\\nSkipping line 5853: expected 2 fields, saw 3\\nSkipping line 5868: expected 2 fields, saw 3\\nSkipping line 5878: expected 2 fields, saw 3\\nSkipping line 5880: expected 2 fields, saw 3\\nSkipping line 5883: expected 2 fields, saw 3\\nSkipping line 5912: expected 2 fields, saw 3\\nSkipping line 5917: expected 2 fields, saw 3\\nSkipping line 5923: expected 2 fields, saw 4\\nSkipping line 5953: expected 2 fields, saw 3\\nSkipping line 5958: expected 2 fields, saw 3\\nSkipping line 5983: expected 2 fields, saw 3\\nSkipping line 5998: expected 2 fields, saw 3\\nSkipping line 5999: expected 2 fields, saw 3\\nSkipping line 6002: expected 2 fields, saw 3\\nSkipping line 6015: expected 2 fields, saw 4\\nSkipping line 6130: expected 2 fields, saw 3\\nSkipping line 6133: expected 2 fields, saw 5\\nSkipping line 6134: expected 2 fields, saw 3\\nSkipping line 6155: expected 2 fields, saw 3\\nSkipping line 6187: expected 2 fields, saw 3\\nSkipping line 6190: expected 2 fields, saw 3\\nSkipping line 6195: expected 2 fields, saw 4\\nSkipping line 6197: expected 2 fields, saw 3\\nSkipping line 6204: expected 2 fields, saw 3\\nSkipping line 6205: expected 2 fields, saw 3\\nSkipping line 6211: expected 2 fields, saw 3\\nSkipping line 6216: expected 2 fields, saw 4\\nSkipping line 6219: expected 2 fields, saw 3\\nSkipping line 6222: expected 2 fields, saw 3\\nSkipping line 6229: expected 2 fields, saw 3\\nSkipping line 6233: expected 2 fields, saw 3\\nSkipping line 6242: expected 2 fields, saw 4\\nSkipping line 6243: expected 2 fields, saw 3\\nSkipping line 6245: expected 2 fields, saw 3\\nSkipping line 6246: expected 2 fields, saw 3\\nSkipping line 6255: expected 2 fields, saw 4\\nSkipping line 6260: expected 2 fields, saw 3\\nSkipping line 6270: expected 2 fields, saw 3\\nSkipping line 6279: expected 2 fields, saw 3\\nSkipping line 6286: expected 2 fields, saw 3\\nSkipping line 6300: expected 2 fields, saw 3\\nSkipping line 6343: expected 2 fields, saw 3\\nSkipping line 6353: expected 2 fields, saw 3\\nSkipping line 6356: expected 2 fields, saw 3\\nSkipping line 6366: expected 2 fields, saw 3\\nSkipping line 6368: expected 2 fields, saw 3\\nSkipping line 6432: expected 2 fields, saw 5\\nSkipping line 6440: expected 2 fields, saw 3\\nSkipping line 6448: expected 2 fields, saw 3\\nSkipping line 6532: expected 2 fields, saw 3\\nSkipping line 6534: expected 2 fields, saw 3\\nSkipping line 6536: expected 2 fields, saw 4\\nSkipping line 6549: expected 2 fields, saw 4\\nSkipping line 6577: expected 2 fields, saw 3\\nSkipping line 6595: expected 2 fields, saw 3\\nSkipping line 6630: expected 2 fields, saw 3\\nSkipping line 6659: expected 2 fields, saw 3\\nSkipping line 6668: expected 2 fields, saw 3\\nSkipping line 6697: expected 2 fields, saw 3\\nSkipping line 6721: expected 2 fields, saw 4\\nSkipping line 6754: expected 2 fields, saw 3\\nSkipping line 6769: expected 2 fields, saw 3\\nSkipping line 6778: expected 2 fields, saw 3\\nSkipping line 6780: expected 2 fields, saw 3\\nSkipping line 6832: expected 2 fields, saw 3\\nSkipping line 6839: expected 2 fields, saw 3\\nSkipping line 6908: expected 2 fields, saw 3\\nSkipping line 6909: expected 2 fields, saw 3\\nSkipping line 6941: expected 2 fields, saw 3\\nSkipping line 7087: expected 2 fields, saw 4\\nSkipping line 7092: expected 2 fields, saw 3\\nSkipping line 7111: expected 2 fields, saw 3\\nSkipping line 7118: expected 2 fields, saw 3\\nSkipping line 7129: expected 2 fields, saw 3\\nSkipping line 7141: expected 2 fields, saw 3\\nSkipping line 7143: expected 2 fields, saw 7\\nSkipping line 7145: expected 2 fields, saw 3\\nSkipping line 7152: expected 2 fields, saw 3\\nSkipping line 7165: expected 2 fields, saw 3\\nSkipping line 7171: expected 2 fields, saw 3\\nSkipping line 7174: expected 2 fields, saw 3\\nSkipping line 7177: expected 2 fields, saw 3\\nSkipping line 7182: expected 2 fields, saw 3\\nSkipping line 7183: expected 2 fields, saw 4\\nSkipping line 7190: expected 2 fields, saw 5\\nSkipping line 7192: expected 2 fields, saw 4\\nSkipping line 7194: expected 2 fields, saw 5\\nSkipping line 7212: expected 2 fields, saw 3\\nSkipping line 7232: expected 2 fields, saw 3\\nSkipping line 7246: expected 2 fields, saw 3\\nSkipping line 7250: expected 2 fields, saw 3\\nSkipping line 7261: expected 2 fields, saw 3\\nSkipping line 7269: expected 2 fields, saw 3\\nSkipping line 7271: expected 2 fields, saw 3\\nSkipping line 7282: expected 2 fields, saw 4\\nSkipping line 7289: expected 2 fields, saw 3\\nSkipping line 7301: expected 2 fields, saw 3\\nSkipping line 7321: expected 2 fields, saw 3\\nSkipping line 7325: expected 2 fields, saw 4\\nSkipping line 7335: expected 2 fields, saw 6\\nSkipping line 7339: expected 2 fields, saw 3\\nSkipping line 7404: expected 2 fields, saw 3\\nSkipping line 7405: expected 2 fields, saw 3\\nSkipping line 7441: expected 2 fields, saw 3\\nSkipping line 7457: expected 2 fields, saw 3\\nSkipping line 7458: expected 2 fields, saw 3\\nSkipping line 7461: expected 2 fields, saw 3\\nSkipping line 7477: expected 2 fields, saw 4\\nSkipping line 7484: expected 2 fields, saw 4\\nSkipping line 7496: expected 2 fields, saw 3\\nSkipping line 7511: expected 2 fields, saw 3\\nSkipping line 7515: expected 2 fields, saw 4\\nSkipping line 7546: expected 2 fields, saw 3\\nSkipping line 7549: expected 2 fields, saw 3\\nSkipping line 7597: expected 2 fields, saw 3\\nSkipping line 7606: expected 2 fields, saw 3\\nSkipping line 7637: expected 2 fields, saw 4\\nSkipping line 7641: expected 2 fields, saw 3\\nSkipping line 7642: expected 2 fields, saw 3\\nSkipping line 7643: expected 2 fields, saw 3\\nSkipping line 7646: expected 2 fields, saw 3\\nSkipping line 7653: expected 2 fields, saw 3\\nSkipping line 7657: expected 2 fields, saw 3\\nSkipping line 7723: expected 2 fields, saw 3\\nSkipping line 7779: expected 2 fields, saw 3\\nSkipping line 7780: expected 2 fields, saw 4\\nSkipping line 7781: expected 2 fields, saw 4\\nSkipping line 7806: expected 2 fields, saw 3\\nSkipping line 7926: expected 2 fields, saw 3\\nSkipping line 7931: expected 2 fields, saw 3\\nSkipping line 7939: expected 2 fields, saw 3\\nSkipping line 7989: expected 2 fields, saw 3\\nSkipping line 7994: expected 2 fields, saw 3\\nSkipping line 8013: expected 2 fields, saw 4\\nSkipping line 8018: expected 2 fields, saw 3\\nSkipping line 8051: expected 2 fields, saw 3\\nSkipping line 8053: expected 2 fields, saw 3\\nSkipping line 8086: expected 2 fields, saw 3\\nSkipping line 8116: expected 2 fields, saw 3\\nSkipping line 8157: expected 2 fields, saw 3\\nSkipping line 8168: expected 2 fields, saw 4\\nSkipping line 8177: expected 2 fields, saw 3\\nSkipping line 8187: expected 2 fields, saw 3\\nSkipping line 8206: expected 2 fields, saw 3\\nSkipping line 8223: expected 2 fields, saw 3\\nSkipping line 8262: expected 2 fields, saw 3\\nSkipping line 8300: expected 2 fields, saw 3\\nSkipping line 8319: expected 2 fields, saw 3\\nSkipping line 8326: expected 2 fields, saw 3\\nSkipping line 8330: expected 2 fields, saw 3\\nSkipping line 8341: expected 2 fields, saw 4\\nSkipping line 8343: expected 2 fields, saw 3\\nSkipping line 8344: expected 2 fields, saw 3\\nSkipping line 8381: expected 2 fields, saw 3\\nSkipping line 8385: expected 2 fields, saw 3\\nSkipping line 8417: expected 2 fields, saw 3\\nSkipping line 8426: expected 2 fields, saw 3\\nSkipping line 8427: expected 2 fields, saw 4\\nSkipping line 8428: expected 2 fields, saw 3\\nSkipping line 8459: expected 2 fields, saw 3\\nSkipping line 8460: expected 2 fields, saw 3\\nSkipping line 8469: expected 2 fields, saw 5\\nSkipping line 8470: expected 2 fields, saw 5\\nSkipping line 8497: expected 2 fields, saw 3\\nSkipping line 8499: expected 2 fields, saw 4\\nSkipping line 8526: expected 2 fields, saw 4\\nSkipping line 8534: expected 2 fields, saw 6\\nSkipping line 8536: expected 2 fields, saw 9\\nSkipping line 8563: expected 2 fields, saw 3\\nSkipping line 8568: expected 2 fields, saw 4\\nSkipping line 8582: expected 2 fields, saw 3\\nSkipping line 8652: expected 2 fields, saw 3\\nSkipping line 8777: expected 2 fields, saw 3\\nSkipping line 8789: expected 2 fields, saw 3\\nSkipping line 8791: expected 2 fields, saw 3\\nSkipping line 8815: expected 2 fields, saw 3\\nSkipping line 8816: expected 2 fields, saw 3\\nSkipping line 8853: expected 2 fields, saw 3\\nSkipping line 8855: expected 2 fields, saw 3\\nSkipping line 8891: expected 2 fields, saw 4\\nSkipping line 8915: expected 2 fields, saw 3\\nSkipping line 8925: expected 2 fields, saw 3\\nSkipping line 8928: expected 2 fields, saw 3\\nSkipping line 8936: expected 2 fields, saw 5\\nSkipping line 8937: expected 2 fields, saw 3\\nSkipping line 8938: expected 2 fields, saw 4\\nSkipping line 9040: expected 2 fields, saw 3\\nSkipping line 9059: expected 2 fields, saw 3\\nSkipping line 9071: expected 2 fields, saw 3\\nSkipping line 9073: expected 2 fields, saw 4\\nSkipping line 9112: expected 2 fields, saw 3\\nSkipping line 9134: expected 2 fields, saw 3\\nSkipping line 9154: expected 2 fields, saw 3\\nSkipping line 9163: expected 2 fields, saw 3\\nSkipping line 9170: expected 2 fields, saw 3\\nSkipping line 9171: expected 2 fields, saw 3\\nSkipping line 9197: expected 2 fields, saw 3\\nSkipping line 9229: expected 2 fields, saw 3\\nSkipping line 9231: expected 2 fields, saw 3\\nSkipping line 9279: expected 2 fields, saw 3\\nSkipping line 9281: expected 2 fields, saw 3\\nSkipping line 9291: expected 2 fields, saw 3\\nSkipping line 9304: expected 2 fields, saw 3\\nSkipping line 9312: expected 2 fields, saw 3\\nSkipping line 9324: expected 2 fields, saw 6\\nSkipping line 9325: expected 2 fields, saw 6\\nSkipping line 9426: expected 2 fields, saw 3\\nSkipping line 9462: expected 2 fields, saw 3\\nSkipping line 9472: expected 2 fields, saw 3\\nSkipping line 9494: expected 2 fields, saw 3\\nSkipping line 9572: expected 2 fields, saw 3\\nSkipping line 9607: expected 2 fields, saw 12\\nSkipping line 9628: expected 2 fields, saw 6\\nSkipping line 9629: expected 2 fields, saw 6\\nSkipping line 9675: expected 2 fields, saw 3\\nSkipping line 9693: expected 2 fields, saw 3\\nSkipping line 9721: expected 2 fields, saw 3\\nSkipping line 9744: expected 2 fields, saw 3\\nSkipping line 9766: expected 2 fields, saw 3\\nSkipping line 9768: expected 2 fields, saw 3\\nSkipping line 9785: expected 2 fields, saw 3\\nSkipping line 9806: expected 2 fields, saw 4\\nSkipping line 9859: expected 2 fields, saw 3\\nSkipping line 9868: expected 2 fields, saw 6\\nSkipping line 9870: expected 2 fields, saw 3\\nSkipping line 9885: expected 2 fields, saw 3\\nSkipping line 9889: expected 2 fields, saw 3\\nSkipping line 9892: expected 2 fields, saw 3\\nSkipping line 9899: expected 2 fields, saw 3\\nSkipping line 9901: expected 2 fields, saw 3\\nSkipping line 9930: expected 2 fields, saw 6\\nSkipping line 9931: expected 2 fields, saw 6\\nSkipping line 9997: expected 2 fields, saw 3\\nSkipping line 10001: expected 2 fields, saw 3\\nSkipping line 10051: expected 2 fields, saw 3\\nSkipping line 10109: expected 2 fields, saw 3\\nSkipping line 10110: expected 2 fields, saw 3\\nSkipping line 10113: expected 2 fields, saw 3\\nSkipping line 10114: expected 2 fields, saw 3\\nSkipping line 10119: expected 2 fields, saw 3\\nSkipping line 10132: expected 2 fields, saw 6\\nSkipping line 10133: expected 2 fields, saw 6\\nSkipping line 10214: expected 2 fields, saw 3\\nSkipping line 10240: expected 2 fields, saw 3\\nSkipping line 10241: expected 2 fields, saw 3\\nSkipping line 10242: expected 2 fields, saw 3\\nSkipping line 10243: expected 2 fields, saw 3\\nSkipping line 10269: expected 2 fields, saw 3\\nSkipping line 10311: expected 2 fields, saw 3\\nSkipping line 10323: expected 2 fields, saw 3\\nSkipping line 10327: expected 2 fields, saw 3\\nSkipping line 10355: expected 2 fields, saw 3\\nSkipping line 10356: expected 2 fields, saw 3\\nSkipping line 10367: expected 2 fields, saw 3\\nSkipping line 10381: expected 2 fields, saw 6\\nSkipping line 10382: expected 2 fields, saw 6\\nSkipping line 10450: expected 2 fields, saw 11\\nSkipping line 10451: expected 2 fields, saw 10\\nSkipping line 10454: expected 2 fields, saw 3\\nSkipping line 10457: expected 2 fields, saw 3\\nSkipping line 10476: expected 2 fields, saw 9\\nSkipping line 10480: expected 2 fields, saw 4\\nSkipping line 10490: expected 2 fields, saw 3\\nSkipping line 10493: expected 2 fields, saw 3\\nSkipping line 10496: expected 2 fields, saw 3\\nSkipping line 10510: expected 2 fields, saw 5\\nSkipping line 10527: expected 2 fields, saw 3\\nSkipping line 10533: expected 2 fields, saw 3\\nSkipping line 10553: expected 2 fields, saw 4\\nSkipping line 10582: expected 2 fields, saw 3\\nSkipping line 10586: expected 2 fields, saw 3\\nSkipping line 10591: expected 2 fields, saw 4\\nSkipping line 10593: expected 2 fields, saw 3\\nSkipping line 10594: expected 2 fields, saw 3\\nSkipping line 10607: expected 2 fields, saw 3\\nSkipping line 10622: expected 2 fields, saw 3\\nSkipping line 10628: expected 2 fields, saw 3\\nSkipping line 10664: expected 2 fields, saw 3\\nSkipping line 10665: expected 2 fields, saw 3\\nSkipping line 10751: expected 2 fields, saw 6\\nSkipping line 10752: expected 2 fields, saw 6\\nSkipping line 10777: expected 2 fields, saw 3\\nSkipping line 10782: expected 2 fields, saw 3\\nSkipping line 10793: expected 2 fields, saw 3\\nSkipping line 10799: expected 2 fields, saw 3\\nSkipping line 10811: expected 2 fields, saw 3\\nSkipping line 10812: expected 2 fields, saw 3\\nSkipping line 10814: expected 2 fields, saw 3\\nSkipping line 10820: expected 2 fields, saw 3\\nSkipping line 10831: expected 2 fields, saw 3\\nSkipping line 10832: expected 2 fields, saw 3\\nSkipping line 10895: expected 2 fields, saw 3\\nSkipping line 10980: expected 2 fields, saw 3\\nSkipping line 10985: expected 2 fields, saw 3\\nSkipping line 11020: expected 2 fields, saw 4\\nSkipping line 11043: expected 2 fields, saw 3\\nSkipping line 11046: expected 2 fields, saw 3\\nSkipping line 11094: expected 2 fields, saw 3\\nSkipping line 11101: expected 2 fields, saw 3\\nSkipping line 11136: expected 2 fields, saw 7\\nSkipping line 11210: expected 2 fields, saw 3\\nSkipping line 11271: expected 2 fields, saw 3\\nSkipping line 11320: expected 2 fields, saw 3\\nSkipping line 11334: expected 2 fields, saw 3\\nSkipping line 11356: expected 2 fields, saw 4\\nSkipping line 11378: expected 2 fields, saw 3\\nSkipping line 11429: expected 2 fields, saw 6\\nSkipping line 11444: expected 2 fields, saw 3\\nSkipping line 11446: expected 2 fields, saw 3\\nSkipping line 11507: expected 2 fields, saw 3\\nSkipping line 11527: expected 2 fields, saw 3\\nSkipping line 11531: expected 2 fields, saw 3\\nSkipping line 11532: expected 2 fields, saw 3\\nSkipping line 11569: expected 2 fields, saw 3\\nSkipping line 11592: expected 2 fields, saw 3\\nSkipping line 11594: expected 2 fields, saw 3\\nSkipping line 11596: expected 2 fields, saw 4\\nSkipping line 11610: expected 2 fields, saw 3\\nSkipping line 11613: expected 2 fields, saw 3\\nSkipping line 11619: expected 2 fields, saw 3\\nSkipping line 11662: expected 2 fields, saw 5\\nSkipping line 11669: expected 2 fields, saw 4\\nSkipping line 11676: expected 2 fields, saw 3\\nSkipping line 11684: expected 2 fields, saw 3\\nSkipping line 11686: expected 2 fields, saw 3\\nSkipping line 11703: expected 2 fields, saw 3\\nSkipping line 11715: expected 2 fields, saw 3\\nSkipping line 11724: expected 2 fields, saw 3\\nSkipping line 11728: expected 2 fields, saw 3\\nSkipping line 11763: expected 2 fields, saw 4\\nSkipping line 11808: expected 2 fields, saw 6\\nSkipping line 11809: expected 2 fields, saw 6\\nSkipping line 11822: expected 2 fields, saw 3\\nSkipping line 11894: expected 2 fields, saw 5\\nSkipping line 11907: expected 2 fields, saw 3\\nSkipping line 11940: expected 2 fields, saw 3\\nSkipping line 11953: expected 2 fields, saw 3\\nSkipping line 11978: expected 2 fields, saw 3\\nSkipping line 11987: expected 2 fields, saw 3\\nSkipping line 11988: expected 2 fields, saw 3\\nSkipping line 11992: expected 2 fields, saw 3\\nSkipping line 11999: expected 2 fields, saw 3\\nSkipping line 12013: expected 2 fields, saw 3\\nSkipping line 12038: expected 2 fields, saw 3\\nSkipping line 12046: expected 2 fields, saw 4\\nSkipping line 12061: expected 2 fields, saw 4\\nSkipping line 12073: expected 2 fields, saw 3\\nSkipping line 12076: expected 2 fields, saw 3\\nSkipping line 12097: expected 2 fields, saw 6\\nSkipping line 12098: expected 2 fields, saw 6\\nSkipping line 12150: expected 2 fields, saw 3\\nSkipping line 12180: expected 2 fields, saw 3\\nSkipping line 12181: expected 2 fields, saw 4\\nSkipping line 12199: expected 2 fields, saw 3\\nSkipping line 12219: expected 2 fields, saw 3\\nSkipping line 12221: expected 2 fields, saw 3\\nSkipping line 12244: expected 2 fields, saw 4\\nSkipping line 12250: expected 2 fields, saw 3\\nSkipping line 12281: expected 2 fields, saw 3\\nSkipping line 12400: expected 2 fields, saw 3\\nSkipping line 12417: expected 2 fields, saw 3\\nSkipping line 12455: expected 2 fields, saw 3\\nSkipping line 12456: expected 2 fields, saw 3\\nSkipping line 12496: expected 2 fields, saw 3\\nSkipping line 12497: expected 2 fields, saw 3\\nSkipping line 12511: expected 2 fields, saw 3\\nSkipping line 12516: expected 2 fields, saw 3\\nSkipping line 12531: expected 2 fields, saw 3\\nSkipping line 12543: expected 2 fields, saw 3\\nSkipping line 12545: expected 2 fields, saw 3\\nSkipping line 12553: expected 2 fields, saw 3\\nSkipping line 12565: expected 2 fields, saw 4\\nSkipping line 12617: expected 2 fields, saw 3\\nSkipping line 12624: expected 2 fields, saw 3\\nSkipping line 12638: expected 2 fields, saw 3\\nSkipping line 12650: expected 2 fields, saw 4\\nSkipping line 12651: expected 2 fields, saw 3\\nSkipping line 12716: expected 2 fields, saw 3\\nSkipping line 12717: expected 2 fields, saw 3\\nSkipping line 12751: expected 2 fields, saw 5\\nSkipping line 12757: expected 2 fields, saw 3\\nSkipping line 12796: expected 2 fields, saw 3\\nSkipping line 12812: expected 2 fields, saw 3\\nSkipping line 12814: expected 2 fields, saw 4\\nSkipping line 12818: expected 2 fields, saw 3\\nSkipping line 12829: expected 2 fields, saw 3\\nSkipping line 12843: expected 2 fields, saw 3\\nSkipping line 12889: expected 2 fields, saw 3\\nSkipping line 12921: expected 2 fields, saw 3\\nSkipping line 12923: expected 2 fields, saw 3\\nSkipping line 12958: expected 2 fields, saw 3\\nSkipping line 12992: expected 2 fields, saw 3\\nSkipping line 13001: expected 2 fields, saw 3\\nSkipping line 13007: expected 2 fields, saw 3\\nSkipping line 13013: expected 2 fields, saw 3\\nSkipping line 13022: expected 2 fields, saw 3\\nSkipping line 13025: expected 2 fields, saw 3\\nSkipping line 13056: expected 2 fields, saw 3\\nSkipping line 13072: expected 2 fields, saw 4\\nSkipping line 13082: expected 2 fields, saw 4\\nSkipping line 13086: expected 2 fields, saw 3\\nSkipping line 13092: expected 2 fields, saw 3\\nSkipping line 13095: expected 2 fields, saw 3\\nSkipping line 13144: expected 2 fields, saw 3\\nSkipping line 13145: expected 2 fields, saw 3\\nSkipping line 13207: expected 2 fields, saw 3\\nSkipping line 13224: expected 2 fields, saw 3\\nSkipping line 13230: expected 2 fields, saw 3\\nSkipping line 13239: expected 2 fields, saw 3\\nSkipping line 13283: expected 2 fields, saw 3\\nSkipping line 13323: expected 2 fields, saw 3\\nSkipping line 13352: expected 2 fields, saw 5\\nSkipping line 13357: expected 2 fields, saw 3\\nSkipping line 13374: expected 2 fields, saw 3\\nSkipping line 13379: expected 2 fields, saw 4\\nSkipping line 13406: expected 2 fields, saw 3\\nSkipping line 13428: expected 2 fields, saw 3\\nSkipping line 13444: expected 2 fields, saw 3\\nSkipping line 13454: expected 2 fields, saw 5\\nSkipping line 13525: expected 2 fields, saw 3\\nSkipping line 13544: expected 2 fields, saw 3\\nSkipping line 13553: expected 2 fields, saw 3\\nSkipping line 13564: expected 2 fields, saw 3\\nSkipping line 13592: expected 2 fields, saw 3\\nSkipping line 13604: expected 2 fields, saw 6\\nSkipping line 13611: expected 2 fields, saw 3\\nSkipping line 13612: expected 2 fields, saw 3\\nSkipping line 13634: expected 2 fields, saw 4\\nSkipping line 13635: expected 2 fields, saw 3\\nSkipping line 13641: expected 2 fields, saw 3\\nSkipping line 13643: expected 2 fields, saw 3\\nSkipping line 13648: expected 2 fields, saw 3\\nSkipping line 13651: expected 2 fields, saw 3\\nSkipping line 13652: expected 2 fields, saw 3\\nSkipping line 13668: expected 2 fields, saw 4\\nSkipping line 13716: expected 2 fields, saw 3\\nSkipping line 13726: expected 2 fields, saw 3\\nSkipping line 13727: expected 2 fields, saw 4\\nSkipping line 13735: expected 2 fields, saw 6\\nSkipping line 13736: expected 2 fields, saw 6\\nSkipping line 13819: expected 2 fields, saw 3\\nSkipping line 13829: expected 2 fields, saw 3\\nSkipping line 13831: expected 2 fields, saw 3\\nSkipping line 13890: expected 2 fields, saw 3\\nSkipping line 13893: expected 2 fields, saw 3\\nSkipping line 13913: expected 2 fields, saw 3\\nSkipping line 13920: expected 2 fields, saw 3\\nSkipping line 13924: expected 2 fields, saw 3\\nSkipping line 13949: expected 2 fields, saw 3\\nSkipping line 13952: expected 2 fields, saw 3\\nSkipping line 13959: expected 2 fields, saw 4\\nSkipping line 13963: expected 2 fields, saw 3\\nSkipping line 13970: expected 2 fields, saw 3\\nSkipping line 13972: expected 2 fields, saw 4\\nSkipping line 13975: expected 2 fields, saw 3\\nSkipping line 13977: expected 2 fields, saw 3\\nSkipping line 13982: expected 2 fields, saw 3\\nSkipping line 13983: expected 2 fields, saw 3\\nSkipping line 13986: expected 2 fields, saw 3\\nSkipping line 14012: expected 2 fields, saw 3\\nSkipping line 14030: expected 2 fields, saw 3\\nSkipping line 14051: expected 2 fields, saw 4\\nSkipping line 14104: expected 2 fields, saw 3\\nSkipping line 14108: expected 2 fields, saw 5\\nSkipping line 14131: expected 2 fields, saw 5\\nSkipping line 14174: expected 2 fields, saw 3\\nSkipping line 14205: expected 2 fields, saw 5\\nSkipping line 14206: expected 2 fields, saw 3\\nSkipping line 14257: expected 2 fields, saw 3\\nSkipping line 14258: expected 2 fields, saw 3\\nSkipping line 14289: expected 2 fields, saw 4\\nSkipping line 14290: expected 2 fields, saw 3\\nSkipping line 14292: expected 2 fields, saw 3\\nSkipping line 14301: expected 2 fields, saw 3\\nSkipping line 14304: expected 2 fields, saw 4\\nSkipping line 14309: expected 2 fields, saw 3\\nSkipping line 14330: expected 2 fields, saw 4\\nSkipping line 14342: expected 2 fields, saw 3\\nSkipping line 14380: expected 2 fields, saw 3\\nSkipping line 14425: expected 2 fields, saw 4\\nSkipping line 14451: expected 2 fields, saw 3\\nSkipping line 14471: expected 2 fields, saw 3\\nSkipping line 14496: expected 2 fields, saw 3\\nSkipping line 14514: expected 2 fields, saw 3\\nSkipping line 14527: expected 2 fields, saw 3\\nSkipping line 14529: expected 2 fields, saw 3\\nSkipping line 14534: expected 2 fields, saw 3\\nSkipping line 14556: expected 2 fields, saw 3\\nSkipping line 14558: expected 2 fields, saw 3\\nSkipping line 14578: expected 2 fields, saw 3\\nSkipping line 14583: expected 2 fields, saw 4\\nSkipping line 14585: expected 2 fields, saw 3\\nSkipping line 14592: expected 2 fields, saw 3\\nSkipping line 14633: expected 2 fields, saw 4\\nSkipping line 14637: expected 2 fields, saw 6\\nSkipping line 14641: expected 2 fields, saw 5\\nSkipping line 14686: expected 2 fields, saw 3\\nSkipping line 14692: expected 2 fields, saw 3\\nSkipping line 14693: expected 2 fields, saw 3\\nSkipping line 14694: expected 2 fields, saw 3\\nSkipping line 14696: expected 2 fields, saw 3\\nSkipping line 14713: expected 2 fields, saw 4\\nSkipping line 14725: expected 2 fields, saw 3\\nSkipping line 14726: expected 2 fields, saw 3\\nSkipping line 14756: expected 2 fields, saw 3\\nSkipping line 14767: expected 2 fields, saw 4\\nSkipping line 14782: expected 2 fields, saw 3\\nSkipping line 14785: expected 2 fields, saw 3\\nSkipping line 14797: expected 2 fields, saw 3\\nSkipping line 14823: expected 2 fields, saw 4\\nSkipping line 14827: expected 2 fields, saw 3\\nSkipping line 14828: expected 2 fields, saw 4\\nSkipping line 14846: expected 2 fields, saw 3\\nSkipping line 14863: expected 2 fields, saw 3\\nSkipping line 14885: expected 2 fields, saw 4\\nSkipping line 14888: expected 2 fields, saw 3\\nSkipping line 14906: expected 2 fields, saw 3\\nSkipping line 14913: expected 2 fields, saw 3\\nSkipping line 14932: expected 2 fields, saw 3\\nSkipping line 14936: expected 2 fields, saw 3\\nSkipping line 14943: expected 2 fields, saw 3\\nSkipping line 14984: expected 2 fields, saw 3\\nSkipping line 14990: expected 2 fields, saw 3\\nSkipping line 14992: expected 2 fields, saw 3\\nSkipping line 15057: expected 2 fields, saw 3\\nSkipping line 15066: expected 2 fields, saw 3\\nSkipping line 15069: expected 2 fields, saw 3\\nSkipping line 15078: expected 2 fields, saw 3\\nSkipping line 15090: expected 2 fields, saw 3\\nSkipping line 15125: expected 2 fields, saw 6\\nSkipping line 15126: expected 2 fields, saw 6\\nSkipping line 15156: expected 2 fields, saw 3\\nSkipping line 15157: expected 2 fields, saw 6\\nSkipping line 15191: expected 2 fields, saw 4\\nSkipping line 15217: expected 2 fields, saw 3\\nSkipping line 15221: expected 2 fields, saw 3\\nSkipping line 15224: expected 2 fields, saw 3\\nSkipping line 15283: expected 2 fields, saw 3\\nSkipping line 15328: expected 2 fields, saw 3\\nSkipping line 15329: expected 2 fields, saw 6\\nSkipping line 15364: expected 2 fields, saw 3\\nSkipping line 15372: expected 2 fields, saw 3\\nSkipping line 15390: expected 2 fields, saw 3\\nSkipping line 15421: expected 2 fields, saw 3\\nSkipping line 15516: expected 2 fields, saw 3\\nSkipping line 15566: expected 2 fields, saw 3\\nSkipping line 15586: expected 2 fields, saw 3\\nSkipping line 15604: expected 2 fields, saw 4\\nSkipping line 15611: expected 2 fields, saw 3\\nSkipping line 15612: expected 2 fields, saw 3\\nSkipping line 15664: expected 2 fields, saw 3\\nSkipping line 15702: expected 2 fields, saw 3\\nSkipping line 15703: expected 2 fields, saw 3\\n'\n"
     ]
    },
    {
     "data": {
      "text/html": [
       "<div>\n",
       "<style scoped>\n",
       "    .dataframe tbody tr th:only-of-type {\n",
       "        vertical-align: middle;\n",
       "    }\n",
       "\n",
       "    .dataframe tbody tr th {\n",
       "        vertical-align: top;\n",
       "    }\n",
       "\n",
       "    .dataframe thead th {\n",
       "        text-align: right;\n",
       "    }\n",
       "</style>\n",
       "<table border=\"1\" class=\"dataframe\">\n",
       "  <thead>\n",
       "    <tr style=\"text-align: right;\">\n",
       "      <th></th>\n",
       "      <th>05/09/2019</th>\n",
       "      <th>4:29 pm - Messages to this group are now secured with end-to-end encryption. Tap for more info.</th>\n",
       "    </tr>\n",
       "  </thead>\n",
       "  <tbody>\n",
       "    <tr>\n",
       "      <th>0</th>\n",
       "      <td>03/09/2019</td>\n",
       "      <td>5:34 pm - rashman canada created group \"Langa...</td>\n",
       "    </tr>\n",
       "    <tr>\n",
       "      <th>1</th>\n",
       "      <td>05/09/2019</td>\n",
       "      <td>4:29 pm - rashman canada added you</td>\n",
       "    </tr>\n",
       "    <tr>\n",
       "      <th>2</th>\n",
       "      <td>05/09/2019</td>\n",
       "      <td>4:30 pm - rashman canada added +91 82190 16358</td>\n",
       "    </tr>\n",
       "    <tr>\n",
       "      <th>3</th>\n",
       "      <td>05/09/2019</td>\n",
       "      <td>4:30 pm - You're now an admin</td>\n",
       "    </tr>\n",
       "    <tr>\n",
       "      <th>4</th>\n",
       "      <td>05/09/2019</td>\n",
       "      <td>9:07 pm - dharun cls: Does anyone have any id...</td>\n",
       "    </tr>\n",
       "  </tbody>\n",
       "</table>\n",
       "</div>"
      ],
      "text/plain": [
       "   05/09/2019  \\\n",
       "0  03/09/2019   \n",
       "1  05/09/2019   \n",
       "2  05/09/2019   \n",
       "3  05/09/2019   \n",
       "4  05/09/2019   \n",
       "\n",
       "   4:29 pm - Messages to this group are now secured with end-to-end encryption. Tap for more info.  \n",
       "0   5:34 pm - rashman canada created group \"Langa...                                                \n",
       "1                 4:29 pm - rashman canada added you                                                \n",
       "2     4:30 pm - rashman canada added +91 82190 16358                                                \n",
       "3                      4:30 pm - You're now an admin                                                \n",
       "4   9:07 pm - dharun cls: Does anyone have any id...                                                "
      ]
     },
     "execution_count": 109,
     "metadata": {},
     "output_type": "execute_result"
    }
   ],
   "source": [
    "#import data\n",
    "data = pd.read_csv(r\"WhatsApp Chat with PDD.DA’19.txt\", error_bad_lines=False)\n",
    "data.head()"
   ]
  },
  {
   "cell_type": "code",
   "execution_count": 110,
   "metadata": {},
   "outputs": [
    {
     "data": {
      "text/html": [
       "<div>\n",
       "<style scoped>\n",
       "    .dataframe tbody tr th:only-of-type {\n",
       "        vertical-align: middle;\n",
       "    }\n",
       "\n",
       "    .dataframe tbody tr th {\n",
       "        vertical-align: top;\n",
       "    }\n",
       "\n",
       "    .dataframe thead th {\n",
       "        text-align: right;\n",
       "    }\n",
       "</style>\n",
       "<table border=\"1\" class=\"dataframe\">\n",
       "  <thead>\n",
       "    <tr style=\"text-align: right;\">\n",
       "      <th></th>\n",
       "      <th>05/09/2019</th>\n",
       "      <th>4:29 pm - Messages to this group are now secured with end-to-end encryption. Tap for more info.</th>\n",
       "    </tr>\n",
       "  </thead>\n",
       "  <tbody>\n",
       "    <tr>\n",
       "      <th>0</th>\n",
       "      <td>03/09/2019</td>\n",
       "      <td>5:34 pm - rashman canada created group \"Langa...</td>\n",
       "    </tr>\n",
       "    <tr>\n",
       "      <th>1</th>\n",
       "      <td>05/09/2019</td>\n",
       "      <td>4:29 pm - rashman canada added you</td>\n",
       "    </tr>\n",
       "    <tr>\n",
       "      <th>2</th>\n",
       "      <td>05/09/2019</td>\n",
       "      <td>4:30 pm - rashman canada added +91 82190 16358</td>\n",
       "    </tr>\n",
       "    <tr>\n",
       "      <th>3</th>\n",
       "      <td>05/09/2019</td>\n",
       "      <td>4:30 pm - You're now an admin</td>\n",
       "    </tr>\n",
       "    <tr>\n",
       "      <th>4</th>\n",
       "      <td>05/09/2019</td>\n",
       "      <td>9:07 pm - dharun cls: Does anyone have any id...</td>\n",
       "    </tr>\n",
       "  </tbody>\n",
       "</table>\n",
       "</div>"
      ],
      "text/plain": [
       "   05/09/2019  \\\n",
       "0  03/09/2019   \n",
       "1  05/09/2019   \n",
       "2  05/09/2019   \n",
       "3  05/09/2019   \n",
       "4  05/09/2019   \n",
       "\n",
       "   4:29 pm - Messages to this group are now secured with end-to-end encryption. Tap for more info.  \n",
       "0   5:34 pm - rashman canada created group \"Langa...                                                \n",
       "1                 4:29 pm - rashman canada added you                                                \n",
       "2     4:30 pm - rashman canada added +91 82190 16358                                                \n",
       "3                      4:30 pm - You're now an admin                                                \n",
       "4   9:07 pm - dharun cls: Does anyone have any id...                                                "
      ]
     },
     "execution_count": 110,
     "metadata": {},
     "output_type": "execute_result"
    }
   ],
   "source": [
    "data.head()"
   ]
  },
  {
   "cell_type": "code",
   "execution_count": 111,
   "metadata": {},
   "outputs": [
    {
     "data": {
      "text/plain": [
       "Index(['05/09/2019', ' 4:29 pm - Messages to this group are now secured with end-to-end encryption. Tap for more info.'], dtype='object')"
      ]
     },
     "execution_count": 111,
     "metadata": {},
     "output_type": "execute_result"
    }
   ],
   "source": [
    "data.columns"
   ]
  },
  {
   "cell_type": "code",
   "execution_count": 112,
   "metadata": {},
   "outputs": [],
   "source": [
    "data.rename(columns = {\"05/09/2019\":\"Date\",\" 4:29 pm - Messages to this group are now secured with end-to-end encryption. Tap for more info.\":\"info\"}, inplace = True)"
   ]
  },
  {
   "cell_type": "code",
   "execution_count": 113,
   "metadata": {},
   "outputs": [
    {
     "data": {
      "text/html": [
       "<div>\n",
       "<style scoped>\n",
       "    .dataframe tbody tr th:only-of-type {\n",
       "        vertical-align: middle;\n",
       "    }\n",
       "\n",
       "    .dataframe tbody tr th {\n",
       "        vertical-align: top;\n",
       "    }\n",
       "\n",
       "    .dataframe thead th {\n",
       "        text-align: right;\n",
       "    }\n",
       "</style>\n",
       "<table border=\"1\" class=\"dataframe\">\n",
       "  <thead>\n",
       "    <tr style=\"text-align: right;\">\n",
       "      <th></th>\n",
       "      <th>Date</th>\n",
       "      <th>info</th>\n",
       "    </tr>\n",
       "  </thead>\n",
       "  <tbody>\n",
       "    <tr>\n",
       "      <th>0</th>\n",
       "      <td>03/09/2019</td>\n",
       "      <td>5:34 pm - rashman canada created group \"Langa...</td>\n",
       "    </tr>\n",
       "    <tr>\n",
       "      <th>1</th>\n",
       "      <td>05/09/2019</td>\n",
       "      <td>4:29 pm - rashman canada added you</td>\n",
       "    </tr>\n",
       "    <tr>\n",
       "      <th>2</th>\n",
       "      <td>05/09/2019</td>\n",
       "      <td>4:30 pm - rashman canada added +91 82190 16358</td>\n",
       "    </tr>\n",
       "    <tr>\n",
       "      <th>3</th>\n",
       "      <td>05/09/2019</td>\n",
       "      <td>4:30 pm - You're now an admin</td>\n",
       "    </tr>\n",
       "    <tr>\n",
       "      <th>4</th>\n",
       "      <td>05/09/2019</td>\n",
       "      <td>9:07 pm - dharun cls: Does anyone have any id...</td>\n",
       "    </tr>\n",
       "  </tbody>\n",
       "</table>\n",
       "</div>"
      ],
      "text/plain": [
       "         Date                                               info\n",
       "0  03/09/2019   5:34 pm - rashman canada created group \"Langa...\n",
       "1  05/09/2019                 4:29 pm - rashman canada added you\n",
       "2  05/09/2019     4:30 pm - rashman canada added +91 82190 16358\n",
       "3  05/09/2019                      4:30 pm - You're now an admin\n",
       "4  05/09/2019   9:07 pm - dharun cls: Does anyone have any id..."
      ]
     },
     "execution_count": 113,
     "metadata": {},
     "output_type": "execute_result"
    }
   ],
   "source": [
    "data.head()"
   ]
  },
  {
   "cell_type": "code",
   "execution_count": 114,
   "metadata": {},
   "outputs": [
    {
     "data": {
      "text/html": [
       "<div>\n",
       "<style scoped>\n",
       "    .dataframe tbody tr th:only-of-type {\n",
       "        vertical-align: middle;\n",
       "    }\n",
       "\n",
       "    .dataframe tbody tr th {\n",
       "        vertical-align: top;\n",
       "    }\n",
       "\n",
       "    .dataframe thead th {\n",
       "        text-align: right;\n",
       "    }\n",
       "</style>\n",
       "<table border=\"1\" class=\"dataframe\">\n",
       "  <thead>\n",
       "    <tr style=\"text-align: right;\">\n",
       "      <th></th>\n",
       "      <th>0</th>\n",
       "      <th>1</th>\n",
       "    </tr>\n",
       "  </thead>\n",
       "  <tbody>\n",
       "    <tr>\n",
       "      <th>0</th>\n",
       "      <td>5:34 pm</td>\n",
       "      <td>rashman canada created group \"Langara College\"</td>\n",
       "    </tr>\n",
       "    <tr>\n",
       "      <th>1</th>\n",
       "      <td>4:29 pm</td>\n",
       "      <td>rashman canada added you</td>\n",
       "    </tr>\n",
       "    <tr>\n",
       "      <th>2</th>\n",
       "      <td>4:30 pm</td>\n",
       "      <td>rashman canada added +91 82190 16358</td>\n",
       "    </tr>\n",
       "    <tr>\n",
       "      <th>3</th>\n",
       "      <td>4:30 pm</td>\n",
       "      <td>You're now an admin</td>\n",
       "    </tr>\n",
       "    <tr>\n",
       "      <th>4</th>\n",
       "      <td>9:07 pm</td>\n",
       "      <td>dharun cls: Does anyone have any idea how to ...</td>\n",
       "    </tr>\n",
       "  </tbody>\n",
       "</table>\n",
       "</div>"
      ],
      "text/plain": [
       "           0                                                  1\n",
       "0   5:34 pm      rashman canada created group \"Langara College\"\n",
       "1   4:29 pm                            rashman canada added you\n",
       "2   4:30 pm                rashman canada added +91 82190 16358\n",
       "3   4:30 pm                                 You're now an admin\n",
       "4   9:07 pm    dharun cls: Does anyone have any idea how to ..."
      ]
     },
     "execution_count": 114,
     "metadata": {},
     "output_type": "execute_result"
    }
   ],
   "source": [
    "# new data frame with split value columns \n",
    "new = data[\"info\"].str.split(\"-\", n = 1, expand = True) \n",
    "new.head()"
   ]
  },
  {
   "cell_type": "code",
   "execution_count": 115,
   "metadata": {},
   "outputs": [
    {
     "data": {
      "text/html": [
       "<div>\n",
       "<style scoped>\n",
       "    .dataframe tbody tr th:only-of-type {\n",
       "        vertical-align: middle;\n",
       "    }\n",
       "\n",
       "    .dataframe tbody tr th {\n",
       "        vertical-align: top;\n",
       "    }\n",
       "\n",
       "    .dataframe thead th {\n",
       "        text-align: right;\n",
       "    }\n",
       "</style>\n",
       "<table border=\"1\" class=\"dataframe\">\n",
       "  <thead>\n",
       "    <tr style=\"text-align: right;\">\n",
       "      <th></th>\n",
       "      <th>Date</th>\n",
       "      <th>Time</th>\n",
       "      <th>Message</th>\n",
       "    </tr>\n",
       "  </thead>\n",
       "  <tbody>\n",
       "    <tr>\n",
       "      <th>0</th>\n",
       "      <td>03/09/2019</td>\n",
       "      <td>5:34 pm</td>\n",
       "      <td>rashman canada created group \"Langara College\"</td>\n",
       "    </tr>\n",
       "    <tr>\n",
       "      <th>1</th>\n",
       "      <td>05/09/2019</td>\n",
       "      <td>4:29 pm</td>\n",
       "      <td>rashman canada added you</td>\n",
       "    </tr>\n",
       "    <tr>\n",
       "      <th>2</th>\n",
       "      <td>05/09/2019</td>\n",
       "      <td>4:30 pm</td>\n",
       "      <td>rashman canada added +91 82190 16358</td>\n",
       "    </tr>\n",
       "    <tr>\n",
       "      <th>3</th>\n",
       "      <td>05/09/2019</td>\n",
       "      <td>4:30 pm</td>\n",
       "      <td>You're now an admin</td>\n",
       "    </tr>\n",
       "    <tr>\n",
       "      <th>4</th>\n",
       "      <td>05/09/2019</td>\n",
       "      <td>9:07 pm</td>\n",
       "      <td>dharun cls: Does anyone have any idea how to ...</td>\n",
       "    </tr>\n",
       "  </tbody>\n",
       "</table>\n",
       "</div>"
      ],
      "text/plain": [
       "         Date       Time                                            Message\n",
       "0  03/09/2019   5:34 pm      rashman canada created group \"Langara College\"\n",
       "1  05/09/2019   4:29 pm                            rashman canada added you\n",
       "2  05/09/2019   4:30 pm                rashman canada added +91 82190 16358\n",
       "3  05/09/2019   4:30 pm                                 You're now an admin\n",
       "4  05/09/2019   9:07 pm    dharun cls: Does anyone have any idea how to ..."
      ]
     },
     "execution_count": 115,
     "metadata": {},
     "output_type": "execute_result"
    }
   ],
   "source": [
    "# making separate first name column from new data frame \n",
    "data[\"Time\"]= new[0] \n",
    "  \n",
    "# making separate last name column from new data frame \n",
    "data[\"Message\"]= new[1] \n",
    "  \n",
    "# Dropping old Name columns \n",
    "data.drop(columns =[\"info\"], inplace = True) \n",
    "  \n",
    "# df display \n",
    "data.head()"
   ]
  },
  {
   "cell_type": "code",
   "execution_count": 116,
   "metadata": {},
   "outputs": [
    {
     "data": {
      "text/html": [
       "<div>\n",
       "<style scoped>\n",
       "    .dataframe tbody tr th:only-of-type {\n",
       "        vertical-align: middle;\n",
       "    }\n",
       "\n",
       "    .dataframe tbody tr th {\n",
       "        vertical-align: top;\n",
       "    }\n",
       "\n",
       "    .dataframe thead th {\n",
       "        text-align: right;\n",
       "    }\n",
       "</style>\n",
       "<table border=\"1\" class=\"dataframe\">\n",
       "  <thead>\n",
       "    <tr style=\"text-align: right;\">\n",
       "      <th></th>\n",
       "      <th>Date</th>\n",
       "      <th>Time</th>\n",
       "      <th>Name</th>\n",
       "      <th>Messages</th>\n",
       "    </tr>\n",
       "  </thead>\n",
       "  <tbody>\n",
       "    <tr>\n",
       "      <th>0</th>\n",
       "      <td>03/09/2019</td>\n",
       "      <td>5:34 pm</td>\n",
       "      <td>rashman canada created group \"Langara College\"</td>\n",
       "      <td>None</td>\n",
       "    </tr>\n",
       "    <tr>\n",
       "      <th>1</th>\n",
       "      <td>05/09/2019</td>\n",
       "      <td>4:29 pm</td>\n",
       "      <td>rashman canada added you</td>\n",
       "      <td>None</td>\n",
       "    </tr>\n",
       "    <tr>\n",
       "      <th>2</th>\n",
       "      <td>05/09/2019</td>\n",
       "      <td>4:30 pm</td>\n",
       "      <td>rashman canada added +91 82190 16358</td>\n",
       "      <td>None</td>\n",
       "    </tr>\n",
       "    <tr>\n",
       "      <th>3</th>\n",
       "      <td>05/09/2019</td>\n",
       "      <td>4:30 pm</td>\n",
       "      <td>You're now an admin</td>\n",
       "      <td>None</td>\n",
       "    </tr>\n",
       "    <tr>\n",
       "      <th>4</th>\n",
       "      <td>05/09/2019</td>\n",
       "      <td>9:07 pm</td>\n",
       "      <td>dharun cls</td>\n",
       "      <td>Does anyone have any idea how to solve questi...</td>\n",
       "    </tr>\n",
       "    <tr>\n",
       "      <th>...</th>\n",
       "      <td>...</td>\n",
       "      <td>...</td>\n",
       "      <td>...</td>\n",
       "      <td>...</td>\n",
       "    </tr>\n",
       "    <tr>\n",
       "      <th>14612</th>\n",
       "      <td>24/07/2020</td>\n",
       "      <td>12:57 pm</td>\n",
       "      <td>tuli class</td>\n",
       "      <td>Thanks</td>\n",
       "    </tr>\n",
       "    <tr>\n",
       "      <th>14613</th>\n",
       "      <td>24/07/2020</td>\n",
       "      <td>9:29 pm</td>\n",
       "      <td>kirra</td>\n",
       "      <td>did azadeh tell us to show code?</td>\n",
       "    </tr>\n",
       "    <tr>\n",
       "      <th>14614</th>\n",
       "      <td>24/07/2020</td>\n",
       "      <td>9:56 pm</td>\n",
       "      <td>Harshad Langara</td>\n",
       "      <td>I think its according to the question.</td>\n",
       "    </tr>\n",
       "    <tr>\n",
       "      <th>14615</th>\n",
       "      <td>25/07/2020</td>\n",
       "      <td>8:42 pm</td>\n",
       "      <td>Vedant Langara</td>\n",
       "      <td>&lt;Media omitted&gt;</td>\n",
       "    </tr>\n",
       "    <tr>\n",
       "      <th>14616</th>\n",
       "      <td>26/07/2020</td>\n",
       "      <td>10:27 am</td>\n",
       "      <td>jaspreet cls canada</td>\n",
       "      <td>Do we need to do anything for DANA 4820</td>\n",
       "    </tr>\n",
       "  </tbody>\n",
       "</table>\n",
       "<p>14617 rows × 4 columns</p>\n",
       "</div>"
      ],
      "text/plain": [
       "             Date        Time  \\\n",
       "0      03/09/2019    5:34 pm    \n",
       "1      05/09/2019    4:29 pm    \n",
       "2      05/09/2019    4:30 pm    \n",
       "3      05/09/2019    4:30 pm    \n",
       "4      05/09/2019    9:07 pm    \n",
       "...           ...         ...   \n",
       "14612  24/07/2020   12:57 pm    \n",
       "14613  24/07/2020    9:29 pm    \n",
       "14614  24/07/2020    9:56 pm    \n",
       "14615  25/07/2020    8:42 pm    \n",
       "14616  26/07/2020   10:27 am    \n",
       "\n",
       "                                                  Name  \\\n",
       "0       rashman canada created group \"Langara College\"   \n",
       "1                             rashman canada added you   \n",
       "2                 rashman canada added +91 82190 16358   \n",
       "3                                  You're now an admin   \n",
       "4                                           dharun cls   \n",
       "...                                                ...   \n",
       "14612                                       tuli class   \n",
       "14613                                            kirra   \n",
       "14614                                  Harshad Langara   \n",
       "14615                                   Vedant Langara   \n",
       "14616                              jaspreet cls canada   \n",
       "\n",
       "                                                Messages  \n",
       "0                                                   None  \n",
       "1                                                   None  \n",
       "2                                                   None  \n",
       "3                                                   None  \n",
       "4       Does anyone have any idea how to solve questi...  \n",
       "...                                                  ...  \n",
       "14612                                             Thanks  \n",
       "14613                   did azadeh tell us to show code?  \n",
       "14614             I think its according to the question.  \n",
       "14615                                    <Media omitted>  \n",
       "14616            Do we need to do anything for DANA 4820  \n",
       "\n",
       "[14617 rows x 4 columns]"
      ]
     },
     "execution_count": 116,
     "metadata": {},
     "output_type": "execute_result"
    }
   ],
   "source": [
    "# new data frame with split value columns \n",
    "new = data[\"Message\"].str.split(\":\", n = 1, expand = True) \n",
    "  \n",
    "# making separate first name column from new data frame \n",
    "data[\"Name\"]= new[0] \n",
    "  \n",
    "# making separate last name column from new data frame \n",
    "data[\"Messages\"]= new[1] \n",
    "  \n",
    "# Dropping old Name columns \n",
    "data.drop(columns =[\"Message\"], inplace = True) \n",
    "  \n",
    "# df display \n",
    "data "
   ]
  },
  {
   "cell_type": "code",
   "execution_count": 117,
   "metadata": {},
   "outputs": [],
   "source": [
    "#drop NA\n",
    "data.dropna(inplace=True)"
   ]
  },
  {
   "cell_type": "code",
   "execution_count": 118,
   "metadata": {},
   "outputs": [
    {
     "data": {
      "text/plain": [
       "31"
      ]
     },
     "execution_count": 118,
     "metadata": {},
     "output_type": "execute_result"
    }
   ],
   "source": [
    "#check unique students\n",
    "data.Name.nunique()"
   ]
  },
  {
   "cell_type": "code",
   "execution_count": 119,
   "metadata": {
    "scrolled": true
   },
   "outputs": [
    {
     "data": {
      "text/plain": [
       " kirra                    1777\n",
       " Roberta Langara          1657\n",
       " dharun cls                983\n",
       " jaspreet cls canada       976\n",
       " vasu                      975\n",
       " kiran kumar cls           618\n",
       " Amir Langara              606\n",
       " arsh langara              553\n",
       " jasman cls                517\n",
       " tuli class                516\n",
       " naval clss                513\n",
       " cici                      469\n",
       " Vedant Langara            431\n",
       " rashman canada            410\n",
       " nikita langara            332\n",
       " harshad cls               301\n",
       " Kania Langara             289\n",
       " aditi jaswal              249\n",
       " Kiran Gill                222\n",
       " david langara             211\n",
       " vivek reddy               183\n",
       " Beth Langara              169\n",
       " Prerna Langara            143\n",
       " Edward                    124\n",
       " navjot canada             109\n",
       " minoj bishnoi langara     102\n",
       " Nicky Langara              98\n",
       " Harshad Langara            51\n",
       " +91 79884 37459            29\n",
       " +91 82190 16358             7\n",
       " +91 90414 65914             6\n",
       "Name: Name, dtype: int64"
      ]
     },
     "execution_count": 119,
     "metadata": {},
     "output_type": "execute_result"
    }
   ],
   "source": [
    "#counts of Names\n",
    "data[\"Name\"].value_counts()"
   ]
  },
  {
   "cell_type": "code",
   "execution_count": 120,
   "metadata": {},
   "outputs": [
    {
     "name": "stdout",
     "output_type": "stream",
     "text": [
      "[' kirra', ' Roberta Langara', ' dharun cls', ' jaspreet cls canada', ' vasu', ' kiran kumar cls', ' Amir Langara', ' arsh langara', ' jasman cls', ' tuli class', ' naval clss', ' cici', ' Vedant Langara', ' rashman canada', ' nikita langara', ' harshad cls', ' Kania Langara', ' aditi jaswal', ' Kiran Gill', ' david langara', ' vivek reddy', ' Beth Langara', ' Prerna Langara', ' Edward', ' navjot canada', ' minoj bishnoi langara', ' Nicky Langara', ' Harshad Langara', ' +91 79884 37459', ' +91 82190 16358', ' +91 90414 65914']\n"
     ]
    }
   ],
   "source": [
    "#list of the Names from series value_counts object\n",
    "UniqueList =data[\"Name\"].value_counts().keys().to_list()\n",
    "print(UniqueList)"
   ]
  },
  {
   "cell_type": "code",
   "execution_count": 121,
   "metadata": {},
   "outputs": [
    {
     "data": {
      "text/plain": [
       "31"
      ]
     },
     "execution_count": 121,
     "metadata": {},
     "output_type": "execute_result"
    }
   ],
   "source": [
    "#total unique Names in Data frame \n",
    "len(data.Name.unique())"
   ]
  },
  {
   "cell_type": "code",
   "execution_count": 122,
   "metadata": {},
   "outputs": [],
   "source": [
    "data.to_csv(\"Chat.csv\", index =False)"
   ]
  },
  {
   "cell_type": "code",
   "execution_count": 123,
   "metadata": {
    "scrolled": true
   },
   "outputs": [
    {
     "data": {
      "text/html": [
       "<div>\n",
       "<style scoped>\n",
       "    .dataframe tbody tr th:only-of-type {\n",
       "        vertical-align: middle;\n",
       "    }\n",
       "\n",
       "    .dataframe tbody tr th {\n",
       "        vertical-align: top;\n",
       "    }\n",
       "\n",
       "    .dataframe thead th {\n",
       "        text-align: right;\n",
       "    }\n",
       "</style>\n",
       "<table border=\"1\" class=\"dataframe\">\n",
       "  <thead>\n",
       "    <tr style=\"text-align: right;\">\n",
       "      <th></th>\n",
       "      <th>Date</th>\n",
       "      <th>Time</th>\n",
       "      <th>Name</th>\n",
       "      <th>Messages</th>\n",
       "    </tr>\n",
       "  </thead>\n",
       "  <tbody>\n",
       "    <tr>\n",
       "      <th>4</th>\n",
       "      <td>05/09/2019</td>\n",
       "      <td>9:07 pm</td>\n",
       "      <td>dharun cls</td>\n",
       "      <td>Does anyone have any idea how to solve questi...</td>\n",
       "    </tr>\n",
       "    <tr>\n",
       "      <th>6</th>\n",
       "      <td>05/09/2019</td>\n",
       "      <td>9:08 pm</td>\n",
       "      <td>dharun cls</td>\n",
       "      <td>Spoiler alert: answer is</td>\n",
       "    </tr>\n",
       "    <tr>\n",
       "      <th>8</th>\n",
       "      <td>05/09/2019</td>\n",
       "      <td>9:09 pm</td>\n",
       "      <td>dharun cls</td>\n",
       "      <td>But if anyone knows how to solve it.. it woul...</td>\n",
       "    </tr>\n",
       "    <tr>\n",
       "      <th>9</th>\n",
       "      <td>05/09/2019</td>\n",
       "      <td>9:10 pm</td>\n",
       "      <td>dharun cls</td>\n",
       "      <td>I know it's x ≤ -3</td>\n",
       "    </tr>\n",
       "    <tr>\n",
       "      <th>10</th>\n",
       "      <td>05/09/2019</td>\n",
       "      <td>9:10 pm</td>\n",
       "      <td>vasu</td>\n",
       "      <td>Let me see</td>\n",
       "    </tr>\n",
       "  </tbody>\n",
       "</table>\n",
       "</div>"
      ],
      "text/plain": [
       "          Date       Time         Name  \\\n",
       "4   05/09/2019   9:07 pm    dharun cls   \n",
       "6   05/09/2019   9:08 pm    dharun cls   \n",
       "8   05/09/2019   9:09 pm    dharun cls   \n",
       "9   05/09/2019   9:10 pm    dharun cls   \n",
       "10  05/09/2019   9:10 pm          vasu   \n",
       "\n",
       "                                             Messages  \n",
       "4    Does anyone have any idea how to solve questi...  \n",
       "6                           Spoiler alert: answer is   \n",
       "8    But if anyone knows how to solve it.. it woul...  \n",
       "9                                  I know it's x ≤ -3  \n",
       "10                                         Let me see  "
      ]
     },
     "execution_count": 123,
     "metadata": {},
     "output_type": "execute_result"
    }
   ],
   "source": [
    "data.head()"
   ]
  },
  {
   "cell_type": "code",
   "execution_count": 124,
   "metadata": {},
   "outputs": [],
   "source": [
    "data['Date'] =  pd.to_datetime(data['Date'])"
   ]
  },
  {
   "cell_type": "code",
   "execution_count": 125,
   "metadata": {},
   "outputs": [],
   "source": [
    "def t(x):\n",
    "    if x[-3:-1]=='pm' and x.split(':')[0][1:3]=='12':\n",
    "        return(x[1:6])\n",
    "    if x[-3:-1]=='pm' and x.split(':')[0][:2]!='12':\n",
    "        return(str(int(x.split(':')[0])+12)+str(':')+str(x.split(':')[1][:2]))\n",
    "    if x[-3:-1]=='am' and x.split(':')[0][1:3]=='12':\n",
    "        return(str('00')+str(':')+str(x.split(':')[1][:2]))\n",
    "    if x[-3:-1]=='am' and x.split(':')[0][:2]!='12' and x.split(':')[0][1:3]!='10' and x.split(':')[0][1:3]!='11':\n",
    "        return(x[1:5])\n",
    "    if x[-3:-1]=='am' and x.split(':')[0][1:3]=='10':\n",
    "        return(x[1:6])\n",
    "    if x[-3:-1]=='am' and x.split(':')[0][1:3]=='11':\n",
    "        return(x[1:6])"
   ]
  },
  {
   "cell_type": "code",
   "execution_count": 126,
   "metadata": {},
   "outputs": [],
   "source": [
    "data['Time'] = data['Time'].apply(lambda x: t(x))"
   ]
  },
  {
   "cell_type": "code",
   "execution_count": 127,
   "metadata": {},
   "outputs": [],
   "source": [
    "data['Time'] = pd.to_datetime(data['Time'], format='%H:%M')"
   ]
  },
  {
   "cell_type": "code",
   "execution_count": 128,
   "metadata": {},
   "outputs": [
    {
     "data": {
      "text/plain": [
       "Date        datetime64[ns]\n",
       "Time        datetime64[ns]\n",
       "Name                object\n",
       "Messages            object\n",
       "dtype: object"
      ]
     },
     "execution_count": 128,
     "metadata": {},
     "output_type": "execute_result"
    }
   ],
   "source": [
    "data.dtypes"
   ]
  },
  {
   "cell_type": "code",
   "execution_count": 129,
   "metadata": {},
   "outputs": [],
   "source": [
    "data.to_csv(r\"FinalCorrectData.csv\")"
   ]
  },
  {
   "cell_type": "markdown",
   "metadata": {},
   "source": [
    "# Total Number of message by student"
   ]
  },
  {
   "cell_type": "code",
   "execution_count": 130,
   "metadata": {},
   "outputs": [
    {
     "data": {
      "text/plain": [
       "array(['1900-01-01T21:07:00.000000000', '1900-01-01T21:08:00.000000000',\n",
       "       '1900-01-01T21:09:00.000000000', ...,\n",
       "       '1900-01-01T08:39:00.000000000', '1900-01-01T10:20:00.000000000',\n",
       "       '1900-01-01T02:15:00.000000000'], dtype='datetime64[ns]')"
      ]
     },
     "execution_count": 130,
     "metadata": {},
     "output_type": "execute_result"
    }
   ],
   "source": [
    "data['Time'].unique()"
   ]
  },
  {
   "cell_type": "code",
   "execution_count": 131,
   "metadata": {},
   "outputs": [],
   "source": [
    "data[\"period\"] = data[\"Date\"].astype(str) +\"/\"+ data[\"Time\"].astype(str)\n"
   ]
  },
  {
   "cell_type": "code",
   "execution_count": 132,
   "metadata": {},
   "outputs": [
    {
     "data": {
      "text/html": [
       "<div>\n",
       "<style scoped>\n",
       "    .dataframe tbody tr th:only-of-type {\n",
       "        vertical-align: middle;\n",
       "    }\n",
       "\n",
       "    .dataframe tbody tr th {\n",
       "        vertical-align: top;\n",
       "    }\n",
       "\n",
       "    .dataframe thead th {\n",
       "        text-align: right;\n",
       "    }\n",
       "</style>\n",
       "<table border=\"1\" class=\"dataframe\">\n",
       "  <thead>\n",
       "    <tr style=\"text-align: right;\">\n",
       "      <th></th>\n",
       "      <th>Date</th>\n",
       "      <th>Time</th>\n",
       "      <th>Name</th>\n",
       "      <th>Messages</th>\n",
       "      <th>period</th>\n",
       "    </tr>\n",
       "  </thead>\n",
       "  <tbody>\n",
       "    <tr>\n",
       "      <th>4</th>\n",
       "      <td>2019-05-09</td>\n",
       "      <td>1900-01-01 21:07:00</td>\n",
       "      <td>dharun cls</td>\n",
       "      <td>Does anyone have any idea how to solve questi...</td>\n",
       "      <td>2019-05-09/1900-01-01 21:07:00</td>\n",
       "    </tr>\n",
       "    <tr>\n",
       "      <th>6</th>\n",
       "      <td>2019-05-09</td>\n",
       "      <td>1900-01-01 21:08:00</td>\n",
       "      <td>dharun cls</td>\n",
       "      <td>Spoiler alert: answer is</td>\n",
       "      <td>2019-05-09/1900-01-01 21:08:00</td>\n",
       "    </tr>\n",
       "    <tr>\n",
       "      <th>8</th>\n",
       "      <td>2019-05-09</td>\n",
       "      <td>1900-01-01 21:09:00</td>\n",
       "      <td>dharun cls</td>\n",
       "      <td>But if anyone knows how to solve it.. it woul...</td>\n",
       "      <td>2019-05-09/1900-01-01 21:09:00</td>\n",
       "    </tr>\n",
       "    <tr>\n",
       "      <th>9</th>\n",
       "      <td>2019-05-09</td>\n",
       "      <td>1900-01-01 21:10:00</td>\n",
       "      <td>dharun cls</td>\n",
       "      <td>I know it's x ≤ -3</td>\n",
       "      <td>2019-05-09/1900-01-01 21:10:00</td>\n",
       "    </tr>\n",
       "    <tr>\n",
       "      <th>10</th>\n",
       "      <td>2019-05-09</td>\n",
       "      <td>1900-01-01 21:10:00</td>\n",
       "      <td>vasu</td>\n",
       "      <td>Let me see</td>\n",
       "      <td>2019-05-09/1900-01-01 21:10:00</td>\n",
       "    </tr>\n",
       "  </tbody>\n",
       "</table>\n",
       "</div>"
      ],
      "text/plain": [
       "         Date                Time         Name  \\\n",
       "4  2019-05-09 1900-01-01 21:07:00   dharun cls   \n",
       "6  2019-05-09 1900-01-01 21:08:00   dharun cls   \n",
       "8  2019-05-09 1900-01-01 21:09:00   dharun cls   \n",
       "9  2019-05-09 1900-01-01 21:10:00   dharun cls   \n",
       "10 2019-05-09 1900-01-01 21:10:00         vasu   \n",
       "\n",
       "                                             Messages  \\\n",
       "4    Does anyone have any idea how to solve questi...   \n",
       "6                           Spoiler alert: answer is    \n",
       "8    But if anyone knows how to solve it.. it woul...   \n",
       "9                                  I know it's x ≤ -3   \n",
       "10                                         Let me see   \n",
       "\n",
       "                            period  \n",
       "4   2019-05-09/1900-01-01 21:07:00  \n",
       "6   2019-05-09/1900-01-01 21:08:00  \n",
       "8   2019-05-09/1900-01-01 21:09:00  \n",
       "9   2019-05-09/1900-01-01 21:10:00  \n",
       "10  2019-05-09/1900-01-01 21:10:00  "
      ]
     },
     "execution_count": 132,
     "metadata": {},
     "output_type": "execute_result"
    }
   ],
   "source": [
    "data.head()"
   ]
  },
  {
   "cell_type": "code",
   "execution_count": 133,
   "metadata": {},
   "outputs": [],
   "source": [
    "period = data[\"period\"].to_list()"
   ]
  },
  {
   "cell_type": "code",
   "execution_count": 134,
   "metadata": {},
   "outputs": [],
   "source": [
    "DateTime = []\n",
    "for i in period:\n",
    "    DateTime.append(i[0:10]+\" \"+i[22:])"
   ]
  },
  {
   "cell_type": "code",
   "execution_count": 135,
   "metadata": {},
   "outputs": [],
   "source": [
    "data['Date'] =  pd.to_datetime(DateTime, format='%Y-%m-%d %H:%M:%S')"
   ]
  },
  {
   "cell_type": "code",
   "execution_count": 136,
   "metadata": {},
   "outputs": [
    {
     "data": {
      "text/plain": [
       "4        5\n",
       "6        5\n",
       "8        5\n",
       "9        5\n",
       "10       5\n",
       "        ..\n",
       "14612    7\n",
       "14613    7\n",
       "14614    7\n",
       "14615    7\n",
       "14616    7\n",
       "Name: Date, Length: 13626, dtype: int64"
      ]
     },
     "execution_count": 136,
     "metadata": {},
     "output_type": "execute_result"
    }
   ],
   "source": [
    "data.Date.dt.month"
   ]
  },
  {
   "cell_type": "code",
   "execution_count": 137,
   "metadata": {},
   "outputs": [],
   "source": [
    "data.drop(\"Time\", axis = 1, inplace =True)"
   ]
  },
  {
   "cell_type": "code",
   "execution_count": 138,
   "metadata": {},
   "outputs": [],
   "source": [
    "data.drop(\"period\", axis = 1, inplace =True)"
   ]
  },
  {
   "cell_type": "code",
   "execution_count": 139,
   "metadata": {},
   "outputs": [],
   "source": [
    "data.reset_index(inplace = True)"
   ]
  },
  {
   "cell_type": "code",
   "execution_count": 140,
   "metadata": {},
   "outputs": [],
   "source": [
    "data.drop(\"index\" , axis =1, inplace = True)"
   ]
  },
  {
   "cell_type": "code",
   "execution_count": 141,
   "metadata": {},
   "outputs": [
    {
     "data": {
      "text/html": [
       "<div>\n",
       "<style scoped>\n",
       "    .dataframe tbody tr th:only-of-type {\n",
       "        vertical-align: middle;\n",
       "    }\n",
       "\n",
       "    .dataframe tbody tr th {\n",
       "        vertical-align: top;\n",
       "    }\n",
       "\n",
       "    .dataframe thead th {\n",
       "        text-align: right;\n",
       "    }\n",
       "</style>\n",
       "<table border=\"1\" class=\"dataframe\">\n",
       "  <thead>\n",
       "    <tr style=\"text-align: right;\">\n",
       "      <th></th>\n",
       "      <th>Date</th>\n",
       "      <th>Name</th>\n",
       "      <th>Messages</th>\n",
       "    </tr>\n",
       "  </thead>\n",
       "  <tbody>\n",
       "    <tr>\n",
       "      <th>0</th>\n",
       "      <td>2019-05-09 21:07:00</td>\n",
       "      <td>dharun cls</td>\n",
       "      <td>Does anyone have any idea how to solve questi...</td>\n",
       "    </tr>\n",
       "    <tr>\n",
       "      <th>1</th>\n",
       "      <td>2019-05-09 21:08:00</td>\n",
       "      <td>dharun cls</td>\n",
       "      <td>Spoiler alert: answer is</td>\n",
       "    </tr>\n",
       "    <tr>\n",
       "      <th>2</th>\n",
       "      <td>2019-05-09 21:09:00</td>\n",
       "      <td>dharun cls</td>\n",
       "      <td>But if anyone knows how to solve it.. it woul...</td>\n",
       "    </tr>\n",
       "    <tr>\n",
       "      <th>3</th>\n",
       "      <td>2019-05-09 21:10:00</td>\n",
       "      <td>dharun cls</td>\n",
       "      <td>I know it's x ≤ -3</td>\n",
       "    </tr>\n",
       "    <tr>\n",
       "      <th>4</th>\n",
       "      <td>2019-05-09 21:10:00</td>\n",
       "      <td>vasu</td>\n",
       "      <td>Let me see</td>\n",
       "    </tr>\n",
       "  </tbody>\n",
       "</table>\n",
       "</div>"
      ],
      "text/plain": [
       "                 Date         Name  \\\n",
       "0 2019-05-09 21:07:00   dharun cls   \n",
       "1 2019-05-09 21:08:00   dharun cls   \n",
       "2 2019-05-09 21:09:00   dharun cls   \n",
       "3 2019-05-09 21:10:00   dharun cls   \n",
       "4 2019-05-09 21:10:00         vasu   \n",
       "\n",
       "                                            Messages  \n",
       "0   Does anyone have any idea how to solve questi...  \n",
       "1                          Spoiler alert: answer is   \n",
       "2   But if anyone knows how to solve it.. it woul...  \n",
       "3                                 I know it's x ≤ -3  \n",
       "4                                         Let me see  "
      ]
     },
     "execution_count": 141,
     "metadata": {},
     "output_type": "execute_result"
    }
   ],
   "source": [
    "data.head()"
   ]
  },
  {
   "cell_type": "code",
   "execution_count": 142,
   "metadata": {},
   "outputs": [],
   "source": [
    "#Weekdays column \n",
    "data['Weekdays'] = data['Date'].dt.day_name()\n"
   ]
  },
  {
   "cell_type": "code",
   "execution_count": 143,
   "metadata": {
    "scrolled": false
   },
   "outputs": [
    {
     "data": {
      "text/html": [
       "<div>\n",
       "<style scoped>\n",
       "    .dataframe tbody tr th:only-of-type {\n",
       "        vertical-align: middle;\n",
       "    }\n",
       "\n",
       "    .dataframe tbody tr th {\n",
       "        vertical-align: top;\n",
       "    }\n",
       "\n",
       "    .dataframe thead th {\n",
       "        text-align: right;\n",
       "    }\n",
       "</style>\n",
       "<table border=\"1\" class=\"dataframe\">\n",
       "  <thead>\n",
       "    <tr style=\"text-align: right;\">\n",
       "      <th></th>\n",
       "      <th>Date</th>\n",
       "      <th>Name</th>\n",
       "      <th>Messages</th>\n",
       "      <th>Weekdays</th>\n",
       "    </tr>\n",
       "  </thead>\n",
       "  <tbody>\n",
       "    <tr>\n",
       "      <th>13621</th>\n",
       "      <td>2020-07-24 12:57:00</td>\n",
       "      <td>tuli class</td>\n",
       "      <td>Thanks</td>\n",
       "      <td>Friday</td>\n",
       "    </tr>\n",
       "    <tr>\n",
       "      <th>13622</th>\n",
       "      <td>2020-07-24 21:29:00</td>\n",
       "      <td>kirra</td>\n",
       "      <td>did azadeh tell us to show code?</td>\n",
       "      <td>Friday</td>\n",
       "    </tr>\n",
       "    <tr>\n",
       "      <th>13623</th>\n",
       "      <td>2020-07-24 21:56:00</td>\n",
       "      <td>Harshad Langara</td>\n",
       "      <td>I think its according to the question.</td>\n",
       "      <td>Friday</td>\n",
       "    </tr>\n",
       "    <tr>\n",
       "      <th>13624</th>\n",
       "      <td>2020-07-25 20:42:00</td>\n",
       "      <td>Vedant Langara</td>\n",
       "      <td>&lt;Media omitted&gt;</td>\n",
       "      <td>Saturday</td>\n",
       "    </tr>\n",
       "    <tr>\n",
       "      <th>13625</th>\n",
       "      <td>2020-07-26 10:27:00</td>\n",
       "      <td>jaspreet cls canada</td>\n",
       "      <td>Do we need to do anything for DANA 4820</td>\n",
       "      <td>Sunday</td>\n",
       "    </tr>\n",
       "  </tbody>\n",
       "</table>\n",
       "</div>"
      ],
      "text/plain": [
       "                     Date                  Name  \\\n",
       "13621 2020-07-24 12:57:00            tuli class   \n",
       "13622 2020-07-24 21:29:00                 kirra   \n",
       "13623 2020-07-24 21:56:00       Harshad Langara   \n",
       "13624 2020-07-25 20:42:00        Vedant Langara   \n",
       "13625 2020-07-26 10:27:00   jaspreet cls canada   \n",
       "\n",
       "                                       Messages  Weekdays  \n",
       "13621                                    Thanks    Friday  \n",
       "13622          did azadeh tell us to show code?    Friday  \n",
       "13623    I think its according to the question.    Friday  \n",
       "13624                           <Media omitted>  Saturday  \n",
       "13625   Do we need to do anything for DANA 4820    Sunday  "
      ]
     },
     "execution_count": 143,
     "metadata": {},
     "output_type": "execute_result"
    }
   ],
   "source": [
    "data.tail()"
   ]
  },
  {
   "cell_type": "code",
   "execution_count": 144,
   "metadata": {},
   "outputs": [],
   "source": [
    "data.to_csv(r\"Datawithdatetime.csv\")"
   ]
  },
  {
   "cell_type": "code",
   "execution_count": 145,
   "metadata": {},
   "outputs": [],
   "source": [
    "#Groupby by names to get total number of messages \n",
    "Total_number_of_messages=pd.DataFrame(data.groupby(\"Name\")[\"Messages\"].nunique())\n",
    "\n",
    "#Creating a sorted dataframe \n",
    "Total_number_of_messages =pd.DataFrame(Total_number_of_messages[\"Messages\"].sort_values(ascending=True))"
   ]
  },
  {
   "cell_type": "code",
   "execution_count": 146,
   "metadata": {
    "scrolled": true
   },
   "outputs": [
    {
     "data": {
      "image/png": "[encoded data removed]",
      "text/plain": [
       "<Figure size 1080x720 with 1 Axes>"
      ]
     },
     "metadata": {
      "needs_background": "light"
     },
     "output_type": "display_data"
    }
   ],
   "source": [
    "# Simple horizontal Plot\n",
    "fig = plt.figure(figsize=(15,10))\n",
    "ax = fig.add_axes([0,0,1,1])\n",
    "ax.barh(Total_number_of_messages.index,Total_number_of_messages.Messages)\n",
    "plt.show()"
   ]
  },
  {
   "cell_type": "code",
   "execution_count": 147,
   "metadata": {
    "scrolled": false
   },
   "outputs": [
    {
     "data": {
      "text/plain": [
       "[1264, 2656, 1224, 1442, 2599, 2562, 1879]"
      ]
     },
     "execution_count": 147,
     "metadata": {},
     "output_type": "execute_result"
    }
   ],
   "source": [
    "list(data.groupby('Weekdays').Messages.count())"
   ]
  },
  {
   "cell_type": "code",
   "execution_count": 148,
   "metadata": {
    "scrolled": true
   },
   "outputs": [
    {
     "data": {
      "text/plain": [
       "{'Sunday': 0,\n",
       " 'Monday': 1,\n",
       " 'Tuesday': 2,\n",
       " 'Wednesday': 3,\n",
       " 'Thursday': 4,\n",
       " 'Friday': 5,\n",
       " 'Saturday': 6}"
      ]
     },
     "execution_count": 148,
     "metadata": {},
     "output_type": "execute_result"
    }
   ],
   "source": [
    "data_Weekdays_Count=pd.DataFrame(data.groupby('Weekdays').Messages.count())\n",
    "sorter = ['Sunday', 'Monday', 'Tuesday', 'Wednesday', 'Thursday', 'Friday', 'Saturday']\n",
    "sorterIndex = dict(zip(sorter,range(len(sorter))))\n",
    "sorterIndex"
   ]
  },
  {
   "cell_type": "code",
   "execution_count": 149,
   "metadata": {},
   "outputs": [],
   "source": [
    "data_Weekdays_Count['Weekday'] = data_Weekdays_Count.index\n",
    "data_Weekdays_Count['Weekday'] = data_Weekdays_Count['Weekday'].map(sorterIndex)\n",
    "data_Weekdays_Count.sort_values('Weekday',inplace=True)"
   ]
  },
  {
   "cell_type": "code",
   "execution_count": 150,
   "metadata": {
    "scrolled": true
   },
   "outputs": [
    {
     "data": {
      "text/html": [
       "<div>\n",
       "<style scoped>\n",
       "    .dataframe tbody tr th:only-of-type {\n",
       "        vertical-align: middle;\n",
       "    }\n",
       "\n",
       "    .dataframe tbody tr th {\n",
       "        vertical-align: top;\n",
       "    }\n",
       "\n",
       "    .dataframe thead th {\n",
       "        text-align: right;\n",
       "    }\n",
       "</style>\n",
       "<table border=\"1\" class=\"dataframe\">\n",
       "  <thead>\n",
       "    <tr style=\"text-align: right;\">\n",
       "      <th></th>\n",
       "      <th>Messages</th>\n",
       "      <th>Weekday</th>\n",
       "    </tr>\n",
       "    <tr>\n",
       "      <th>Weekdays</th>\n",
       "      <th></th>\n",
       "      <th></th>\n",
       "    </tr>\n",
       "  </thead>\n",
       "  <tbody>\n",
       "    <tr>\n",
       "      <th>Sunday</th>\n",
       "      <td>1442</td>\n",
       "      <td>0</td>\n",
       "    </tr>\n",
       "    <tr>\n",
       "      <th>Monday</th>\n",
       "      <td>2656</td>\n",
       "      <td>1</td>\n",
       "    </tr>\n",
       "    <tr>\n",
       "      <th>Tuesday</th>\n",
       "      <td>2562</td>\n",
       "      <td>2</td>\n",
       "    </tr>\n",
       "    <tr>\n",
       "      <th>Wednesday</th>\n",
       "      <td>1879</td>\n",
       "      <td>3</td>\n",
       "    </tr>\n",
       "    <tr>\n",
       "      <th>Thursday</th>\n",
       "      <td>2599</td>\n",
       "      <td>4</td>\n",
       "    </tr>\n",
       "    <tr>\n",
       "      <th>Friday</th>\n",
       "      <td>1264</td>\n",
       "      <td>5</td>\n",
       "    </tr>\n",
       "    <tr>\n",
       "      <th>Saturday</th>\n",
       "      <td>1224</td>\n",
       "      <td>6</td>\n",
       "    </tr>\n",
       "  </tbody>\n",
       "</table>\n",
       "</div>"
      ],
      "text/plain": [
       "           Messages  Weekday\n",
       "Weekdays                    \n",
       "Sunday         1442        0\n",
       "Monday         2656        1\n",
       "Tuesday        2562        2\n",
       "Wednesday      1879        3\n",
       "Thursday       2599        4\n",
       "Friday         1264        5\n",
       "Saturday       1224        6"
      ]
     },
     "execution_count": 150,
     "metadata": {},
     "output_type": "execute_result"
    }
   ],
   "source": [
    "data_Weekdays_Count"
   ]
  },
  {
   "cell_type": "code",
   "execution_count": 151,
   "metadata": {
    "scrolled": true
   },
   "outputs": [
    {
     "data": {
      "image/png": "[encoded data removed]",
      "text/plain": [
       "<Figure size 1080x720 with 1 Axes>"
      ]
     },
     "metadata": {
      "needs_background": "light"
     },
     "output_type": "display_data"
    }
   ],
   "source": [
    "fig = plt.figure(figsize=(15,10))\n",
    "ax = fig.add_axes([0,0,1,1])\n",
    "ax.bar(data_Weekdays_Count.index,data_Weekdays_Count.Messages)\n",
    "plt.show()"
   ]
  },
  {
   "cell_type": "code",
   "execution_count": 152,
   "metadata": {},
   "outputs": [
    {
     "data": {
      "text/plain": [
       "Name\n",
       " +91 79884 37459            1\n",
       " Amir Langara             240\n",
       " Beth Langara              59\n",
       " Edward                    48\n",
       " Harshad Langara            1\n",
       " Kania Langara            181\n",
       " Kiran Gill               113\n",
       " Nicky Langara             19\n",
       " Prerna Langara            43\n",
       " Roberta Langara          740\n",
       " Vedant Langara           218\n",
       " aditi jaswal             106\n",
       " arsh langara             197\n",
       " cici                     159\n",
       " david langara            111\n",
       " dharun cls               477\n",
       " harshad cls              154\n",
       " jasman cls               212\n",
       " jaspreet cls canada      348\n",
       " kiran kumar cls          223\n",
       " kirra                    772\n",
       " minoj bishnoi langara     36\n",
       " naval clss               217\n",
       " navjot canada             46\n",
       " nikita langara           133\n",
       " rashman canada           121\n",
       " tuli class               199\n",
       " vasu                     289\n",
       " vivek reddy               62\n",
       "Name: Messages, dtype: int64"
      ]
     },
     "execution_count": 152,
     "metadata": {},
     "output_type": "execute_result"
    }
   ],
   "source": [
    "#term 2\n",
    "data[(data.Date.dt.month>=1) & (data.Date.dt.month<=4)].groupby('Name').Messages.count()"
   ]
  },
  {
   "cell_type": "code",
   "execution_count": 153,
   "metadata": {},
   "outputs": [
    {
     "data": {
      "text/plain": [
       "Name\n",
       " +91 79884 37459           25\n",
       " +91 82190 16358            2\n",
       " +91 90414 65914            6\n",
       " Amir Langara             248\n",
       " Beth Langara              60\n",
       " Edward                    40\n",
       " Harshad Langara           23\n",
       " Kania Langara             76\n",
       " Kiran Gill                88\n",
       " Nicky Langara             72\n",
       " Prerna Langara            49\n",
       " Roberta Langara          599\n",
       " Vedant Langara           136\n",
       " aditi jaswal              95\n",
       " arsh langara             214\n",
       " cici                     280\n",
       " david langara             58\n",
       " dharun cls               248\n",
       " harshad cls              106\n",
       " jasman cls               192\n",
       " jaspreet cls canada      359\n",
       " kiran kumar cls          307\n",
       " kirra                    659\n",
       " minoj bishnoi langara     28\n",
       " naval clss               214\n",
       " navjot canada             46\n",
       " nikita langara           130\n",
       " rashman canada           214\n",
       " tuli class               239\n",
       " vasu                     487\n",
       " vivek reddy               75\n",
       "Name: Messages, dtype: int64"
      ]
     },
     "execution_count": 153,
     "metadata": {},
     "output_type": "execute_result"
    }
   ],
   "source": [
    "#Term 3\n",
    "data[(data.Date.dt.month>=5) & (data.Date.dt.month<=7)].groupby('Name').Messages.count()"
   ]
  },
  {
   "cell_type": "markdown",
   "metadata": {},
   "source": [
    "# Term 1"
   ]
  },
  {
   "cell_type": "code",
   "execution_count": 154,
   "metadata": {},
   "outputs": [
    {
     "data": {
      "image/png": "[encoded data removed]",
      "text/plain": [
       "<Figure size 1080x720 with 1 Axes>"
      ]
     },
     "metadata": {
      "needs_background": "light"
     },
     "output_type": "display_data"
    }
   ],
   "source": [
    "#Groupby by names to get total number of messages in term1\n",
    "Total_number_of_messages_term1=pd.DataFrame(data[(data.Date.dt.month>=9) & (data.Date.dt.month<=12) &\n",
    "                                                (data.Date.dt.year == 2019)].groupby('Name').Messages.count())\n",
    "\n",
    "#Creating a sorted dataframe in term1\n",
    "Total_number_of_messages_term1 =pd.DataFrame(Total_number_of_messages_term1[\"Messages\"].sort_values(ascending=True))\n",
    "\n",
    "# Simple horizontal Plot for term1\n",
    "fig = plt.figure(figsize=(15,10))\n",
    "ax = fig.add_axes([0,0,1,1])\n",
    "ax.barh(Total_number_of_messages_term1.index,Total_number_of_messages_term1.Messages)\n",
    "plt.show()"
   ]
  },
  {
   "cell_type": "markdown",
   "metadata": {},
   "source": [
    "# Term 2"
   ]
  },
  {
   "cell_type": "code",
   "execution_count": 155,
   "metadata": {},
   "outputs": [
    {
     "data": {
      "image/png": "[encoded data removed]",
      "text/plain": [
       "<Figure size 1080x720 with 1 Axes>"
      ]
     },
     "metadata": {
      "needs_background": "light"
     },
     "output_type": "display_data"
    }
   ],
   "source": [
    "#Groupby by names to get total number of messages in term2\n",
    "Total_number_of_messages_term2=pd.DataFrame(data[(data.Date.dt.month>=1) & (data.Date.dt.month<=4) &\n",
    "                                                (data.Date.dt.year == 2020)].groupby('Name').Messages.count())\n",
    "\n",
    "#Creating a sorted dataframe in term1\n",
    "Total_number_of_messages_term2 =pd.DataFrame(Total_number_of_messages_term2[\"Messages\"].sort_values(ascending=True))\n",
    "\n",
    "# Simple horizontal Plot for term2\n",
    "fig = plt.figure(figsize=(15,10))\n",
    "ax = fig.add_axes([0,0,1,1])\n",
    "ax.barh(Total_number_of_messages_term2.index,Total_number_of_messages_term2.Messages)\n",
    "plt.show()"
   ]
  },
  {
   "cell_type": "markdown",
   "metadata": {},
   "source": [
    "# Term3"
   ]
  },
  {
   "cell_type": "code",
   "execution_count": 156,
   "metadata": {},
   "outputs": [
    {
     "data": {
      "image/png": "[encoded data removed]",
      "text/plain": [
       "<Figure size 1080x720 with 1 Axes>"
      ]
     },
     "metadata": {
      "needs_background": "light"
     },
     "output_type": "display_data"
    }
   ],
   "source": [
    "#Groupby by names to get total number of messages in term3\n",
    "Total_number_of_messages_term3=pd.DataFrame(data[(data.Date.dt.month>=5) & (data.Date.dt.month<=7) &\n",
    "                                                (data.Date.dt.year == 2020)].groupby('Name').Messages.count())\n",
    "\n",
    "#Creating a sorted dataframe in term3\n",
    "Total_number_of_messages_term3 =pd.DataFrame(Total_number_of_messages_term3[\"Messages\"].sort_values(ascending=True))\n",
    "\n",
    "# Simple horizontal Plot for term3\n",
    "fig = plt.figure(figsize=(15,10))\n",
    "ax = fig.add_axes([0,0,1,1])\n",
    "ax.barh(Total_number_of_messages_term3.index,Total_number_of_messages_term3.Messages)\n",
    "plt.show()"
   ]
  },
  {
   "cell_type": "markdown",
   "metadata": {},
   "source": [
    "# Number of messages during CPSC lecture"
   ]
  },
  {
   "cell_type": "code",
   "execution_count": 157,
   "metadata": {},
   "outputs": [
    {
     "data": {
      "image/png": "[encoded data removed]",
      "text/plain": [
       "<Figure size 1080x720 with 1 Axes>"
      ]
     },
     "metadata": {
      "needs_background": "light"
     },
     "output_type": "display_data"
    }
   ],
   "source": [
    "#Groupby by names to get total number of messages in term3\n",
    "Total_number_of_messages_term3=pd.DataFrame(data[(data.Date.dt.month>=5) & (data.Date.dt.month<=7) &\n",
    "                                                (data.Date.dt.year == 2020) & \n",
    "                                                 (data.Weekdays == \"Monday\") &\n",
    "                                                ((data.Date.dt.hour>=16)&(data.Date.dt.minute>=30)) &\n",
    "                                                ((data.Date.dt.hour<=18)&(data.Date.dt.minute<=30))].groupby('Name').Messages.count())\n",
    "\n",
    "#Creating a sorted dataframe in term3\n",
    "Total_number_of_messages_term3 =pd.DataFrame(Total_number_of_messages_term3[\"Messages\"].sort_values(ascending=True))\n",
    "\n",
    "# Simple horizontal Plot for term3\n",
    "fig = plt.figure(figsize=(15,10))\n",
    "ax = fig.add_axes([0,0,1,1])\n",
    "ax.barh(Total_number_of_messages_term3.index,Total_number_of_messages_term3.Messages)\n",
    "plt.show()"
   ]
  },
  {
   "cell_type": "code",
   "execution_count": 158,
   "metadata": {},
   "outputs": [
    {
     "data": {
      "text/html": [
       "<div>\n",
       "<style scoped>\n",
       "    .dataframe tbody tr th:only-of-type {\n",
       "        vertical-align: middle;\n",
       "    }\n",
       "\n",
       "    .dataframe tbody tr th {\n",
       "        vertical-align: top;\n",
       "    }\n",
       "\n",
       "    .dataframe thead th {\n",
       "        text-align: right;\n",
       "    }\n",
       "</style>\n",
       "<table border=\"1\" class=\"dataframe\">\n",
       "  <thead>\n",
       "    <tr style=\"text-align: right;\">\n",
       "      <th></th>\n",
       "      <th>Date</th>\n",
       "      <th>Name</th>\n",
       "      <th>Messages</th>\n",
       "      <th>Weekdays</th>\n",
       "    </tr>\n",
       "  </thead>\n",
       "  <tbody>\n",
       "    <tr>\n",
       "      <th>8723</th>\n",
       "      <td>2020-05-18 18:30:00</td>\n",
       "      <td>vivek reddy</td>\n",
       "      <td>&lt;Media omitted&gt;</td>\n",
       "      <td>Monday</td>\n",
       "    </tr>\n",
       "    <tr>\n",
       "      <th>10700</th>\n",
       "      <td>2020-06-15 17:30:00</td>\n",
       "      <td>rashman canada</td>\n",
       "      <td>Ohk</td>\n",
       "      <td>Monday</td>\n",
       "    </tr>\n",
       "    <tr>\n",
       "      <th>10701</th>\n",
       "      <td>2020-06-15 17:30:00</td>\n",
       "      <td>vasu</td>\n",
       "      <td>If we take then It is for four month or for year</td>\n",
       "      <td>Monday</td>\n",
       "    </tr>\n",
       "    <tr>\n",
       "      <th>11064</th>\n",
       "      <td>2020-06-22 16:30:00</td>\n",
       "      <td>Amir Langara</td>\n",
       "      <td>here comes the Monica evaluation</td>\n",
       "      <td>Monday</td>\n",
       "    </tr>\n",
       "    <tr>\n",
       "      <th>11186</th>\n",
       "      <td>2020-06-22 17:30:00</td>\n",
       "      <td>Amir Langara</td>\n",
       "      <td>we’re waiting</td>\n",
       "      <td>Monday</td>\n",
       "    </tr>\n",
       "    <tr>\n",
       "      <th>11187</th>\n",
       "      <td>2020-06-22 17:30:00</td>\n",
       "      <td>vasu</td>\n",
       "      <td>who is sacrificing his life</td>\n",
       "      <td>Monday</td>\n",
       "    </tr>\n",
       "    <tr>\n",
       "      <th>11188</th>\n",
       "      <td>2020-06-22 17:30:00</td>\n",
       "      <td>kirra</td>\n",
       "      <td>if someone is sacrificing pick d</td>\n",
       "      <td>Monday</td>\n",
       "    </tr>\n",
       "    <tr>\n",
       "      <th>11392</th>\n",
       "      <td>2020-06-22 18:30:00</td>\n",
       "      <td>tuli class</td>\n",
       "      <td>micheal in the house</td>\n",
       "      <td>Monday</td>\n",
       "    </tr>\n",
       "    <tr>\n",
       "      <th>11393</th>\n",
       "      <td>2020-06-22 18:30:00</td>\n",
       "      <td>kirra</td>\n",
       "      <td>guys</td>\n",
       "      <td>Monday</td>\n",
       "    </tr>\n",
       "    <tr>\n",
       "      <th>11394</th>\n",
       "      <td>2020-06-22 18:30:00</td>\n",
       "      <td>kirra</td>\n",
       "      <td>michael is here</td>\n",
       "      <td>Monday</td>\n",
       "    </tr>\n",
       "    <tr>\n",
       "      <th>11395</th>\n",
       "      <td>2020-06-22 18:30:00</td>\n",
       "      <td>cici</td>\n",
       "      <td>Michael is here guys</td>\n",
       "      <td>Monday</td>\n",
       "    </tr>\n",
       "    <tr>\n",
       "      <th>11396</th>\n",
       "      <td>2020-06-22 18:30:00</td>\n",
       "      <td>kirra</td>\n",
       "      <td>everyone join</td>\n",
       "      <td>Monday</td>\n",
       "    </tr>\n",
       "    <tr>\n",
       "      <th>13117</th>\n",
       "      <td>2020-07-13 16:30:00</td>\n",
       "      <td>rashman canada</td>\n",
       "      <td>link ???</td>\n",
       "      <td>Monday</td>\n",
       "    </tr>\n",
       "    <tr>\n",
       "      <th>13118</th>\n",
       "      <td>2020-07-13 16:30:00</td>\n",
       "      <td>jaspreet cls canada</td>\n",
       "      <td>988-105-6838</td>\n",
       "      <td>Monday</td>\n",
       "    </tr>\n",
       "    <tr>\n",
       "      <th>13130</th>\n",
       "      <td>2020-07-13 18:30:00</td>\n",
       "      <td>Roberta Langara</td>\n",
       "      <td>she didn't send</td>\n",
       "      <td>Monday</td>\n",
       "    </tr>\n",
       "    <tr>\n",
       "      <th>13131</th>\n",
       "      <td>2020-07-13 18:30:00</td>\n",
       "      <td>nikita langara</td>\n",
       "      <td>Did she forget?</td>\n",
       "      <td>Monday</td>\n",
       "    </tr>\n",
       "    <tr>\n",
       "      <th>13132</th>\n",
       "      <td>2020-07-13 18:30:00</td>\n",
       "      <td>Beth Langara</td>\n",
       "      <td>https://langara.zoom.us/j/99306567784</td>\n",
       "      <td>Monday</td>\n",
       "    </tr>\n",
       "    <tr>\n",
       "      <th>13133</th>\n",
       "      <td>2020-07-13 18:30:00</td>\n",
       "      <td>Beth Langara</td>\n",
       "      <td>check junk</td>\n",
       "      <td>Monday</td>\n",
       "    </tr>\n",
       "  </tbody>\n",
       "</table>\n",
       "</div>"
      ],
      "text/plain": [
       "                     Date                  Name  \\\n",
       "8723  2020-05-18 18:30:00           vivek reddy   \n",
       "10700 2020-06-15 17:30:00        rashman canada   \n",
       "10701 2020-06-15 17:30:00                  vasu   \n",
       "11064 2020-06-22 16:30:00          Amir Langara   \n",
       "11186 2020-06-22 17:30:00          Amir Langara   \n",
       "11187 2020-06-22 17:30:00                  vasu   \n",
       "11188 2020-06-22 17:30:00                 kirra   \n",
       "11392 2020-06-22 18:30:00            tuli class   \n",
       "11393 2020-06-22 18:30:00                 kirra   \n",
       "11394 2020-06-22 18:30:00                 kirra   \n",
       "11395 2020-06-22 18:30:00                  cici   \n",
       "11396 2020-06-22 18:30:00                 kirra   \n",
       "13117 2020-07-13 16:30:00        rashman canada   \n",
       "13118 2020-07-13 16:30:00   jaspreet cls canada   \n",
       "13130 2020-07-13 18:30:00       Roberta Langara   \n",
       "13131 2020-07-13 18:30:00        nikita langara   \n",
       "13132 2020-07-13 18:30:00          Beth Langara   \n",
       "13133 2020-07-13 18:30:00          Beth Langara   \n",
       "\n",
       "                                                Messages Weekdays  \n",
       "8723                                     <Media omitted>   Monday  \n",
       "10700                                                Ohk   Monday  \n",
       "10701   If we take then It is for four month or for year   Monday  \n",
       "11064                   here comes the Monica evaluation   Monday  \n",
       "11186                                      we’re waiting   Monday  \n",
       "11187                        who is sacrificing his life   Monday  \n",
       "11188                   if someone is sacrificing pick d   Monday  \n",
       "11392                               micheal in the house   Monday  \n",
       "11393                                               guys   Monday  \n",
       "11394                                    michael is here   Monday  \n",
       "11395                               Michael is here guys   Monday  \n",
       "11396                                      everyone join   Monday  \n",
       "13117                                           link ???   Monday  \n",
       "13118                                       988-105-6838   Monday  \n",
       "13130                                    she didn't send   Monday  \n",
       "13131                                    Did she forget?   Monday  \n",
       "13132              https://langara.zoom.us/j/99306567784   Monday  \n",
       "13133                                         check junk   Monday  "
      ]
     },
     "execution_count": 158,
     "metadata": {},
     "output_type": "execute_result"
    }
   ],
   "source": [
    "data[(data.Date.dt.month>=5) & (data.Date.dt.month<=7) &\n",
    "                                                (data.Date.dt.year == 2020) & \n",
    "                                                 (data.Weekdays == \"Monday\") &\n",
    "                                                ((data.Date.dt.hour>=16)&(data.Date.dt.minute>=30)) &\n",
    "                                                ((data.Date.dt.hour<=18)&(data.Date.dt.minute<=30))]"
   ]
  },
  {
   "cell_type": "markdown",
   "metadata": {},
   "source": [
    "# Number of message during CPSC Lab"
   ]
  },
  {
   "cell_type": "code",
   "execution_count": 159,
   "metadata": {},
   "outputs": [
    {
     "data": {
      "image/png": "[encoded data removed]",
      "text/plain": [
       "<Figure size 1080x720 with 1 Axes>"
      ]
     },
     "metadata": {
      "needs_background": "light"
     },
     "output_type": "display_data"
    }
   ],
   "source": [
    "#Groupby by names to get total number of messages in term3\n",
    "Total_number_of_messages_term3=pd.DataFrame(data[(data.Date.dt.month>=5) & (data.Date.dt.month<=7) &\n",
    "                                                (data.Date.dt.year == 2020) & \n",
    "                                                 (data.Weekdays == \"Wednesday\") &\n",
    "                                                (data.Date.dt.hour>=16) &\n",
    "                                                (data.Date.dt.hour<=18)].groupby('Name').Messages.count())\n",
    "\n",
    "#Creating a sorted dataframe in term3\n",
    "Total_number_of_messages_term3 =pd.DataFrame(Total_number_of_messages_term3[\"Messages\"].sort_values(ascending=True))\n",
    "\n",
    "# Simple horizontal Plot for term3\n",
    "fig = plt.figure(figsize=(15,10))\n",
    "ax = fig.add_axes([0,0,1,1])\n",
    "ax.barh(Total_number_of_messages_term3.index,Total_number_of_messages_term3.Messages)\n",
    "plt.show()"
   ]
  },
  {
   "cell_type": "markdown",
   "metadata": {},
   "source": [
    "# Number of Messages during DANA 4830"
   ]
  },
  {
   "cell_type": "code",
   "execution_count": 160,
   "metadata": {},
   "outputs": [
    {
     "data": {
      "image/png": "[encoded data removed]",
      "text/plain": [
       "<Figure size 1080x720 with 1 Axes>"
      ]
     },
     "metadata": {
      "needs_background": "light"
     },
     "output_type": "display_data"
    }
   ],
   "source": [
    "#Groupby by names to get total number of messages in term3\n",
    "Total_number_of_messages_term3=pd.DataFrame(data[(data.Date.dt.month>=5) & (data.Date.dt.month<=7) &\n",
    "                                                (data.Date.dt.year == 2020) & \n",
    "                                                 ((data.Weekdays == \"Tuesday\")|(data.Weekdays == \"Thursday\")) &\n",
    "                                                (data.Date.dt.hour>=18) &\n",
    "                                                (data.Date.dt.hour<=20)].groupby('Name').Messages.count())\n",
    "\n",
    "#Creating a sorted dataframe in term3\n",
    "Total_number_of_messages_term3 =pd.DataFrame(Total_number_of_messages_term3[\"Messages\"].sort_values(ascending=True))\n",
    "\n",
    "# Simple horizontal Plot for term3\n",
    "fig = plt.figure(figsize=(15,10))\n",
    "ax = fig.add_axes([0,0,1,1])\n",
    "ax.barh(Total_number_of_messages_term3.index,Total_number_of_messages_term3.Messages)\n",
    "plt.show()"
   ]
  },
  {
   "cell_type": "code",
   "execution_count": 161,
   "metadata": {},
   "outputs": [
    {
     "data": {
      "text/html": [
       "<div>\n",
       "<style scoped>\n",
       "    .dataframe tbody tr th:only-of-type {\n",
       "        vertical-align: middle;\n",
       "    }\n",
       "\n",
       "    .dataframe tbody tr th {\n",
       "        vertical-align: top;\n",
       "    }\n",
       "\n",
       "    .dataframe thead th {\n",
       "        text-align: right;\n",
       "    }\n",
       "</style>\n",
       "<table border=\"1\" class=\"dataframe\">\n",
       "  <thead>\n",
       "    <tr style=\"text-align: right;\">\n",
       "      <th></th>\n",
       "      <th>Date</th>\n",
       "      <th>Name</th>\n",
       "      <th>Messages</th>\n",
       "      <th>Weekdays</th>\n",
       "    </tr>\n",
       "  </thead>\n",
       "  <tbody>\n",
       "    <tr>\n",
       "      <th>0</th>\n",
       "      <td>2019-05-09 21:07:00</td>\n",
       "      <td>dharun cls</td>\n",
       "      <td>Does anyone have any idea how to solve questi...</td>\n",
       "      <td>Thursday</td>\n",
       "    </tr>\n",
       "    <tr>\n",
       "      <th>1</th>\n",
       "      <td>2019-05-09 21:08:00</td>\n",
       "      <td>dharun cls</td>\n",
       "      <td>Spoiler alert: answer is</td>\n",
       "      <td>Thursday</td>\n",
       "    </tr>\n",
       "    <tr>\n",
       "      <th>2</th>\n",
       "      <td>2019-05-09 21:09:00</td>\n",
       "      <td>dharun cls</td>\n",
       "      <td>But if anyone knows how to solve it.. it woul...</td>\n",
       "      <td>Thursday</td>\n",
       "    </tr>\n",
       "    <tr>\n",
       "      <th>3</th>\n",
       "      <td>2019-05-09 21:10:00</td>\n",
       "      <td>dharun cls</td>\n",
       "      <td>I know it's x ≤ -3</td>\n",
       "      <td>Thursday</td>\n",
       "    </tr>\n",
       "    <tr>\n",
       "      <th>4</th>\n",
       "      <td>2019-05-09 21:10:00</td>\n",
       "      <td>vasu</td>\n",
       "      <td>Let me see</td>\n",
       "      <td>Thursday</td>\n",
       "    </tr>\n",
       "  </tbody>\n",
       "</table>\n",
       "</div>"
      ],
      "text/plain": [
       "                 Date         Name  \\\n",
       "0 2019-05-09 21:07:00   dharun cls   \n",
       "1 2019-05-09 21:08:00   dharun cls   \n",
       "2 2019-05-09 21:09:00   dharun cls   \n",
       "3 2019-05-09 21:10:00   dharun cls   \n",
       "4 2019-05-09 21:10:00         vasu   \n",
       "\n",
       "                                            Messages  Weekdays  \n",
       "0   Does anyone have any idea how to solve questi...  Thursday  \n",
       "1                          Spoiler alert: answer is   Thursday  \n",
       "2   But if anyone knows how to solve it.. it woul...  Thursday  \n",
       "3                                 I know it's x ≤ -3  Thursday  \n",
       "4                                         Let me see  Thursday  "
      ]
     },
     "execution_count": 161,
     "metadata": {},
     "output_type": "execute_result"
    }
   ],
   "source": [
    "data.head()"
   ]
  },
  {
   "cell_type": "code",
   "execution_count": 162,
   "metadata": {},
   "outputs": [
    {
     "data": {
      "text/plain": [
       "array([' dharun cls', ' vasu', ' vivek reddy', ' +91 90414 65914',\n",
       "       ' rashman canada', ' jaspreet cls canada', ' tuli class',\n",
       "       ' Prerna Langara', ' +91 82190 16358', ' nikita langara',\n",
       "       ' navjot canada', ' Kiran Gill', ' arsh langara', ' Edward',\n",
       "       ' jasman cls', ' kirra', ' Roberta Langara', ' Harshad Langara',\n",
       "       ' minoj bishnoi langara', ' Vedant Langara', ' kiran kumar cls',\n",
       "       ' Beth Langara', ' aditi jaswal', ' naval clss', ' david langara',\n",
       "       ' harshad cls', ' Amir Langara', ' Kania Langara',\n",
       "       ' Nicky Langara', ' cici', ' +91 79884 37459'], dtype=object)"
      ]
     },
     "execution_count": 162,
     "metadata": {},
     "output_type": "execute_result"
    }
   ],
   "source": [
    "data['Name'].unique()"
   ]
  },
  {
   "cell_type": "code",
   "execution_count": 163,
   "metadata": {
    "scrolled": false
   },
   "outputs": [
    {
     "data": {
      "text/html": [
       "<div>\n",
       "<style scoped>\n",
       "    .dataframe tbody tr th:only-of-type {\n",
       "        vertical-align: middle;\n",
       "    }\n",
       "\n",
       "    .dataframe tbody tr th {\n",
       "        vertical-align: top;\n",
       "    }\n",
       "\n",
       "    .dataframe thead th {\n",
       "        text-align: right;\n",
       "    }\n",
       "</style>\n",
       "<table border=\"1\" class=\"dataframe\">\n",
       "  <thead>\n",
       "    <tr style=\"text-align: right;\">\n",
       "      <th></th>\n",
       "      <th>Date</th>\n",
       "      <th>Name</th>\n",
       "      <th>Messages</th>\n",
       "    </tr>\n",
       "    <tr>\n",
       "      <th>Weekdays</th>\n",
       "      <th></th>\n",
       "      <th></th>\n",
       "      <th></th>\n",
       "    </tr>\n",
       "  </thead>\n",
       "  <tbody>\n",
       "    <tr>\n",
       "      <th>Friday</th>\n",
       "      <td>33</td>\n",
       "      <td>33</td>\n",
       "      <td>33</td>\n",
       "    </tr>\n",
       "    <tr>\n",
       "      <th>Monday</th>\n",
       "      <td>36</td>\n",
       "      <td>36</td>\n",
       "      <td>36</td>\n",
       "    </tr>\n",
       "    <tr>\n",
       "      <th>Saturday</th>\n",
       "      <td>15</td>\n",
       "      <td>15</td>\n",
       "      <td>15</td>\n",
       "    </tr>\n",
       "    <tr>\n",
       "      <th>Sunday</th>\n",
       "      <td>26</td>\n",
       "      <td>26</td>\n",
       "      <td>26</td>\n",
       "    </tr>\n",
       "    <tr>\n",
       "      <th>Thursday</th>\n",
       "      <td>30</td>\n",
       "      <td>30</td>\n",
       "      <td>30</td>\n",
       "    </tr>\n",
       "    <tr>\n",
       "      <th>Tuesday</th>\n",
       "      <td>26</td>\n",
       "      <td>26</td>\n",
       "      <td>26</td>\n",
       "    </tr>\n",
       "    <tr>\n",
       "      <th>Wednesday</th>\n",
       "      <td>56</td>\n",
       "      <td>56</td>\n",
       "      <td>56</td>\n",
       "    </tr>\n",
       "  </tbody>\n",
       "</table>\n",
       "</div>"
      ],
      "text/plain": [
       "           Date  Name  Messages\n",
       "Weekdays                       \n",
       "Friday       33    33        33\n",
       "Monday       36    36        36\n",
       "Saturday     15    15        15\n",
       "Sunday       26    26        26\n",
       "Thursday     30    30        30\n",
       "Tuesday      26    26        26\n",
       "Wednesday    56    56        56"
      ]
     },
     "execution_count": 163,
     "metadata": {},
     "output_type": "execute_result"
    }
   ],
   "source": [
    "df=data[(data['Name']==' Kiran Gill')]\n",
    "dd=df.groupby(df['Weekdays']).count()\n",
    "dd"
   ]
  },
  {
   "cell_type": "code",
   "execution_count": null,
   "metadata": {},
   "outputs": [],
   "source": []
  },
  {
   "cell_type": "markdown",
   "metadata": {},
   "source": [
    "# Number of Messages per day"
   ]
  },
  {
   "cell_type": "code",
   "execution_count": 164,
   "metadata": {},
   "outputs": [],
   "source": [
    "import altair as alt\n",
    "import seaborn as sns"
   ]
  },
  {
   "cell_type": "code",
   "execution_count": 165,
   "metadata": {},
   "outputs": [
    {
     "data": {
      "text/html": [
       "<div>\n",
       "<style scoped>\n",
       "    .dataframe tbody tr th:only-of-type {\n",
       "        vertical-align: middle;\n",
       "    }\n",
       "\n",
       "    .dataframe tbody tr th {\n",
       "        vertical-align: top;\n",
       "    }\n",
       "\n",
       "    .dataframe thead th {\n",
       "        text-align: right;\n",
       "    }\n",
       "</style>\n",
       "<table border=\"1\" class=\"dataframe\">\n",
       "  <thead>\n",
       "    <tr style=\"text-align: right;\">\n",
       "      <th></th>\n",
       "      <th>Messages</th>\n",
       "      <th>Weekday</th>\n",
       "    </tr>\n",
       "    <tr>\n",
       "      <th>Weekdays</th>\n",
       "      <th></th>\n",
       "      <th></th>\n",
       "    </tr>\n",
       "  </thead>\n",
       "  <tbody>\n",
       "    <tr>\n",
       "      <th>Sunday</th>\n",
       "      <td>1442</td>\n",
       "      <td>0</td>\n",
       "    </tr>\n",
       "    <tr>\n",
       "      <th>Monday</th>\n",
       "      <td>2656</td>\n",
       "      <td>1</td>\n",
       "    </tr>\n",
       "    <tr>\n",
       "      <th>Tuesday</th>\n",
       "      <td>2562</td>\n",
       "      <td>2</td>\n",
       "    </tr>\n",
       "    <tr>\n",
       "      <th>Wednesday</th>\n",
       "      <td>1879</td>\n",
       "      <td>3</td>\n",
       "    </tr>\n",
       "    <tr>\n",
       "      <th>Thursday</th>\n",
       "      <td>2599</td>\n",
       "      <td>4</td>\n",
       "    </tr>\n",
       "    <tr>\n",
       "      <th>Friday</th>\n",
       "      <td>1264</td>\n",
       "      <td>5</td>\n",
       "    </tr>\n",
       "    <tr>\n",
       "      <th>Saturday</th>\n",
       "      <td>1224</td>\n",
       "      <td>6</td>\n",
       "    </tr>\n",
       "  </tbody>\n",
       "</table>\n",
       "</div>"
      ],
      "text/plain": [
       "           Messages  Weekday\n",
       "Weekdays                    \n",
       "Sunday         1442        0\n",
       "Monday         2656        1\n",
       "Tuesday        2562        2\n",
       "Wednesday      1879        3\n",
       "Thursday       2599        4\n",
       "Friday         1264        5\n",
       "Saturday       1224        6"
      ]
     },
     "execution_count": 165,
     "metadata": {},
     "output_type": "execute_result"
    }
   ],
   "source": [
    "\n",
    "data_Weekdays_Count"
   ]
  },
  {
   "cell_type": "code",
   "execution_count": 166,
   "metadata": {},
   "outputs": [
    {
     "data": {
      "text/html": [
       "\n",
       "<div id=\"altair-viz-c5c9f51d159c4763a125dde8120038ce\"></div>\n",
       "<script type=\"text/javascript\">\n",
       "  (function(spec, embedOpt){\n",
       "    let outputDiv = document.currentScript.previousElementSibling;\n",
       "    if (outputDiv.id !== \"altair-viz-c5c9f51d159c4763a125dde8120038ce\") {\n",
       "      outputDiv = document.getElementById(\"altair-viz-c5c9f51d159c4763a125dde8120038ce\");\n",
       "    }\n",
       "    const paths = {\n",
       "      \"vega\": \"https://cdn.jsdelivr.net/npm//vega@5?noext\",\n",
       "      \"vega-lib\": \"https://cdn.jsdelivr.net/npm//vega-lib?noext\",\n",
       "      \"vega-lite\": \"https://cdn.jsdelivr.net/npm//vega-lite@4.8.1?noext\",\n",
       "      \"vega-embed\": \"https://cdn.jsdelivr.net/npm//vega-embed@6?noext\",\n",
       "    };\n",
       "\n",
       "    function loadScript(lib) {\n",
       "      return new Promise(function(resolve, reject) {\n",
       "        var s = document.createElement('script');\n",
       "        s.src = paths[lib];\n",
       "        s.async = true;\n",
       "        s.onload = () => resolve(paths[lib]);\n",
       "        s.onerror = () => reject(`Error loading script: ${paths[lib]}`);\n",
       "        document.getElementsByTagName(\"head\")[0].appendChild(s);\n",
       "      });\n",
       "    }\n",
       "\n",
       "    function showError(err) {\n",
       "      outputDiv.innerHTML = `<div class=\"error\" style=\"color:red;\">${err}</div>`;\n",
       "      throw err;\n",
       "    }\n",
       "\n",
       "    function displayChart(vegaEmbed) {\n",
       "      vegaEmbed(outputDiv, spec, embedOpt)\n",
       "        .catch(err => showError(`Javascript Error: ${err.message}<br>This usually means there's a typo in your chart specification. See the javascript console for the full traceback.`));\n",
       "    }\n",
       "\n",
       "    if(typeof define === \"function\" && define.amd) {\n",
       "      requirejs.config({paths});\n",
       "      require([\"vega-embed\"], displayChart, err => showError(`Error loading script: ${err.message}`));\n",
       "    } else if (typeof vegaEmbed === \"function\") {\n",
       "      displayChart(vegaEmbed);\n",
       "    } else {\n",
       "      loadScript(\"vega\")\n",
       "        .then(() => loadScript(\"vega-lite\"))\n",
       "        .then(() => loadScript(\"vega-embed\"))\n",
       "        .catch(showError)\n",
       "        .then(() => displayChart(vegaEmbed));\n",
       "    }\n",
       "  })({\"config\": {\"view\": {\"continuousWidth\": 400, \"continuousHeight\": 300}}, \"data\": {\"name\": \"data-6a0873498c0ff50272dbbb283b1fc7dd\"}, \"mark\": \"bar\", \"encoding\": {\"color\": {\"type\": \"nominal\", \"field\": \"Weekday\"}, \"x\": {\"type\": \"nominal\", \"field\": \"Weekday\"}, \"y\": {\"type\": \"quantitative\", \"field\": \"Messages\"}}, \"selection\": {\"selector004\": {\"type\": \"interval\", \"bind\": \"scales\", \"encodings\": [\"x\", \"y\"]}}, \"$schema\": \"https://vega.github.io/schema/vega-lite/v4.8.1.json\", \"datasets\": {\"data-6a0873498c0ff50272dbbb283b1fc7dd\": [{\"Messages\": 1442, \"Weekday\": 0}, {\"Messages\": 2656, \"Weekday\": 1}, {\"Messages\": 2562, \"Weekday\": 2}, {\"Messages\": 1879, \"Weekday\": 3}, {\"Messages\": 2599, \"Weekday\": 4}, {\"Messages\": 1264, \"Weekday\": 5}, {\"Messages\": 1224, \"Weekday\": 6}]}}, {\"mode\": \"vega-lite\"});\n",
       "</script>"
      ],
      "text/plain": [
       "alt.Chart(...)"
      ]
     },
     "execution_count": 166,
     "metadata": {},
     "output_type": "execute_result"
    }
   ],
   "source": [
    "alt.Chart(data_Weekdays_Count).mark_bar().encode(\n",
    "x='Weekday:N',\n",
    "y='Messages:Q',\n",
    "color='Weekday:N').interactive()\n"
   ]
  },
  {
   "cell_type": "code",
   "execution_count": 167,
   "metadata": {},
   "outputs": [],
   "source": [
    "selected_area = alt.selection_interval()"
   ]
  },
  {
   "cell_type": "code",
   "execution_count": 168,
   "metadata": {},
   "outputs": [
    {
     "data": {
      "text/html": [
       "\n",
       "<div id=\"altair-viz-9f90eb1b8cbd4e3fba6c0bac72b53c53\"></div>\n",
       "<script type=\"text/javascript\">\n",
       "  (function(spec, embedOpt){\n",
       "    let outputDiv = document.currentScript.previousElementSibling;\n",
       "    if (outputDiv.id !== \"altair-viz-9f90eb1b8cbd4e3fba6c0bac72b53c53\") {\n",
       "      outputDiv = document.getElementById(\"altair-viz-9f90eb1b8cbd4e3fba6c0bac72b53c53\");\n",
       "    }\n",
       "    const paths = {\n",
       "      \"vega\": \"https://cdn.jsdelivr.net/npm//vega@5?noext\",\n",
       "      \"vega-lib\": \"https://cdn.jsdelivr.net/npm//vega-lib?noext\",\n",
       "      \"vega-lite\": \"https://cdn.jsdelivr.net/npm//vega-lite@4.8.1?noext\",\n",
       "      \"vega-embed\": \"https://cdn.jsdelivr.net/npm//vega-embed@6?noext\",\n",
       "    };\n",
       "\n",
       "    function loadScript(lib) {\n",
       "      return new Promise(function(resolve, reject) {\n",
       "        var s = document.createElement('script');\n",
       "        s.src = paths[lib];\n",
       "        s.async = true;\n",
       "        s.onload = () => resolve(paths[lib]);\n",
       "        s.onerror = () => reject(`Error loading script: ${paths[lib]}`);\n",
       "        document.getElementsByTagName(\"head\")[0].appendChild(s);\n",
       "      });\n",
       "    }\n",
       "\n",
       "    function showError(err) {\n",
       "      outputDiv.innerHTML = `<div class=\"error\" style=\"color:red;\">${err}</div>`;\n",
       "      throw err;\n",
       "    }\n",
       "\n",
       "    function displayChart(vegaEmbed) {\n",
       "      vegaEmbed(outputDiv, spec, embedOpt)\n",
       "        .catch(err => showError(`Javascript Error: ${err.message}<br>This usually means there's a typo in your chart specification. See the javascript console for the full traceback.`));\n",
       "    }\n",
       "\n",
       "    if(typeof define === \"function\" && define.amd) {\n",
       "      requirejs.config({paths});\n",
       "      require([\"vega-embed\"], displayChart, err => showError(`Error loading script: ${err.message}`));\n",
       "    } else if (typeof vegaEmbed === \"function\") {\n",
       "      displayChart(vegaEmbed);\n",
       "    } else {\n",
       "      loadScript(\"vega\")\n",
       "        .then(() => loadScript(\"vega-lite\"))\n",
       "        .then(() => loadScript(\"vega-embed\"))\n",
       "        .catch(showError)\n",
       "        .then(() => displayChart(vegaEmbed));\n",
       "    }\n",
       "  })({\"config\": {\"view\": {\"continuousWidth\": 400, \"continuousHeight\": 300}}, \"data\": {\"name\": \"data-6a0873498c0ff50272dbbb283b1fc7dd\"}, \"mark\": \"bar\", \"encoding\": {\"color\": {\"condition\": {\"type\": \"nominal\", \"field\": \"Weekday\", \"selection\": \"selector005\"}, \"value\": \"lightgray\"}, \"x\": {\"type\": \"nominal\", \"field\": \"Weekday\"}, \"y\": {\"type\": \"quantitative\", \"field\": \"Messages\"}}, \"selection\": {\"selector006\": {\"type\": \"interval\", \"bind\": \"scales\", \"encodings\": [\"x\", \"y\"]}, \"selector005\": {\"type\": \"interval\"}}, \"$schema\": \"https://vega.github.io/schema/vega-lite/v4.8.1.json\", \"datasets\": {\"data-6a0873498c0ff50272dbbb283b1fc7dd\": [{\"Messages\": 1442, \"Weekday\": 0}, {\"Messages\": 2656, \"Weekday\": 1}, {\"Messages\": 2562, \"Weekday\": 2}, {\"Messages\": 1879, \"Weekday\": 3}, {\"Messages\": 2599, \"Weekday\": 4}, {\"Messages\": 1264, \"Weekday\": 5}, {\"Messages\": 1224, \"Weekday\": 6}]}}, {\"mode\": \"vega-lite\"});\n",
       "</script>"
      ],
      "text/plain": [
       "alt.Chart(...)"
      ]
     },
     "execution_count": 168,
     "metadata": {},
     "output_type": "execute_result"
    }
   ],
   "source": [
    "alt.Chart(data_Weekdays_Count).mark_bar().encode(\n",
    "x='Weekday:N',\n",
    "y='Messages:Q',\n",
    "color=alt.condition(selected_area, 'Weekday:N', alt.value('lightgray'))).interactive().add_selection(selected_area)"
   ]
  },
  {
   "cell_type": "code",
   "execution_count": 169,
   "metadata": {},
   "outputs": [
    {
     "data": {
      "text/plain": [
       "[' dharun cls',\n",
       " ' vasu',\n",
       " ' vivek reddy',\n",
       " ' +91 90414 65914',\n",
       " ' rashman canada',\n",
       " ' jaspreet cls canada',\n",
       " ' tuli class',\n",
       " ' Prerna Langara',\n",
       " ' +91 82190 16358',\n",
       " ' nikita langara',\n",
       " ' navjot canada',\n",
       " ' Kiran Gill',\n",
       " ' arsh langara',\n",
       " ' Edward',\n",
       " ' jasman cls',\n",
       " ' kirra',\n",
       " ' Roberta Langara',\n",
       " ' Harshad Langara',\n",
       " ' minoj bishnoi langara',\n",
       " ' Vedant Langara',\n",
       " ' kiran kumar cls',\n",
       " ' Beth Langara',\n",
       " ' aditi jaswal',\n",
       " ' naval clss',\n",
       " ' david langara',\n",
       " ' harshad cls',\n",
       " ' Amir Langara',\n",
       " ' Kania Langara',\n",
       " ' Nicky Langara',\n",
       " ' cici',\n",
       " ' +91 79884 37459']"
      ]
     },
     "execution_count": 169,
     "metadata": {},
     "output_type": "execute_result"
    }
   ],
   "source": [
    "students=data['Name'].unique().tolist()\n",
    "students"
   ]
  },
  {
   "cell_type": "code",
   "execution_count": 170,
   "metadata": {},
   "outputs": [],
   "source": [
    "data['Name'].replace(to_replace = [' dharun cls',\n",
    " ' vasu',\n",
    " ' vivek reddy',\n",
    " ' +91 90414 65914',\n",
    " ' rashman canada',\n",
    " ' jaspreet cls canada',\n",
    " ' tuli class',\n",
    " ' Prerna Langara',\n",
    " ' +91 82190 16358',\n",
    " ' nikita langara',\n",
    " ' navjot canada',\n",
    " ' Kiran Gill',\n",
    " ' arsh langara',\n",
    " ' Edward',\n",
    " ' jasman cls',\n",
    " ' kirra',\n",
    " ' Roberta Langara',\n",
    " ' Harshad Langara',\n",
    " ' minoj bishnoi langara',\n",
    " ' Vedant Langara',\n",
    " ' kiran kumar cls',\n",
    " ' Beth Langara',\n",
    " ' aditi jaswal',\n",
    " ' naval clss',\n",
    " ' david langara',\n",
    " ' harshad cls',\n",
    " ' Amir Langara',\n",
    " ' Kania Langara',\n",
    " ' Nicky Langara',\n",
    " ' cici',\n",
    " ' +91 79884 37459'], value = ['Dharun',\n",
    "                               'Vasu',\n",
    "                               'Vivek',\n",
    "                               '+91 90414 65914',\n",
    "                               'Rashman',\n",
    "                                ' Jaspreet',\n",
    " ' Tuli ',\n",
    " ' Prerna',\n",
    " ' +91 82190 16358',\n",
    " ' Nikita ',\n",
    " ' Navjot ',\n",
    " ' Kiran ',\n",
    " ' Arsh ',\n",
    " ' Edward',\n",
    " ' Jasman',\n",
    " ' Kirra',\n",
    " ' Roberta',\n",
    " ' Harshad',\n",
    " ' Manoj',\n",
    " ' Vedant ',\n",
    " ' Kiran',\n",
    " ' Beth',\n",
    " ' Aditi',\n",
    " ' Naval',\n",
    " ' David',\n",
    " ' Harshad',\n",
    " ' Amir',\n",
    " ' Kania',\n",
    " ' Nicky',\n",
    " ' Cici',\n",
    " ' Manoj'],inplace=True)"
   ]
  },
  {
   "cell_type": "code",
   "execution_count": 171,
   "metadata": {},
   "outputs": [
    {
     "data": {
      "text/plain": [
       "0           Dharun\n",
       "1           Dharun\n",
       "2           Dharun\n",
       "3           Dharun\n",
       "4             Vasu\n",
       "           ...    \n",
       "13621        Tuli \n",
       "13622        Kirra\n",
       "13623      Harshad\n",
       "13624      Vedant \n",
       "13625     Jaspreet\n",
       "Name: Name, Length: 13626, dtype: object"
      ]
     },
     "execution_count": 171,
     "metadata": {},
     "output_type": "execute_result"
    }
   ],
   "source": [
    "data.Name"
   ]
  },
  {
   "cell_type": "code",
   "execution_count": 172,
   "metadata": {},
   "outputs": [
    {
     "data": {
      "text/plain": [
       "Name\n",
       " +91 82190 16358       7\n",
       " Aditi               249\n",
       " Amir                606\n",
       " Arsh                553\n",
       " Beth                169\n",
       " Cici                469\n",
       " David               211\n",
       " Edward              124\n",
       " Harshad             352\n",
       " Jasman              517\n",
       " Jaspreet            976\n",
       " Kania               289\n",
       " Kiran               618\n",
       " Kiran               222\n",
       " Kirra              1777\n",
       " Manoj               131\n",
       " Naval               513\n",
       " Navjot              109\n",
       " Nicky                98\n",
       " Nikita              332\n",
       " Prerna              143\n",
       " Roberta            1657\n",
       " Tuli                516\n",
       " Vedant              431\n",
       "+91 90414 65914        6\n",
       "Dharun               983\n",
       "Rashman              410\n",
       "Vasu                 975\n",
       "Vivek                183\n",
       "Name: Messages, dtype: int64"
      ]
     },
     "execution_count": 172,
     "metadata": {},
     "output_type": "execute_result"
    }
   ],
   "source": [
    "Messages=data['Messages'].groupby(data['Name']).count()\n",
    "Messages"
   ]
  },
  {
   "cell_type": "code",
   "execution_count": null,
   "metadata": {},
   "outputs": [],
   "source": []
  },
  {
   "cell_type": "code",
   "execution_count": 173,
   "metadata": {},
   "outputs": [
    {
     "data": {
      "text/plain": [
       "{' dharun cls': 7,\n",
       " ' vasu': 249,\n",
       " ' vivek reddy': 606,\n",
       " ' +91 90414 65914': 553,\n",
       " ' rashman canada': 169,\n",
       " ' jaspreet cls canada': 469,\n",
       " ' tuli class': 211,\n",
       " ' Prerna Langara': 124,\n",
       " ' +91 82190 16358': 352,\n",
       " ' nikita langara': 517,\n",
       " ' navjot canada': 976,\n",
       " ' Kiran Gill': 289,\n",
       " ' arsh langara': 618,\n",
       " ' Edward': 222,\n",
       " ' jasman cls': 1777,\n",
       " ' kirra': 131,\n",
       " ' Roberta Langara': 513,\n",
       " ' Harshad Langara': 109,\n",
       " ' minoj bishnoi langara': 98,\n",
       " ' Vedant Langara': 332,\n",
       " ' kiran kumar cls': 143,\n",
       " ' Beth Langara': 1657,\n",
       " ' aditi jaswal': 516,\n",
       " ' naval clss': 431,\n",
       " ' david langara': 6,\n",
       " ' harshad cls': 983,\n",
       " ' Amir Langara': 410,\n",
       " ' Kania Langara': 975,\n",
       " ' Nicky Langara': 183}"
      ]
     },
     "execution_count": 173,
     "metadata": {},
     "output_type": "execute_result"
    }
   ],
   "source": [
    "mydict=dict(zip(students,Messages))\n",
    "mydict"
   ]
  },
  {
   "cell_type": "code",
   "execution_count": 174,
   "metadata": {},
   "outputs": [
    {
     "data": {
      "text/html": [
       "<div>\n",
       "<style scoped>\n",
       "    .dataframe tbody tr th:only-of-type {\n",
       "        vertical-align: middle;\n",
       "    }\n",
       "\n",
       "    .dataframe tbody tr th {\n",
       "        vertical-align: top;\n",
       "    }\n",
       "\n",
       "    .dataframe thead th {\n",
       "        text-align: right;\n",
       "    }\n",
       "</style>\n",
       "<table border=\"1\" class=\"dataframe\">\n",
       "  <thead>\n",
       "    <tr style=\"text-align: right;\">\n",
       "      <th></th>\n",
       "      <th>Date</th>\n",
       "      <th>Name</th>\n",
       "      <th>Messages</th>\n",
       "      <th>Weekdays</th>\n",
       "    </tr>\n",
       "  </thead>\n",
       "  <tbody>\n",
       "    <tr>\n",
       "      <th>0</th>\n",
       "      <td>2019-05-09 21:07:00</td>\n",
       "      <td>Dharun</td>\n",
       "      <td>Does anyone have any idea how to solve questi...</td>\n",
       "      <td>Thursday</td>\n",
       "    </tr>\n",
       "    <tr>\n",
       "      <th>1</th>\n",
       "      <td>2019-05-09 21:08:00</td>\n",
       "      <td>Dharun</td>\n",
       "      <td>Spoiler alert: answer is</td>\n",
       "      <td>Thursday</td>\n",
       "    </tr>\n",
       "    <tr>\n",
       "      <th>2</th>\n",
       "      <td>2019-05-09 21:09:00</td>\n",
       "      <td>Dharun</td>\n",
       "      <td>But if anyone knows how to solve it.. it woul...</td>\n",
       "      <td>Thursday</td>\n",
       "    </tr>\n",
       "    <tr>\n",
       "      <th>3</th>\n",
       "      <td>2019-05-09 21:10:00</td>\n",
       "      <td>Dharun</td>\n",
       "      <td>I know it's x ≤ -3</td>\n",
       "      <td>Thursday</td>\n",
       "    </tr>\n",
       "    <tr>\n",
       "      <th>4</th>\n",
       "      <td>2019-05-09 21:10:00</td>\n",
       "      <td>Vasu</td>\n",
       "      <td>Let me see</td>\n",
       "      <td>Thursday</td>\n",
       "    </tr>\n",
       "  </tbody>\n",
       "</table>\n",
       "</div>"
      ],
      "text/plain": [
       "                 Date    Name  \\\n",
       "0 2019-05-09 21:07:00  Dharun   \n",
       "1 2019-05-09 21:08:00  Dharun   \n",
       "2 2019-05-09 21:09:00  Dharun   \n",
       "3 2019-05-09 21:10:00  Dharun   \n",
       "4 2019-05-09 21:10:00    Vasu   \n",
       "\n",
       "                                            Messages  Weekdays  \n",
       "0   Does anyone have any idea how to solve questi...  Thursday  \n",
       "1                          Spoiler alert: answer is   Thursday  \n",
       "2   But if anyone knows how to solve it.. it woul...  Thursday  \n",
       "3                                 I know it's x ≤ -3  Thursday  \n",
       "4                                         Let me see  Thursday  "
      ]
     },
     "execution_count": 174,
     "metadata": {},
     "output_type": "execute_result"
    }
   ],
   "source": [
    "data.head()"
   ]
  },
  {
   "cell_type": "code",
   "execution_count": 175,
   "metadata": {},
   "outputs": [
    {
     "data": {
      "text/html": [
       "<div>\n",
       "<style scoped>\n",
       "    .dataframe tbody tr th:only-of-type {\n",
       "        vertical-align: middle;\n",
       "    }\n",
       "\n",
       "    .dataframe tbody tr th {\n",
       "        vertical-align: top;\n",
       "    }\n",
       "\n",
       "    .dataframe thead th {\n",
       "        text-align: right;\n",
       "    }\n",
       "</style>\n",
       "<table border=\"1\" class=\"dataframe\">\n",
       "  <thead>\n",
       "    <tr style=\"text-align: right;\">\n",
       "      <th></th>\n",
       "      <th>Date</th>\n",
       "      <th>Name</th>\n",
       "      <th>Messages</th>\n",
       "      <th>Weekdays</th>\n",
       "    </tr>\n",
       "  </thead>\n",
       "  <tbody>\n",
       "    <tr>\n",
       "      <th>1611</th>\n",
       "      <td>2020-01-01 00:01:00</td>\n",
       "      <td>David</td>\n",
       "      <td>&lt;Media omitted&gt;</td>\n",
       "      <td>Wednesday</td>\n",
       "    </tr>\n",
       "    <tr>\n",
       "      <th>1612</th>\n",
       "      <td>2020-01-01 00:02:00</td>\n",
       "      <td>Tuli</td>\n",
       "      <td>&lt;Media omitted&gt;</td>\n",
       "      <td>Wednesday</td>\n",
       "    </tr>\n",
       "    <tr>\n",
       "      <th>1613</th>\n",
       "      <td>2020-01-01 00:03:00</td>\n",
       "      <td>Dharun</td>\n",
       "      <td>Happy New Year!!!!!!</td>\n",
       "      <td>Wednesday</td>\n",
       "    </tr>\n",
       "    <tr>\n",
       "      <th>1614</th>\n",
       "      <td>2020-01-01 00:03:00</td>\n",
       "      <td>Dharun</td>\n",
       "      <td>&lt;Media omitted&gt;</td>\n",
       "      <td>Wednesday</td>\n",
       "    </tr>\n",
       "    <tr>\n",
       "      <th>1615</th>\n",
       "      <td>2020-01-01 00:03:00</td>\n",
       "      <td>Navjot</td>\n",
       "      <td>&lt;Media omitted&gt;</td>\n",
       "      <td>Wednesday</td>\n",
       "    </tr>\n",
       "    <tr>\n",
       "      <th>...</th>\n",
       "      <td>...</td>\n",
       "      <td>...</td>\n",
       "      <td>...</td>\n",
       "      <td>...</td>\n",
       "    </tr>\n",
       "    <tr>\n",
       "      <th>13621</th>\n",
       "      <td>2020-07-24 12:57:00</td>\n",
       "      <td>Tuli</td>\n",
       "      <td>Thanks</td>\n",
       "      <td>Friday</td>\n",
       "    </tr>\n",
       "    <tr>\n",
       "      <th>13622</th>\n",
       "      <td>2020-07-24 21:29:00</td>\n",
       "      <td>Kirra</td>\n",
       "      <td>did azadeh tell us to show code?</td>\n",
       "      <td>Friday</td>\n",
       "    </tr>\n",
       "    <tr>\n",
       "      <th>13623</th>\n",
       "      <td>2020-07-24 21:56:00</td>\n",
       "      <td>Harshad</td>\n",
       "      <td>I think its according to the question.</td>\n",
       "      <td>Friday</td>\n",
       "    </tr>\n",
       "    <tr>\n",
       "      <th>13624</th>\n",
       "      <td>2020-07-25 20:42:00</td>\n",
       "      <td>Vedant</td>\n",
       "      <td>&lt;Media omitted&gt;</td>\n",
       "      <td>Saturday</td>\n",
       "    </tr>\n",
       "    <tr>\n",
       "      <th>13625</th>\n",
       "      <td>2020-07-26 10:27:00</td>\n",
       "      <td>Jaspreet</td>\n",
       "      <td>Do we need to do anything for DANA 4820</td>\n",
       "      <td>Sunday</td>\n",
       "    </tr>\n",
       "  </tbody>\n",
       "</table>\n",
       "<p>12015 rows × 4 columns</p>\n",
       "</div>"
      ],
      "text/plain": [
       "                     Date       Name  \\\n",
       "1611  2020-01-01 00:01:00      David   \n",
       "1612  2020-01-01 00:02:00      Tuli    \n",
       "1613  2020-01-01 00:03:00     Dharun   \n",
       "1614  2020-01-01 00:03:00     Dharun   \n",
       "1615  2020-01-01 00:03:00    Navjot    \n",
       "...                   ...        ...   \n",
       "13621 2020-07-24 12:57:00      Tuli    \n",
       "13622 2020-07-24 21:29:00      Kirra   \n",
       "13623 2020-07-24 21:56:00    Harshad   \n",
       "13624 2020-07-25 20:42:00    Vedant    \n",
       "13625 2020-07-26 10:27:00   Jaspreet   \n",
       "\n",
       "                                       Messages   Weekdays  \n",
       "1611                            <Media omitted>  Wednesday  \n",
       "1612                            <Media omitted>  Wednesday  \n",
       "1613                       Happy New Year!!!!!!  Wednesday  \n",
       "1614                            <Media omitted>  Wednesday  \n",
       "1615                            <Media omitted>  Wednesday  \n",
       "...                                         ...        ...  \n",
       "13621                                    Thanks     Friday  \n",
       "13622          did azadeh tell us to show code?     Friday  \n",
       "13623    I think its according to the question.     Friday  \n",
       "13624                           <Media omitted>   Saturday  \n",
       "13625   Do we need to do anything for DANA 4820     Sunday  \n",
       "\n",
       "[12015 rows x 4 columns]"
      ]
     },
     "execution_count": 175,
     "metadata": {},
     "output_type": "execute_result"
    }
   ],
   "source": [
    "data1=data[data['Date'].dt.year==2020]\n",
    "data1"
   ]
  },
  {
   "cell_type": "code",
   "execution_count": 176,
   "metadata": {
    "scrolled": true
   },
   "outputs": [
    {
     "data": {
      "text/html": [
       "<div>\n",
       "<style scoped>\n",
       "    .dataframe tbody tr th:only-of-type {\n",
       "        vertical-align: middle;\n",
       "    }\n",
       "\n",
       "    .dataframe tbody tr th {\n",
       "        vertical-align: top;\n",
       "    }\n",
       "\n",
       "    .dataframe thead th {\n",
       "        text-align: right;\n",
       "    }\n",
       "</style>\n",
       "<table border=\"1\" class=\"dataframe\">\n",
       "  <thead>\n",
       "    <tr style=\"text-align: right;\">\n",
       "      <th></th>\n",
       "      <th>Date</th>\n",
       "      <th>Name</th>\n",
       "      <th>Messages</th>\n",
       "    </tr>\n",
       "  </thead>\n",
       "  <tbody>\n",
       "    <tr>\n",
       "      <th>0</th>\n",
       "      <td>1</td>\n",
       "      <td>Aditi</td>\n",
       "      <td>35</td>\n",
       "    </tr>\n",
       "    <tr>\n",
       "      <th>1</th>\n",
       "      <td>1</td>\n",
       "      <td>Amir</td>\n",
       "      <td>81</td>\n",
       "    </tr>\n",
       "    <tr>\n",
       "      <th>2</th>\n",
       "      <td>1</td>\n",
       "      <td>Arsh</td>\n",
       "      <td>46</td>\n",
       "    </tr>\n",
       "    <tr>\n",
       "      <th>3</th>\n",
       "      <td>1</td>\n",
       "      <td>Beth</td>\n",
       "      <td>14</td>\n",
       "    </tr>\n",
       "    <tr>\n",
       "      <th>4</th>\n",
       "      <td>1</td>\n",
       "      <td>Cici</td>\n",
       "      <td>14</td>\n",
       "    </tr>\n",
       "    <tr>\n",
       "      <th>...</th>\n",
       "      <td>...</td>\n",
       "      <td>...</td>\n",
       "      <td>...</td>\n",
       "    </tr>\n",
       "    <tr>\n",
       "      <th>309</th>\n",
       "      <td>12</td>\n",
       "      <td>Vedant</td>\n",
       "      <td>10</td>\n",
       "    </tr>\n",
       "    <tr>\n",
       "      <th>310</th>\n",
       "      <td>12</td>\n",
       "      <td>Dharun</td>\n",
       "      <td>23</td>\n",
       "    </tr>\n",
       "    <tr>\n",
       "      <th>311</th>\n",
       "      <td>12</td>\n",
       "      <td>Rashman</td>\n",
       "      <td>11</td>\n",
       "    </tr>\n",
       "    <tr>\n",
       "      <th>312</th>\n",
       "      <td>12</td>\n",
       "      <td>Vasu</td>\n",
       "      <td>10</td>\n",
       "    </tr>\n",
       "    <tr>\n",
       "      <th>313</th>\n",
       "      <td>12</td>\n",
       "      <td>Vivek</td>\n",
       "      <td>16</td>\n",
       "    </tr>\n",
       "  </tbody>\n",
       "</table>\n",
       "<p>314 rows × 3 columns</p>\n",
       "</div>"
      ],
      "text/plain": [
       "     Date      Name  Messages\n",
       "0       1     Aditi        35\n",
       "1       1      Amir        81\n",
       "2       1     Arsh         46\n",
       "3       1      Beth        14\n",
       "4       1      Cici        14\n",
       "..    ...       ...       ...\n",
       "309    12   Vedant         10\n",
       "310    12    Dharun        23\n",
       "311    12   Rashman        11\n",
       "312    12      Vasu        10\n",
       "313    12     Vivek        16\n",
       "\n",
       "[314 rows x 3 columns]"
      ]
     },
     "execution_count": 176,
     "metadata": {},
     "output_type": "execute_result"
    }
   ],
   "source": [
    "df=pd.DataFrame(data1['Messages'].groupby([data1.Date.dt.month,data1.Name]).count())\n",
    "df.reset_index(inplace=True)\n",
    "df"
   ]
  },
  {
   "cell_type": "code",
   "execution_count": 177,
   "metadata": {},
   "outputs": [
    {
     "data": {
      "text/html": [
       "\n",
       "<div id=\"altair-viz-6037b45920ce4314bfec6030d1d60439\"></div>\n",
       "<script type=\"text/javascript\">\n",
       "  (function(spec, embedOpt){\n",
       "    let outputDiv = document.currentScript.previousElementSibling;\n",
       "    if (outputDiv.id !== \"altair-viz-6037b45920ce4314bfec6030d1d60439\") {\n",
       "      outputDiv = document.getElementById(\"altair-viz-6037b45920ce4314bfec6030d1d60439\");\n",
       "    }\n",
       "    const paths = {\n",
       "      \"vega\": \"https://cdn.jsdelivr.net/npm//vega@5?noext\",\n",
       "      \"vega-lib\": \"https://cdn.jsdelivr.net/npm//vega-lib?noext\",\n",
       "      \"vega-lite\": \"https://cdn.jsdelivr.net/npm//vega-lite@4.8.1?noext\",\n",
       "      \"vega-embed\": \"https://cdn.jsdelivr.net/npm//vega-embed@6?noext\",\n",
       "    };\n",
       "\n",
       "    function loadScript(lib) {\n",
       "      return new Promise(function(resolve, reject) {\n",
       "        var s = document.createElement('script');\n",
       "        s.src = paths[lib];\n",
       "        s.async = true;\n",
       "        s.onload = () => resolve(paths[lib]);\n",
       "        s.onerror = () => reject(`Error loading script: ${paths[lib]}`);\n",
       "        document.getElementsByTagName(\"head\")[0].appendChild(s);\n",
       "      });\n",
       "    }\n",
       "\n",
       "    function showError(err) {\n",
       "      outputDiv.innerHTML = `<div class=\"error\" style=\"color:red;\">${err}</div>`;\n",
       "      throw err;\n",
       "    }\n",
       "\n",
       "    function displayChart(vegaEmbed) {\n",
       "      vegaEmbed(outputDiv, spec, embedOpt)\n",
       "        .catch(err => showError(`Javascript Error: ${err.message}<br>This usually means there's a typo in your chart specification. See the javascript console for the full traceback.`));\n",
       "    }\n",
       "\n",
       "    if(typeof define === \"function\" && define.amd) {\n",
       "      requirejs.config({paths});\n",
       "      require([\"vega-embed\"], displayChart, err => showError(`Error loading script: ${err.message}`));\n",
       "    } else if (typeof vegaEmbed === \"function\") {\n",
       "      displayChart(vegaEmbed);\n",
       "    } else {\n",
       "      loadScript(\"vega\")\n",
       "        .then(() => loadScript(\"vega-lite\"))\n",
       "        .then(() => loadScript(\"vega-embed\"))\n",
       "        .catch(showError)\n",
       "        .then(() => displayChart(vegaEmbed));\n",
       "    }\n",
       "  })({\"config\": {\"view\": {\"continuousWidth\": 400, \"continuousHeight\": 300}}, \"data\": {\"name\": \"data-095fe65b51ac9c70a5c46eb9db10ec3a\"}, \"mark\": \"line\", \"encoding\": {\"color\": {\"condition\": {\"type\": \"nominal\", \"field\": \"Name\", \"selection\": \"Select\"}, \"value\": \"lightgrey\"}, \"tooltip\": {\"type\": \"quantitative\", \"field\": \"Name\"}, \"x\": {\"type\": \"quantitative\", \"field\": \"Date\"}, \"y\": {\"type\": \"quantitative\", \"field\": \"Messages\"}}, \"selection\": {\"Select\": {\"type\": \"single\", \"fields\": [\"Name\"], \"bind\": {\"input\": \"select\", \"options\": [\" Harshad\", \" Kiran \", \" Navjot \", \" Naval\", \" Kania\", \" Prerna\", \" Kirra\", \" Jaspreet\", \" Aditi\", \" Nikita \", \" Edward\", \" Vedant \", \" Manoj\", \"Rashman\", \" Arsh \", \"Dharun\", \"Vivek\", \" Cici\", \" David\", \" Roberta\", \" Amir\", \" Nicky\", \" Jasman\", \" Beth\", \" Kiran\", \" Tuli \", \"Vasu\"]}}}, \"$schema\": \"https://vega.github.io/schema/vega-lite/v4.8.1.json\", \"datasets\": {\"data-095fe65b51ac9c70a5c46eb9db10ec3a\": [{\"Date\": 1, \"Name\": \" Aditi\", \"Messages\": 35}, {\"Date\": 1, \"Name\": \" Amir\", \"Messages\": 81}, {\"Date\": 1, \"Name\": \" Arsh \", \"Messages\": 46}, {\"Date\": 1, \"Name\": \" Beth\", \"Messages\": 14}, {\"Date\": 1, \"Name\": \" Cici\", \"Messages\": 14}, {\"Date\": 1, \"Name\": \" David\", \"Messages\": 8}, {\"Date\": 1, \"Name\": \" Edward\", \"Messages\": 10}, {\"Date\": 1, \"Name\": \" Harshad\", \"Messages\": 30}, {\"Date\": 1, \"Name\": \" Jasman\", \"Messages\": 18}, {\"Date\": 1, \"Name\": \" Jaspreet\", \"Messages\": 79}, {\"Date\": 1, \"Name\": \" Kania\", \"Messages\": 10}, {\"Date\": 1, \"Name\": \" Kiran\", \"Messages\": 47}, {\"Date\": 1, \"Name\": \" Kiran \", \"Messages\": 12}, {\"Date\": 1, \"Name\": \" Kirra\", \"Messages\": 131}, {\"Date\": 1, \"Name\": \" Manoj\", \"Messages\": 10}, {\"Date\": 1, \"Name\": \" Naval\", \"Messages\": 46}, {\"Date\": 1, \"Name\": \" Navjot \", \"Messages\": 5}, {\"Date\": 1, \"Name\": \" Nicky\", \"Messages\": 4}, {\"Date\": 1, \"Name\": \" Nikita \", \"Messages\": 37}, {\"Date\": 1, \"Name\": \" Prerna\", \"Messages\": 6}, {\"Date\": 1, \"Name\": \" Roberta\", \"Messages\": 102}, {\"Date\": 1, \"Name\": \" Tuli \", \"Messages\": 31}, {\"Date\": 1, \"Name\": \" Vedant \", \"Messages\": 51}, {\"Date\": 1, \"Name\": \"Dharun\", \"Messages\": 123}, {\"Date\": 1, \"Name\": \"Rashman\", \"Messages\": 21}, {\"Date\": 1, \"Name\": \"Vasu\", \"Messages\": 50}, {\"Date\": 1, \"Name\": \"Vivek\", \"Messages\": 15}, {\"Date\": 2, \"Name\": \" Aditi\", \"Messages\": 33}, {\"Date\": 2, \"Name\": \" Amir\", \"Messages\": 46}, {\"Date\": 2, \"Name\": \" Arsh \", \"Messages\": 72}, {\"Date\": 2, \"Name\": \" Beth\", \"Messages\": 20}, {\"Date\": 2, \"Name\": \" Cici\", \"Messages\": 36}, {\"Date\": 2, \"Name\": \" David\", \"Messages\": 16}, {\"Date\": 2, \"Name\": \" Edward\", \"Messages\": 8}, {\"Date\": 2, \"Name\": \" Harshad\", \"Messages\": 59}, {\"Date\": 2, \"Name\": \" Jasman\", \"Messages\": 72}, {\"Date\": 2, \"Name\": \" Jaspreet\", \"Messages\": 98}, {\"Date\": 2, \"Name\": \" Kania\", \"Messages\": 22}, {\"Date\": 2, \"Name\": \" Kiran\", \"Messages\": 39}, {\"Date\": 2, \"Name\": \" Kiran \", \"Messages\": 60}, {\"Date\": 2, \"Name\": \" Kirra\", \"Messages\": 240}, {\"Date\": 2, \"Name\": \" Manoj\", \"Messages\": 3}, {\"Date\": 2, \"Name\": \" Naval\", \"Messages\": 76}, {\"Date\": 2, \"Name\": \" Navjot \", \"Messages\": 15}, {\"Date\": 2, \"Name\": \" Nicky\", \"Messages\": 4}, {\"Date\": 2, \"Name\": \" Nikita \", \"Messages\": 51}, {\"Date\": 2, \"Name\": \" Prerna\", \"Messages\": 13}, {\"Date\": 2, \"Name\": \" Roberta\", \"Messages\": 162}, {\"Date\": 2, \"Name\": \" Tuli \", \"Messages\": 37}, {\"Date\": 2, \"Name\": \" Vedant \", \"Messages\": 66}, {\"Date\": 2, \"Name\": \"Dharun\", \"Messages\": 116}, {\"Date\": 2, \"Name\": \"Rashman\", \"Messages\": 39}, {\"Date\": 2, \"Name\": \"Vasu\", \"Messages\": 102}, {\"Date\": 2, \"Name\": \"Vivek\", \"Messages\": 15}, {\"Date\": 3, \"Name\": \" Aditi\", \"Messages\": 21}, {\"Date\": 3, \"Name\": \" Amir\", \"Messages\": 82}, {\"Date\": 3, \"Name\": \" Arsh \", \"Messages\": 45}, {\"Date\": 3, \"Name\": \" Beth\", \"Messages\": 16}, {\"Date\": 3, \"Name\": \" Cici\", \"Messages\": 31}, {\"Date\": 3, \"Name\": \" David\", \"Messages\": 69}, {\"Date\": 3, \"Name\": \" Edward\", \"Messages\": 19}, {\"Date\": 3, \"Name\": \" Harshad\", \"Messages\": 36}, {\"Date\": 3, \"Name\": \" Jasman\", \"Messages\": 78}, {\"Date\": 3, \"Name\": \" Jaspreet\", \"Messages\": 102}, {\"Date\": 3, \"Name\": \" Kania\", \"Messages\": 96}, {\"Date\": 3, \"Name\": \" Kiran\", \"Messages\": 87}, {\"Date\": 3, \"Name\": \" Kiran \", \"Messages\": 26}, {\"Date\": 3, \"Name\": \" Kirra\", \"Messages\": 214}, {\"Date\": 3, \"Name\": \" Manoj\", \"Messages\": 13}, {\"Date\": 3, \"Name\": \" Naval\", \"Messages\": 46}, {\"Date\": 3, \"Name\": \" Navjot \", \"Messages\": 17}, {\"Date\": 3, \"Name\": \" Nicky\", \"Messages\": 3}, {\"Date\": 3, \"Name\": \" Nikita \", \"Messages\": 12}, {\"Date\": 3, \"Name\": \" Prerna\", \"Messages\": 14}, {\"Date\": 3, \"Name\": \" Roberta\", \"Messages\": 294}, {\"Date\": 3, \"Name\": \" Tuli \", \"Messages\": 92}, {\"Date\": 3, \"Name\": \" Vedant \", \"Messages\": 65}, {\"Date\": 3, \"Name\": \"Dharun\", \"Messages\": 150}, {\"Date\": 3, \"Name\": \"Rashman\", \"Messages\": 40}, {\"Date\": 3, \"Name\": \"Vasu\", \"Messages\": 67}, {\"Date\": 3, \"Name\": \"Vivek\", \"Messages\": 16}, {\"Date\": 4, \"Name\": \" Aditi\", \"Messages\": 16}, {\"Date\": 4, \"Name\": \" Amir\", \"Messages\": 31}, {\"Date\": 4, \"Name\": \" Arsh \", \"Messages\": 20}, {\"Date\": 4, \"Name\": \" Beth\", \"Messages\": 1}, {\"Date\": 4, \"Name\": \" Cici\", \"Messages\": 78}, {\"Date\": 4, \"Name\": \" David\", \"Messages\": 16}, {\"Date\": 4, \"Name\": \" Edward\", \"Messages\": 9}, {\"Date\": 4, \"Name\": \" Harshad\", \"Messages\": 27}, {\"Date\": 4, \"Name\": \" Jasman\", \"Messages\": 29}, {\"Date\": 4, \"Name\": \" Jaspreet\", \"Messages\": 58}, {\"Date\": 4, \"Name\": \" Kania\", \"Messages\": 53}, {\"Date\": 4, \"Name\": \" Kiran\", \"Messages\": 44}, {\"Date\": 4, \"Name\": \" Kiran \", \"Messages\": 15}, {\"Date\": 4, \"Name\": \" Kirra\", \"Messages\": 128}, {\"Date\": 4, \"Name\": \" Manoj\", \"Messages\": 6}, {\"Date\": 4, \"Name\": \" Naval\", \"Messages\": 38}, {\"Date\": 4, \"Name\": \" Navjot \", \"Messages\": 9}, {\"Date\": 4, \"Name\": \" Nicky\", \"Messages\": 8}, {\"Date\": 4, \"Name\": \" Nikita \", \"Messages\": 31}, {\"Date\": 4, \"Name\": \" Prerna\", \"Messages\": 4}, {\"Date\": 4, \"Name\": \" Roberta\", \"Messages\": 170}, {\"Date\": 4, \"Name\": \" Tuli \", \"Messages\": 37}, {\"Date\": 4, \"Name\": \" Vedant \", \"Messages\": 30}, {\"Date\": 4, \"Name\": \"Dharun\", \"Messages\": 78}, {\"Date\": 4, \"Name\": \"Rashman\", \"Messages\": 21}, {\"Date\": 4, \"Name\": \"Vasu\", \"Messages\": 49}, {\"Date\": 4, \"Name\": \"Vivek\", \"Messages\": 9}, {\"Date\": 5, \"Name\": \" Aditi\", \"Messages\": 30}, {\"Date\": 5, \"Name\": \" Amir\", \"Messages\": 66}, {\"Date\": 5, \"Name\": \" Arsh \", \"Messages\": 84}, {\"Date\": 5, \"Name\": \" Beth\", \"Messages\": 19}, {\"Date\": 5, \"Name\": \" Cici\", \"Messages\": 74}, {\"Date\": 5, \"Name\": \" David\", \"Messages\": 24}, {\"Date\": 5, \"Name\": \" Edward\", \"Messages\": 22}, {\"Date\": 5, \"Name\": \" Harshad\", \"Messages\": 46}, {\"Date\": 5, \"Name\": \" Jasman\", \"Messages\": 68}, {\"Date\": 5, \"Name\": \" Jaspreet\", \"Messages\": 125}, {\"Date\": 5, \"Name\": \" Kania\", \"Messages\": 40}, {\"Date\": 5, \"Name\": \" Kiran\", \"Messages\": 90}, {\"Date\": 5, \"Name\": \" Kiran \", \"Messages\": 38}, {\"Date\": 5, \"Name\": \" Kirra\", \"Messages\": 178}, {\"Date\": 5, \"Name\": \" Manoj\", \"Messages\": 12}, {\"Date\": 5, \"Name\": \" Naval\", \"Messages\": 65}, {\"Date\": 5, \"Name\": \" Navjot \", \"Messages\": 15}, {\"Date\": 5, \"Name\": \" Nicky\", \"Messages\": 41}, {\"Date\": 5, \"Name\": \" Nikita \", \"Messages\": 58}, {\"Date\": 5, \"Name\": \" Prerna\", \"Messages\": 9}, {\"Date\": 5, \"Name\": \" Roberta\", \"Messages\": 211}, {\"Date\": 5, \"Name\": \" Tuli \", \"Messages\": 59}, {\"Date\": 5, \"Name\": \" Vedant \", \"Messages\": 34}, {\"Date\": 5, \"Name\": \"Dharun\", \"Messages\": 75}, {\"Date\": 5, \"Name\": \"Rashman\", \"Messages\": 66}, {\"Date\": 5, \"Name\": \"Vasu\", \"Messages\": 107}, {\"Date\": 5, \"Name\": \"Vivek\", \"Messages\": 28}, {\"Date\": 6, \"Name\": \" Aditi\", \"Messages\": 45}, {\"Date\": 6, \"Name\": \" Amir\", \"Messages\": 144}, {\"Date\": 6, \"Name\": \" Arsh \", \"Messages\": 67}, {\"Date\": 6, \"Name\": \" Beth\", \"Messages\": 21}, {\"Date\": 6, \"Name\": \" Cici\", \"Messages\": 127}, {\"Date\": 6, \"Name\": \" David\", \"Messages\": 23}, {\"Date\": 6, \"Name\": \" Edward\", \"Messages\": 9}, {\"Date\": 6, \"Name\": \" Harshad\", \"Messages\": 44}, {\"Date\": 6, \"Name\": \" Jasman\", \"Messages\": 86}, {\"Date\": 6, \"Name\": \" Jaspreet\", \"Messages\": 134}, {\"Date\": 6, \"Name\": \" Kania\", \"Messages\": 26}, {\"Date\": 6, \"Name\": \" Kiran\", \"Messages\": 158}, {\"Date\": 6, \"Name\": \" Kiran \", \"Messages\": 23}, {\"Date\": 6, \"Name\": \" Kirra\", \"Messages\": 280}, {\"Date\": 6, \"Name\": \" Manoj\", \"Messages\": 25}, {\"Date\": 6, \"Name\": \" Naval\", \"Messages\": 109}, {\"Date\": 6, \"Name\": \" Navjot \", \"Messages\": 13}, {\"Date\": 6, \"Name\": \" Nicky\", \"Messages\": 17}, {\"Date\": 6, \"Name\": \" Nikita \", \"Messages\": 45}, {\"Date\": 6, \"Name\": \" Prerna\", \"Messages\": 30}, {\"Date\": 6, \"Name\": \" Roberta\", \"Messages\": 280}, {\"Date\": 6, \"Name\": \" Tuli \", \"Messages\": 139}, {\"Date\": 6, \"Name\": \" Vedant \", \"Messages\": 88}, {\"Date\": 6, \"Name\": \"Dharun\", \"Messages\": 81}, {\"Date\": 6, \"Name\": \"Rashman\", \"Messages\": 103}, {\"Date\": 6, \"Name\": \"Vasu\", \"Messages\": 247}, {\"Date\": 6, \"Name\": \"Vivek\", \"Messages\": 20}, {\"Date\": 7, \"Name\": \" Aditi\", \"Messages\": 16}, {\"Date\": 7, \"Name\": \" Amir\", \"Messages\": 38}, {\"Date\": 7, \"Name\": \" Arsh \", \"Messages\": 46}, {\"Date\": 7, \"Name\": \" Beth\", \"Messages\": 9}, {\"Date\": 7, \"Name\": \" Cici\", \"Messages\": 79}, {\"Date\": 7, \"Name\": \" David\", \"Messages\": 11}, {\"Date\": 7, \"Name\": \" Edward\", \"Messages\": 9}, {\"Date\": 7, \"Name\": \" Harshad\", \"Messages\": 32}, {\"Date\": 7, \"Name\": \" Jasman\", \"Messages\": 28}, {\"Date\": 7, \"Name\": \" Jaspreet\", \"Messages\": 77}, {\"Date\": 7, \"Name\": \" Kania\", \"Messages\": 10}, {\"Date\": 7, \"Name\": \" Kiran\", \"Messages\": 48}, {\"Date\": 7, \"Name\": \" Kiran \", \"Messages\": 22}, {\"Date\": 7, \"Name\": \" Kirra\", \"Messages\": 158}, {\"Date\": 7, \"Name\": \" Manoj\", \"Messages\": 12}, {\"Date\": 7, \"Name\": \" Naval\", \"Messages\": 34}, {\"Date\": 7, \"Name\": \" Navjot \", \"Messages\": 3}, {\"Date\": 7, \"Name\": \" Nicky\", \"Messages\": 14}, {\"Date\": 7, \"Name\": \" Nikita \", \"Messages\": 20}, {\"Date\": 7, \"Name\": \" Prerna\", \"Messages\": 5}, {\"Date\": 7, \"Name\": \" Roberta\", \"Messages\": 94}, {\"Date\": 7, \"Name\": \" Tuli \", \"Messages\": 38}, {\"Date\": 7, \"Name\": \" Vedant \", \"Messages\": 13}, {\"Date\": 7, \"Name\": \"Dharun\", \"Messages\": 52}, {\"Date\": 7, \"Name\": \"Rashman\", \"Messages\": 34}, {\"Date\": 7, \"Name\": \"Vasu\", \"Messages\": 113}, {\"Date\": 7, \"Name\": \"Vivek\", \"Messages\": 12}, {\"Date\": 8, \"Name\": \" Aditi\", \"Messages\": 3}, {\"Date\": 8, \"Name\": \" Amir\", \"Messages\": 18}, {\"Date\": 8, \"Name\": \" Arsh \", \"Messages\": 17}, {\"Date\": 8, \"Name\": \" Beth\", \"Messages\": 10}, {\"Date\": 8, \"Name\": \" Cici\", \"Messages\": 3}, {\"Date\": 8, \"Name\": \" David\", \"Messages\": 27}, {\"Date\": 8, \"Name\": \" Edward\", \"Messages\": 7}, {\"Date\": 8, \"Name\": \" Harshad\", \"Messages\": 3}, {\"Date\": 8, \"Name\": \" Jasman\", \"Messages\": 5}, {\"Date\": 8, \"Name\": \" Jaspreet\", \"Messages\": 16}, {\"Date\": 8, \"Name\": \" Kania\", \"Messages\": 12}, {\"Date\": 8, \"Name\": \" Kiran\", \"Messages\": 5}, {\"Date\": 8, \"Name\": \" Kiran \", \"Messages\": 1}, {\"Date\": 8, \"Name\": \" Kirra\", \"Messages\": 58}, {\"Date\": 8, \"Name\": \" Manoj\", \"Messages\": 5}, {\"Date\": 8, \"Name\": \" Naval\", \"Messages\": 22}, {\"Date\": 8, \"Name\": \" Navjot \", \"Messages\": 1}, {\"Date\": 8, \"Name\": \" Nikita \", \"Messages\": 8}, {\"Date\": 8, \"Name\": \" Prerna\", \"Messages\": 4}, {\"Date\": 8, \"Name\": \" Roberta\", \"Messages\": 43}, {\"Date\": 8, \"Name\": \" Tuli \", \"Messages\": 10}, {\"Date\": 8, \"Name\": \" Vedant \", \"Messages\": 14}, {\"Date\": 8, \"Name\": \"Dharun\", \"Messages\": 19}, {\"Date\": 8, \"Name\": \"Rashman\", \"Messages\": 5}, {\"Date\": 8, \"Name\": \"Vasu\", \"Messages\": 15}, {\"Date\": 9, \"Name\": \" Aditi\", \"Messages\": 5}, {\"Date\": 9, \"Name\": \" Amir\", \"Messages\": 25}, {\"Date\": 9, \"Name\": \" Arsh \", \"Messages\": 21}, {\"Date\": 9, \"Name\": \" Beth\", \"Messages\": 2}, {\"Date\": 9, \"Name\": \" Cici\", \"Messages\": 17}, {\"Date\": 9, \"Name\": \" David\", \"Messages\": 3}, {\"Date\": 9, \"Name\": \" Edward\", \"Messages\": 10}, {\"Date\": 9, \"Name\": \" Harshad\", \"Messages\": 17}, {\"Date\": 9, \"Name\": \" Jasman\", \"Messages\": 10}, {\"Date\": 9, \"Name\": \" Jaspreet\", \"Messages\": 36}, {\"Date\": 9, \"Name\": \" Kania\", \"Messages\": 11}, {\"Date\": 9, \"Name\": \" Kiran\", \"Messages\": 20}, {\"Date\": 9, \"Name\": \" Kiran \", \"Messages\": 1}, {\"Date\": 9, \"Name\": \" Kirra\", \"Messages\": 55}, {\"Date\": 9, \"Name\": \" Manoj\", \"Messages\": 6}, {\"Date\": 9, \"Name\": \" Naval\", \"Messages\": 19}, {\"Date\": 9, \"Name\": \" Navjot \", \"Messages\": 2}, {\"Date\": 9, \"Name\": \" Nicky\", \"Messages\": 4}, {\"Date\": 9, \"Name\": \" Nikita \", \"Messages\": 15}, {\"Date\": 9, \"Name\": \" Prerna\", \"Messages\": 1}, {\"Date\": 9, \"Name\": \" Roberta\", \"Messages\": 78}, {\"Date\": 9, \"Name\": \" Tuli \", \"Messages\": 12}, {\"Date\": 9, \"Name\": \" Vedant \", \"Messages\": 26}, {\"Date\": 9, \"Name\": \"Dharun\", \"Messages\": 16}, {\"Date\": 9, \"Name\": \"Rashman\", \"Messages\": 22}, {\"Date\": 9, \"Name\": \"Vasu\", \"Messages\": 44}, {\"Date\": 9, \"Name\": \"Vivek\", \"Messages\": 6}, {\"Date\": 10, \"Name\": \" Aditi\", \"Messages\": 4}, {\"Date\": 10, \"Name\": \" Amir\", \"Messages\": 8}, {\"Date\": 10, \"Name\": \" Arsh \", \"Messages\": 1}, {\"Date\": 10, \"Name\": \" Cici\", \"Messages\": 1}, {\"Date\": 10, \"Name\": \" David\", \"Messages\": 1}, {\"Date\": 10, \"Name\": \" Edward\", \"Messages\": 3}, {\"Date\": 10, \"Name\": \" Harshad\", \"Messages\": 3}, {\"Date\": 10, \"Name\": \" Jasman\", \"Messages\": 1}, {\"Date\": 10, \"Name\": \" Jaspreet\", \"Messages\": 13}, {\"Date\": 10, \"Name\": \" Kania\", \"Messages\": 2}, {\"Date\": 10, \"Name\": \" Kiran\", \"Messages\": 6}, {\"Date\": 10, \"Name\": \" Kirra\", \"Messages\": 6}, {\"Date\": 10, \"Name\": \" Manoj\", \"Messages\": 2}, {\"Date\": 10, \"Name\": \" Naval\", \"Messages\": 2}, {\"Date\": 10, \"Name\": \" Navjot \", \"Messages\": 1}, {\"Date\": 10, \"Name\": \" Nicky\", \"Messages\": 3}, {\"Date\": 10, \"Name\": \" Nikita \", \"Messages\": 4}, {\"Date\": 10, \"Name\": \" Roberta\", \"Messages\": 18}, {\"Date\": 10, \"Name\": \" Tuli \", \"Messages\": 2}, {\"Date\": 10, \"Name\": \" Vedant \", \"Messages\": 3}, {\"Date\": 10, \"Name\": \"Dharun\", \"Messages\": 9}, {\"Date\": 10, \"Name\": \"Rashman\", \"Messages\": 2}, {\"Date\": 10, \"Name\": \"Vasu\", \"Messages\": 8}, {\"Date\": 10, \"Name\": \"Vivek\", \"Messages\": 8}, {\"Date\": 11, \"Name\": \" Aditi\", \"Messages\": 3}, {\"Date\": 11, \"Name\": \" Amir\", \"Messages\": 28}, {\"Date\": 11, \"Name\": \" Arsh \", \"Messages\": 25}, {\"Date\": 11, \"Name\": \" Beth\", \"Messages\": 6}, {\"Date\": 11, \"Name\": \" Cici\", \"Messages\": 6}, {\"Date\": 11, \"Name\": \" David\", \"Messages\": 2}, {\"Date\": 11, \"Name\": \" Harshad\", \"Messages\": 10}, {\"Date\": 11, \"Name\": \" Jasman\", \"Messages\": 16}, {\"Date\": 11, \"Name\": \" Jaspreet\", \"Messages\": 31}, {\"Date\": 11, \"Name\": \" Kania\", \"Messages\": 2}, {\"Date\": 11, \"Name\": \" Kiran\", \"Messages\": 8}, {\"Date\": 11, \"Name\": \" Kiran \", \"Messages\": 5}, {\"Date\": 11, \"Name\": \" Kirra\", \"Messages\": 20}, {\"Date\": 11, \"Name\": \" Manoj\", \"Messages\": 3}, {\"Date\": 11, \"Name\": \" Naval\", \"Messages\": 4}, {\"Date\": 11, \"Name\": \" Navjot \", \"Messages\": 5}, {\"Date\": 11, \"Name\": \" Nikita \", \"Messages\": 14}, {\"Date\": 11, \"Name\": \" Roberta\", \"Messages\": 41}, {\"Date\": 11, \"Name\": \" Tuli \", \"Messages\": 11}, {\"Date\": 11, \"Name\": \" Vedant \", \"Messages\": 7}, {\"Date\": 11, \"Name\": \"Dharun\", \"Messages\": 30}, {\"Date\": 11, \"Name\": \"Rashman\", \"Messages\": 7}, {\"Date\": 11, \"Name\": \"Vasu\", \"Messages\": 9}, {\"Date\": 11, \"Name\": \"Vivek\", \"Messages\": 4}, {\"Date\": 12, \"Name\": \" Aditi\", \"Messages\": 3}, {\"Date\": 12, \"Name\": \" Amir\", \"Messages\": 39}, {\"Date\": 12, \"Name\": \" Arsh \", \"Messages\": 25}, {\"Date\": 12, \"Name\": \" Cici\", \"Messages\": 3}, {\"Date\": 12, \"Name\": \" David\", \"Messages\": 3}, {\"Date\": 12, \"Name\": \" Edward\", \"Messages\": 1}, {\"Date\": 12, \"Name\": \" Harshad\", \"Messages\": 12}, {\"Date\": 12, \"Name\": \" Jasman\", \"Messages\": 40}, {\"Date\": 12, \"Name\": \" Jaspreet\", \"Messages\": 13}, {\"Date\": 12, \"Name\": \" Kania\", \"Messages\": 5}, {\"Date\": 12, \"Name\": \" Kiran\", \"Messages\": 20}, {\"Date\": 12, \"Name\": \" Kiran \", \"Messages\": 1}, {\"Date\": 12, \"Name\": \" Kirra\", \"Messages\": 45}, {\"Date\": 12, \"Name\": \" Manoj\", \"Messages\": 3}, {\"Date\": 12, \"Name\": \" Naval\", \"Messages\": 5}, {\"Date\": 12, \"Name\": \" Navjot \", \"Messages\": 2}, {\"Date\": 12, \"Name\": \" Nikita \", \"Messages\": 10}, {\"Date\": 12, \"Name\": \" Prerna\", \"Messages\": 3}, {\"Date\": 12, \"Name\": \" Roberta\", \"Messages\": 39}, {\"Date\": 12, \"Name\": \" Tuli \", \"Messages\": 33}, {\"Date\": 12, \"Name\": \" Vedant \", \"Messages\": 10}, {\"Date\": 12, \"Name\": \"Dharun\", \"Messages\": 23}, {\"Date\": 12, \"Name\": \"Rashman\", \"Messages\": 11}, {\"Date\": 12, \"Name\": \"Vasu\", \"Messages\": 10}, {\"Date\": 12, \"Name\": \"Vivek\", \"Messages\": 16}]}}, {\"mode\": \"vega-lite\"});\n",
       "</script>"
      ],
      "text/plain": [
       "alt.Chart(...)"
      ]
     },
     "execution_count": 177,
     "metadata": {},
     "output_type": "execute_result"
    }
   ],
   "source": [
    "input_dropdown = alt.binding_select(options=list(set(df.Name.unique())))\n",
    "selected_points = alt.selection_single(fields=['Name'], bind=input_dropdown, name='Select')\n",
    "color = alt.condition(selected_points,\n",
    "alt.Color('Name:N'),\n",
    "alt.value('lightgrey')\n",
    ")\n",
    "alt.Chart(df).mark_line().encode(\n",
    "x='Date:Q',\n",
    "y='Messages',\n",
    "color=color,\n",
    "tooltip='Name:Q'\n",
    ").add_selection(selected_points)\n"
   ]
  },
  {
   "cell_type": "markdown",
   "metadata": {},
   "source": [
    "# Covid dataset"
   ]
  },
  {
   "cell_type": "code",
   "execution_count": 178,
   "metadata": {
    "scrolled": false
   },
   "outputs": [
    {
     "ename": "FileNotFoundError",
     "evalue": "[Errno 2] No such file or directory: 'owid-covid-data.xlsx'",
     "output_type": "error",
     "traceback": [
      "\u001b[0;31m---------------------------------------------------------------------------\u001b[0m",
      "\u001b[0;31mFileNotFoundError\u001b[0m                         Traceback (most recent call last)",
      "\u001b[0;32m<ipython-input-178-57cb482ca931>\u001b[0m in \u001b[0;36m<module>\u001b[0;34m\u001b[0m\n\u001b[0;32m----> 1\u001b[0;31m \u001b[0mcovid\u001b[0m\u001b[0;34m=\u001b[0m\u001b[0mpd\u001b[0m\u001b[0;34m.\u001b[0m\u001b[0mread_excel\u001b[0m\u001b[0;34m(\u001b[0m\u001b[0;34m'owid-covid-data.xlsx'\u001b[0m\u001b[0;34m)\u001b[0m\u001b[0;34m\u001b[0m\u001b[0;34m\u001b[0m\u001b[0m\n\u001b[0m\u001b[1;32m      2\u001b[0m \u001b[0mcovid\u001b[0m\u001b[0;34m.\u001b[0m\u001b[0mhead\u001b[0m\u001b[0;34m(\u001b[0m\u001b[0;34m)\u001b[0m\u001b[0;34m\u001b[0m\u001b[0;34m\u001b[0m\u001b[0m\n",
      "\u001b[0;32m~/anaconda3/lib/python3.7/site-packages/pandas/io/excel/_base.py\u001b[0m in \u001b[0;36mread_excel\u001b[0;34m(io, sheet_name, header, names, index_col, usecols, squeeze, dtype, engine, converters, true_values, false_values, skiprows, nrows, na_values, keep_default_na, verbose, parse_dates, date_parser, thousands, comment, skipfooter, convert_float, mangle_dupe_cols, **kwds)\u001b[0m\n\u001b[1;32m    302\u001b[0m \u001b[0;34m\u001b[0m\u001b[0m\n\u001b[1;32m    303\u001b[0m     \u001b[0;32mif\u001b[0m \u001b[0;32mnot\u001b[0m \u001b[0misinstance\u001b[0m\u001b[0;34m(\u001b[0m\u001b[0mio\u001b[0m\u001b[0;34m,\u001b[0m \u001b[0mExcelFile\u001b[0m\u001b[0;34m)\u001b[0m\u001b[0;34m:\u001b[0m\u001b[0;34m\u001b[0m\u001b[0;34m\u001b[0m\u001b[0m\n\u001b[0;32m--> 304\u001b[0;31m         \u001b[0mio\u001b[0m \u001b[0;34m=\u001b[0m \u001b[0mExcelFile\u001b[0m\u001b[0;34m(\u001b[0m\u001b[0mio\u001b[0m\u001b[0;34m,\u001b[0m \u001b[0mengine\u001b[0m\u001b[0;34m=\u001b[0m\u001b[0mengine\u001b[0m\u001b[0;34m)\u001b[0m\u001b[0;34m\u001b[0m\u001b[0;34m\u001b[0m\u001b[0m\n\u001b[0m\u001b[1;32m    305\u001b[0m     \u001b[0;32melif\u001b[0m \u001b[0mengine\u001b[0m \u001b[0;32mand\u001b[0m \u001b[0mengine\u001b[0m \u001b[0;34m!=\u001b[0m \u001b[0mio\u001b[0m\u001b[0;34m.\u001b[0m\u001b[0mengine\u001b[0m\u001b[0;34m:\u001b[0m\u001b[0;34m\u001b[0m\u001b[0;34m\u001b[0m\u001b[0m\n\u001b[1;32m    306\u001b[0m         raise ValueError(\n",
      "\u001b[0;32m~/anaconda3/lib/python3.7/site-packages/pandas/io/excel/_base.py\u001b[0m in \u001b[0;36m__init__\u001b[0;34m(self, io, engine)\u001b[0m\n\u001b[1;32m    819\u001b[0m         \u001b[0mself\u001b[0m\u001b[0;34m.\u001b[0m\u001b[0m_io\u001b[0m \u001b[0;34m=\u001b[0m \u001b[0mstringify_path\u001b[0m\u001b[0;34m(\u001b[0m\u001b[0mio\u001b[0m\u001b[0;34m)\u001b[0m\u001b[0;34m\u001b[0m\u001b[0;34m\u001b[0m\u001b[0m\n\u001b[1;32m    820\u001b[0m \u001b[0;34m\u001b[0m\u001b[0m\n\u001b[0;32m--> 821\u001b[0;31m         \u001b[0mself\u001b[0m\u001b[0;34m.\u001b[0m\u001b[0m_reader\u001b[0m \u001b[0;34m=\u001b[0m \u001b[0mself\u001b[0m\u001b[0;34m.\u001b[0m\u001b[0m_engines\u001b[0m\u001b[0;34m[\u001b[0m\u001b[0mengine\u001b[0m\u001b[0;34m]\u001b[0m\u001b[0;34m(\u001b[0m\u001b[0mself\u001b[0m\u001b[0;34m.\u001b[0m\u001b[0m_io\u001b[0m\u001b[0;34m)\u001b[0m\u001b[0;34m\u001b[0m\u001b[0;34m\u001b[0m\u001b[0m\n\u001b[0m\u001b[1;32m    822\u001b[0m \u001b[0;34m\u001b[0m\u001b[0m\n\u001b[1;32m    823\u001b[0m     \u001b[0;32mdef\u001b[0m \u001b[0m__fspath__\u001b[0m\u001b[0;34m(\u001b[0m\u001b[0mself\u001b[0m\u001b[0;34m)\u001b[0m\u001b[0;34m:\u001b[0m\u001b[0;34m\u001b[0m\u001b[0;34m\u001b[0m\u001b[0m\n",
      "\u001b[0;32m~/anaconda3/lib/python3.7/site-packages/pandas/io/excel/_xlrd.py\u001b[0m in \u001b[0;36m__init__\u001b[0;34m(self, filepath_or_buffer)\u001b[0m\n\u001b[1;32m     19\u001b[0m         \u001b[0merr_msg\u001b[0m \u001b[0;34m=\u001b[0m \u001b[0;34m\"Install xlrd >= 1.0.0 for Excel support\"\u001b[0m\u001b[0;34m\u001b[0m\u001b[0;34m\u001b[0m\u001b[0m\n\u001b[1;32m     20\u001b[0m         \u001b[0mimport_optional_dependency\u001b[0m\u001b[0;34m(\u001b[0m\u001b[0;34m\"xlrd\"\u001b[0m\u001b[0;34m,\u001b[0m \u001b[0mextra\u001b[0m\u001b[0;34m=\u001b[0m\u001b[0merr_msg\u001b[0m\u001b[0;34m)\u001b[0m\u001b[0;34m\u001b[0m\u001b[0;34m\u001b[0m\u001b[0m\n\u001b[0;32m---> 21\u001b[0;31m         \u001b[0msuper\u001b[0m\u001b[0;34m(\u001b[0m\u001b[0;34m)\u001b[0m\u001b[0;34m.\u001b[0m\u001b[0m__init__\u001b[0m\u001b[0;34m(\u001b[0m\u001b[0mfilepath_or_buffer\u001b[0m\u001b[0;34m)\u001b[0m\u001b[0;34m\u001b[0m\u001b[0;34m\u001b[0m\u001b[0m\n\u001b[0m\u001b[1;32m     22\u001b[0m \u001b[0;34m\u001b[0m\u001b[0m\n\u001b[1;32m     23\u001b[0m     \u001b[0;34m@\u001b[0m\u001b[0mproperty\u001b[0m\u001b[0;34m\u001b[0m\u001b[0;34m\u001b[0m\u001b[0m\n",
      "\u001b[0;32m~/anaconda3/lib/python3.7/site-packages/pandas/io/excel/_base.py\u001b[0m in \u001b[0;36m__init__\u001b[0;34m(self, filepath_or_buffer)\u001b[0m\n\u001b[1;32m    351\u001b[0m             \u001b[0mself\u001b[0m\u001b[0;34m.\u001b[0m\u001b[0mbook\u001b[0m \u001b[0;34m=\u001b[0m \u001b[0mself\u001b[0m\u001b[0;34m.\u001b[0m\u001b[0mload_workbook\u001b[0m\u001b[0;34m(\u001b[0m\u001b[0mfilepath_or_buffer\u001b[0m\u001b[0;34m)\u001b[0m\u001b[0;34m\u001b[0m\u001b[0;34m\u001b[0m\u001b[0m\n\u001b[1;32m    352\u001b[0m         \u001b[0;32melif\u001b[0m \u001b[0misinstance\u001b[0m\u001b[0;34m(\u001b[0m\u001b[0mfilepath_or_buffer\u001b[0m\u001b[0;34m,\u001b[0m \u001b[0mstr\u001b[0m\u001b[0;34m)\u001b[0m\u001b[0;34m:\u001b[0m\u001b[0;34m\u001b[0m\u001b[0;34m\u001b[0m\u001b[0m\n\u001b[0;32m--> 353\u001b[0;31m             \u001b[0mself\u001b[0m\u001b[0;34m.\u001b[0m\u001b[0mbook\u001b[0m \u001b[0;34m=\u001b[0m \u001b[0mself\u001b[0m\u001b[0;34m.\u001b[0m\u001b[0mload_workbook\u001b[0m\u001b[0;34m(\u001b[0m\u001b[0mfilepath_or_buffer\u001b[0m\u001b[0;34m)\u001b[0m\u001b[0;34m\u001b[0m\u001b[0;34m\u001b[0m\u001b[0m\n\u001b[0m\u001b[1;32m    354\u001b[0m         \u001b[0;32melif\u001b[0m \u001b[0misinstance\u001b[0m\u001b[0;34m(\u001b[0m\u001b[0mfilepath_or_buffer\u001b[0m\u001b[0;34m,\u001b[0m \u001b[0mbytes\u001b[0m\u001b[0;34m)\u001b[0m\u001b[0;34m:\u001b[0m\u001b[0;34m\u001b[0m\u001b[0;34m\u001b[0m\u001b[0m\n\u001b[1;32m    355\u001b[0m             \u001b[0mself\u001b[0m\u001b[0;34m.\u001b[0m\u001b[0mbook\u001b[0m \u001b[0;34m=\u001b[0m \u001b[0mself\u001b[0m\u001b[0;34m.\u001b[0m\u001b[0mload_workbook\u001b[0m\u001b[0;34m(\u001b[0m\u001b[0mBytesIO\u001b[0m\u001b[0;34m(\u001b[0m\u001b[0mfilepath_or_buffer\u001b[0m\u001b[0;34m)\u001b[0m\u001b[0;34m)\u001b[0m\u001b[0;34m\u001b[0m\u001b[0;34m\u001b[0m\u001b[0m\n",
      "\u001b[0;32m~/anaconda3/lib/python3.7/site-packages/pandas/io/excel/_xlrd.py\u001b[0m in \u001b[0;36mload_workbook\u001b[0;34m(self, filepath_or_buffer)\u001b[0m\n\u001b[1;32m     34\u001b[0m             \u001b[0;32mreturn\u001b[0m \u001b[0mopen_workbook\u001b[0m\u001b[0;34m(\u001b[0m\u001b[0mfile_contents\u001b[0m\u001b[0;34m=\u001b[0m\u001b[0mdata\u001b[0m\u001b[0;34m)\u001b[0m\u001b[0;34m\u001b[0m\u001b[0;34m\u001b[0m\u001b[0m\n\u001b[1;32m     35\u001b[0m         \u001b[0;32melse\u001b[0m\u001b[0;34m:\u001b[0m\u001b[0;34m\u001b[0m\u001b[0;34m\u001b[0m\u001b[0m\n\u001b[0;32m---> 36\u001b[0;31m             \u001b[0;32mreturn\u001b[0m \u001b[0mopen_workbook\u001b[0m\u001b[0;34m(\u001b[0m\u001b[0mfilepath_or_buffer\u001b[0m\u001b[0;34m)\u001b[0m\u001b[0;34m\u001b[0m\u001b[0;34m\u001b[0m\u001b[0m\n\u001b[0m\u001b[1;32m     37\u001b[0m \u001b[0;34m\u001b[0m\u001b[0m\n\u001b[1;32m     38\u001b[0m     \u001b[0;34m@\u001b[0m\u001b[0mproperty\u001b[0m\u001b[0;34m\u001b[0m\u001b[0;34m\u001b[0m\u001b[0m\n",
      "\u001b[0;32m~/anaconda3/lib/python3.7/site-packages/xlrd/__init__.py\u001b[0m in \u001b[0;36mopen_workbook\u001b[0;34m(filename, logfile, verbosity, use_mmap, file_contents, encoding_override, formatting_info, on_demand, ragged_rows)\u001b[0m\n\u001b[1;32m    109\u001b[0m     \u001b[0;32melse\u001b[0m\u001b[0;34m:\u001b[0m\u001b[0;34m\u001b[0m\u001b[0;34m\u001b[0m\u001b[0m\n\u001b[1;32m    110\u001b[0m         \u001b[0mfilename\u001b[0m \u001b[0;34m=\u001b[0m \u001b[0mos\u001b[0m\u001b[0;34m.\u001b[0m\u001b[0mpath\u001b[0m\u001b[0;34m.\u001b[0m\u001b[0mexpanduser\u001b[0m\u001b[0;34m(\u001b[0m\u001b[0mfilename\u001b[0m\u001b[0;34m)\u001b[0m\u001b[0;34m\u001b[0m\u001b[0;34m\u001b[0m\u001b[0m\n\u001b[0;32m--> 111\u001b[0;31m         \u001b[0;32mwith\u001b[0m \u001b[0mopen\u001b[0m\u001b[0;34m(\u001b[0m\u001b[0mfilename\u001b[0m\u001b[0;34m,\u001b[0m \u001b[0;34m\"rb\"\u001b[0m\u001b[0;34m)\u001b[0m \u001b[0;32mas\u001b[0m \u001b[0mf\u001b[0m\u001b[0;34m:\u001b[0m\u001b[0;34m\u001b[0m\u001b[0;34m\u001b[0m\u001b[0m\n\u001b[0m\u001b[1;32m    112\u001b[0m             \u001b[0mpeek\u001b[0m \u001b[0;34m=\u001b[0m \u001b[0mf\u001b[0m\u001b[0;34m.\u001b[0m\u001b[0mread\u001b[0m\u001b[0;34m(\u001b[0m\u001b[0mpeeksz\u001b[0m\u001b[0;34m)\u001b[0m\u001b[0;34m\u001b[0m\u001b[0;34m\u001b[0m\u001b[0m\n\u001b[1;32m    113\u001b[0m     \u001b[0;32mif\u001b[0m \u001b[0mpeek\u001b[0m \u001b[0;34m==\u001b[0m \u001b[0;34mb\"PK\\x03\\x04\"\u001b[0m\u001b[0;34m:\u001b[0m \u001b[0;31m# a ZIP file\u001b[0m\u001b[0;34m\u001b[0m\u001b[0;34m\u001b[0m\u001b[0m\n",
      "\u001b[0;31mFileNotFoundError\u001b[0m: [Errno 2] No such file or directory: 'owid-covid-data.xlsx'"
     ]
    }
   ],
   "source": [
    "covid=pd.read_excel('owid-covid-data.xlsx')\n",
    "covid.head()"
   ]
  },
  {
   "cell_type": "code",
   "execution_count": 179,
   "metadata": {},
   "outputs": [
    {
     "ename": "NameError",
     "evalue": "name 'covid' is not defined",
     "output_type": "error",
     "traceback": [
      "\u001b[0;31m---------------------------------------------------------------------------\u001b[0m",
      "\u001b[0;31mNameError\u001b[0m                                 Traceback (most recent call last)",
      "\u001b[0;32m<ipython-input-179-b03f456ed21d>\u001b[0m in \u001b[0;36m<module>\u001b[0;34m\u001b[0m\n\u001b[0;32m----> 1\u001b[0;31m \u001b[0mcodf\u001b[0m\u001b[0;34m=\u001b[0m\u001b[0mcovid\u001b[0m\u001b[0;34m\u001b[0m\u001b[0;34m\u001b[0m\u001b[0m\n\u001b[0m",
      "\u001b[0;31mNameError\u001b[0m: name 'covid' is not defined"
     ]
    }
   ],
   "source": [
    "codf=covid"
   ]
  },
  {
   "cell_type": "code",
   "execution_count": 180,
   "metadata": {},
   "outputs": [
    {
     "ename": "NameError",
     "evalue": "name 'codf' is not defined",
     "output_type": "error",
     "traceback": [
      "\u001b[0;31m---------------------------------------------------------------------------\u001b[0m",
      "\u001b[0;31mNameError\u001b[0m                                 Traceback (most recent call last)",
      "\u001b[0;32m<ipython-input-180-3d4f08da3029>\u001b[0m in \u001b[0;36m<module>\u001b[0;34m\u001b[0m\n\u001b[0;32m----> 1\u001b[0;31m \u001b[0mcodf\u001b[0m\u001b[0;34m.\u001b[0m\u001b[0mshape\u001b[0m\u001b[0;34m\u001b[0m\u001b[0;34m\u001b[0m\u001b[0m\n\u001b[0m",
      "\u001b[0;31mNameError\u001b[0m: name 'codf' is not defined"
     ]
    }
   ],
   "source": [
    "codf.shape"
   ]
  },
  {
   "cell_type": "code",
   "execution_count": null,
   "metadata": {},
   "outputs": [],
   "source": [
    "codf.dropna(inplace=True)"
   ]
  },
  {
   "cell_type": "code",
   "execution_count": 181,
   "metadata": {},
   "outputs": [
    {
     "ename": "NameError",
     "evalue": "name 'codf' is not defined",
     "output_type": "error",
     "traceback": [
      "\u001b[0;31m---------------------------------------------------------------------------\u001b[0m",
      "\u001b[0;31mNameError\u001b[0m                                 Traceback (most recent call last)",
      "\u001b[0;32m<ipython-input-181-2d36be97edde>\u001b[0m in \u001b[0;36m<module>\u001b[0;34m\u001b[0m\n\u001b[0;32m----> 1\u001b[0;31m \u001b[0mcodf\u001b[0m\u001b[0;34m.\u001b[0m\u001b[0mcontinent\u001b[0m\u001b[0;34m.\u001b[0m\u001b[0munique\u001b[0m\u001b[0;34m(\u001b[0m\u001b[0;34m)\u001b[0m\u001b[0;34m\u001b[0m\u001b[0;34m\u001b[0m\u001b[0m\n\u001b[0m",
      "\u001b[0;31mNameError\u001b[0m: name 'codf' is not defined"
     ]
    }
   ],
   "source": [
    "codf.continent.unique()"
   ]
  },
  {
   "cell_type": "code",
   "execution_count": 182,
   "metadata": {},
   "outputs": [
    {
     "ename": "NameError",
     "evalue": "name 'codf' is not defined",
     "output_type": "error",
     "traceback": [
      "\u001b[0;31m---------------------------------------------------------------------------\u001b[0m",
      "\u001b[0;31mNameError\u001b[0m                                 Traceback (most recent call last)",
      "\u001b[0;32m<ipython-input-182-3e924998b332>\u001b[0m in \u001b[0;36m<module>\u001b[0;34m\u001b[0m\n\u001b[0;32m----> 1\u001b[0;31m \u001b[0mcodf\u001b[0m\u001b[0;34m[\u001b[0m\u001b[0;34m'hospital_beds_per_thousand'\u001b[0m\u001b[0;34m]\u001b[0m\u001b[0;34m.\u001b[0m\u001b[0mgroupby\u001b[0m\u001b[0;34m(\u001b[0m\u001b[0mcodf\u001b[0m\u001b[0;34m[\u001b[0m\u001b[0;34m'continent'\u001b[0m\u001b[0;34m]\u001b[0m\u001b[0;34m)\u001b[0m\u001b[0;34m.\u001b[0m\u001b[0msum\u001b[0m\u001b[0;34m(\u001b[0m\u001b[0;34m)\u001b[0m\u001b[0;34m\u001b[0m\u001b[0;34m\u001b[0m\u001b[0m\n\u001b[0m",
      "\u001b[0;31mNameError\u001b[0m: name 'codf' is not defined"
     ]
    }
   ],
   "source": [
    "codf['hospital_beds_per_thousand'].groupby(codf['continent']).sum()"
   ]
  },
  {
   "cell_type": "code",
   "execution_count": 183,
   "metadata": {
    "scrolled": true
   },
   "outputs": [
    {
     "ename": "NameError",
     "evalue": "name 'codf' is not defined",
     "output_type": "error",
     "traceback": [
      "\u001b[0;31m---------------------------------------------------------------------------\u001b[0m",
      "\u001b[0;31mNameError\u001b[0m                                 Traceback (most recent call last)",
      "\u001b[0;32m<ipython-input-183-da28df8a0de9>\u001b[0m in \u001b[0;36m<module>\u001b[0;34m\u001b[0m\n\u001b[0;32m----> 1\u001b[0;31m \u001b[0mcodf\u001b[0m\u001b[0;34m[\u001b[0m\u001b[0;34m'hospital_beds_per_thousand'\u001b[0m\u001b[0;34m]\u001b[0m\u001b[0;34m.\u001b[0m\u001b[0mgroupby\u001b[0m\u001b[0;34m(\u001b[0m\u001b[0;34m[\u001b[0m\u001b[0mcodf\u001b[0m\u001b[0;34m[\u001b[0m\u001b[0;34m'continent'\u001b[0m\u001b[0;34m]\u001b[0m\u001b[0;34m,\u001b[0m\u001b[0mcodf\u001b[0m\u001b[0;34m[\u001b[0m\u001b[0;34m'location'\u001b[0m\u001b[0;34m]\u001b[0m\u001b[0;34m]\u001b[0m\u001b[0;34m)\u001b[0m\u001b[0;34m.\u001b[0m\u001b[0msum\u001b[0m\u001b[0;34m(\u001b[0m\u001b[0;34m)\u001b[0m\u001b[0;34m\u001b[0m\u001b[0;34m\u001b[0m\u001b[0m\n\u001b[0m",
      "\u001b[0;31mNameError\u001b[0m: name 'codf' is not defined"
     ]
    }
   ],
   "source": [
    "\n",
    "\n",
    "codf['hospital_beds_per_thousand'].groupby([codf['continent'],codf['location']]).sum()"
   ]
  },
  {
   "cell_type": "code",
   "execution_count": 184,
   "metadata": {},
   "outputs": [
    {
     "ename": "NameError",
     "evalue": "name 'codf' is not defined",
     "output_type": "error",
     "traceback": [
      "\u001b[0;31m---------------------------------------------------------------------------\u001b[0m",
      "\u001b[0;31mNameError\u001b[0m                                 Traceback (most recent call last)",
      "\u001b[0;32m<ipython-input-184-485d8c4ab27e>\u001b[0m in \u001b[0;36m<module>\u001b[0;34m\u001b[0m\n\u001b[0;32m----> 1\u001b[0;31m \u001b[0mcodf\u001b[0m\u001b[0;34m[\u001b[0m\u001b[0;34m'handwashing_facilities'\u001b[0m\u001b[0;34m]\u001b[0m\u001b[0;34m.\u001b[0m\u001b[0mgroupby\u001b[0m\u001b[0;34m(\u001b[0m\u001b[0mcodf\u001b[0m\u001b[0;34m[\u001b[0m\u001b[0;34m'continent'\u001b[0m\u001b[0;34m]\u001b[0m\u001b[0;34m)\u001b[0m\u001b[0;34m.\u001b[0m\u001b[0msum\u001b[0m\u001b[0;34m(\u001b[0m\u001b[0;34m)\u001b[0m\u001b[0;34m\u001b[0m\u001b[0;34m\u001b[0m\u001b[0m\n\u001b[0m",
      "\u001b[0;31mNameError\u001b[0m: name 'codf' is not defined"
     ]
    }
   ],
   "source": [
    "\n",
    "\n",
    "\n",
    "\n",
    "\n",
    "\n",
    "\n",
    "codf['handwashing_facilities'].groupby(codf['continent']).sum()"
   ]
  },
  {
   "cell_type": "code",
   "execution_count": 185,
   "metadata": {
    "scrolled": true
   },
   "outputs": [
    {
     "ename": "NameError",
     "evalue": "name 'codf' is not defined",
     "output_type": "error",
     "traceback": [
      "\u001b[0;31m---------------------------------------------------------------------------\u001b[0m",
      "\u001b[0;31mNameError\u001b[0m                                 Traceback (most recent call last)",
      "\u001b[0;32m<ipython-input-185-e081021d0d36>\u001b[0m in \u001b[0;36m<module>\u001b[0;34m\u001b[0m\n\u001b[0;32m----> 1\u001b[0;31m \u001b[0mcodf\u001b[0m\u001b[0;34m[\u001b[0m\u001b[0;34m'handwashing_facilities'\u001b[0m\u001b[0;34m]\u001b[0m\u001b[0;34m.\u001b[0m\u001b[0mgroupby\u001b[0m\u001b[0;34m(\u001b[0m\u001b[0;34m[\u001b[0m\u001b[0mcodf\u001b[0m\u001b[0;34m[\u001b[0m\u001b[0;34m'continent'\u001b[0m\u001b[0;34m]\u001b[0m\u001b[0;34m,\u001b[0m\u001b[0mcodf\u001b[0m\u001b[0;34m[\u001b[0m\u001b[0;34m'location'\u001b[0m\u001b[0;34m]\u001b[0m\u001b[0;34m]\u001b[0m\u001b[0;34m)\u001b[0m\u001b[0;34m.\u001b[0m\u001b[0msum\u001b[0m\u001b[0;34m(\u001b[0m\u001b[0;34m)\u001b[0m\u001b[0;34m\u001b[0m\u001b[0;34m\u001b[0m\u001b[0m\n\u001b[0m",
      "\u001b[0;31mNameError\u001b[0m: name 'codf' is not defined"
     ]
    }
   ],
   "source": [
    "\n",
    "\n",
    "\n",
    "\n",
    "\n",
    "\n",
    "codf['handwashing_facilities'].groupby([codf['continent'],codf['location']]).sum()"
   ]
  },
  {
   "cell_type": "code",
   "execution_count": 186,
   "metadata": {
    "scrolled": false
   },
   "outputs": [
    {
     "ename": "NameError",
     "evalue": "name 'codf' is not defined",
     "output_type": "error",
     "traceback": [
      "\u001b[0;31m---------------------------------------------------------------------------\u001b[0m",
      "\u001b[0;31mNameError\u001b[0m                                 Traceback (most recent call last)",
      "\u001b[0;32m<ipython-input-186-9ff8ebd7b9ef>\u001b[0m in \u001b[0;36m<module>\u001b[0;34m\u001b[0m\n\u001b[0;32m----> 1\u001b[0;31m \u001b[0mdf\u001b[0m\u001b[0;34m=\u001b[0m\u001b[0mcodf\u001b[0m\u001b[0;34m[\u001b[0m\u001b[0;34m'total_deaths'\u001b[0m\u001b[0;34m]\u001b[0m\u001b[0;34m.\u001b[0m\u001b[0mgroupby\u001b[0m\u001b[0;34m(\u001b[0m\u001b[0mcodf\u001b[0m\u001b[0;34m.\u001b[0m\u001b[0mcontinent\u001b[0m\u001b[0;34m)\u001b[0m\u001b[0;34m.\u001b[0m\u001b[0msum\u001b[0m\u001b[0;34m(\u001b[0m\u001b[0;34m)\u001b[0m\u001b[0;34m\u001b[0m\u001b[0;34m\u001b[0m\u001b[0m\n\u001b[0m\u001b[1;32m      2\u001b[0m \u001b[0mdf\u001b[0m\u001b[0;34m=\u001b[0m\u001b[0mpd\u001b[0m\u001b[0;34m.\u001b[0m\u001b[0mDataFrame\u001b[0m\u001b[0;34m(\u001b[0m\u001b[0mdf\u001b[0m\u001b[0;34m)\u001b[0m\u001b[0;34m\u001b[0m\u001b[0;34m\u001b[0m\u001b[0m\n\u001b[1;32m      3\u001b[0m \u001b[0mdf\u001b[0m\u001b[0;34m\u001b[0m\u001b[0;34m\u001b[0m\u001b[0m\n",
      "\u001b[0;31mNameError\u001b[0m: name 'codf' is not defined"
     ]
    }
   ],
   "source": [
    "\n",
    "\n",
    "\n",
    "\n",
    "\n",
    "\n",
    "\n",
    "\n",
    "df=codf['total_deaths'].groupby(codf.continent).sum()\n",
    "df=pd.DataFrame(df)\n",
    "df"
   ]
  },
  {
   "cell_type": "code",
   "execution_count": 187,
   "metadata": {
    "scrolled": true
   },
   "outputs": [
    {
     "ename": "KeyError",
     "evalue": "'total_deaths'",
     "output_type": "error",
     "traceback": [
      "\u001b[0;31m---------------------------------------------------------------------------\u001b[0m",
      "\u001b[0;31mKeyError\u001b[0m                                  Traceback (most recent call last)",
      "\u001b[0;32m~/anaconda3/lib/python3.7/site-packages/pandas/core/indexes/base.py\u001b[0m in \u001b[0;36mget_loc\u001b[0;34m(self, key, method, tolerance)\u001b[0m\n\u001b[1;32m   2645\u001b[0m             \u001b[0;32mtry\u001b[0m\u001b[0;34m:\u001b[0m\u001b[0;34m\u001b[0m\u001b[0;34m\u001b[0m\u001b[0m\n\u001b[0;32m-> 2646\u001b[0;31m                 \u001b[0;32mreturn\u001b[0m \u001b[0mself\u001b[0m\u001b[0;34m.\u001b[0m\u001b[0m_engine\u001b[0m\u001b[0;34m.\u001b[0m\u001b[0mget_loc\u001b[0m\u001b[0;34m(\u001b[0m\u001b[0mkey\u001b[0m\u001b[0;34m)\u001b[0m\u001b[0;34m\u001b[0m\u001b[0;34m\u001b[0m\u001b[0m\n\u001b[0m\u001b[1;32m   2647\u001b[0m             \u001b[0;32mexcept\u001b[0m \u001b[0mKeyError\u001b[0m\u001b[0;34m:\u001b[0m\u001b[0;34m\u001b[0m\u001b[0;34m\u001b[0m\u001b[0m\n",
      "\u001b[0;32mpandas/_libs/index.pyx\u001b[0m in \u001b[0;36mpandas._libs.index.IndexEngine.get_loc\u001b[0;34m()\u001b[0m\n",
      "\u001b[0;32mpandas/_libs/index.pyx\u001b[0m in \u001b[0;36mpandas._libs.index.IndexEngine.get_loc\u001b[0;34m()\u001b[0m\n",
      "\u001b[0;32mpandas/_libs/hashtable_class_helper.pxi\u001b[0m in \u001b[0;36mpandas._libs.hashtable.PyObjectHashTable.get_item\u001b[0;34m()\u001b[0m\n",
      "\u001b[0;32mpandas/_libs/hashtable_class_helper.pxi\u001b[0m in \u001b[0;36mpandas._libs.hashtable.PyObjectHashTable.get_item\u001b[0;34m()\u001b[0m\n",
      "\u001b[0;31mKeyError\u001b[0m: 'total_deaths'",
      "\nDuring handling of the above exception, another exception occurred:\n",
      "\u001b[0;31mKeyError\u001b[0m                                  Traceback (most recent call last)",
      "\u001b[0;32m<ipython-input-187-7efef868f3d7>\u001b[0m in \u001b[0;36m<module>\u001b[0;34m\u001b[0m\n\u001b[1;32m      1\u001b[0m \u001b[0mplt\u001b[0m\u001b[0;34m.\u001b[0m\u001b[0mfigure\u001b[0m\u001b[0;34m(\u001b[0m\u001b[0mfigsize\u001b[0m\u001b[0;34m=\u001b[0m\u001b[0;34m(\u001b[0m\u001b[0;36m8\u001b[0m\u001b[0;34m,\u001b[0m\u001b[0;36m8\u001b[0m\u001b[0;34m)\u001b[0m\u001b[0;34m)\u001b[0m\u001b[0;34m\u001b[0m\u001b[0;34m\u001b[0m\u001b[0m\n\u001b[0;32m----> 2\u001b[0;31m \u001b[0mplt\u001b[0m\u001b[0;34m.\u001b[0m\u001b[0mbar\u001b[0m\u001b[0;34m(\u001b[0m\u001b[0mdf\u001b[0m\u001b[0;34m.\u001b[0m\u001b[0mindex\u001b[0m\u001b[0;34m,\u001b[0m\u001b[0mdf\u001b[0m\u001b[0;34m[\u001b[0m\u001b[0;34m'total_deaths'\u001b[0m\u001b[0;34m]\u001b[0m\u001b[0;34m)\u001b[0m\u001b[0;34m\u001b[0m\u001b[0;34m\u001b[0m\u001b[0m\n\u001b[0m",
      "\u001b[0;32m~/anaconda3/lib/python3.7/site-packages/pandas/core/frame.py\u001b[0m in \u001b[0;36m__getitem__\u001b[0;34m(self, key)\u001b[0m\n\u001b[1;32m   2798\u001b[0m             \u001b[0;32mif\u001b[0m \u001b[0mself\u001b[0m\u001b[0;34m.\u001b[0m\u001b[0mcolumns\u001b[0m\u001b[0;34m.\u001b[0m\u001b[0mnlevels\u001b[0m \u001b[0;34m>\u001b[0m \u001b[0;36m1\u001b[0m\u001b[0;34m:\u001b[0m\u001b[0;34m\u001b[0m\u001b[0;34m\u001b[0m\u001b[0m\n\u001b[1;32m   2799\u001b[0m                 \u001b[0;32mreturn\u001b[0m \u001b[0mself\u001b[0m\u001b[0;34m.\u001b[0m\u001b[0m_getitem_multilevel\u001b[0m\u001b[0;34m(\u001b[0m\u001b[0mkey\u001b[0m\u001b[0;34m)\u001b[0m\u001b[0;34m\u001b[0m\u001b[0;34m\u001b[0m\u001b[0m\n\u001b[0;32m-> 2800\u001b[0;31m             \u001b[0mindexer\u001b[0m \u001b[0;34m=\u001b[0m \u001b[0mself\u001b[0m\u001b[0;34m.\u001b[0m\u001b[0mcolumns\u001b[0m\u001b[0;34m.\u001b[0m\u001b[0mget_loc\u001b[0m\u001b[0;34m(\u001b[0m\u001b[0mkey\u001b[0m\u001b[0;34m)\u001b[0m\u001b[0;34m\u001b[0m\u001b[0;34m\u001b[0m\u001b[0m\n\u001b[0m\u001b[1;32m   2801\u001b[0m             \u001b[0;32mif\u001b[0m \u001b[0mis_integer\u001b[0m\u001b[0;34m(\u001b[0m\u001b[0mindexer\u001b[0m\u001b[0;34m)\u001b[0m\u001b[0;34m:\u001b[0m\u001b[0;34m\u001b[0m\u001b[0;34m\u001b[0m\u001b[0m\n\u001b[1;32m   2802\u001b[0m                 \u001b[0mindexer\u001b[0m \u001b[0;34m=\u001b[0m \u001b[0;34m[\u001b[0m\u001b[0mindexer\u001b[0m\u001b[0;34m]\u001b[0m\u001b[0;34m\u001b[0m\u001b[0;34m\u001b[0m\u001b[0m\n",
      "\u001b[0;32m~/anaconda3/lib/python3.7/site-packages/pandas/core/indexes/base.py\u001b[0m in \u001b[0;36mget_loc\u001b[0;34m(self, key, method, tolerance)\u001b[0m\n\u001b[1;32m   2646\u001b[0m                 \u001b[0;32mreturn\u001b[0m \u001b[0mself\u001b[0m\u001b[0;34m.\u001b[0m\u001b[0m_engine\u001b[0m\u001b[0;34m.\u001b[0m\u001b[0mget_loc\u001b[0m\u001b[0;34m(\u001b[0m\u001b[0mkey\u001b[0m\u001b[0;34m)\u001b[0m\u001b[0;34m\u001b[0m\u001b[0;34m\u001b[0m\u001b[0m\n\u001b[1;32m   2647\u001b[0m             \u001b[0;32mexcept\u001b[0m \u001b[0mKeyError\u001b[0m\u001b[0;34m:\u001b[0m\u001b[0;34m\u001b[0m\u001b[0;34m\u001b[0m\u001b[0m\n\u001b[0;32m-> 2648\u001b[0;31m                 \u001b[0;32mreturn\u001b[0m \u001b[0mself\u001b[0m\u001b[0;34m.\u001b[0m\u001b[0m_engine\u001b[0m\u001b[0;34m.\u001b[0m\u001b[0mget_loc\u001b[0m\u001b[0;34m(\u001b[0m\u001b[0mself\u001b[0m\u001b[0;34m.\u001b[0m\u001b[0m_maybe_cast_indexer\u001b[0m\u001b[0;34m(\u001b[0m\u001b[0mkey\u001b[0m\u001b[0;34m)\u001b[0m\u001b[0;34m)\u001b[0m\u001b[0;34m\u001b[0m\u001b[0;34m\u001b[0m\u001b[0m\n\u001b[0m\u001b[1;32m   2649\u001b[0m         \u001b[0mindexer\u001b[0m \u001b[0;34m=\u001b[0m \u001b[0mself\u001b[0m\u001b[0;34m.\u001b[0m\u001b[0mget_indexer\u001b[0m\u001b[0;34m(\u001b[0m\u001b[0;34m[\u001b[0m\u001b[0mkey\u001b[0m\u001b[0;34m]\u001b[0m\u001b[0;34m,\u001b[0m \u001b[0mmethod\u001b[0m\u001b[0;34m=\u001b[0m\u001b[0mmethod\u001b[0m\u001b[0;34m,\u001b[0m \u001b[0mtolerance\u001b[0m\u001b[0;34m=\u001b[0m\u001b[0mtolerance\u001b[0m\u001b[0;34m)\u001b[0m\u001b[0;34m\u001b[0m\u001b[0;34m\u001b[0m\u001b[0m\n\u001b[1;32m   2650\u001b[0m         \u001b[0;32mif\u001b[0m \u001b[0mindexer\u001b[0m\u001b[0;34m.\u001b[0m\u001b[0mndim\u001b[0m \u001b[0;34m>\u001b[0m \u001b[0;36m1\u001b[0m \u001b[0;32mor\u001b[0m \u001b[0mindexer\u001b[0m\u001b[0;34m.\u001b[0m\u001b[0msize\u001b[0m \u001b[0;34m>\u001b[0m \u001b[0;36m1\u001b[0m\u001b[0;34m:\u001b[0m\u001b[0;34m\u001b[0m\u001b[0;34m\u001b[0m\u001b[0m\n",
      "\u001b[0;32mpandas/_libs/index.pyx\u001b[0m in \u001b[0;36mpandas._libs.index.IndexEngine.get_loc\u001b[0;34m()\u001b[0m\n",
      "\u001b[0;32mpandas/_libs/index.pyx\u001b[0m in \u001b[0;36mpandas._libs.index.IndexEngine.get_loc\u001b[0;34m()\u001b[0m\n",
      "\u001b[0;32mpandas/_libs/hashtable_class_helper.pxi\u001b[0m in \u001b[0;36mpandas._libs.hashtable.PyObjectHashTable.get_item\u001b[0;34m()\u001b[0m\n",
      "\u001b[0;32mpandas/_libs/hashtable_class_helper.pxi\u001b[0m in \u001b[0;36mpandas._libs.hashtable.PyObjectHashTable.get_item\u001b[0;34m()\u001b[0m\n",
      "\u001b[0;31mKeyError\u001b[0m: 'total_deaths'"
     ]
    },
    {
     "data": {
      "text/plain": [
       "<Figure size 576x576 with 0 Axes>"
      ]
     },
     "metadata": {},
     "output_type": "display_data"
    }
   ],
   "source": [
    "\n",
    "\n",
    "\n",
    "plt.figure(figsize=(8,8))\n",
    "plt.bar(df.index,df['total_deaths'])"
   ]
  },
  {
   "cell_type": "code",
   "execution_count": 188,
   "metadata": {},
   "outputs": [
    {
     "ename": "NameError",
     "evalue": "name 'codf' is not defined",
     "output_type": "error",
     "traceback": [
      "\u001b[0;31m---------------------------------------------------------------------------\u001b[0m",
      "\u001b[0;31mNameError\u001b[0m                                 Traceback (most recent call last)",
      "\u001b[0;32m<ipython-input-188-ea322a86e399>\u001b[0m in \u001b[0;36m<module>\u001b[0;34m\u001b[0m\n\u001b[0;32m----> 1\u001b[0;31m \u001b[0mcodf\u001b[0m\u001b[0;34m.\u001b[0m\u001b[0mcolumns\u001b[0m\u001b[0;34m\u001b[0m\u001b[0;34m\u001b[0m\u001b[0m\n\u001b[0m",
      "\u001b[0;31mNameError\u001b[0m: name 'codf' is not defined"
     ]
    }
   ],
   "source": [
    "\n",
    "\n",
    "\n",
    "\n",
    "\n",
    "\n",
    "\n",
    "\n",
    "\n",
    "\n",
    "\n",
    "\n",
    "codf.columns"
   ]
  },
  {
   "cell_type": "code",
   "execution_count": 189,
   "metadata": {
    "scrolled": true
   },
   "outputs": [
    {
     "ename": "NameError",
     "evalue": "name 'codf' is not defined",
     "output_type": "error",
     "traceback": [
      "\u001b[0;31m---------------------------------------------------------------------------\u001b[0m",
      "\u001b[0;31mNameError\u001b[0m                                 Traceback (most recent call last)",
      "\u001b[0;32m<ipython-input-189-751038d9ddb3>\u001b[0m in \u001b[0;36m<module>\u001b[0;34m\u001b[0m\n\u001b[0;32m----> 1\u001b[0;31m \u001b[0mcodf\u001b[0m\u001b[0;34m[\u001b[0m\u001b[0;34m'location'\u001b[0m\u001b[0;34m]\u001b[0m\u001b[0;34m[\u001b[0m\u001b[0mcodf\u001b[0m\u001b[0;34m[\u001b[0m\u001b[0;34m'continent'\u001b[0m\u001b[0;34m]\u001b[0m\u001b[0;34m==\u001b[0m\u001b[0;34m'Asia'\u001b[0m\u001b[0;34m]\u001b[0m\u001b[0;34m.\u001b[0m\u001b[0munique\u001b[0m\u001b[0;34m(\u001b[0m\u001b[0;34m)\u001b[0m\u001b[0;34m\u001b[0m\u001b[0;34m\u001b[0m\u001b[0m\n\u001b[0m",
      "\u001b[0;31mNameError\u001b[0m: name 'codf' is not defined"
     ]
    }
   ],
   "source": [
    "codf['location'][codf['continent']=='Asia'].unique()"
   ]
  },
  {
   "cell_type": "code",
   "execution_count": 190,
   "metadata": {},
   "outputs": [
    {
     "ename": "NameError",
     "evalue": "name 'codf' is not defined",
     "output_type": "error",
     "traceback": [
      "\u001b[0;31m---------------------------------------------------------------------------\u001b[0m",
      "\u001b[0;31mNameError\u001b[0m                                 Traceback (most recent call last)",
      "\u001b[0;32m<ipython-input-190-fae7e0112197>\u001b[0m in \u001b[0;36m<module>\u001b[0;34m\u001b[0m\n\u001b[0;32m----> 1\u001b[0;31m \u001b[0mcodf_Asia\u001b[0m\u001b[0;34m=\u001b[0m\u001b[0mcodf\u001b[0m\u001b[0;34m[\u001b[0m\u001b[0mcodf\u001b[0m\u001b[0;34m[\u001b[0m\u001b[0;34m'continent'\u001b[0m\u001b[0;34m]\u001b[0m\u001b[0;34m==\u001b[0m\u001b[0;34m'Asia'\u001b[0m\u001b[0;34m]\u001b[0m\u001b[0;34m\u001b[0m\u001b[0;34m\u001b[0m\u001b[0m\n\u001b[0m\u001b[1;32m      2\u001b[0m \u001b[0mcodf_Asia\u001b[0m\u001b[0;34m\u001b[0m\u001b[0;34m\u001b[0m\u001b[0m\n",
      "\u001b[0;31mNameError\u001b[0m: name 'codf' is not defined"
     ]
    }
   ],
   "source": [
    "\n",
    "\n",
    "\n",
    "codf_Asia=codf[codf['continent']=='Asia']\n",
    "codf_Asia"
   ]
  },
  {
   "cell_type": "code",
   "execution_count": 88,
   "metadata": {
    "scrolled": true
   },
   "outputs": [
    {
     "ename": "NameError",
     "evalue": "name 'codf_Asia' is not defined",
     "output_type": "error",
     "traceback": [
      "\u001b[0;31m---------------------------------------------------------------------------\u001b[0m",
      "\u001b[0;31mNameError\u001b[0m                                 Traceback (most recent call last)",
      "\u001b[0;32m<ipython-input-88-3282272e4b33>\u001b[0m in \u001b[0;36m<module>\u001b[0;34m\u001b[0m\n\u001b[0;32m----> 1\u001b[0;31m \u001b[0mcodf_Asia\u001b[0m\u001b[0;34m[\u001b[0m\u001b[0;34m'total_deaths'\u001b[0m\u001b[0;34m]\u001b[0m\u001b[0;34m.\u001b[0m\u001b[0mgroupby\u001b[0m\u001b[0;34m(\u001b[0m\u001b[0mcodf\u001b[0m\u001b[0;34m[\u001b[0m\u001b[0;34m'location'\u001b[0m\u001b[0;34m]\u001b[0m\u001b[0;34m)\u001b[0m\u001b[0;34m.\u001b[0m\u001b[0msum\u001b[0m\u001b[0;34m(\u001b[0m\u001b[0;34m)\u001b[0m\u001b[0;34m\u001b[0m\u001b[0;34m\u001b[0m\u001b[0m\n\u001b[0m",
      "\u001b[0;31mNameError\u001b[0m: name 'codf_Asia' is not defined"
     ]
    }
   ],
   "source": [
    "codf_Asia['total_deaths'].groupby(codf['location']).sum()"
   ]
  },
  {
   "cell_type": "code",
   "execution_count": null,
   "metadata": {},
   "outputs": [],
   "source": [
    "codf_Asia['date'].dt.month.unique()\n"
   ]
  },
  {
   "cell_type": "code",
   "execution_count": 89,
   "metadata": {
    "scrolled": true
   },
   "outputs": [
    {
     "ename": "NameError",
     "evalue": "name 'codf_Asia' is not defined",
     "output_type": "error",
     "traceback": [
      "\u001b[0;31m---------------------------------------------------------------------------\u001b[0m",
      "\u001b[0;31mNameError\u001b[0m                                 Traceback (most recent call last)",
      "\u001b[0;32m<ipython-input-89-528ea57bb265>\u001b[0m in \u001b[0;36m<module>\u001b[0;34m\u001b[0m\n\u001b[0;32m----> 1\u001b[0;31m \u001b[0mdd\u001b[0m\u001b[0;34m=\u001b[0m\u001b[0mcodf_Asia\u001b[0m\u001b[0;34m[\u001b[0m\u001b[0;34m'total_deaths'\u001b[0m\u001b[0;34m]\u001b[0m\u001b[0;34m.\u001b[0m\u001b[0mgroupby\u001b[0m\u001b[0;34m(\u001b[0m\u001b[0mcodf\u001b[0m\u001b[0;34m[\u001b[0m\u001b[0;34m'date'\u001b[0m\u001b[0;34m]\u001b[0m\u001b[0;34m.\u001b[0m\u001b[0mdt\u001b[0m\u001b[0;34m.\u001b[0m\u001b[0mmonth\u001b[0m\u001b[0;34m)\u001b[0m\u001b[0;34m.\u001b[0m\u001b[0msum\u001b[0m\u001b[0;34m(\u001b[0m\u001b[0;34m)\u001b[0m\u001b[0;34m\u001b[0m\u001b[0;34m\u001b[0m\u001b[0m\n\u001b[0m\u001b[1;32m      2\u001b[0m \u001b[0mdd\u001b[0m\u001b[0;34m=\u001b[0m\u001b[0mpd\u001b[0m\u001b[0;34m.\u001b[0m\u001b[0mDataFrame\u001b[0m\u001b[0;34m(\u001b[0m\u001b[0mdd\u001b[0m\u001b[0;34m)\u001b[0m\u001b[0;34m\u001b[0m\u001b[0;34m\u001b[0m\u001b[0m\n\u001b[1;32m      3\u001b[0m \u001b[0mdd\u001b[0m\u001b[0;34m\u001b[0m\u001b[0;34m\u001b[0m\u001b[0m\n",
      "\u001b[0;31mNameError\u001b[0m: name 'codf_Asia' is not defined"
     ]
    }
   ],
   "source": [
    "dd=codf_Asia['total_deaths'].groupby(codf['date'].dt.month).sum()\n",
    "dd=pd.DataFrame(dd)\n",
    "dd"
   ]
  },
  {
   "cell_type": "code",
   "execution_count": 90,
   "metadata": {},
   "outputs": [
    {
     "ename": "KeyError",
     "evalue": "'total_deaths'",
     "output_type": "error",
     "traceback": [
      "\u001b[0;31m---------------------------------------------------------------------------\u001b[0m",
      "\u001b[0;31mKeyError\u001b[0m                                  Traceback (most recent call last)",
      "\u001b[0;32m~/anaconda3/lib/python3.7/site-packages/pandas/core/indexes/base.py\u001b[0m in \u001b[0;36mget_loc\u001b[0;34m(self, key, method, tolerance)\u001b[0m\n\u001b[1;32m   2645\u001b[0m             \u001b[0;32mtry\u001b[0m\u001b[0;34m:\u001b[0m\u001b[0;34m\u001b[0m\u001b[0;34m\u001b[0m\u001b[0m\n\u001b[0;32m-> 2646\u001b[0;31m                 \u001b[0;32mreturn\u001b[0m \u001b[0mself\u001b[0m\u001b[0;34m.\u001b[0m\u001b[0m_engine\u001b[0m\u001b[0;34m.\u001b[0m\u001b[0mget_loc\u001b[0m\u001b[0;34m(\u001b[0m\u001b[0mkey\u001b[0m\u001b[0;34m)\u001b[0m\u001b[0;34m\u001b[0m\u001b[0;34m\u001b[0m\u001b[0m\n\u001b[0m\u001b[1;32m   2647\u001b[0m             \u001b[0;32mexcept\u001b[0m \u001b[0mKeyError\u001b[0m\u001b[0;34m:\u001b[0m\u001b[0;34m\u001b[0m\u001b[0;34m\u001b[0m\u001b[0m\n",
      "\u001b[0;32mpandas/_libs/index.pyx\u001b[0m in \u001b[0;36mpandas._libs.index.IndexEngine.get_loc\u001b[0;34m()\u001b[0m\n",
      "\u001b[0;32mpandas/_libs/index.pyx\u001b[0m in \u001b[0;36mpandas._libs.index.IndexEngine.get_loc\u001b[0;34m()\u001b[0m\n",
      "\u001b[0;32mpandas/_libs/hashtable_class_helper.pxi\u001b[0m in \u001b[0;36mpandas._libs.hashtable.PyObjectHashTable.get_item\u001b[0;34m()\u001b[0m\n",
      "\u001b[0;32mpandas/_libs/hashtable_class_helper.pxi\u001b[0m in \u001b[0;36mpandas._libs.hashtable.PyObjectHashTable.get_item\u001b[0;34m()\u001b[0m\n",
      "\u001b[0;31mKeyError\u001b[0m: 'total_deaths'",
      "\nDuring handling of the above exception, another exception occurred:\n",
      "\u001b[0;31mKeyError\u001b[0m                                  Traceback (most recent call last)",
      "\u001b[0;32m<ipython-input-90-80f3fd6c99f9>\u001b[0m in \u001b[0;36m<module>\u001b[0;34m\u001b[0m\n\u001b[1;32m      1\u001b[0m \u001b[0mplt\u001b[0m\u001b[0;34m.\u001b[0m\u001b[0mfigure\u001b[0m\u001b[0;34m(\u001b[0m\u001b[0mfigsize\u001b[0m\u001b[0;34m=\u001b[0m\u001b[0;34m(\u001b[0m\u001b[0;36m8\u001b[0m\u001b[0;34m,\u001b[0m\u001b[0;36m8\u001b[0m\u001b[0;34m)\u001b[0m\u001b[0;34m)\u001b[0m\u001b[0;34m\u001b[0m\u001b[0;34m\u001b[0m\u001b[0m\n\u001b[0;32m----> 2\u001b[0;31m \u001b[0mplt\u001b[0m\u001b[0;34m.\u001b[0m\u001b[0mbar\u001b[0m\u001b[0;34m(\u001b[0m\u001b[0mdd\u001b[0m\u001b[0;34m.\u001b[0m\u001b[0mindex\u001b[0m\u001b[0;34m,\u001b[0m\u001b[0mdd\u001b[0m\u001b[0;34m[\u001b[0m\u001b[0;34m'total_deaths'\u001b[0m\u001b[0;34m]\u001b[0m\u001b[0;34m)\u001b[0m\u001b[0;34m\u001b[0m\u001b[0;34m\u001b[0m\u001b[0m\n\u001b[0m\u001b[1;32m      3\u001b[0m \u001b[0mplt\u001b[0m\u001b[0;34m.\u001b[0m\u001b[0mxticks\u001b[0m\u001b[0;34m(\u001b[0m\u001b[0;34m[\u001b[0m\u001b[0;36m2\u001b[0m\u001b[0;34m,\u001b[0m\u001b[0;36m3\u001b[0m\u001b[0;34m,\u001b[0m\u001b[0;36m4\u001b[0m\u001b[0;34m,\u001b[0m\u001b[0;36m5\u001b[0m\u001b[0;34m,\u001b[0m\u001b[0;36m6\u001b[0m\u001b[0;34m,\u001b[0m\u001b[0;36m7\u001b[0m\u001b[0;34m]\u001b[0m\u001b[0;34m,\u001b[0m\u001b[0;34m[\u001b[0m\u001b[0;34m'February'\u001b[0m\u001b[0;34m,\u001b[0m\u001b[0;34m'March'\u001b[0m\u001b[0;34m,\u001b[0m\u001b[0;34m'April'\u001b[0m\u001b[0;34m,\u001b[0m\u001b[0;34m'May'\u001b[0m\u001b[0;34m,\u001b[0m\u001b[0;34m'June'\u001b[0m\u001b[0;34m,\u001b[0m\u001b[0;34m'July'\u001b[0m\u001b[0;34m]\u001b[0m\u001b[0;34m)\u001b[0m\u001b[0;34m\u001b[0m\u001b[0;34m\u001b[0m\u001b[0m\n",
      "\u001b[0;32m~/anaconda3/lib/python3.7/site-packages/pandas/core/frame.py\u001b[0m in \u001b[0;36m__getitem__\u001b[0;34m(self, key)\u001b[0m\n\u001b[1;32m   2798\u001b[0m             \u001b[0;32mif\u001b[0m \u001b[0mself\u001b[0m\u001b[0;34m.\u001b[0m\u001b[0mcolumns\u001b[0m\u001b[0;34m.\u001b[0m\u001b[0mnlevels\u001b[0m \u001b[0;34m>\u001b[0m \u001b[0;36m1\u001b[0m\u001b[0;34m:\u001b[0m\u001b[0;34m\u001b[0m\u001b[0;34m\u001b[0m\u001b[0m\n\u001b[1;32m   2799\u001b[0m                 \u001b[0;32mreturn\u001b[0m \u001b[0mself\u001b[0m\u001b[0;34m.\u001b[0m\u001b[0m_getitem_multilevel\u001b[0m\u001b[0;34m(\u001b[0m\u001b[0mkey\u001b[0m\u001b[0;34m)\u001b[0m\u001b[0;34m\u001b[0m\u001b[0;34m\u001b[0m\u001b[0m\n\u001b[0;32m-> 2800\u001b[0;31m             \u001b[0mindexer\u001b[0m \u001b[0;34m=\u001b[0m \u001b[0mself\u001b[0m\u001b[0;34m.\u001b[0m\u001b[0mcolumns\u001b[0m\u001b[0;34m.\u001b[0m\u001b[0mget_loc\u001b[0m\u001b[0;34m(\u001b[0m\u001b[0mkey\u001b[0m\u001b[0;34m)\u001b[0m\u001b[0;34m\u001b[0m\u001b[0;34m\u001b[0m\u001b[0m\n\u001b[0m\u001b[1;32m   2801\u001b[0m             \u001b[0;32mif\u001b[0m \u001b[0mis_integer\u001b[0m\u001b[0;34m(\u001b[0m\u001b[0mindexer\u001b[0m\u001b[0;34m)\u001b[0m\u001b[0;34m:\u001b[0m\u001b[0;34m\u001b[0m\u001b[0;34m\u001b[0m\u001b[0m\n\u001b[1;32m   2802\u001b[0m                 \u001b[0mindexer\u001b[0m \u001b[0;34m=\u001b[0m \u001b[0;34m[\u001b[0m\u001b[0mindexer\u001b[0m\u001b[0;34m]\u001b[0m\u001b[0;34m\u001b[0m\u001b[0;34m\u001b[0m\u001b[0m\n",
      "\u001b[0;32m~/anaconda3/lib/python3.7/site-packages/pandas/core/indexes/base.py\u001b[0m in \u001b[0;36mget_loc\u001b[0;34m(self, key, method, tolerance)\u001b[0m\n\u001b[1;32m   2646\u001b[0m                 \u001b[0;32mreturn\u001b[0m \u001b[0mself\u001b[0m\u001b[0;34m.\u001b[0m\u001b[0m_engine\u001b[0m\u001b[0;34m.\u001b[0m\u001b[0mget_loc\u001b[0m\u001b[0;34m(\u001b[0m\u001b[0mkey\u001b[0m\u001b[0;34m)\u001b[0m\u001b[0;34m\u001b[0m\u001b[0;34m\u001b[0m\u001b[0m\n\u001b[1;32m   2647\u001b[0m             \u001b[0;32mexcept\u001b[0m \u001b[0mKeyError\u001b[0m\u001b[0;34m:\u001b[0m\u001b[0;34m\u001b[0m\u001b[0;34m\u001b[0m\u001b[0m\n\u001b[0;32m-> 2648\u001b[0;31m                 \u001b[0;32mreturn\u001b[0m \u001b[0mself\u001b[0m\u001b[0;34m.\u001b[0m\u001b[0m_engine\u001b[0m\u001b[0;34m.\u001b[0m\u001b[0mget_loc\u001b[0m\u001b[0;34m(\u001b[0m\u001b[0mself\u001b[0m\u001b[0;34m.\u001b[0m\u001b[0m_maybe_cast_indexer\u001b[0m\u001b[0;34m(\u001b[0m\u001b[0mkey\u001b[0m\u001b[0;34m)\u001b[0m\u001b[0;34m)\u001b[0m\u001b[0;34m\u001b[0m\u001b[0;34m\u001b[0m\u001b[0m\n\u001b[0m\u001b[1;32m   2649\u001b[0m         \u001b[0mindexer\u001b[0m \u001b[0;34m=\u001b[0m \u001b[0mself\u001b[0m\u001b[0;34m.\u001b[0m\u001b[0mget_indexer\u001b[0m\u001b[0;34m(\u001b[0m\u001b[0;34m[\u001b[0m\u001b[0mkey\u001b[0m\u001b[0;34m]\u001b[0m\u001b[0;34m,\u001b[0m \u001b[0mmethod\u001b[0m\u001b[0;34m=\u001b[0m\u001b[0mmethod\u001b[0m\u001b[0;34m,\u001b[0m \u001b[0mtolerance\u001b[0m\u001b[0;34m=\u001b[0m\u001b[0mtolerance\u001b[0m\u001b[0;34m)\u001b[0m\u001b[0;34m\u001b[0m\u001b[0;34m\u001b[0m\u001b[0m\n\u001b[1;32m   2650\u001b[0m         \u001b[0;32mif\u001b[0m \u001b[0mindexer\u001b[0m\u001b[0;34m.\u001b[0m\u001b[0mndim\u001b[0m \u001b[0;34m>\u001b[0m \u001b[0;36m1\u001b[0m \u001b[0;32mor\u001b[0m \u001b[0mindexer\u001b[0m\u001b[0;34m.\u001b[0m\u001b[0msize\u001b[0m \u001b[0;34m>\u001b[0m \u001b[0;36m1\u001b[0m\u001b[0;34m:\u001b[0m\u001b[0;34m\u001b[0m\u001b[0;34m\u001b[0m\u001b[0m\n",
      "\u001b[0;32mpandas/_libs/index.pyx\u001b[0m in \u001b[0;36mpandas._libs.index.IndexEngine.get_loc\u001b[0;34m()\u001b[0m\n",
      "\u001b[0;32mpandas/_libs/index.pyx\u001b[0m in \u001b[0;36mpandas._libs.index.IndexEngine.get_loc\u001b[0;34m()\u001b[0m\n",
      "\u001b[0;32mpandas/_libs/hashtable_class_helper.pxi\u001b[0m in \u001b[0;36mpandas._libs.hashtable.PyObjectHashTable.get_item\u001b[0;34m()\u001b[0m\n",
      "\u001b[0;32mpandas/_libs/hashtable_class_helper.pxi\u001b[0m in \u001b[0;36mpandas._libs.hashtable.PyObjectHashTable.get_item\u001b[0;34m()\u001b[0m\n",
      "\u001b[0;31mKeyError\u001b[0m: 'total_deaths'"
     ]
    },
    {
     "data": {
      "text/plain": [
       "<Figure size 576x576 with 0 Axes>"
      ]
     },
     "metadata": {},
     "output_type": "display_data"
    }
   ],
   "source": [
    "plt.figure(figsize=(8,8))\n",
    "plt.bar(dd.index,dd['total_deaths'])\n",
    "plt.xticks([2,3,4,5,6,7],['February','March','April','May','June','July'])"
   ]
  },
  {
   "cell_type": "code",
   "execution_count": null,
   "metadata": {},
   "outputs": [],
   "source": [
    "import pandas as pd\n",
    "import plotly.express as px\n",
    "import plotly.io as pio\n"
   ]
  },
  {
   "cell_type": "code",
   "execution_count": 91,
   "metadata": {},
   "outputs": [
    {
     "ename": "NameError",
     "evalue": "name 'codf' is not defined",
     "output_type": "error",
     "traceback": [
      "\u001b[0;31m---------------------------------------------------------------------------\u001b[0m",
      "\u001b[0;31mNameError\u001b[0m                                 Traceback (most recent call last)",
      "\u001b[0;32m<ipython-input-91-e7a8e8e20ace>\u001b[0m in \u001b[0;36m<module>\u001b[0;34m\u001b[0m\n\u001b[0;32m----> 1\u001b[0;31m \u001b[0mfilter\u001b[0m\u001b[0;34m=\u001b[0m\u001b[0mcodf\u001b[0m\u001b[0;34m[\u001b[0m\u001b[0;34m[\u001b[0m\u001b[0;34m'iso_code'\u001b[0m\u001b[0;34m,\u001b[0m\u001b[0;34m'date'\u001b[0m\u001b[0;34m,\u001b[0m\u001b[0;34m'total_deaths'\u001b[0m\u001b[0;34m]\u001b[0m\u001b[0;34m]\u001b[0m\u001b[0;34m\u001b[0m\u001b[0;34m\u001b[0m\u001b[0m\n\u001b[0m",
      "\u001b[0;31mNameError\u001b[0m: name 'codf' is not defined"
     ]
    }
   ],
   "source": [
    "filter=codf[['iso_code','date','total_deaths']]"
   ]
  },
  {
   "cell_type": "code",
   "execution_count": null,
   "metadata": {
    "scrolled": true
   },
   "outputs": [],
   "source": [
    "filter.sort_values(by=['date'], inplace=True)\n",
    "filter.head()"
   ]
  },
  {
   "cell_type": "code",
   "execution_count": 92,
   "metadata": {},
   "outputs": [
    {
     "ename": "TypeError",
     "evalue": "'type' object is not subscriptable",
     "output_type": "error",
     "traceback": [
      "\u001b[0;31m---------------------------------------------------------------------------\u001b[0m",
      "\u001b[0;31mTypeError\u001b[0m                                 Traceback (most recent call last)",
      "\u001b[0;32m<ipython-input-92-e024d6f416d4>\u001b[0m in \u001b[0;36m<module>\u001b[0;34m\u001b[0m\n\u001b[0;32m----> 1\u001b[0;31m \u001b[0mPeak\u001b[0m \u001b[0;34m=\u001b[0m \u001b[0mfilter\u001b[0m\u001b[0;34m[\u001b[0m\u001b[0;34m(\u001b[0m\u001b[0mfilter\u001b[0m\u001b[0;34m[\u001b[0m\u001b[0;34m'date'\u001b[0m\u001b[0;34m]\u001b[0m\u001b[0;34m>=\u001b[0m\u001b[0;34m'2020-06-01'\u001b[0m\u001b[0;34m)\u001b[0m\u001b[0;34m&\u001b[0m\u001b[0;34m(\u001b[0m\u001b[0mfilter\u001b[0m\u001b[0;34m[\u001b[0m\u001b[0;34m'date'\u001b[0m\u001b[0;34m]\u001b[0m\u001b[0;34m<\u001b[0m\u001b[0;34m'2020-07-01'\u001b[0m\u001b[0;34m)\u001b[0m\u001b[0;34m]\u001b[0m\u001b[0;34m\u001b[0m\u001b[0;34m\u001b[0m\u001b[0m\n\u001b[0m\u001b[1;32m      2\u001b[0m \u001b[0mPeak\u001b[0m\u001b[0;34m\u001b[0m\u001b[0;34m\u001b[0m\u001b[0m\n",
      "\u001b[0;31mTypeError\u001b[0m: 'type' object is not subscriptable"
     ]
    }
   ],
   "source": [
    "Peak = filter[(filter['date']>='2020-06-01')&(filter['date']<'2020-07-01')]\n",
    "Peak"
   ]
  },
  {
   "cell_type": "code",
   "execution_count": null,
   "metadata": {},
   "outputs": [],
   "source": [
    "fig=px.choropleth(Peak,\n",
    "                  color=\"total_deaths\",color_continuous_scale=px.colors.sequential.Reds,\n",
    "                  locations=\"iso_code\")\n"
   ]
  },
  {
   "cell_type": "code",
   "execution_count": 93,
   "metadata": {},
   "outputs": [
    {
     "ename": "AttributeError",
     "evalue": "'Figure' object has no attribute 'update_layout'",
     "output_type": "error",
     "traceback": [
      "\u001b[0;31m---------------------------------------------------------------------------\u001b[0m",
      "\u001b[0;31mAttributeError\u001b[0m                            Traceback (most recent call last)",
      "\u001b[0;32m<ipython-input-93-dd1ad8f9ef24>\u001b[0m in \u001b[0;36m<module>\u001b[0;34m\u001b[0m\n\u001b[0;32m----> 1\u001b[0;31m fig.update_layout(\n\u001b[0m\u001b[1;32m      2\u001b[0m \u001b[0mtitle_text\u001b[0m \u001b[0;34m=\u001b[0m \u001b[0;34m\"Total_deaths due to Covid in June 2020\"\u001b[0m\u001b[0;34m\u001b[0m\u001b[0;34m\u001b[0m\u001b[0m\n\u001b[1;32m      3\u001b[0m )\n\u001b[1;32m      4\u001b[0m \u001b[0mfig\u001b[0m\u001b[0;34m.\u001b[0m\u001b[0mshow\u001b[0m\u001b[0;34m(\u001b[0m\u001b[0;34m)\u001b[0m\u001b[0;34m\u001b[0m\u001b[0;34m\u001b[0m\u001b[0m\n",
      "\u001b[0;31mAttributeError\u001b[0m: 'Figure' object has no attribute 'update_layout'"
     ]
    }
   ],
   "source": [
    "fig.update_layout(\n",
    "title_text = \"Total_deaths due to Covid in June 2020\"\n",
    ")\n",
    "fig.show()"
   ]
  },
  {
   "cell_type": "code",
   "execution_count": 94,
   "metadata": {},
   "outputs": [
    {
     "ename": "AttributeError",
     "evalue": "'Figure' object has no attribute 'update_layout'",
     "output_type": "error",
     "traceback": [
      "\u001b[0;31m---------------------------------------------------------------------------\u001b[0m",
      "\u001b[0;31mAttributeError\u001b[0m                            Traceback (most recent call last)",
      "\u001b[0;32m<ipython-input-94-4ce63c25f4df>\u001b[0m in \u001b[0;36m<module>\u001b[0;34m\u001b[0m\n\u001b[0;32m----> 1\u001b[0;31m fig.update_layout(\n\u001b[0m\u001b[1;32m      2\u001b[0m \u001b[0mtitle_text\u001b[0m \u001b[0;34m=\u001b[0m \u001b[0;34m'Total deaths in June 2020 due to Covid'\u001b[0m\u001b[0;34m,\u001b[0m\u001b[0;34m\u001b[0m\u001b[0;34m\u001b[0m\u001b[0m\n\u001b[1;32m      3\u001b[0m \u001b[0mgeo\u001b[0m \u001b[0;34m=\u001b[0m \u001b[0mdict\u001b[0m\u001b[0;34m(\u001b[0m\u001b[0mprojection\u001b[0m\u001b[0;34m=\u001b[0m\u001b[0;34m{\u001b[0m\u001b[0;34m'type'\u001b[0m\u001b[0;34m:\u001b[0m\u001b[0;34m'orthographic'\u001b[0m\u001b[0;34m}\u001b[0m\u001b[0;34m)\u001b[0m\u001b[0;34m\u001b[0m\u001b[0;34m\u001b[0m\u001b[0m\n\u001b[1;32m      4\u001b[0m )\n\u001b[1;32m      5\u001b[0m \u001b[0mfig\u001b[0m\u001b[0;34m.\u001b[0m\u001b[0mshow\u001b[0m\u001b[0;34m(\u001b[0m\u001b[0;34m)\u001b[0m\u001b[0;34m\u001b[0m\u001b[0;34m\u001b[0m\u001b[0m\n",
      "\u001b[0;31mAttributeError\u001b[0m: 'Figure' object has no attribute 'update_layout'"
     ]
    }
   ],
   "source": [
    "fig.update_layout(\n",
    "title_text = 'Total deaths in June 2020 due to Covid',\n",
    "geo = dict(projection={'type':'orthographic'}) \n",
    ")\n",
    "fig.show()"
   ]
  },
  {
   "cell_type": "code",
   "execution_count": null,
   "metadata": {},
   "outputs": [],
   "source": [
    "codf.head()"
   ]
  },
  {
   "cell_type": "code",
   "execution_count": 95,
   "metadata": {},
   "outputs": [
    {
     "ename": "NameError",
     "evalue": "name 'codf' is not defined",
     "output_type": "error",
     "traceback": [
      "\u001b[0;31m---------------------------------------------------------------------------\u001b[0m",
      "\u001b[0;31mNameError\u001b[0m                                 Traceback (most recent call last)",
      "\u001b[0;32m<ipython-input-95-d32d01105d96>\u001b[0m in \u001b[0;36m<module>\u001b[0;34m\u001b[0m\n\u001b[0;32m----> 1\u001b[0;31m \u001b[0mcodf_later\u001b[0m\u001b[0;34m=\u001b[0m\u001b[0mcodf\u001b[0m\u001b[0;34m[\u001b[0m\u001b[0mcodf\u001b[0m\u001b[0;34m[\u001b[0m\u001b[0;34m'date'\u001b[0m\u001b[0;34m]\u001b[0m\u001b[0;34m.\u001b[0m\u001b[0mdt\u001b[0m\u001b[0;34m.\u001b[0m\u001b[0mmonth\u001b[0m\u001b[0;34m>\u001b[0m\u001b[0;36m6\u001b[0m\u001b[0;34m]\u001b[0m\u001b[0;34m\u001b[0m\u001b[0;34m\u001b[0m\u001b[0m\n\u001b[0m\u001b[1;32m      2\u001b[0m \u001b[0mcodf_later\u001b[0m\u001b[0;34m.\u001b[0m\u001b[0mhead\u001b[0m\u001b[0;34m(\u001b[0m\u001b[0;34m)\u001b[0m\u001b[0;34m\u001b[0m\u001b[0;34m\u001b[0m\u001b[0m\n",
      "\u001b[0;31mNameError\u001b[0m: name 'codf' is not defined"
     ]
    }
   ],
   "source": [
    "codf_later=codf[codf['date'].dt.month>6]\n",
    "codf_later.head()"
   ]
  },
  {
   "cell_type": "code",
   "execution_count": 96,
   "metadata": {},
   "outputs": [
    {
     "ename": "NameError",
     "evalue": "name 'codf_later' is not defined",
     "output_type": "error",
     "traceback": [
      "\u001b[0;31m---------------------------------------------------------------------------\u001b[0m",
      "\u001b[0;31mNameError\u001b[0m                                 Traceback (most recent call last)",
      "\u001b[0;32m<ipython-input-96-91cf412c8c1a>\u001b[0m in \u001b[0;36m<module>\u001b[0;34m\u001b[0m\n\u001b[0;32m----> 1\u001b[0;31m \u001b[0mdf\u001b[0m\u001b[0;34m=\u001b[0m\u001b[0mpd\u001b[0m\u001b[0;34m.\u001b[0m\u001b[0mDataFrame\u001b[0m\u001b[0;34m(\u001b[0m\u001b[0mcodf_later\u001b[0m\u001b[0;34m[\u001b[0m\u001b[0;34m'new_cases'\u001b[0m\u001b[0;34m]\u001b[0m\u001b[0;34m.\u001b[0m\u001b[0mgroupby\u001b[0m\u001b[0;34m(\u001b[0m\u001b[0;34m[\u001b[0m\u001b[0mcodf_later\u001b[0m\u001b[0;34m[\u001b[0m\u001b[0;34m'continent'\u001b[0m\u001b[0;34m]\u001b[0m\u001b[0;34m,\u001b[0m\u001b[0mcodf_later\u001b[0m\u001b[0;34m[\u001b[0m\u001b[0;34m'location'\u001b[0m\u001b[0;34m]\u001b[0m\u001b[0;34m]\u001b[0m\u001b[0;34m)\u001b[0m\u001b[0;34m.\u001b[0m\u001b[0msum\u001b[0m\u001b[0;34m(\u001b[0m\u001b[0;34m)\u001b[0m\u001b[0;34m)\u001b[0m\u001b[0;34m\u001b[0m\u001b[0;34m\u001b[0m\u001b[0m\n\u001b[0m\u001b[1;32m      2\u001b[0m \u001b[0mdf\u001b[0m\u001b[0;34m.\u001b[0m\u001b[0mreset_index\u001b[0m\u001b[0;34m(\u001b[0m\u001b[0minplace\u001b[0m\u001b[0;34m=\u001b[0m\u001b[0;32mTrue\u001b[0m\u001b[0;34m)\u001b[0m\u001b[0;34m\u001b[0m\u001b[0;34m\u001b[0m\u001b[0m\n\u001b[1;32m      3\u001b[0m \u001b[0mdf\u001b[0m\u001b[0;34m\u001b[0m\u001b[0;34m\u001b[0m\u001b[0m\n",
      "\u001b[0;31mNameError\u001b[0m: name 'codf_later' is not defined"
     ]
    }
   ],
   "source": [
    "df=pd.DataFrame(codf_later['new_cases'].groupby([codf_later['continent'],codf_later['location']]).sum())\n",
    "df.reset_index(inplace=True)\n",
    "df"
   ]
  },
  {
   "cell_type": "code",
   "execution_count": null,
   "metadata": {
    "scrolled": true
   },
   "outputs": [],
   "source": [
    "df [df['continent'].str.match('Asia')]"
   ]
  },
  {
   "cell_type": "code",
   "execution_count": 97,
   "metadata": {},
   "outputs": [],
   "source": [
    "def my_function(con):\n",
    "\n",
    "    selected_points = alt.selection_single(fields=['Continents'], name='Select')\n",
    "    color = alt.condition(selected_points,\n",
    "    alt.Color('continent:N'),\n",
    "    alt.value('lightgrey')\n",
    "    )\n",
    "    temp = alt.Chart(df [df['continent'].str.match(con)]).mark_bar().encode(\n",
    "    x='location:N',\n",
    "    y='new_cases:Q',\n",
    "    color=color,\n",
    "    tooltip='continent:N'\n",
    "    ).add_selection(selected_points)\n",
    "    \n",
    "    \n",
    "    return temp\n",
    "    "
   ]
  },
  {
   "cell_type": "code",
   "execution_count": 98,
   "metadata": {},
   "outputs": [
    {
     "ename": "KeyError",
     "evalue": "'continent'",
     "output_type": "error",
     "traceback": [
      "\u001b[0;31m---------------------------------------------------------------------------\u001b[0m",
      "\u001b[0;31mKeyError\u001b[0m                                  Traceback (most recent call last)",
      "\u001b[0;32m~/anaconda3/lib/python3.7/site-packages/pandas/core/indexes/base.py\u001b[0m in \u001b[0;36mget_loc\u001b[0;34m(self, key, method, tolerance)\u001b[0m\n\u001b[1;32m   2645\u001b[0m             \u001b[0;32mtry\u001b[0m\u001b[0;34m:\u001b[0m\u001b[0;34m\u001b[0m\u001b[0;34m\u001b[0m\u001b[0m\n\u001b[0;32m-> 2646\u001b[0;31m                 \u001b[0;32mreturn\u001b[0m \u001b[0mself\u001b[0m\u001b[0;34m.\u001b[0m\u001b[0m_engine\u001b[0m\u001b[0;34m.\u001b[0m\u001b[0mget_loc\u001b[0m\u001b[0;34m(\u001b[0m\u001b[0mkey\u001b[0m\u001b[0;34m)\u001b[0m\u001b[0;34m\u001b[0m\u001b[0;34m\u001b[0m\u001b[0m\n\u001b[0m\u001b[1;32m   2647\u001b[0m             \u001b[0;32mexcept\u001b[0m \u001b[0mKeyError\u001b[0m\u001b[0;34m:\u001b[0m\u001b[0;34m\u001b[0m\u001b[0;34m\u001b[0m\u001b[0m\n",
      "\u001b[0;32mpandas/_libs/index.pyx\u001b[0m in \u001b[0;36mpandas._libs.index.IndexEngine.get_loc\u001b[0;34m()\u001b[0m\n",
      "\u001b[0;32mpandas/_libs/index.pyx\u001b[0m in \u001b[0;36mpandas._libs.index.IndexEngine.get_loc\u001b[0;34m()\u001b[0m\n",
      "\u001b[0;32mpandas/_libs/hashtable_class_helper.pxi\u001b[0m in \u001b[0;36mpandas._libs.hashtable.PyObjectHashTable.get_item\u001b[0;34m()\u001b[0m\n",
      "\u001b[0;32mpandas/_libs/hashtable_class_helper.pxi\u001b[0m in \u001b[0;36mpandas._libs.hashtable.PyObjectHashTable.get_item\u001b[0;34m()\u001b[0m\n",
      "\u001b[0;31mKeyError\u001b[0m: 'continent'",
      "\nDuring handling of the above exception, another exception occurred:\n",
      "\u001b[0;31mKeyError\u001b[0m                                  Traceback (most recent call last)",
      "\u001b[0;32m<ipython-input-98-9ad0d77c85da>\u001b[0m in \u001b[0;36m<module>\u001b[0;34m\u001b[0m\n\u001b[0;32m----> 1\u001b[0;31m \u001b[0mmy_function\u001b[0m\u001b[0;34m(\u001b[0m\u001b[0;34m'Asia'\u001b[0m\u001b[0;34m)\u001b[0m\u001b[0;34m\u001b[0m\u001b[0;34m\u001b[0m\u001b[0m\n\u001b[0m",
      "\u001b[0;32m<ipython-input-97-900bb5cae2ac>\u001b[0m in \u001b[0;36mmy_function\u001b[0;34m(con)\u001b[0m\n\u001b[1;32m      6\u001b[0m     \u001b[0malt\u001b[0m\u001b[0;34m.\u001b[0m\u001b[0mvalue\u001b[0m\u001b[0;34m(\u001b[0m\u001b[0;34m'lightgrey'\u001b[0m\u001b[0;34m)\u001b[0m\u001b[0;34m\u001b[0m\u001b[0;34m\u001b[0m\u001b[0m\n\u001b[1;32m      7\u001b[0m     )\n\u001b[0;32m----> 8\u001b[0;31m     temp = alt.Chart(df [df['continent'].str.match(con)]).mark_bar().encode(\n\u001b[0m\u001b[1;32m      9\u001b[0m     \u001b[0mx\u001b[0m\u001b[0;34m=\u001b[0m\u001b[0;34m'location:N'\u001b[0m\u001b[0;34m,\u001b[0m\u001b[0;34m\u001b[0m\u001b[0;34m\u001b[0m\u001b[0m\n\u001b[1;32m     10\u001b[0m     \u001b[0my\u001b[0m\u001b[0;34m=\u001b[0m\u001b[0;34m'new_cases:Q'\u001b[0m\u001b[0;34m,\u001b[0m\u001b[0;34m\u001b[0m\u001b[0;34m\u001b[0m\u001b[0m\n",
      "\u001b[0;32m~/anaconda3/lib/python3.7/site-packages/pandas/core/frame.py\u001b[0m in \u001b[0;36m__getitem__\u001b[0;34m(self, key)\u001b[0m\n\u001b[1;32m   2798\u001b[0m             \u001b[0;32mif\u001b[0m \u001b[0mself\u001b[0m\u001b[0;34m.\u001b[0m\u001b[0mcolumns\u001b[0m\u001b[0;34m.\u001b[0m\u001b[0mnlevels\u001b[0m \u001b[0;34m>\u001b[0m \u001b[0;36m1\u001b[0m\u001b[0;34m:\u001b[0m\u001b[0;34m\u001b[0m\u001b[0;34m\u001b[0m\u001b[0m\n\u001b[1;32m   2799\u001b[0m                 \u001b[0;32mreturn\u001b[0m \u001b[0mself\u001b[0m\u001b[0;34m.\u001b[0m\u001b[0m_getitem_multilevel\u001b[0m\u001b[0;34m(\u001b[0m\u001b[0mkey\u001b[0m\u001b[0;34m)\u001b[0m\u001b[0;34m\u001b[0m\u001b[0;34m\u001b[0m\u001b[0m\n\u001b[0;32m-> 2800\u001b[0;31m             \u001b[0mindexer\u001b[0m \u001b[0;34m=\u001b[0m \u001b[0mself\u001b[0m\u001b[0;34m.\u001b[0m\u001b[0mcolumns\u001b[0m\u001b[0;34m.\u001b[0m\u001b[0mget_loc\u001b[0m\u001b[0;34m(\u001b[0m\u001b[0mkey\u001b[0m\u001b[0;34m)\u001b[0m\u001b[0;34m\u001b[0m\u001b[0;34m\u001b[0m\u001b[0m\n\u001b[0m\u001b[1;32m   2801\u001b[0m             \u001b[0;32mif\u001b[0m \u001b[0mis_integer\u001b[0m\u001b[0;34m(\u001b[0m\u001b[0mindexer\u001b[0m\u001b[0;34m)\u001b[0m\u001b[0;34m:\u001b[0m\u001b[0;34m\u001b[0m\u001b[0;34m\u001b[0m\u001b[0m\n\u001b[1;32m   2802\u001b[0m                 \u001b[0mindexer\u001b[0m \u001b[0;34m=\u001b[0m \u001b[0;34m[\u001b[0m\u001b[0mindexer\u001b[0m\u001b[0;34m]\u001b[0m\u001b[0;34m\u001b[0m\u001b[0;34m\u001b[0m\u001b[0m\n",
      "\u001b[0;32m~/anaconda3/lib/python3.7/site-packages/pandas/core/indexes/base.py\u001b[0m in \u001b[0;36mget_loc\u001b[0;34m(self, key, method, tolerance)\u001b[0m\n\u001b[1;32m   2646\u001b[0m                 \u001b[0;32mreturn\u001b[0m \u001b[0mself\u001b[0m\u001b[0;34m.\u001b[0m\u001b[0m_engine\u001b[0m\u001b[0;34m.\u001b[0m\u001b[0mget_loc\u001b[0m\u001b[0;34m(\u001b[0m\u001b[0mkey\u001b[0m\u001b[0;34m)\u001b[0m\u001b[0;34m\u001b[0m\u001b[0;34m\u001b[0m\u001b[0m\n\u001b[1;32m   2647\u001b[0m             \u001b[0;32mexcept\u001b[0m \u001b[0mKeyError\u001b[0m\u001b[0;34m:\u001b[0m\u001b[0;34m\u001b[0m\u001b[0;34m\u001b[0m\u001b[0m\n\u001b[0;32m-> 2648\u001b[0;31m                 \u001b[0;32mreturn\u001b[0m \u001b[0mself\u001b[0m\u001b[0;34m.\u001b[0m\u001b[0m_engine\u001b[0m\u001b[0;34m.\u001b[0m\u001b[0mget_loc\u001b[0m\u001b[0;34m(\u001b[0m\u001b[0mself\u001b[0m\u001b[0;34m.\u001b[0m\u001b[0m_maybe_cast_indexer\u001b[0m\u001b[0;34m(\u001b[0m\u001b[0mkey\u001b[0m\u001b[0;34m)\u001b[0m\u001b[0;34m)\u001b[0m\u001b[0;34m\u001b[0m\u001b[0;34m\u001b[0m\u001b[0m\n\u001b[0m\u001b[1;32m   2649\u001b[0m         \u001b[0mindexer\u001b[0m \u001b[0;34m=\u001b[0m \u001b[0mself\u001b[0m\u001b[0;34m.\u001b[0m\u001b[0mget_indexer\u001b[0m\u001b[0;34m(\u001b[0m\u001b[0;34m[\u001b[0m\u001b[0mkey\u001b[0m\u001b[0;34m]\u001b[0m\u001b[0;34m,\u001b[0m \u001b[0mmethod\u001b[0m\u001b[0;34m=\u001b[0m\u001b[0mmethod\u001b[0m\u001b[0;34m,\u001b[0m \u001b[0mtolerance\u001b[0m\u001b[0;34m=\u001b[0m\u001b[0mtolerance\u001b[0m\u001b[0;34m)\u001b[0m\u001b[0;34m\u001b[0m\u001b[0;34m\u001b[0m\u001b[0m\n\u001b[1;32m   2650\u001b[0m         \u001b[0;32mif\u001b[0m \u001b[0mindexer\u001b[0m\u001b[0;34m.\u001b[0m\u001b[0mndim\u001b[0m \u001b[0;34m>\u001b[0m \u001b[0;36m1\u001b[0m \u001b[0;32mor\u001b[0m \u001b[0mindexer\u001b[0m\u001b[0;34m.\u001b[0m\u001b[0msize\u001b[0m \u001b[0;34m>\u001b[0m \u001b[0;36m1\u001b[0m\u001b[0;34m:\u001b[0m\u001b[0;34m\u001b[0m\u001b[0;34m\u001b[0m\u001b[0m\n",
      "\u001b[0;32mpandas/_libs/index.pyx\u001b[0m in \u001b[0;36mpandas._libs.index.IndexEngine.get_loc\u001b[0;34m()\u001b[0m\n",
      "\u001b[0;32mpandas/_libs/index.pyx\u001b[0m in \u001b[0;36mpandas._libs.index.IndexEngine.get_loc\u001b[0;34m()\u001b[0m\n",
      "\u001b[0;32mpandas/_libs/hashtable_class_helper.pxi\u001b[0m in \u001b[0;36mpandas._libs.hashtable.PyObjectHashTable.get_item\u001b[0;34m()\u001b[0m\n",
      "\u001b[0;32mpandas/_libs/hashtable_class_helper.pxi\u001b[0m in \u001b[0;36mpandas._libs.hashtable.PyObjectHashTable.get_item\u001b[0;34m()\u001b[0m\n",
      "\u001b[0;31mKeyError\u001b[0m: 'continent'"
     ]
    }
   ],
   "source": [
    "my_function('Asia')"
   ]
  },
  {
   "cell_type": "code",
   "execution_count": 99,
   "metadata": {},
   "outputs": [],
   "source": [
    "import ipywidgets as widgets\n",
    "from ipywidgets import interact"
   ]
  },
  {
   "cell_type": "code",
   "execution_count": 100,
   "metadata": {},
   "outputs": [
    {
     "data": {
      "application/vnd.jupyter.widget-view+json": {
       "model_id": "f22a85fd1795479ebaacb37ddfced3c5",
       "version_major": 2,
       "version_minor": 0
      },
      "text/plain": [
       "interactive(children=(Dropdown(description='con', options=(('Asia', 'Asia'), ('Africa', 'Africa'), ('North Ame…"
      ]
     },
     "metadata": {},
     "output_type": "display_data"
    },
    {
     "data": {
      "text/plain": [
       "<function __main__.my_function(con)>"
      ]
     },
     "execution_count": 100,
     "metadata": {},
     "output_type": "execute_result"
    }
   ],
   "source": [
    "options = [('Asia','Asia'),('Africa','Africa'),('North America','North America'),('South America','South America')]\n",
    "interact(my_function,con=options)"
   ]
  },
  {
   "cell_type": "code",
   "execution_count": 101,
   "metadata": {
    "scrolled": true
   },
   "outputs": [
    {
     "ename": "AttributeError",
     "evalue": "'DataFrame' object has no attribute 'continent'",
     "output_type": "error",
     "traceback": [
      "\u001b[0;31m---------------------------------------------------------------------------\u001b[0m",
      "\u001b[0;31mAttributeError\u001b[0m                            Traceback (most recent call last)",
      "\u001b[0;32m<ipython-input-101-78f97d904c49>\u001b[0m in \u001b[0;36m<module>\u001b[0;34m\u001b[0m\n\u001b[0;32m----> 1\u001b[0;31m \u001b[0minput_dropdown\u001b[0m \u001b[0;34m=\u001b[0m \u001b[0malt\u001b[0m\u001b[0;34m.\u001b[0m\u001b[0mbinding_select\u001b[0m\u001b[0;34m(\u001b[0m\u001b[0moptions\u001b[0m\u001b[0;34m=\u001b[0m\u001b[0mlist\u001b[0m\u001b[0;34m(\u001b[0m\u001b[0mset\u001b[0m\u001b[0;34m(\u001b[0m\u001b[0mdf\u001b[0m\u001b[0;34m.\u001b[0m\u001b[0mcontinent\u001b[0m\u001b[0;34m.\u001b[0m\u001b[0munique\u001b[0m\u001b[0;34m(\u001b[0m\u001b[0;34m)\u001b[0m\u001b[0;34m)\u001b[0m\u001b[0;34m)\u001b[0m\u001b[0;34m)\u001b[0m\u001b[0;34m\u001b[0m\u001b[0;34m\u001b[0m\u001b[0m\n\u001b[0m\u001b[1;32m      2\u001b[0m \u001b[0mselected_points\u001b[0m \u001b[0;34m=\u001b[0m \u001b[0malt\u001b[0m\u001b[0;34m.\u001b[0m\u001b[0mselection_single\u001b[0m\u001b[0;34m(\u001b[0m\u001b[0mfields\u001b[0m\u001b[0;34m=\u001b[0m\u001b[0;34m[\u001b[0m\u001b[0;34m'Continents'\u001b[0m\u001b[0;34m]\u001b[0m\u001b[0;34m,\u001b[0m \u001b[0mbind\u001b[0m\u001b[0;34m=\u001b[0m\u001b[0minput_dropdown\u001b[0m\u001b[0;34m,\u001b[0m \u001b[0mname\u001b[0m\u001b[0;34m=\u001b[0m\u001b[0;34m'Select'\u001b[0m\u001b[0;34m)\u001b[0m\u001b[0;34m\u001b[0m\u001b[0;34m\u001b[0m\u001b[0m\n\u001b[1;32m      3\u001b[0m color = alt.condition(selected_points,\n\u001b[1;32m      4\u001b[0m \u001b[0malt\u001b[0m\u001b[0;34m.\u001b[0m\u001b[0mColor\u001b[0m\u001b[0;34m(\u001b[0m\u001b[0;34m'continent:N'\u001b[0m\u001b[0;34m)\u001b[0m\u001b[0;34m,\u001b[0m\u001b[0;34m\u001b[0m\u001b[0;34m\u001b[0m\u001b[0m\n\u001b[1;32m      5\u001b[0m \u001b[0malt\u001b[0m\u001b[0;34m.\u001b[0m\u001b[0mvalue\u001b[0m\u001b[0;34m(\u001b[0m\u001b[0;34m'lightgrey'\u001b[0m\u001b[0;34m)\u001b[0m\u001b[0;34m\u001b[0m\u001b[0;34m\u001b[0m\u001b[0m\n",
      "\u001b[0;32m~/anaconda3/lib/python3.7/site-packages/pandas/core/generic.py\u001b[0m in \u001b[0;36m__getattr__\u001b[0;34m(self, name)\u001b[0m\n\u001b[1;32m   5272\u001b[0m             \u001b[0;32mif\u001b[0m \u001b[0mself\u001b[0m\u001b[0;34m.\u001b[0m\u001b[0m_info_axis\u001b[0m\u001b[0;34m.\u001b[0m\u001b[0m_can_hold_identifiers_and_holds_name\u001b[0m\u001b[0;34m(\u001b[0m\u001b[0mname\u001b[0m\u001b[0;34m)\u001b[0m\u001b[0;34m:\u001b[0m\u001b[0;34m\u001b[0m\u001b[0;34m\u001b[0m\u001b[0m\n\u001b[1;32m   5273\u001b[0m                 \u001b[0;32mreturn\u001b[0m \u001b[0mself\u001b[0m\u001b[0;34m[\u001b[0m\u001b[0mname\u001b[0m\u001b[0;34m]\u001b[0m\u001b[0;34m\u001b[0m\u001b[0;34m\u001b[0m\u001b[0m\n\u001b[0;32m-> 5274\u001b[0;31m             \u001b[0;32mreturn\u001b[0m \u001b[0mobject\u001b[0m\u001b[0;34m.\u001b[0m\u001b[0m__getattribute__\u001b[0m\u001b[0;34m(\u001b[0m\u001b[0mself\u001b[0m\u001b[0;34m,\u001b[0m \u001b[0mname\u001b[0m\u001b[0;34m)\u001b[0m\u001b[0;34m\u001b[0m\u001b[0;34m\u001b[0m\u001b[0m\n\u001b[0m\u001b[1;32m   5275\u001b[0m \u001b[0;34m\u001b[0m\u001b[0m\n\u001b[1;32m   5276\u001b[0m     \u001b[0;32mdef\u001b[0m \u001b[0m__setattr__\u001b[0m\u001b[0;34m(\u001b[0m\u001b[0mself\u001b[0m\u001b[0;34m,\u001b[0m \u001b[0mname\u001b[0m\u001b[0;34m:\u001b[0m \u001b[0mstr\u001b[0m\u001b[0;34m,\u001b[0m \u001b[0mvalue\u001b[0m\u001b[0;34m)\u001b[0m \u001b[0;34m->\u001b[0m \u001b[0;32mNone\u001b[0m\u001b[0;34m:\u001b[0m\u001b[0;34m\u001b[0m\u001b[0;34m\u001b[0m\u001b[0m\n",
      "\u001b[0;31mAttributeError\u001b[0m: 'DataFrame' object has no attribute 'continent'"
     ]
    }
   ],
   "source": [
    "input_dropdown = alt.binding_select(options=list(set(df.continent.unique())))\n",
    "selected_points = alt.selection_single(fields=['Continents'], bind=input_dropdown, name='Select')\n",
    "color = alt.condition(selected_points,\n",
    "alt.Color('continent:N'),\n",
    "alt.value('lightgrey')\n",
    ")\n",
    "alt.Chart(df).mark_bar().encode(\n",
    "x='location:N',\n",
    "y='new_cases:Q',\n",
    "color=color,\n",
    "tooltip='continent:N'\n",
    ").add_selection(selected_points)"
   ]
  },
  {
   "cell_type": "code",
   "execution_count": 102,
   "metadata": {},
   "outputs": [
    {
     "ename": "NameError",
     "evalue": "name 'codf' is not defined",
     "output_type": "error",
     "traceback": [
      "\u001b[0;31m---------------------------------------------------------------------------\u001b[0m",
      "\u001b[0;31mNameError\u001b[0m                                 Traceback (most recent call last)",
      "\u001b[0;32m<ipython-input-102-cd2d22480409>\u001b[0m in \u001b[0;36m<module>\u001b[0;34m\u001b[0m\n\u001b[0;32m----> 1\u001b[0;31m \u001b[0mcodf\u001b[0m\u001b[0;34m.\u001b[0m\u001b[0mhead\u001b[0m\u001b[0;34m(\u001b[0m\u001b[0;34m)\u001b[0m\u001b[0;34m\u001b[0m\u001b[0;34m\u001b[0m\u001b[0m\n\u001b[0m",
      "\u001b[0;31mNameError\u001b[0m: name 'codf' is not defined"
     ]
    }
   ],
   "source": [
    "codf.head()"
   ]
  },
  {
   "cell_type": "code",
   "execution_count": 103,
   "metadata": {},
   "outputs": [
    {
     "ename": "NameError",
     "evalue": "name 'codf' is not defined",
     "output_type": "error",
     "traceback": [
      "\u001b[0;31m---------------------------------------------------------------------------\u001b[0m",
      "\u001b[0;31mNameError\u001b[0m                                 Traceback (most recent call last)",
      "\u001b[0;32m<ipython-input-103-f74b1e90fea5>\u001b[0m in \u001b[0;36m<module>\u001b[0;34m\u001b[0m\n\u001b[0;32m----> 1\u001b[0;31m alt.Chart(codf).mark_rect().encode(\n\u001b[0m\u001b[1;32m      2\u001b[0m \u001b[0malt\u001b[0m\u001b[0;34m.\u001b[0m\u001b[0mX\u001b[0m\u001b[0;34m(\u001b[0m\u001b[0;34m'handwashing_facilities:Q'\u001b[0m\u001b[0;34m,\u001b[0m \u001b[0mbin\u001b[0m\u001b[0;34m=\u001b[0m\u001b[0;32mTrue\u001b[0m\u001b[0;34m)\u001b[0m\u001b[0;34m,\u001b[0m\u001b[0;34m\u001b[0m\u001b[0;34m\u001b[0m\u001b[0m\n\u001b[1;32m      3\u001b[0m \u001b[0malt\u001b[0m\u001b[0;34m.\u001b[0m\u001b[0mY\u001b[0m\u001b[0;34m(\u001b[0m\u001b[0;34m'life_expectancy'\u001b[0m\u001b[0;34m,\u001b[0m \u001b[0mbin\u001b[0m\u001b[0;34m=\u001b[0m\u001b[0;32mTrue\u001b[0m\u001b[0;34m)\u001b[0m\u001b[0;34m,\u001b[0m\u001b[0;34m\u001b[0m\u001b[0;34m\u001b[0m\u001b[0m\n\u001b[1;32m      4\u001b[0m alt.Color('count()',\n\u001b[1;32m      5\u001b[0m \u001b[0mscale\u001b[0m\u001b[0;34m=\u001b[0m\u001b[0malt\u001b[0m\u001b[0;34m.\u001b[0m\u001b[0mScale\u001b[0m\u001b[0;34m(\u001b[0m\u001b[0mscheme\u001b[0m\u001b[0;34m=\u001b[0m\u001b[0;34m'greenblue'\u001b[0m\u001b[0;34m)\u001b[0m\u001b[0;34m,\u001b[0m\u001b[0;34m\u001b[0m\u001b[0;34m\u001b[0m\u001b[0m\n",
      "\u001b[0;31mNameError\u001b[0m: name 'codf' is not defined"
     ]
    }
   ],
   "source": [
    "alt.Chart(codf).mark_rect().encode(\n",
    "alt.X('handwashing_facilities:Q', bin=True),\n",
    "alt.Y('life_expectancy', bin=True),\n",
    "alt.Color('count()',\n",
    "scale=alt.Scale(scheme='greenblue'),\n",
    "legend=alt.Legend(title='Betterment')\n",
    ")\n",
    ").properties(width=350)\n"
   ]
  },
  {
   "cell_type": "code",
   "execution_count": null,
   "metadata": {},
   "outputs": [],
   "source": [
    "import plotly.express as px"
   ]
  },
  {
   "cell_type": "code",
   "execution_count": 104,
   "metadata": {},
   "outputs": [
    {
     "ename": "NameError",
     "evalue": "name 'codf' is not defined",
     "output_type": "error",
     "traceback": [
      "\u001b[0;31m---------------------------------------------------------------------------\u001b[0m",
      "\u001b[0;31mNameError\u001b[0m                                 Traceback (most recent call last)",
      "\u001b[0;32m<ipython-input-104-25deaf10df8f>\u001b[0m in \u001b[0;36m<module>\u001b[0;34m\u001b[0m\n\u001b[0;32m----> 1\u001b[0;31m \u001b[0mymin\u001b[0m\u001b[0;34m,\u001b[0m \u001b[0mymax\u001b[0m \u001b[0;34m=\u001b[0m \u001b[0mmin\u001b[0m\u001b[0;34m(\u001b[0m\u001b[0mcodf\u001b[0m\u001b[0;34m.\u001b[0m\u001b[0mtotal_deaths\u001b[0m\u001b[0;34m)\u001b[0m\u001b[0;34m,\u001b[0m \u001b[0mmax\u001b[0m\u001b[0;34m(\u001b[0m\u001b[0mcodf\u001b[0m\u001b[0;34m.\u001b[0m\u001b[0mtotal_deaths\u001b[0m\u001b[0;34m)\u001b[0m\u001b[0;34m\u001b[0m\u001b[0;34m\u001b[0m\u001b[0m\n\u001b[0m",
      "\u001b[0;31mNameError\u001b[0m: name 'codf' is not defined"
     ]
    }
   ],
   "source": [
    "ymin, ymax = min(codf.total_deaths), max(codf.total_deaths)"
   ]
  },
  {
   "cell_type": "code",
   "execution_count": 105,
   "metadata": {},
   "outputs": [
    {
     "ename": "NameError",
     "evalue": "name 'px' is not defined",
     "output_type": "error",
     "traceback": [
      "\u001b[0;31m---------------------------------------------------------------------------\u001b[0m",
      "\u001b[0;31mNameError\u001b[0m                                 Traceback (most recent call last)",
      "\u001b[0;32m<ipython-input-105-940133ddd51e>\u001b[0m in \u001b[0;36m<module>\u001b[0;34m\u001b[0m\n\u001b[0;32m----> 1\u001b[0;31m fig = px.bar(codf, x=\"location\", y=\"total_deaths\", animation_frame=\"date\",\n\u001b[0m\u001b[1;32m      2\u001b[0m \u001b[0manimation_group\u001b[0m\u001b[0;34m=\u001b[0m\u001b[0;34m\"country\"\u001b[0m\u001b[0;34m,\u001b[0m \u001b[0mcolor\u001b[0m\u001b[0;34m=\u001b[0m\u001b[0;34m\"region\"\u001b[0m\u001b[0;34m,\u001b[0m \u001b[0mhover_name\u001b[0m\u001b[0;34m=\u001b[0m\u001b[0;34m\"country\"\u001b[0m\u001b[0;34m,\u001b[0m\u001b[0;34m\u001b[0m\u001b[0;34m\u001b[0m\u001b[0m\n\u001b[1;32m      3\u001b[0m \u001b[0mfacet_col\u001b[0m\u001b[0;34m=\u001b[0m\u001b[0;34m\"region\"\u001b[0m\u001b[0;34m,\u001b[0m \u001b[0mwidth\u001b[0m\u001b[0;34m=\u001b[0m\u001b[0;36m1579\u001b[0m\u001b[0;34m,\u001b[0m \u001b[0mheight\u001b[0m\u001b[0;34m=\u001b[0m\u001b[0;36m450\u001b[0m\u001b[0;34m,\u001b[0m \u001b[0mlog_x\u001b[0m\u001b[0;34m=\u001b[0m\u001b[0;32mTrue\u001b[0m\u001b[0;34m,\u001b[0m \u001b[0msize_max\u001b[0m\u001b[0;34m=\u001b[0m\u001b[0;36m45\u001b[0m\u001b[0;34m,\u001b[0m\u001b[0;34m\u001b[0m\u001b[0;34m\u001b[0m\u001b[0m\n\u001b[1;32m      4\u001b[0m range_x=[xmin,xmax], range_y=[ymin,ymax])\n",
      "\u001b[0;31mNameError\u001b[0m: name 'px' is not defined"
     ]
    }
   ],
   "source": [
    "fig = px.bar(codf, x=\"location\", y=\"total_deaths\", animation_frame=\"date\",\n",
    "animation_group=\"country\", color=\"region\", hover_name=\"country\",\n",
    "facet_col=\"region\", width=1579, height=450, log_x=True, size_max=45,\n",
    "range_x=[xmin,xmax], range_y=[ymin,ymax])\n"
   ]
  }
 ],
 "metadata": {
  "kernelspec": {
   "display_name": "Python 3",
   "language": "python",
   "name": "python3"
  },
  "language_info": {
   "codemirror_mode": {
    "name": "ipython",
    "version": 3
   },
   "file_extension": ".py",
   "mimetype": "text/x-python",
   "name": "python",
   "nbconvert_exporter": "python",
   "pygments_lexer": "ipython3",
   "version": "3.7.6"
  }
 },
 "nbformat": 4,
 "nbformat_minor": 4
}
